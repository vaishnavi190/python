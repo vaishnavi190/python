{
 "cells": [
  {
   "cell_type": "code",
   "execution_count": 1,
   "id": "bc0339aa",
   "metadata": {},
   "outputs": [
    {
     "name": "stdout",
     "output_type": "stream",
     "text": [
      "{}\n",
      "<class 'dict'>\n"
     ]
    }
   ],
   "source": [
    "d1={}\n",
    "print(d1)\n",
    "print(type(d1))"
   ]
  },
  {
   "cell_type": "code",
   "execution_count": 2,
   "id": "0c6d46a1",
   "metadata": {},
   "outputs": [
    {
     "name": "stdout",
     "output_type": "stream",
     "text": [
      "{'shreya': 1, 'nagma': 2}\n"
     ]
    }
   ],
   "source": [
    "d2={\"shreya\":1,\"nagma\":2}\n",
    "print(d2)"
   ]
  },
  {
   "cell_type": "code",
   "execution_count": 3,
   "id": "b13246b5",
   "metadata": {},
   "outputs": [
    {
     "name": "stdout",
     "output_type": "stream",
     "text": [
      "{'shreya': 3, 'nagma': 2}\n"
     ]
    }
   ],
   "source": [
    "d2[\"shreya\"]=3\n",
    "print(d2)"
   ]
  },
  {
   "cell_type": "code",
   "execution_count": 4,
   "id": "d7019ded",
   "metadata": {},
   "outputs": [
    {
     "data": {
      "text/plain": [
       "{'Shirts': 5, 'Kurtis': 20, 'Purces': 3}"
      ]
     },
     "execution_count": 4,
     "metadata": {},
     "output_type": "execute_result"
    }
   ],
   "source": [
    "shoppinglist=[(\"Shirts\",5),(\"Kurtis\",20),(\"Purces\",3)]\n",
    "sdict=dict(shoppinglist)\n",
    "sdict"
   ]
  },
  {
   "cell_type": "code",
   "execution_count": 5,
   "id": "9de4538c",
   "metadata": {},
   "outputs": [
    {
     "name": "stdout",
     "output_type": "stream",
     "text": [
      "<class 'dict_keys'>\n",
      "dict_keys(['Shirts', 'Kurtis', 'Purces'])\n"
     ]
    }
   ],
   "source": [
    "items=sdict.keys()\n",
    "print(type(items))\n",
    "print(items)"
   ]
  },
  {
   "cell_type": "code",
   "execution_count": 6,
   "id": "b4595879",
   "metadata": {},
   "outputs": [
    {
     "name": "stdout",
     "output_type": "stream",
     "text": [
      "dict_values([5, 20, 3])\n",
      "<class 'dict_values'>\n"
     ]
    }
   ],
   "source": [
    "l=sdict.values()\n",
    "print(l)\n",
    "print(type(l))"
   ]
  },
  {
   "cell_type": "code",
   "execution_count": 7,
   "id": "8b11ea4a",
   "metadata": {},
   "outputs": [
    {
     "name": "stdout",
     "output_type": "stream",
     "text": [
      "{'Shirts': 5, 'Kurtis': 20}\n",
      "3\n"
     ]
    }
   ],
   "source": [
    "val=sdict.pop('Purces')\n",
    "print(sdict)\n",
    "print(val)"
   ]
  },
  {
   "cell_type": "code",
   "execution_count": 38,
   "id": "f324fe9e",
   "metadata": {},
   "outputs": [
    {
     "name": "stdout",
     "output_type": "stream",
     "text": [
      "shreya = 5\n",
      "nagma = 2\n",
      "pallu = 6\n",
      "13\n",
      "_________________\n",
      "shreya = 5\n",
      "nagma = 2\n",
      "pallu = 6\n"
     ]
    }
   ],
   "source": [
    "sum=0\n",
    "for k in d2:\n",
    "    print(k,\"=\",d2[k])\n",
    "    sum+=d2[k]\n",
    "print(sum)\n",
    "print(\"_________________\") \n",
    "for k in d2.keys():\n",
    "    print(k,\"=\",d2[k])"
   ]
  },
  {
   "cell_type": "code",
   "execution_count": 9,
   "id": "2a4cb8f1",
   "metadata": {},
   "outputs": [
    {
     "name": "stdout",
     "output_type": "stream",
     "text": [
      "shreya = 3\n",
      "nagma = 2\n"
     ]
    }
   ],
   "source": [
    "for k,v in d2.items():\n",
    "    print(k,\"=\",v)"
   ]
  },
  {
   "cell_type": "code",
   "execution_count": 10,
   "id": "94792cf0",
   "metadata": {},
   "outputs": [
    {
     "name": "stdout",
     "output_type": "stream",
     "text": [
      "{'shreya': 5, 'nagma': 2, 'pallu': 6}\n"
     ]
    }
   ],
   "source": [
    "d3={\"shreya\":5,\"pallu\":6}\n",
    "d2.update(d3)\n",
    "print(d2)"
   ]
  },
  {
   "cell_type": "code",
   "execution_count": 13,
   "id": "491c83fa",
   "metadata": {},
   "outputs": [
    {
     "name": "stdout",
     "output_type": "stream",
     "text": [
      "{'shreya': 5, 'nagma': 2, 'pallu': 6}\n"
     ]
    },
    {
     "data": {
      "text/plain": [
       "'shreya'"
      ]
     },
     "execution_count": 13,
     "metadata": {},
     "output_type": "execute_result"
    }
   ],
   "source": [
    "#max according to key\n",
    "print(d2)\n",
    "max(d2)"
   ]
  },
  {
   "cell_type": "code",
   "execution_count": 17,
   "id": "e1e40e65",
   "metadata": {},
   "outputs": [
    {
     "data": {
      "text/plain": [
       "'pallu'"
      ]
     },
     "execution_count": 17,
     "metadata": {},
     "output_type": "execute_result"
    }
   ],
   "source": [
    "#max according to value\n",
    "max(d2,key=d2.get)"
   ]
  },
  {
   "cell_type": "code",
   "execution_count": 18,
   "id": "d3e5ec7f",
   "metadata": {},
   "outputs": [
    {
     "data": {
      "text/plain": [
       "'nagma'"
      ]
     },
     "execution_count": 18,
     "metadata": {},
     "output_type": "execute_result"
    }
   ],
   "source": [
    "#min\n",
    "min(d2)"
   ]
  },
  {
   "cell_type": "code",
   "execution_count": 19,
   "id": "30b89bba",
   "metadata": {},
   "outputs": [
    {
     "data": {
      "text/plain": [
       "'nagma'"
      ]
     },
     "execution_count": 19,
     "metadata": {},
     "output_type": "execute_result"
    }
   ],
   "source": [
    "#min accordin to value\n",
    "min(d2,key=d2.get)"
   ]
  },
  {
   "cell_type": "code",
   "execution_count": 20,
   "id": "1f9e8146",
   "metadata": {},
   "outputs": [
    {
     "data": {
      "text/plain": [
       "{'shreya': 5, 'nagma': 2, 'pallu': 6}"
      ]
     },
     "execution_count": 20,
     "metadata": {},
     "output_type": "execute_result"
    }
   ],
   "source": [
    "d2"
   ]
  },
  {
   "cell_type": "code",
   "execution_count": 21,
   "id": "30e36f82",
   "metadata": {},
   "outputs": [
    {
     "data": {
      "text/plain": [
       "{'shreya': 5, 'nagma': 2, 'pallu': 6}"
      ]
     },
     "execution_count": 21,
     "metadata": {},
     "output_type": "execute_result"
    }
   ],
   "source": [
    "#clone\n",
    "#copy creates shallow copy\n",
    "d4=d2.copy()\n",
    "d4\n"
   ]
  },
  {
   "cell_type": "code",
   "execution_count": 23,
   "id": "71decc3e",
   "metadata": {},
   "outputs": [
    {
     "name": "stdout",
     "output_type": "stream",
     "text": [
      "1960050145344\n",
      "1960078093184\n"
     ]
    }
   ],
   "source": [
    "print(id(d2))\n",
    "print(id(d4))"
   ]
  },
  {
   "cell_type": "code",
   "execution_count": 27,
   "id": "a7c5df04",
   "metadata": {},
   "outputs": [
    {
     "name": "stdout",
     "output_type": "stream",
     "text": [
      "{'pune': 2, 'mumabi': 1}\n"
     ]
    }
   ],
   "source": [
    "#occurance of each city\n",
    "listt=[\"pune\",\"pune\",\"mumabi\"]\n",
    "dict={}\n",
    "for i in listt:\n",
    "        if(i in dict):\n",
    "            dict[i]+=1\n",
    "        else:\n",
    "            dict[i]=1\n",
    "print(dict)\n",
    "    \n",
    "    "
   ]
  },
  {
   "cell_type": "code",
   "execution_count": 30,
   "id": "8b062930",
   "metadata": {},
   "outputs": [
    {
     "data": {
      "text/plain": [
       "['mumabi', 'pune']"
      ]
     },
     "execution_count": 30,
     "metadata": {},
     "output_type": "execute_result"
    }
   ],
   "source": [
    "sorted(dict)\n"
   ]
  },
  {
   "cell_type": "code",
   "execution_count": 36,
   "id": "be070d77",
   "metadata": {},
   "outputs": [
    {
     "data": {
      "text/plain": [
       "[('pune', 2), ('mumabi', 1)]"
      ]
     },
     "execution_count": 36,
     "metadata": {},
     "output_type": "execute_result"
    }
   ],
   "source": [
    "sorted(dict.items(),reverse=True)"
   ]
  },
  {
   "cell_type": "code",
   "execution_count": 85,
   "id": "29e8e285",
   "metadata": {},
   "outputs": [
    {
     "name": "stdout",
     "output_type": "stream",
     "text": [
      "enter string:hello\n",
      "{'h': 1, 'e': 1, 'l': 2, 'o': 1}\n"
     ]
    }
   ],
   "source": [
    "#occurance of each character in string\n",
    "s=input(\"enter string:\")\n",
    "d={}\n",
    "for i in s:\n",
    "    if(i in d):\n",
    "        d[i]+=1\n",
    "    else:\n",
    "        d[i]=1\n",
    "print(d)"
   ]
  },
  {
   "cell_type": "code",
   "execution_count": 76,
   "id": "209c20f7",
   "metadata": {},
   "outputs": [
    {
     "name": "stdout",
     "output_type": "stream",
     "text": [
      "enter sentence:hello nagma\n",
      "{'hello': 1, 'nagma': 1}\n"
     ]
    }
   ],
   "source": [
    "#occurance of each word \n",
    "str=input(\"enter sentence:\")\n",
    "d={}\n",
    "\n",
    "spli=str.split(\" \")\n",
    "for i in spli:\n",
    "        if(i in d):\n",
    "            d[i]+=1\n",
    "        else:\n",
    "            d[i]=1\n",
    "print(d)\n"
   ]
  },
  {
   "cell_type": "code",
   "execution_count": 77,
   "id": "115d5cc7",
   "metadata": {},
   "outputs": [],
   "source": [
    "#employee details id,name,sal,calculate gross sal\n",
    "#positional param\n",
    "def employeedetails(id,name,basic,hra,da):\n",
    "    print(\"ID:\",id)\n",
    "    print(\"NAME:\",name)\n",
    "    sal=basic+hra+da\n",
    "    print(\"GROSS SAL:\",sal)"
   ]
  },
  {
   "cell_type": "code",
   "execution_count": 78,
   "id": "2f3dc0b5",
   "metadata": {},
   "outputs": [
    {
     "name": "stdout",
     "output_type": "stream",
     "text": [
      "ID: 1\n",
      "NAME: vaish\n",
      "GROSS SAL: 40011\n"
     ]
    }
   ],
   "source": [
    "employeedetails(1,\"vaish\",40000,5,6)"
   ]
  },
  {
   "cell_type": "code",
   "execution_count": 81,
   "id": "15090581",
   "metadata": {},
   "outputs": [],
   "source": [
    "def employeedetailss(id,name,hra,da,basic=60000):\n",
    "    print(\"ID:\",id)\n",
    "    print(\"NAME:\",name)\n",
    "    sal=basic+hra+da\n",
    "    print(\"GROSS SAL:\",sal)"
   ]
  },
  {
   "cell_type": "code",
   "execution_count": 82,
   "id": "d74c14d7",
   "metadata": {},
   "outputs": [
    {
     "name": "stdout",
     "output_type": "stream",
     "text": [
      "ID: 2\n",
      "NAME: shreya\n",
      "GROSS SAL: 60016\n"
     ]
    }
   ],
   "source": [
    "employeedetailss(2,\"shreya\",10,6)"
   ]
  },
  {
   "cell_type": "code",
   "execution_count": 87,
   "id": "598208ce",
   "metadata": {},
   "outputs": [],
   "source": [
    "def employee(id,name=\"shreya\",*args):\n",
    "    print(\"ID:\",id)\n",
    "    print(\"name:\",name)\n",
    "    print(args)"
   ]
  },
  {
   "cell_type": "code",
   "execution_count": 84,
   "id": "8383c86f",
   "metadata": {},
   "outputs": [
    {
     "name": "stdout",
     "output_type": "stream",
     "text": [
      "ID: 1\n",
      "name: shreya\n",
      "('c', 'java')\n"
     ]
    }
   ],
   "source": [
    "employee(1,\"shreya\",\"c\",\"java\")"
   ]
  },
  {
   "cell_type": "code",
   "execution_count": null,
   "id": "b3512799",
   "metadata": {},
   "outputs": [],
   "source": []
  }
 ],
 "metadata": {
  "kernelspec": {
   "display_name": "Python 3 (ipykernel)",
   "language": "python",
   "name": "python3"
  },
  "language_info": {
   "codemirror_mode": {
    "name": "ipython",
    "version": 3
   },
   "file_extension": ".py",
   "mimetype": "text/x-python",
   "name": "python",
   "nbconvert_exporter": "python",
   "pygments_lexer": "ipython3",
   "version": "3.10.2"
  }
 },
 "nbformat": 4,
 "nbformat_minor": 5
}
