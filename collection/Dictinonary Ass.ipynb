{
 "cells": [
  {
   "cell_type": "code",
   "execution_count": 17,
   "id": "a83a3795",
   "metadata": {},
   "outputs": [
    {
     "name": "stdout",
     "output_type": "stream",
     "text": [
      "{'a': 400, 'b': 400}\n"
     ]
    }
   ],
   "source": [
    "#1.\tWrite a Python program to combine two dictionary adding values for common keys. Go to the editor\n",
    "#d1 = {'a': 100, 'b': 200, 'c':300}\n",
    "#d2 = {'a': 300, 'b': 200, 'd':400}\n",
    "#Sample output: Counter({'a': 400, 'b': 400, 'd': 400, 'c': 300})\n",
    "d1 = {'a': 100, 'b': 200, 'c':300}\n",
    "d2 = {'a': 300, 'b': 200, 'd':400}\n",
    "d3={}\n",
    "for k ,v in d1.items():\n",
    "    for i,j in d2.items():\n",
    "        if(k==i):\n",
    "            d3[i]=v+j\n",
    "print(d3)\n"
   ]
  },
  {
   "cell_type": "code",
   "execution_count": 20,
   "id": "bc7a16c0",
   "metadata": {},
   "outputs": [
    {
     "name": "stdout",
     "output_type": "stream",
     "text": [
      "{'V': 'S009', 'VI': 'S005', 'VII': 'S005', 'VIII': 'S007'}\n",
      "dict_values(['S009', 'S005', 'S005', 'S007'])\n"
     ]
    }
   ],
   "source": [
    "#2.\tWrite a Python program to print all unique values in a dictionary.\n",
    "#Original List:  [{'V': 'S001'}, {'V': 'S002'}, {'VI': 'S001'}, {'VI': 'S005'}, {'VII': 'S005'}, {'V': 'S009'},\n",
    "#{'VIII': 'S007'}]\n",
    "#Unique Values:  {'S009', 'S002', 'S007', 'S005', 'S001'}\n",
    "lst=[{'V': 'S001'}, {'V': 'S002'}, {'VI': 'S001'}, {'VI': 'S005'}, {'VII': 'S005'}, {'V': 'S009'},\n",
    "{'VIII': 'S007'}]\n",
    "o=[]\n",
    "for i in lst:\n",
    "    if i not in o:\n",
    "        o.append(i)\n",
    "d1={}\n",
    "for i in o:\n",
    "    d1.update(i)\n",
    "print(d1)\n",
    "print(d1.values())\n",
    "    \n"
   ]
  },
  {
   "cell_type": "code",
   "execution_count": 14,
   "id": "5d1153be",
   "metadata": {},
   "outputs": [
    {
     "name": "stdout",
     "output_type": "stream",
     "text": [
      "enter the string:hello\n",
      "{'h': 1, 'e': 1, 'l': 2, 'o': 1}\n"
     ]
    }
   ],
   "source": [
    "#3.\tWrite a Python program to create a dictionary from a string.\n",
    "# Track the count of the letters from the string.\n",
    "#Sample string : 'w3resource'\n",
    "#Expected output: {'3': 1, 's': 1, 'r': 2, 'u': 1, 'w': 1, 'c': 1, 'e': 2, 'o': 1}\n",
    "st=input(\"enter the string:\")\n",
    "d={}\n",
    "for i in st:\n",
    "    if(i in d):\n",
    "        d[i]+=1\n",
    "    else:\n",
    "        d[i]=1\n",
    "print(d)"
   ]
  },
  {
   "cell_type": "code",
   "execution_count": 19,
   "id": "8dbdd27e",
   "metadata": {},
   "outputs": [
    {
     "name": "stdout",
     "output_type": "stream",
     "text": [
      "Math\n"
     ]
    }
   ],
   "source": [
    "#4.\tMerge following two Python dictionaries into one.\n",
    "#Get the key corresponding to the minimum value from the following dictionary\n",
    "#sampleDict = {  'Physics': 82,  'Math': 65,  'history': 75}\n",
    "#Expected output:  Math\n",
    "sampleDict = {  'Physics': 82,  'Math': 65,  'history': 75}\n",
    "print(min(sampleDict,key=sampleDict.get))"
   ]
  },
  {
   "cell_type": "code",
   "execution_count": 1,
   "id": "41157cd2",
   "metadata": {},
   "outputs": [
    {
     "name": "stdout",
     "output_type": "stream",
     "text": [
      "{'for': 325}\n"
     ]
    }
   ],
   "source": [
    "#5.\tCombine two dictionary adding values for common keys\n",
    "#Input: dict1 = {'a': 12, 'for': 25, 'c': 9}\n",
    "#dict2 = {'python': 100, 'java': 200, 'for': 300}\n",
    "#Output: {'for': 325, 'python': 100, 'java': 200}\n",
    "dict1 = {'a': 12, 'for': 25, 'c': 9}\n",
    "dict2 = {'python': 100, 'java': 200, 'for': 300}\n",
    "d3={}\n",
    "for k ,v in dict1.items():\n",
    "    for i,j in dict2.items():\n",
    "        if(k==i):\n",
    "            d3[i]=v+j\n",
    "print(d3)\n"
   ]
  },
  {
   "cell_type": "code",
   "execution_count": 6,
   "id": "8a74c33a",
   "metadata": {},
   "outputs": [
    {
     "name": "stdout",
     "output_type": "stream",
     "text": [
      "maximum marks is: 4\n"
     ]
    }
   ],
   "source": [
    "#7.Have dictionary with roll as key and marks obtained as value, show key with highest marks\n",
    "dict1={1:79,2:85,3:91,4:98}\n",
    "print(\"maximum marks is:\",max(dict1))"
   ]
  },
  {
   "cell_type": "code",
   "execution_count": null,
   "id": "38b04a3e",
   "metadata": {},
   "outputs": [],
   "source": []
  }
 ],
 "metadata": {
  "kernelspec": {
   "display_name": "Python 3 (ipykernel)",
   "language": "python",
   "name": "python3"
  },
  "language_info": {
   "codemirror_mode": {
    "name": "ipython",
    "version": 3
   },
   "file_extension": ".py",
   "mimetype": "text/x-python",
   "name": "python",
   "nbconvert_exporter": "python",
   "pygments_lexer": "ipython3",
   "version": "3.10.2"
  }
 },
 "nbformat": 4,
 "nbformat_minor": 5
}
