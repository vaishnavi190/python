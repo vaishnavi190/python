{
 "cells": [
  {
   "cell_type": "code",
   "execution_count": 16,
   "id": "8e930309",
   "metadata": {},
   "outputs": [
    {
     "name": "stdout",
     "output_type": "stream",
     "text": [
      "(1, 2, 1, 5, 6, 7, 7)\n",
      "repeated elements are:\n",
      "1\n",
      "7\n"
     ]
    }
   ],
   "source": [
    "#1.\tWrite a Python program to find the repeated items of a tuple.\n",
    "\n",
    "t=(1,2,1,5,6,7,7)\n",
    "t1=t\n",
    "print(t1)\n",
    "print(\"repeated elements are:\")\n",
    "for i in range(0,len(t)):\n",
    "    for j in range(i+1,len(t1)):\n",
    "        if(t[i]==t[j]):\n",
    "            print(t[i])\n",
    "            \n",
    "    "
   ]
  },
  {
   "cell_type": "code",
   "execution_count": 26,
   "id": "241a4dea",
   "metadata": {},
   "outputs": [
    {
     "name": "stdout",
     "output_type": "stream",
     "text": [
      "enter the number:10\n",
      "not present\n"
     ]
    }
   ],
   "source": [
    "#2.\tWrite a Python program to check whether an element exists within a tuple.\n",
    "t=(1,2,1,5,6,7,7)\n",
    "s=int(input(\"enter the number:\"))\n",
    "if(s in t):\n",
    "    print(\"present\")\n",
    "else:\n",
    "    print(\"not present\")"
   ]
  },
  {
   "cell_type": "code",
   "execution_count": 27,
   "id": "369aac30",
   "metadata": {},
   "outputs": [
    {
     "name": "stdout",
     "output_type": "stream",
     "text": [
      "list is: [1, 2, 2, 'hello', 'people']\n",
      "tuple is: (1, 2, 2, 'hello', 'people')\n"
     ]
    }
   ],
   "source": [
    "#3.\tWrite a Python program to convert a list to a tuple.\n",
    "listt=[1,2,2,\"hello\",\"people\"]\n",
    "t=tuple(listt)\n",
    "print(\"list is:\",listt)\n",
    "print(\"tuple is:\",t)"
   ]
  },
  {
   "cell_type": "code",
   "execution_count": 31,
   "id": "e28c3948",
   "metadata": {},
   "outputs": [
    {
     "name": "stdout",
     "output_type": "stream",
     "text": [
      "[(4, 5), (2, 3), (6, 7), (2, 8)]\n",
      "[(2, 3), (4, 5), (2, 8), (6, 7)]\n"
     ]
    }
   ],
   "source": [
    "#4.\t\"WaP to sort list of tuple based on sum Input: [(4, 5), (2, 3), (6, 7), (2, 8)]\n",
    "#Output: [(2, 3), (4, 5), (2, 8), (6, 7)]\"\n",
    "t=[(4, 5), (2, 3), (6, 7), (2, 8)]\n",
    "print(t)\n",
    "l=len(t)\n",
    "for i in range (l):\n",
    "    for j in range(l-i-1):\n",
    "        if (t[j][0]+t[j][1]) > (t[j+1][0]+t[j+1][1]):\n",
    "            t[j],t[j+1] = t[j+1],t[j]\n",
    "print(t)"
   ]
  },
  {
   "cell_type": "code",
   "execution_count": 37,
   "id": "1bb68c59",
   "metadata": {},
   "outputs": [
    {
     "name": "stdout",
     "output_type": "stream",
     "text": [
      "before reverse: (1, 2, 3, 4, 5, 6, 7, 8)\n",
      "after reverse: (8, 7, 6, 5, 4, 3, 2, 1)\n"
     ]
    }
   ],
   "source": [
    "#5.\tWrite a Python program to reverse a tuple.\n",
    "\n",
    "t=(1,2,3,4,5,6,7,8)\n",
    "t1=t[::-1]\n",
    "print(\"before reverse:\",t)\n",
    "print(\"after reverse:\",t1)"
   ]
  },
  {
   "cell_type": "code",
   "execution_count": 43,
   "id": "33fe4005",
   "metadata": {},
   "outputs": [
    {
     "name": "stdout",
     "output_type": "stream",
     "text": [
      "copied contents: (1, 2, 3, 4, 5, 6, 7, 8)\n",
      "copies contents: (1, 2, 3, 4, 5, 6, 7, 8)\n"
     ]
    }
   ],
   "source": [
    "#6.\tWrite a code to copy contents of one tuple to other in all possible ways\n",
    "t=(1,2,3,4,5,6,7,8)\n",
    "t1=t[:]\n",
    "t2=t\n",
    "print(\"copied contents:\",t1)\n",
    "print(\"copies contents:\",t2)"
   ]
  },
  {
   "cell_type": "code",
   "execution_count": 46,
   "id": "c9193f0e",
   "metadata": {},
   "outputs": [
    {
     "name": "stdout",
     "output_type": "stream",
     "text": [
      "(1, 2, 3, 5, 6, 7, 8, 9)\n"
     ]
    }
   ],
   "source": [
    "#7.\tIf tuple1 = (1,2,3,4,5,6,7,8,9) move contents of tuple1 to tuple2 except 4\n",
    "tuple1=(1,2,3,4,5,6,7,8,9)\n",
    "tuple2=()\n",
    "t=list(tuple1)\n",
    "t.remove(4)\n",
    "t2=tuple(t)\n",
    "print(t2)"
   ]
  },
  {
   "cell_type": "code",
   "execution_count": 55,
   "id": "8956c751",
   "metadata": {},
   "outputs": [
    {
     "name": "stdout",
     "output_type": "stream",
     "text": [
      "(4, 5, 6, 7, 100)\n",
      "(6, 8, 9)\n"
     ]
    }
   ],
   "source": [
    "#8.\tTuple contains two lists , list 1 and list 2.\n",
    "#List1=[4,5,6,7]  list2=[6,7,8,9]\n",
    "#Write a code to append 100 in list1 of tuple and\n",
    "#Remove 7 from list2 of tuple\n",
    "list1=[4,5,6,7] \n",
    "list2=[6,7,8,9]\n",
    "list1.append(100)\n",
    "#print(list1)\n",
    "list2.remove(7)\n",
    "t1=tuple(list1)\n",
    "print(t1)\n",
    "t2=tuple(list2)\n",
    "print(t2)"
   ]
  },
  {
   "cell_type": "code",
   "execution_count": null,
   "id": "ed1f7ae2",
   "metadata": {},
   "outputs": [],
   "source": []
  }
 ],
 "metadata": {
  "kernelspec": {
   "display_name": "Python 3 (ipykernel)",
   "language": "python",
   "name": "python3"
  },
  "language_info": {
   "codemirror_mode": {
    "name": "ipython",
    "version": 3
   },
   "file_extension": ".py",
   "mimetype": "text/x-python",
   "name": "python",
   "nbconvert_exporter": "python",
   "pygments_lexer": "ipython3",
   "version": "3.10.2"
  }
 },
 "nbformat": 4,
 "nbformat_minor": 5
}
