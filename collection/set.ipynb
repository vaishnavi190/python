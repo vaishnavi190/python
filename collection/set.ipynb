{
 "cells": [
  {
   "cell_type": "code",
   "execution_count": 1,
   "id": "15ee567d",
   "metadata": {},
   "outputs": [
    {
     "name": "stdout",
     "output_type": "stream",
     "text": [
      "<class 'dict'>\n",
      "<class 'set'>\n"
     ]
    }
   ],
   "source": [
    "s1={}\n",
    "print(type(s1))\n",
    "s1=set({})\n",
    "print(type(s1))"
   ]
  },
  {
   "cell_type": "code",
   "execution_count": 3,
   "id": "d89e84ed",
   "metadata": {},
   "outputs": [
    {
     "name": "stdout",
     "output_type": "stream",
     "text": [
      "{21, 22, 23, 24, 25, 26}\n",
      "{21, 22, 23, 24, 25, 26}\n"
     ]
    }
   ],
   "source": [
    "s1={21,22,23,24}\n",
    "s2={21,25,26}\n",
    "s3=s1.union(s2)\n",
    "print(s3)\n",
    "s1.update(s2)\n",
    "print(s1)"
   ]
  },
  {
   "cell_type": "code",
   "execution_count": 5,
   "id": "bfe9b345",
   "metadata": {},
   "outputs": [
    {
     "data": {
      "text/plain": [
       "True"
      ]
     },
     "execution_count": 5,
     "metadata": {},
     "output_type": "execute_result"
    }
   ],
   "source": [
    "s1={1,2,3}\n",
    "s2={4,5,6}\n",
    "s1.isdisjoint(s2)"
   ]
  },
  {
   "cell_type": "code",
   "execution_count": 9,
   "id": "bd366ac6",
   "metadata": {},
   "outputs": [
    {
     "name": "stdout",
     "output_type": "stream",
     "text": [
      "{1}\n"
     ]
    }
   ],
   "source": [
    "s1.remove(2)\n",
    "print(s1)"
   ]
  },
  {
   "cell_type": "code",
   "execution_count": 11,
   "id": "d0f49033",
   "metadata": {},
   "outputs": [
    {
     "name": "stdout",
     "output_type": "stream",
     "text": [
      "set()\n"
     ]
    }
   ],
   "source": [
    "s1.clear()\n",
    "print(s1)"
   ]
  },
  {
   "cell_type": "code",
   "execution_count": 13,
   "id": "d820c656",
   "metadata": {},
   "outputs": [
    {
     "data": {
      "text/plain": [
       "False"
      ]
     },
     "execution_count": 13,
     "metadata": {},
     "output_type": "execute_result"
    }
   ],
   "source": [
    "s1={1,2,3}\n",
    "s2={1,2,4}\n",
    "s1==s2"
   ]
  },
  {
   "cell_type": "code",
   "execution_count": 15,
   "id": "46469c24",
   "metadata": {},
   "outputs": [
    {
     "name": "stdout",
     "output_type": "stream",
     "text": [
      "3\n",
      "1\n"
     ]
    }
   ],
   "source": [
    "print(max((s1)))\n",
    "print(min((s1)))"
   ]
  },
  {
   "cell_type": "code",
   "execution_count": 16,
   "id": "f9d47381",
   "metadata": {},
   "outputs": [
    {
     "data": {
      "text/plain": [
       "6"
      ]
     },
     "execution_count": 16,
     "metadata": {},
     "output_type": "execute_result"
    }
   ],
   "source": [
    "sum(s1)"
   ]
  },
  {
   "cell_type": "code",
   "execution_count": 18,
   "id": "a5db7c16",
   "metadata": {},
   "outputs": [
    {
     "name": "stdout",
     "output_type": "stream",
     "text": [
      "frozenset({'shreya', 'palli', 'sharwari'})\n"
     ]
    }
   ],
   "source": [
    "#frozen set\n",
    "f1=[\"shreya\",\"palli\",\"sharwari\"]\n",
    "fs=frozenset(f1)\n",
    "print(fs)"
   ]
  },
  {
   "cell_type": "code",
   "execution_count": 23,
   "id": "fc2088b3",
   "metadata": {},
   "outputs": [
    {
     "name": "stdout",
     "output_type": "stream",
     "text": [
      "frozenset({1, 'shreya'})\n",
      "frozenset({1, 'shreya', 'palli'})\n"
     ]
    }
   ],
   "source": [
    "f2=[1,1,\"shreya\"]\n",
    "fs2=frozenset(f2)\n",
    "print(fs2)\n",
    "f3=(1,1,\"shreya\",\"palli\")\n",
    "fs3=frozenset(f3)\n",
    "print(fs3)"
   ]
  },
  {
   "cell_type": "code",
   "execution_count": 30,
   "id": "e21aa385",
   "metadata": {},
   "outputs": [
    {
     "name": "stdout",
     "output_type": "stream",
     "text": [
      "True\n",
      "frozenset()\n",
      "frozenset({1, 2, 3, 4, 'sharwari', 'shreya', 'palli'})\n"
     ]
    },
    {
     "ename": "TypeError",
     "evalue": "'int' object is not iterable",
     "output_type": "error",
     "traceback": [
      "\u001b[1;31m---------------------------------------------------------------------------\u001b[0m",
      "\u001b[1;31mTypeError\u001b[0m                                 Traceback (most recent call last)",
      "Input \u001b[1;32mIn [30]\u001b[0m, in \u001b[0;36m<module>\u001b[1;34m\u001b[0m\n\u001b[0;32m      6\u001b[0m \u001b[38;5;28mprint\u001b[39m(fs1\u001b[38;5;241m.\u001b[39mintersection(fs2))\n\u001b[0;32m      7\u001b[0m \u001b[38;5;28mprint\u001b[39m(fs1\u001b[38;5;241m.\u001b[39munion(fs2))\n\u001b[1;32m----> 8\u001b[0m s1\u001b[38;5;241m=\u001b[39m\u001b[38;5;28;43mfrozenset\u001b[39;49m\u001b[43m(\u001b[49m\u001b[38;5;241;43m45\u001b[39;49m\u001b[43m)\u001b[49m\n",
      "\u001b[1;31mTypeError\u001b[0m: 'int' object is not iterable"
     ]
    }
   ],
   "source": [
    "f1=[\"shreya\",\"palli\",\"sharwari\"]\n",
    "f2=(1,2,3,4)\n",
    "fs1=frozenset(f1)\n",
    "fs2=frozenset(f2)\n",
    "print(fs1.isdisjoint(fs2))\n",
    "print(fs1.intersection(fs2))\n",
    "print(fs1.union(fs2))\n",
    "s1=frozenset(45)"
   ]
  },
  {
   "cell_type": "code",
   "execution_count": 2,
   "id": "1f83d7ea",
   "metadata": {},
   "outputs": [
    {
     "data": {
      "text/plain": [
       "{5, 6, 7, 8}"
      ]
     },
     "execution_count": 2,
     "metadata": {},
     "output_type": "execute_result"
    }
   ],
   "source": [
    "st3={5,6,7}\n",
    "st4={6,7,8}\n",
    "st3.update(st4)\n",
    "st3"
   ]
  },
  {
   "cell_type": "code",
   "execution_count": null,
   "id": "646c5a9a",
   "metadata": {},
   "outputs": [],
   "source": []
  }
 ],
 "metadata": {
  "kernelspec": {
   "display_name": "Python 3 (ipykernel)",
   "language": "python",
   "name": "python3"
  },
  "language_info": {
   "codemirror_mode": {
    "name": "ipython",
    "version": 3
   },
   "file_extension": ".py",
   "mimetype": "text/x-python",
   "name": "python",
   "nbconvert_exporter": "python",
   "pygments_lexer": "ipython3",
   "version": "3.10.2"
  }
 },
 "nbformat": 4,
 "nbformat_minor": 5
}
