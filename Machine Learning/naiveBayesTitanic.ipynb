{
 "cells": [
  {
   "cell_type": "code",
   "execution_count": 23,
   "id": "c85fa2fb",
   "metadata": {},
   "outputs": [],
   "source": [
    "import findspark\n",
    "findspark.init()\n",
    "\n",
    "import pyspark \n",
    "from pyspark.sql import SparkSession\n",
    "\n",
    "spark = SparkSession.builder.appName(\"titanicClassification\").getOrCreate()"
   ]
  },
  {
   "cell_type": "code",
   "execution_count": 91,
   "id": "f7a2cbf3",
   "metadata": {},
   "outputs": [],
   "source": [
    "from pyspark.ml.feature import VectorAssembler\n",
    "from pyspark.sql.types import * \n",
    "from pyspark.sql.functions import *\n",
    "from pyspark.ml.feature import StringIndexer\n",
    "from pyspark.ml.feature import MinMaxScaler\n",
    "from pyspark.ml.classification import NaiveBayes\n",
    "from pyspark.ml.evaluation import BinaryClassificationEvaluator\n",
    "from pyspark.ml.evaluation import ClusteringEvaluator"
   ]
  },
  {
   "cell_type": "code",
   "execution_count": 92,
   "id": "70a4121f",
   "metadata": {},
   "outputs": [
    {
     "data": {
      "text/html": [
       "<div>\n",
       "<style scoped>\n",
       "    .dataframe tbody tr th:only-of-type {\n",
       "        vertical-align: middle;\n",
       "    }\n",
       "\n",
       "    .dataframe tbody tr th {\n",
       "        vertical-align: top;\n",
       "    }\n",
       "\n",
       "    .dataframe thead th {\n",
       "        text-align: right;\n",
       "    }\n",
       "</style>\n",
       "<table border=\"1\" class=\"dataframe\">\n",
       "  <thead>\n",
       "    <tr style=\"text-align: right;\">\n",
       "      <th></th>\n",
       "      <th>Survived</th>\n",
       "      <th>Pclass</th>\n",
       "      <th>Name</th>\n",
       "      <th>Sex</th>\n",
       "      <th>Age</th>\n",
       "      <th>SiblingsSpouses Aboard</th>\n",
       "      <th>parentschildren</th>\n",
       "      <th>Fare</th>\n",
       "    </tr>\n",
       "  </thead>\n",
       "  <tbody>\n",
       "    <tr>\n",
       "      <th>0</th>\n",
       "      <td>0</td>\n",
       "      <td>3</td>\n",
       "      <td>Mr. Owen Harris Braund</td>\n",
       "      <td>male</td>\n",
       "      <td>22.0</td>\n",
       "      <td>1</td>\n",
       "      <td>0</td>\n",
       "      <td>7.2500</td>\n",
       "    </tr>\n",
       "    <tr>\n",
       "      <th>1</th>\n",
       "      <td>1</td>\n",
       "      <td>1</td>\n",
       "      <td>Mrs. John Bradley (Florence Briggs Thayer) Cum...</td>\n",
       "      <td>female</td>\n",
       "      <td>38.0</td>\n",
       "      <td>1</td>\n",
       "      <td>0</td>\n",
       "      <td>71.2833</td>\n",
       "    </tr>\n",
       "    <tr>\n",
       "      <th>2</th>\n",
       "      <td>1</td>\n",
       "      <td>3</td>\n",
       "      <td>Miss. Laina Heikkinen</td>\n",
       "      <td>female</td>\n",
       "      <td>26.0</td>\n",
       "      <td>0</td>\n",
       "      <td>0</td>\n",
       "      <td>7.9250</td>\n",
       "    </tr>\n",
       "    <tr>\n",
       "      <th>3</th>\n",
       "      <td>1</td>\n",
       "      <td>1</td>\n",
       "      <td>Mrs. Jacques Heath (Lily May Peel) Futrelle</td>\n",
       "      <td>female</td>\n",
       "      <td>35.0</td>\n",
       "      <td>1</td>\n",
       "      <td>0</td>\n",
       "      <td>53.1000</td>\n",
       "    </tr>\n",
       "    <tr>\n",
       "      <th>4</th>\n",
       "      <td>0</td>\n",
       "      <td>3</td>\n",
       "      <td>Mr. William Henry Allen</td>\n",
       "      <td>male</td>\n",
       "      <td>35.0</td>\n",
       "      <td>0</td>\n",
       "      <td>0</td>\n",
       "      <td>8.0500</td>\n",
       "    </tr>\n",
       "    <tr>\n",
       "      <th>5</th>\n",
       "      <td>0</td>\n",
       "      <td>3</td>\n",
       "      <td>Mr. James Moran</td>\n",
       "      <td>male</td>\n",
       "      <td>27.0</td>\n",
       "      <td>0</td>\n",
       "      <td>0</td>\n",
       "      <td>8.4583</td>\n",
       "    </tr>\n",
       "  </tbody>\n",
       "</table>\n",
       "</div>"
      ],
      "text/plain": [
       "   Survived  Pclass                                               Name  \\\n",
       "0         0       3                             Mr. Owen Harris Braund   \n",
       "1         1       1  Mrs. John Bradley (Florence Briggs Thayer) Cum...   \n",
       "2         1       3                              Miss. Laina Heikkinen   \n",
       "3         1       1        Mrs. Jacques Heath (Lily May Peel) Futrelle   \n",
       "4         0       3                            Mr. William Henry Allen   \n",
       "5         0       3                                    Mr. James Moran   \n",
       "\n",
       "      Sex   Age  SiblingsSpouses Aboard  parentschildren     Fare  \n",
       "0    male  22.0                       1                0   7.2500  \n",
       "1  female  38.0                       1                0  71.2833  \n",
       "2  female  26.0                       0                0   7.9250  \n",
       "3  female  35.0                       1                0  53.1000  \n",
       "4    male  35.0                       0                0   8.0500  \n",
       "5    male  27.0                       0                0   8.4583  "
      ]
     },
     "execution_count": 92,
     "metadata": {},
     "output_type": "execute_result"
    }
   ],
   "source": [
    "df = spark.read.csv('f:\\\\datasets\\\\titanic.csv',inferSchema=True,header=True)\n",
    "df.limit(6).toPandas()"
   ]
  },
  {
   "cell_type": "code",
   "execution_count": 93,
   "id": "954bb78d",
   "metadata": {},
   "outputs": [
    {
     "name": "stdout",
     "output_type": "stream",
     "text": [
      "root\n",
      " |-- Survived: integer (nullable = true)\n",
      " |-- Pclass: integer (nullable = true)\n",
      " |-- Name: string (nullable = true)\n",
      " |-- Sex: string (nullable = true)\n",
      " |-- Age: double (nullable = true)\n",
      " |-- SiblingsSpouses Aboard: integer (nullable = true)\n",
      " |-- parentschildren: integer (nullable = true)\n",
      " |-- Fare: double (nullable = true)\n",
      "\n"
     ]
    }
   ],
   "source": [
    "df.printSchema()"
   ]
  },
  {
   "cell_type": "code",
   "execution_count": 94,
   "id": "72d36448",
   "metadata": {},
   "outputs": [
    {
     "name": "stdout",
     "output_type": "stream",
     "text": [
      "+--------+----+-----+\n",
      "|Survived| Age|count|\n",
      "+--------+----+-----+\n",
      "|       0| 9.0|    6|\n",
      "|       1|30.0|   10|\n",
      "|       1|80.0|    1|\n",
      "|       1|18.0|   13|\n",
      "|       1| 6.0|    2|\n",
      "|       0|66.0|    2|\n",
      "|       0|49.0|    4|\n",
      "|       1|40.0|    7|\n",
      "|       0|22.0|   24|\n",
      "|       0|32.0|   11|\n",
      "|       1| 7.0|    2|\n",
      "|       0|16.0|   13|\n",
      "|       0| 2.0|    7|\n",
      "|       0|11.0|    3|\n",
      "|       0|41.0|    6|\n",
      "|       0|15.0|    1|\n",
      "|       0|55.0|    2|\n",
      "|       1|62.0|    2|\n",
      "|       0|51.0|    5|\n",
      "|       1|14.0|    3|\n",
      "+--------+----+-----+\n",
      "only showing top 20 rows\n",
      "\n"
     ]
    }
   ],
   "source": [
    "df.groupBy(\"Survived\",\"Age\").count().show()"
   ]
  },
  {
   "cell_type": "code",
   "execution_count": 95,
   "id": "706b255e",
   "metadata": {},
   "outputs": [
    {
     "name": "stdout",
     "output_type": "stream",
     "text": [
      "['Age', 'SiblingsSpouses Aboard']\n",
      "Survived\n"
     ]
    }
   ],
   "source": [
    "input_columns=df.columns\n",
    "input_columns=input_columns[4:6:1]\n",
    "dependent_var='Survived'\n",
    "print(input_columns)\n",
    "print(dependent_var)"
   ]
  },
  {
   "cell_type": "code",
   "execution_count": 96,
   "id": "8f20270c",
   "metadata": {},
   "outputs": [
    {
     "name": "stdout",
     "output_type": "stream",
     "text": [
      "+--------+------+--------------------+------+----+----------------------+---------------+-------+---------+-----+\n",
      "|Survived|Pclass|                Name|   Sex| Age|SiblingsSpouses Aboard|parentschildren|   Fare|label_str|label|\n",
      "+--------+------+--------------------+------+----+----------------------+---------------+-------+---------+-----+\n",
      "|       0|     3|Mr. Owen Harris B...|  male|22.0|                     1|              0|   7.25|        0|  0.0|\n",
      "|       1|     1|Mrs. John Bradley...|female|38.0|                     1|              0|71.2833|        1|  1.0|\n",
      "|       1|     3|Miss. Laina Heikk...|female|26.0|                     0|              0|  7.925|        1|  1.0|\n",
      "|       1|     1|Mrs. Jacques Heat...|female|35.0|                     1|              0|   53.1|        1|  1.0|\n",
      "|       0|     3|Mr. William Henry...|  male|35.0|                     0|              0|   8.05|        0|  0.0|\n",
      "|       0|     3|     Mr. James Moran|  male|27.0|                     0|              0| 8.4583|        0|  0.0|\n",
      "|       0|     1|Mr. Timothy J McC...|  male|54.0|                     0|              0|51.8625|        0|  0.0|\n",
      "|       0|     3|Master. Gosta Leo...|  male| 2.0|                     3|              1| 21.075|        0|  0.0|\n",
      "|       1|     3|Mrs. Oscar W (Eli...|female|27.0|                     0|              2|11.1333|        1|  1.0|\n",
      "|       1|     2|Mrs. Nicholas (Ad...|female|14.0|                     1|              0|30.0708|        1|  1.0|\n",
      "|       1|     3|Miss. Marguerite ...|female| 4.0|                     1|              1|   16.7|        1|  1.0|\n",
      "|       1|     1|Miss. Elizabeth B...|female|58.0|                     0|              0|  26.55|        1|  1.0|\n",
      "|       0|     3|Mr. William Henry...|  male|20.0|                     0|              0|   8.05|        0|  0.0|\n",
      "|       0|     3|Mr. Anders Johan ...|  male|39.0|                     1|              5| 31.275|        0|  0.0|\n",
      "|       0|     3|Miss. Hulda Amand...|female|14.0|                     0|              0| 7.8542|        0|  0.0|\n",
      "|       1|     2|Mrs. (Mary D King...|female|55.0|                     0|              0|   16.0|        1|  1.0|\n",
      "|       0|     3| Master. Eugene Rice|  male| 2.0|                     4|              1| 29.125|        0|  0.0|\n",
      "|       1|     2|Mr. Charles Eugen...|  male|23.0|                     0|              0|   13.0|        1|  1.0|\n",
      "|       0|     3|Mrs. Julius (Emel...|female|31.0|                     1|              0|   18.0|        0|  0.0|\n",
      "|       1|     3|Mrs. Fatima Masse...|female|22.0|                     0|              0|  7.225|        1|  1.0|\n",
      "+--------+------+--------------------+------+----+----------------------+---------------+-------+---------+-----+\n",
      "only showing top 20 rows\n",
      "\n"
     ]
    }
   ],
   "source": [
    "renamed=df.withColumn(\"label_str\",df[dependent_var].cast('string'))\n",
    "indexer=StringIndexer(inputCol='label_str',outputCol=\"label\")\n",
    "indexed=indexer.fit(renamed).transform(renamed)\n",
    "indexed.show()"
   ]
  },
  {
   "cell_type": "code",
   "execution_count": 97,
   "id": "25c40ff3",
   "metadata": {},
   "outputs": [
    {
     "name": "stdout",
     "output_type": "stream",
     "text": [
      "root\n",
      " |-- Survived: integer (nullable = true)\n",
      " |-- Pclass: integer (nullable = true)\n",
      " |-- Name: string (nullable = true)\n",
      " |-- Sex: string (nullable = true)\n",
      " |-- Age: double (nullable = true)\n",
      " |-- SiblingsSpouses Aboard: integer (nullable = true)\n",
      " |-- parentschildren: integer (nullable = true)\n",
      " |-- Fare: double (nullable = true)\n",
      " |-- label_str: string (nullable = true)\n",
      " |-- label: double (nullable = false)\n",
      "\n"
     ]
    }
   ],
   "source": [
    "indexed.printSchema()"
   ]
  },
  {
   "cell_type": "code",
   "execution_count": 98,
   "id": "d3e5d3e1",
   "metadata": {},
   "outputs": [
    {
     "name": "stdout",
     "output_type": "stream",
     "text": [
      "numeric_inputs ['Age', 'SiblingsSpouses Aboard']\n",
      "String_inputs []\n"
     ]
    }
   ],
   "source": [
    "numeric_inputs=[]\n",
    "string_inputs=[]\n",
    "for column in input_columns:\n",
    "    if str(indexed.schema[column].dataType)=='StringType':\n",
    "        indexer=StringIndexer(inputCol=column,outputCol=column+\"_num\")\n",
    "        indexed=indexer.fit(indexed).transform(indexed)\n",
    "        new_col_name=column+\"_num\"\n",
    "        string_inputs.append(new_col_name)\n",
    "    else:\n",
    "        numeric_inputs.append(column)\n",
    "print('numeric_inputs' , numeric_inputs)\n",
    "print('String_inputs' , string_inputs)"
   ]
  },
  {
   "cell_type": "code",
   "execution_count": 99,
   "id": "98cc0491",
   "metadata": {},
   "outputs": [
    {
     "name": "stdout",
     "output_type": "stream",
     "text": [
      "SiblingsSpouses Aboard has been treated for positive (right) skewness. (skew =) 3.6805221729276023 )\n",
      "3.6805221729276023\n"
     ]
    }
   ],
   "source": [
    "d = {}\n",
    "\n",
    "for col in numeric_inputs: \n",
    "    d[col] = indexed.approxQuantile(col,[0.01,0.99],0.25) \n",
    "\n",
    "for col in numeric_inputs:\n",
    "    skew = indexed.agg(skewness(indexed[col])).collect() \n",
    "    skew = skew[0][0]\n",
    "   \n",
    "    if skew > 1:\n",
    "        indexed = indexed.withColumn(col, \\\n",
    "        log(when(df[col] < d[col][0],d[col][0])\\\n",
    "        .when(indexed[col] > d[col][1], d[col][1])\\\n",
    "        .otherwise(indexed[col] ) +1).alias(col))\n",
    "        print(col+\" has been treated for positive (right) skewness. (skew =)\",skew,\")\")\n",
    "    elif skew < -1:\n",
    "        indexed = indexed.withColumn(col, \\\n",
    "        exp(when(df[col] < d[col][0],d[col][0])\\\n",
    "        .when(indexed[col] > d[col][1], d[col][1])\\\n",
    "        .otherwise(indexed[col] )).alias(col))\n",
    "        print(col+\" has been treated for negative (left) skewness. (skew =\",skew,\")\")\n",
    "        \n",
    "print(skew)        "
   ]
  },
  {
   "cell_type": "code",
   "execution_count": 100,
   "id": "3134794c",
   "metadata": {},
   "outputs": [
    {
     "name": "stdout",
     "output_type": "stream",
     "text": [
      "No negative values were found in your dataframe.\n"
     ]
    }
   ],
   "source": [
    "minimums = df.select([min(c).alias(c) for c in df.columns if c in numeric_inputs]) \n",
    "\n",
    "min_array = minimums.select(array(numeric_inputs).alias(\"mins\")) \n",
    "\n",
    "df_minimum = min_array.select(array_min(min_array.mins)).collect() \n",
    "\n",
    "df_minimum = df_minimum[0][0] \n",
    "\n",
    "\n",
    "if df_minimum < 0:\n",
    "    print(\"WARNING: The Naive Bayes Classifier will not be able to process your dataframe as it contains negative values\")\n",
    "else:\n",
    "    print(\"No negative values were found in your dataframe.\")"
   ]
  },
  {
   "cell_type": "code",
   "execution_count": 101,
   "id": "69e49844",
   "metadata": {},
   "outputs": [
    {
     "name": "stdout",
     "output_type": "stream",
     "text": [
      "+-------------------------+-----+\n",
      "|features                 |label|\n",
      "+-------------------------+-----+\n",
      "|[22.0,0.6931471805599453]|0.0  |\n",
      "|[38.0,0.6931471805599453]|1.0  |\n",
      "|[26.0,0.0]               |1.0  |\n",
      "|[35.0,0.6931471805599453]|1.0  |\n",
      "|[35.0,0.0]               |0.0  |\n",
      "+-------------------------+-----+\n",
      "only showing top 5 rows\n",
      "\n"
     ]
    }
   ],
   "source": [
    "features_list = numeric_inputs + string_inputs\n",
    "assembler = VectorAssembler(inputCols=features_list,outputCol='features')\n",
    "\n",
    "output = assembler.transform(indexed).select('features','label')\n",
    "output.show(5,False)"
   ]
  },
  {
   "cell_type": "code",
   "execution_count": 102,
   "id": "ffcf7145",
   "metadata": {},
   "outputs": [
    {
     "name": "stdout",
     "output_type": "stream",
     "text": [
      "Features scaled to range: [0.000000, 1000.000000]\n",
      "+-----+--------------------+\n",
      "|label|            features|\n",
      "+-----+--------------------+\n",
      "|  0.0|[271.173661724051...|\n",
      "|  1.0|[472.229203317416...|\n",
      "|  1.0|[321.437547122392...|\n",
      "|  1.0|[434.531289268660...|\n",
      "|  0.0|[434.531289268660...|\n",
      "|  0.0|[334.003518471977...|\n",
      "|  0.0|[673.284744910781...|\n",
      "|  0.0|[19.8542347323448...|\n",
      "|  1.0|[334.003518471977...|\n",
      "|  1.0|[170.645890927368...|\n",
      "|  1.0|[44.9861774315154...|\n",
      "|  1.0|[723.548630309122...|\n",
      "|  0.0|[246.041719024880...|\n",
      "|  0.0|[484.795174667001...|\n",
      "|  0.0|[170.645890927368...|\n",
      "|  1.0|[685.850716260367...|\n",
      "|  0.0|[19.8542347323448...|\n",
      "|  1.0|[283.739633073636...|\n",
      "|  0.0|[384.267403870319...|\n",
      "|  1.0|[271.173661724051...|\n",
      "+-----+--------------------+\n",
      "only showing top 20 rows\n",
      "\n"
     ]
    }
   ],
   "source": [
    "scaler = MinMaxScaler(inputCol=\"features\", outputCol=\"scaledFeatures\",min=0,max=1000)\n",
    "print(\"Features scaled to range: [%f, %f]\" % (scaler.getMin(), scaler.getMax()))\n",
    "\n",
    "\n",
    "scalerModel = scaler.fit(output)\n",
    "\n",
    "\n",
    "scaled_data = scalerModel.transform(output)\n",
    "final_data = scaled_data.select('label','scaledFeatures')\n",
    "\n",
    "final_data = final_data.withColumnRenamed(\"scaledFeatures\",\"features\")\n",
    "final_data.show()"
   ]
  },
  {
   "cell_type": "code",
   "execution_count": 103,
   "id": "5656a028",
   "metadata": {},
   "outputs": [],
   "source": [
    "train,test = final_data.randomSplit([0.70,0.30])"
   ]
  },
  {
   "cell_type": "code",
   "execution_count": 104,
   "id": "8d81b971",
   "metadata": {},
   "outputs": [],
   "source": [
    "naiveclassifier=NaiveBayes()\n",
    "navieModel = naiveclassifier.fit(train)\n"
   ]
  },
  {
   "cell_type": "code",
   "execution_count": 105,
   "id": "8363c237",
   "metadata": {},
   "outputs": [],
   "source": [
    "predictions = navieModel.transform(test)"
   ]
  },
  {
   "cell_type": "code",
   "execution_count": 106,
   "id": "da023100",
   "metadata": {},
   "outputs": [
    {
     "name": "stdout",
     "output_type": "stream",
     "text": [
      "root\n",
      " |-- label: double (nullable = false)\n",
      " |-- features: vector (nullable = true)\n",
      " |-- rawPrediction: vector (nullable = true)\n",
      " |-- probability: vector (nullable = true)\n",
      " |-- prediction: double (nullable = false)\n",
      "\n",
      "+-----+--------------------+--------------------+----------+\n",
      "|label|       rawPrediction|         probability|prediction|\n",
      "+-----+--------------------+--------------------+----------+\n",
      "|  0.0|[-1089.2917148436...|[6.80819397717180...|       1.0|\n",
      "|  0.0|[-6.5845566037842...|[0.73668580685820...|       0.0|\n",
      "|  0.0|[-982.57749019419...|[7.83128345169830...|       1.0|\n",
      "|  0.0|[-982.57749019419...|[7.83128345169830...|       1.0|\n",
      "|  0.0|[-990.27537288648...|[1.68272163924528...|       1.0|\n",
      "|  0.0|[-1005.6711382710...|[7.76910430295502...|       1.0|\n",
      "|  0.0|[-37.376087372949...|[0.98350877710775...|       0.0|\n",
      "|  0.0|[-41.225028719095...|[0.98869045083185...|       0.0|\n",
      "|  0.0|[-1385.2094972442...|[3.58629394198205...|       1.0|\n",
      "|  0.0|[-60.469735449824...|[0.99831265771333...|       0.0|\n",
      "|  0.0|[-60.469735449824...|[0.99831265771333...|       0.0|\n",
      "|  0.0|[-64.318676795969...|[0.99884828115923...|       0.0|\n",
      "|  0.0|[-64.318676795969...|[0.99884828115923...|       0.0|\n",
      "|  0.0|[-484.65595413864...|[8.57206964838455...|       1.0|\n",
      "|  0.0|[-1396.7563212827...|[1.12957451875415...|       1.0|\n",
      "|  0.0|[-68.167618142115...|[0.99921401222291...|       0.0|\n",
      "|  0.0|[-68.167618142115...|[0.99921401222291...|       0.0|\n",
      "|  0.0|[-68.167618142115...|[0.99921401222291...|       0.0|\n",
      "|  0.0|[-68.167618142115...|[0.99921401222291...|       0.0|\n",
      "|  0.0|[-68.167618142115...|[0.99921401222291...|       0.0|\n",
      "+-----+--------------------+--------------------+----------+\n",
      "only showing top 20 rows\n",
      "\n"
     ]
    }
   ],
   "source": [
    "predictions.printSchema()\n",
    "predictions.select('label','rawPrediction','probability','prediction').show()"
   ]
  },
  {
   "cell_type": "code",
   "execution_count": 107,
   "id": "4fb81be7",
   "metadata": {},
   "outputs": [
    {
     "name": "stdout",
     "output_type": "stream",
     "text": [
      "Accuracy of Model : 0.4674279927992798\n",
      "Test Error of Model : 0.5325720072007202\n"
     ]
    }
   ],
   "source": [
    "evaluator=BinaryClassificationEvaluator()\n",
    "accuracy = evaluator.evaluate(predictions)\n",
    "print(\"Accuracy of Model :\" , accuracy)\n",
    "print(\"Test Error of Model :\" , 1-accuracy)"
   ]
  },
  {
   "cell_type": "code",
   "execution_count": 108,
   "id": "d51e5db4",
   "metadata": {},
   "outputs": [
    {
     "name": "stdout",
     "output_type": "stream",
     "text": [
      "0.7060741524025766\n"
     ]
    }
   ],
   "source": [
    "evaluator=ClusteringEvaluator()\n",
    "acc=evaluator.evaluate(predictions)\n",
    "print(acc)"
   ]
  },
  {
   "cell_type": "code",
   "execution_count": null,
   "id": "cdb50f83",
   "metadata": {},
   "outputs": [],
   "source": []
  }
 ],
 "metadata": {
  "kernelspec": {
   "display_name": "Python 3 (ipykernel)",
   "language": "python",
   "name": "python3"
  },
  "language_info": {
   "codemirror_mode": {
    "name": "ipython",
    "version": 3
   },
   "file_extension": ".py",
   "mimetype": "text/x-python",
   "name": "python",
   "nbconvert_exporter": "python",
   "pygments_lexer": "ipython3",
   "version": "3.10.2"
  }
 },
 "nbformat": 4,
 "nbformat_minor": 5
}
