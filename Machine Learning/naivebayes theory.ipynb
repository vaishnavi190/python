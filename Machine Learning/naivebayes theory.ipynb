{
 "cells": [
  {
   "cell_type": "code",
   "execution_count": null,
   "id": "31e1c0f7",
   "metadata": {},
   "outputs": [],
   "source": [
    "Bayes Therom depends on\n",
    "*conditional probality\n",
    "*Independent Event\n",
    "*Dependent Event\n",
    "\n",
    "\n",
    "-conditional probability\n",
    "p(A/B)=P(B/A)*p(A)\n",
    "       ____________\n",
    "        P(B)\n",
    "        \n",
    "categorical output is yes or no\n",
    "p(y/(x1,x2....xn))= p(x1/y)*p(x2/y)....*p(xn/y)*p(y)\n",
    "                    ________________________________\n",
    "                       p(x1)p(x2)......p(n)\n",
    "\n",
    "*argmax(fit or unfit)\n",
    "height=0.60\n",
    "weight=0.40\n",
    "bmi=0.25\n",
    "age=0.15\n",
    "\n",
    "Naive Bayes Classifier\n",
    "-it is based on bayes theorm\n",
    "class variable(prediction or output)\n",
    "vectors(rows)\n",
    "\n",
    "Assumption\n",
    "-independent(no pair of features are dependent) \n",
    "-equal(all the features are equally contributing)\n",
    "\n",
    "\n",
    "before event\n",
    "-positerior probabilty(p(A/B))\n",
    "-liklihood probability(p(B/A))\n",
    "-marginal probability(p(B))\n",
    "-priori probabilty(p(A))"
   ]
  }
 ],
 "metadata": {
  "kernelspec": {
   "display_name": "Python 3 (ipykernel)",
   "language": "python",
   "name": "python3"
  },
  "language_info": {
   "codemirror_mode": {
    "name": "ipython",
    "version": 3
   },
   "file_extension": ".py",
   "mimetype": "text/x-python",
   "name": "python",
   "nbconvert_exporter": "python",
   "pygments_lexer": "ipython3",
   "version": "3.10.2"
  }
 },
 "nbformat": 4,
 "nbformat_minor": 5
}
