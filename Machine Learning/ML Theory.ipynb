{
 "cells": [
  {
   "cell_type": "code",
   "execution_count": null,
   "id": "8d3fbde0",
   "metadata": {},
   "outputs": [],
   "source": [
    "*Machine learning\n",
    "it is a data analytics technique that teaches computers to do what comes naturally to humans\n",
    "\n",
    "* how does machine learning work?\n",
    "machine learning algorithms find natural patterns in data that generates insight and help you make betteer decisions and predictions.\n",
    "\n",
    "*Building blocks\n",
    "-independent variables\n",
    "-dependent variables\n",
    "-data\n",
    "\n",
    "*Algorithms and models\n",
    "*Supervised ml algorithm(labeled data)-sample data set is already given (it is also called hypothesis)\n",
    "   null hypothesis or \n",
    "    -clasification\n",
    "    -regression\n",
    "*unsupervised ml algorithm\n",
    "   -clustering\n",
    "    \n",
    "        \n",
    "Linear Regression (coreleation between data)   \n",
    "    y=f(y is dependent on x)\n",
    "    y=mx+c\n",
    "    y=b0+b1x"
   ]
  }
 ],
 "metadata": {
  "kernelspec": {
   "display_name": "Python 3 (ipykernel)",
   "language": "python",
   "name": "python3"
  },
  "language_info": {
   "codemirror_mode": {
    "name": "ipython",
    "version": 3
   },
   "file_extension": ".py",
   "mimetype": "text/x-python",
   "name": "python",
   "nbconvert_exporter": "python",
   "pygments_lexer": "ipython3",
   "version": "3.10.2"
  }
 },
 "nbformat": 4,
 "nbformat_minor": 5
}
