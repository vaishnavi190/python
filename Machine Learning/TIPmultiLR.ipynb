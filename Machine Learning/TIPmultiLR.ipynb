{
 "cells": [
  {
   "cell_type": "code",
   "execution_count": 19,
   "id": "9a023da2",
   "metadata": {},
   "outputs": [],
   "source": [
    "import findspark\n",
    "findspark.init()"
   ]
  },
  {
   "cell_type": "code",
   "execution_count": 20,
   "id": "32d2c10e",
   "metadata": {},
   "outputs": [],
   "source": [
    "import pyspark\n",
    "from pyspark.sql import SparkSession"
   ]
  },
  {
   "cell_type": "code",
   "execution_count": 21,
   "id": "5012043f",
   "metadata": {},
   "outputs": [],
   "source": [
    "spark=SparkSession.builder.appName('TipMulti').getOrCreate()"
   ]
  },
  {
   "cell_type": "code",
   "execution_count": 22,
   "id": "e61595f9",
   "metadata": {},
   "outputs": [
    {
     "name": "stdout",
     "output_type": "stream",
     "text": [
      "+----------+----+------+------+---+------+----+\n",
      "|total_bill| tip|   sex|smoker|day|  time|size|\n",
      "+----------+----+------+------+---+------+----+\n",
      "|     16.99|1.01|Female|    No|Sun|Dinner|   2|\n",
      "|     10.34|1.66|  Male|    No|Sun|Dinner|   3|\n",
      "|     21.01| 3.5|  Male|    No|Sun|Dinner|   3|\n",
      "|     23.68|3.31|  Male|    No|Sun|Dinner|   2|\n",
      "|     24.59|3.61|Female|    No|Sun|Dinner|   4|\n",
      "|     25.29|4.71|  Male|    No|Sun|Dinner|   4|\n",
      "|      8.77| 2.0|  Male|    No|Sun|Dinner|   2|\n",
      "|     26.88|3.12|  Male|    No|Sun|Dinner|   4|\n",
      "|     15.04|1.96|  Male|    No|Sun|Dinner|   2|\n",
      "|     14.78|3.23|  Male|    No|Sun|Dinner|   2|\n",
      "|     10.27|1.71|  Male|    No|Sun|Dinner|   2|\n",
      "|     35.26| 5.0|Female|    No|Sun|Dinner|   4|\n",
      "|     15.42|1.57|  Male|    No|Sun|Dinner|   2|\n",
      "|     18.43| 3.0|  Male|    No|Sun|Dinner|   4|\n",
      "|     14.83|3.02|Female|    No|Sun|Dinner|   2|\n",
      "|     21.58|3.92|  Male|    No|Sun|Dinner|   2|\n",
      "|     10.33|1.67|Female|    No|Sun|Dinner|   3|\n",
      "|     16.29|3.71|  Male|    No|Sun|Dinner|   3|\n",
      "|     16.97| 3.5|Female|    No|Sun|Dinner|   3|\n",
      "|     20.65|3.35|  Male|    No|Sat|Dinner|   3|\n",
      "+----------+----+------+------+---+------+----+\n",
      "only showing top 20 rows\n",
      "\n"
     ]
    }
   ],
   "source": [
    "dtips=spark.read.csv('f:\\\\datasets\\\\tips.csv',header=True,inferSchema=True)\n",
    "dtips.show()"
   ]
  },
  {
   "cell_type": "code",
   "execution_count": 23,
   "id": "97c9d9fb",
   "metadata": {},
   "outputs": [],
   "source": [
    "from pyspark.ml.feature import StringIndexer"
   ]
  },
  {
   "cell_type": "code",
   "execution_count": 28,
   "id": "54743ffd",
   "metadata": {},
   "outputs": [],
   "source": [
    "si=StringIndexer(inputCol='day',outputCol='day_Col')"
   ]
  },
  {
   "cell_type": "code",
   "execution_count": 29,
   "id": "38eb85ff",
   "metadata": {},
   "outputs": [],
   "source": [
    "df=si.fit(dtips).transform(dtips)"
   ]
  },
  {
   "cell_type": "code",
   "execution_count": 30,
   "id": "7de7f0ff",
   "metadata": {},
   "outputs": [
    {
     "name": "stdout",
     "output_type": "stream",
     "text": [
      "+----------+----+------+------+---+------+----+-------+\n",
      "|total_bill| tip|   sex|smoker|day|  time|size|day_Col|\n",
      "+----------+----+------+------+---+------+----+-------+\n",
      "|     16.99|1.01|Female|    No|Sun|Dinner|   2|    1.0|\n",
      "|     10.34|1.66|  Male|    No|Sun|Dinner|   3|    1.0|\n",
      "|     21.01| 3.5|  Male|    No|Sun|Dinner|   3|    1.0|\n",
      "|     23.68|3.31|  Male|    No|Sun|Dinner|   2|    1.0|\n",
      "|     24.59|3.61|Female|    No|Sun|Dinner|   4|    1.0|\n",
      "|     25.29|4.71|  Male|    No|Sun|Dinner|   4|    1.0|\n",
      "|      8.77| 2.0|  Male|    No|Sun|Dinner|   2|    1.0|\n",
      "|     26.88|3.12|  Male|    No|Sun|Dinner|   4|    1.0|\n",
      "|     15.04|1.96|  Male|    No|Sun|Dinner|   2|    1.0|\n",
      "|     14.78|3.23|  Male|    No|Sun|Dinner|   2|    1.0|\n",
      "|     10.27|1.71|  Male|    No|Sun|Dinner|   2|    1.0|\n",
      "|     35.26| 5.0|Female|    No|Sun|Dinner|   4|    1.0|\n",
      "|     15.42|1.57|  Male|    No|Sun|Dinner|   2|    1.0|\n",
      "|     18.43| 3.0|  Male|    No|Sun|Dinner|   4|    1.0|\n",
      "|     14.83|3.02|Female|    No|Sun|Dinner|   2|    1.0|\n",
      "|     21.58|3.92|  Male|    No|Sun|Dinner|   2|    1.0|\n",
      "|     10.33|1.67|Female|    No|Sun|Dinner|   3|    1.0|\n",
      "|     16.29|3.71|  Male|    No|Sun|Dinner|   3|    1.0|\n",
      "|     16.97| 3.5|Female|    No|Sun|Dinner|   3|    1.0|\n",
      "|     20.65|3.35|  Male|    No|Sat|Dinner|   3|    0.0|\n",
      "+----------+----+------+------+---+------+----+-------+\n",
      "only showing top 20 rows\n",
      "\n"
     ]
    }
   ],
   "source": [
    "df.show()"
   ]
  },
  {
   "cell_type": "code",
   "execution_count": 31,
   "id": "7af8c904",
   "metadata": {},
   "outputs": [],
   "source": [
    "si1=StringIndexer(inputCol='smoker',outputCol='smoker_Col')"
   ]
  },
  {
   "cell_type": "code",
   "execution_count": 33,
   "id": "83e71189",
   "metadata": {},
   "outputs": [],
   "source": [
    "f=si1.fit(df).transform(df)"
   ]
  },
  {
   "cell_type": "code",
   "execution_count": 34,
   "id": "e7163fe9",
   "metadata": {},
   "outputs": [
    {
     "name": "stdout",
     "output_type": "stream",
     "text": [
      "+----------+----+------+------+---+------+----+-------+----------+\n",
      "|total_bill| tip|   sex|smoker|day|  time|size|day_Col|smoker_Col|\n",
      "+----------+----+------+------+---+------+----+-------+----------+\n",
      "|     16.99|1.01|Female|    No|Sun|Dinner|   2|    1.0|       0.0|\n",
      "|     10.34|1.66|  Male|    No|Sun|Dinner|   3|    1.0|       0.0|\n",
      "|     21.01| 3.5|  Male|    No|Sun|Dinner|   3|    1.0|       0.0|\n",
      "|     23.68|3.31|  Male|    No|Sun|Dinner|   2|    1.0|       0.0|\n",
      "|     24.59|3.61|Female|    No|Sun|Dinner|   4|    1.0|       0.0|\n",
      "|     25.29|4.71|  Male|    No|Sun|Dinner|   4|    1.0|       0.0|\n",
      "|      8.77| 2.0|  Male|    No|Sun|Dinner|   2|    1.0|       0.0|\n",
      "|     26.88|3.12|  Male|    No|Sun|Dinner|   4|    1.0|       0.0|\n",
      "|     15.04|1.96|  Male|    No|Sun|Dinner|   2|    1.0|       0.0|\n",
      "|     14.78|3.23|  Male|    No|Sun|Dinner|   2|    1.0|       0.0|\n",
      "|     10.27|1.71|  Male|    No|Sun|Dinner|   2|    1.0|       0.0|\n",
      "|     35.26| 5.0|Female|    No|Sun|Dinner|   4|    1.0|       0.0|\n",
      "|     15.42|1.57|  Male|    No|Sun|Dinner|   2|    1.0|       0.0|\n",
      "|     18.43| 3.0|  Male|    No|Sun|Dinner|   4|    1.0|       0.0|\n",
      "|     14.83|3.02|Female|    No|Sun|Dinner|   2|    1.0|       0.0|\n",
      "|     21.58|3.92|  Male|    No|Sun|Dinner|   2|    1.0|       0.0|\n",
      "|     10.33|1.67|Female|    No|Sun|Dinner|   3|    1.0|       0.0|\n",
      "|     16.29|3.71|  Male|    No|Sun|Dinner|   3|    1.0|       0.0|\n",
      "|     16.97| 3.5|Female|    No|Sun|Dinner|   3|    1.0|       0.0|\n",
      "|     20.65|3.35|  Male|    No|Sat|Dinner|   3|    0.0|       0.0|\n",
      "+----------+----+------+------+---+------+----+-------+----------+\n",
      "only showing top 20 rows\n",
      "\n"
     ]
    }
   ],
   "source": [
    "f.show()"
   ]
  },
  {
   "cell_type": "code",
   "execution_count": 37,
   "id": "aca09447",
   "metadata": {},
   "outputs": [],
   "source": [
    "si2=StringIndexer(inputCol='sex',outputCol='sex_Col')"
   ]
  },
  {
   "cell_type": "code",
   "execution_count": 40,
   "id": "73686a32",
   "metadata": {},
   "outputs": [
    {
     "name": "stdout",
     "output_type": "stream",
     "text": [
      "+----------+----+------+------+---+------+----+-------+----------+-------+\n",
      "|total_bill| tip|   sex|smoker|day|  time|size|day_Col|smoker_Col|sex_Col|\n",
      "+----------+----+------+------+---+------+----+-------+----------+-------+\n",
      "|     16.99|1.01|Female|    No|Sun|Dinner|   2|    1.0|       0.0|    1.0|\n",
      "|     10.34|1.66|  Male|    No|Sun|Dinner|   3|    1.0|       0.0|    0.0|\n",
      "|     21.01| 3.5|  Male|    No|Sun|Dinner|   3|    1.0|       0.0|    0.0|\n",
      "|     23.68|3.31|  Male|    No|Sun|Dinner|   2|    1.0|       0.0|    0.0|\n",
      "|     24.59|3.61|Female|    No|Sun|Dinner|   4|    1.0|       0.0|    1.0|\n",
      "|     25.29|4.71|  Male|    No|Sun|Dinner|   4|    1.0|       0.0|    0.0|\n",
      "|      8.77| 2.0|  Male|    No|Sun|Dinner|   2|    1.0|       0.0|    0.0|\n",
      "|     26.88|3.12|  Male|    No|Sun|Dinner|   4|    1.0|       0.0|    0.0|\n",
      "|     15.04|1.96|  Male|    No|Sun|Dinner|   2|    1.0|       0.0|    0.0|\n",
      "|     14.78|3.23|  Male|    No|Sun|Dinner|   2|    1.0|       0.0|    0.0|\n",
      "|     10.27|1.71|  Male|    No|Sun|Dinner|   2|    1.0|       0.0|    0.0|\n",
      "|     35.26| 5.0|Female|    No|Sun|Dinner|   4|    1.0|       0.0|    1.0|\n",
      "|     15.42|1.57|  Male|    No|Sun|Dinner|   2|    1.0|       0.0|    0.0|\n",
      "|     18.43| 3.0|  Male|    No|Sun|Dinner|   4|    1.0|       0.0|    0.0|\n",
      "|     14.83|3.02|Female|    No|Sun|Dinner|   2|    1.0|       0.0|    1.0|\n",
      "|     21.58|3.92|  Male|    No|Sun|Dinner|   2|    1.0|       0.0|    0.0|\n",
      "|     10.33|1.67|Female|    No|Sun|Dinner|   3|    1.0|       0.0|    1.0|\n",
      "|     16.29|3.71|  Male|    No|Sun|Dinner|   3|    1.0|       0.0|    0.0|\n",
      "|     16.97| 3.5|Female|    No|Sun|Dinner|   3|    1.0|       0.0|    1.0|\n",
      "|     20.65|3.35|  Male|    No|Sat|Dinner|   3|    0.0|       0.0|    0.0|\n",
      "+----------+----+------+------+---+------+----+-------+----------+-------+\n",
      "only showing top 20 rows\n",
      "\n"
     ]
    }
   ],
   "source": [
    "f1=si2.fit(f).transform(f)\n",
    "f1.show()"
   ]
  },
  {
   "cell_type": "code",
   "execution_count": 41,
   "id": "9ec3f6e2",
   "metadata": {},
   "outputs": [],
   "source": [
    "si3=StringIndexer(inputCol='time',outputCol='time_Col')"
   ]
  },
  {
   "cell_type": "code",
   "execution_count": 42,
   "id": "36606dcb",
   "metadata": {},
   "outputs": [
    {
     "name": "stdout",
     "output_type": "stream",
     "text": [
      "+----------+----+------+------+---+------+----+-------+----------+-------+--------+\n",
      "|total_bill| tip|   sex|smoker|day|  time|size|day_Col|smoker_Col|sex_Col|time_Col|\n",
      "+----------+----+------+------+---+------+----+-------+----------+-------+--------+\n",
      "|     16.99|1.01|Female|    No|Sun|Dinner|   2|    1.0|       0.0|    1.0|     0.0|\n",
      "|     10.34|1.66|  Male|    No|Sun|Dinner|   3|    1.0|       0.0|    0.0|     0.0|\n",
      "|     21.01| 3.5|  Male|    No|Sun|Dinner|   3|    1.0|       0.0|    0.0|     0.0|\n",
      "|     23.68|3.31|  Male|    No|Sun|Dinner|   2|    1.0|       0.0|    0.0|     0.0|\n",
      "|     24.59|3.61|Female|    No|Sun|Dinner|   4|    1.0|       0.0|    1.0|     0.0|\n",
      "|     25.29|4.71|  Male|    No|Sun|Dinner|   4|    1.0|       0.0|    0.0|     0.0|\n",
      "|      8.77| 2.0|  Male|    No|Sun|Dinner|   2|    1.0|       0.0|    0.0|     0.0|\n",
      "|     26.88|3.12|  Male|    No|Sun|Dinner|   4|    1.0|       0.0|    0.0|     0.0|\n",
      "|     15.04|1.96|  Male|    No|Sun|Dinner|   2|    1.0|       0.0|    0.0|     0.0|\n",
      "|     14.78|3.23|  Male|    No|Sun|Dinner|   2|    1.0|       0.0|    0.0|     0.0|\n",
      "|     10.27|1.71|  Male|    No|Sun|Dinner|   2|    1.0|       0.0|    0.0|     0.0|\n",
      "|     35.26| 5.0|Female|    No|Sun|Dinner|   4|    1.0|       0.0|    1.0|     0.0|\n",
      "|     15.42|1.57|  Male|    No|Sun|Dinner|   2|    1.0|       0.0|    0.0|     0.0|\n",
      "|     18.43| 3.0|  Male|    No|Sun|Dinner|   4|    1.0|       0.0|    0.0|     0.0|\n",
      "|     14.83|3.02|Female|    No|Sun|Dinner|   2|    1.0|       0.0|    1.0|     0.0|\n",
      "|     21.58|3.92|  Male|    No|Sun|Dinner|   2|    1.0|       0.0|    0.0|     0.0|\n",
      "|     10.33|1.67|Female|    No|Sun|Dinner|   3|    1.0|       0.0|    1.0|     0.0|\n",
      "|     16.29|3.71|  Male|    No|Sun|Dinner|   3|    1.0|       0.0|    0.0|     0.0|\n",
      "|     16.97| 3.5|Female|    No|Sun|Dinner|   3|    1.0|       0.0|    1.0|     0.0|\n",
      "|     20.65|3.35|  Male|    No|Sat|Dinner|   3|    0.0|       0.0|    0.0|     0.0|\n",
      "+----------+----+------+------+---+------+----+-------+----------+-------+--------+\n",
      "only showing top 20 rows\n",
      "\n"
     ]
    }
   ],
   "source": [
    "f2=si3.fit(f1).transform(f1)\n",
    "f2.show()"
   ]
  },
  {
   "cell_type": "code",
   "execution_count": 43,
   "id": "49471dc4",
   "metadata": {},
   "outputs": [],
   "source": [
    "from pyspark.ml.feature import VectorAssembler"
   ]
  },
  {
   "cell_type": "code",
   "execution_count": 61,
   "id": "7933501b",
   "metadata": {},
   "outputs": [],
   "source": [
    "veca=VectorAssembler(inputCols=['tip','day_Col','smoker_Col','sex_Col','time_Col'],outputCol='inputfeat')\n",
    "out=veca.transform(f2)"
   ]
  },
  {
   "cell_type": "code",
   "execution_count": 62,
   "id": "1fd843b3",
   "metadata": {},
   "outputs": [
    {
     "name": "stdout",
     "output_type": "stream",
     "text": [
      "+----------+----+------+------+---+------+----+-------+----------+-------+--------+----------------------+\n",
      "|total_bill|tip |sex   |smoker|day|time  |size|day_Col|smoker_Col|sex_Col|time_Col|inputfeat             |\n",
      "+----------+----+------+------+---+------+----+-------+----------+-------+--------+----------------------+\n",
      "|16.99     |1.01|Female|No    |Sun|Dinner|2   |1.0    |0.0       |1.0    |0.0     |[1.01,1.0,0.0,1.0,0.0]|\n",
      "|10.34     |1.66|Male  |No    |Sun|Dinner|3   |1.0    |0.0       |0.0    |0.0     |(5,[0,1],[1.66,1.0])  |\n",
      "|21.01     |3.5 |Male  |No    |Sun|Dinner|3   |1.0    |0.0       |0.0    |0.0     |(5,[0,1],[3.5,1.0])   |\n",
      "|23.68     |3.31|Male  |No    |Sun|Dinner|2   |1.0    |0.0       |0.0    |0.0     |(5,[0,1],[3.31,1.0])  |\n",
      "|24.59     |3.61|Female|No    |Sun|Dinner|4   |1.0    |0.0       |1.0    |0.0     |[3.61,1.0,0.0,1.0,0.0]|\n",
      "+----------+----+------+------+---+------+----+-------+----------+-------+--------+----------------------+\n",
      "only showing top 5 rows\n",
      "\n"
     ]
    }
   ],
   "source": [
    "out.show(5,False)"
   ]
  },
  {
   "cell_type": "code",
   "execution_count": 65,
   "id": "fdc1b5cf",
   "metadata": {},
   "outputs": [],
   "source": [
    "finaldata=out.select('inputfeat','total_bill')"
   ]
  },
  {
   "cell_type": "code",
   "execution_count": 66,
   "id": "ac295db6",
   "metadata": {},
   "outputs": [
    {
     "name": "stdout",
     "output_type": "stream",
     "text": [
      "root\n",
      " |-- inputfeat: vector (nullable = true)\n",
      " |-- total_bill: double (nullable = true)\n",
      "\n"
     ]
    }
   ],
   "source": [
    "finaldata.printSchema()"
   ]
  },
  {
   "cell_type": "code",
   "execution_count": 67,
   "id": "93d65ac4",
   "metadata": {},
   "outputs": [
    {
     "name": "stdout",
     "output_type": "stream",
     "text": [
      "+----------------------+----------+\n",
      "|inputfeat             |total_bill|\n",
      "+----------------------+----------+\n",
      "|[1.01,1.0,0.0,1.0,0.0]|16.99     |\n",
      "|(5,[0,1],[1.66,1.0])  |10.34     |\n",
      "|(5,[0,1],[3.5,1.0])   |21.01     |\n",
      "|(5,[0,1],[3.31,1.0])  |23.68     |\n",
      "|[3.61,1.0,0.0,1.0,0.0]|24.59     |\n",
      "+----------------------+----------+\n",
      "only showing top 5 rows\n",
      "\n"
     ]
    }
   ],
   "source": [
    "finaldata.show(5,False)"
   ]
  },
  {
   "cell_type": "code",
   "execution_count": 68,
   "id": "e6743c0e",
   "metadata": {},
   "outputs": [],
   "source": [
    "train,test=finaldata.randomSplit([.70,.30])"
   ]
  },
  {
   "cell_type": "code",
   "execution_count": 69,
   "id": "d24a42d9",
   "metadata": {},
   "outputs": [],
   "source": [
    "from pyspark.ml.regression import LinearRegression"
   ]
  },
  {
   "cell_type": "code",
   "execution_count": 71,
   "id": "0a9f1db1",
   "metadata": {},
   "outputs": [],
   "source": [
    "lr=LinearRegression(featuresCol='inputfeat',labelCol='total_bill')\n",
    "lrt=lr.fit(train)"
   ]
  },
  {
   "cell_type": "code",
   "execution_count": 72,
   "id": "8b1f956b",
   "metadata": {},
   "outputs": [
    {
     "name": "stdout",
     "output_type": "stream",
     "text": [
      "+--------------+----------+------------------+\n",
      "|inputfeat     |total_bill|prediction        |\n",
      "+--------------+----------+------------------+\n",
      "|(5,[0],[1.25])|10.51     |12.399081253193843|\n",
      "|(5,[0],[2.31])|18.69     |17.03864607050901 |\n",
      "|(5,[0],[2.64])|17.59     |18.483038890993917|\n",
      "|(5,[0],[2.72])|13.28     |18.833194726262988|\n",
      "|(5,[0],[3.35])|20.65     |21.590671929006906|\n",
      "+--------------+----------+------------------+\n",
      "only showing top 5 rows\n",
      "\n"
     ]
    },
    {
     "name": "stderr",
     "output_type": "stream",
     "text": [
      "C:\\Users\\User\\AppData\\Local\\Programs\\Python\\Python310\\lib\\site-packages\\pyspark\\sql\\context.py:125: FutureWarning: Deprecated in 3.0.0. Use SparkSession.builder.getOrCreate() instead.\n",
      "  warnings.warn(\n"
     ]
    }
   ],
   "source": [
    "res=lrt.evaluate(test)\n",
    "res.predictions.show(5,False)"
   ]
  },
  {
   "cell_type": "code",
   "execution_count": 73,
   "id": "d611d66e",
   "metadata": {},
   "outputs": [
    {
     "name": "stdout",
     "output_type": "stream",
     "text": [
      "r2 0.5344636988156138\n",
      "square of error 4.8563090970672445\n",
      "root mean square error 6.225356061415887\n"
     ]
    }
   ],
   "source": [
    "print('r2',res.r2)\n",
    "print('square of error',res.meanAbsoluteError)\n",
    "print('root mean square error',res.rootMeanSquaredError)"
   ]
  },
  {
   "cell_type": "code",
   "execution_count": null,
   "id": "42c81cdd",
   "metadata": {},
   "outputs": [],
   "source": []
  }
 ],
 "metadata": {
  "kernelspec": {
   "display_name": "Python 3 (ipykernel)",
   "language": "python",
   "name": "python3"
  },
  "language_info": {
   "codemirror_mode": {
    "name": "ipython",
    "version": 3
   },
   "file_extension": ".py",
   "mimetype": "text/x-python",
   "name": "python",
   "nbconvert_exporter": "python",
   "pygments_lexer": "ipython3",
   "version": "3.10.2"
  }
 },
 "nbformat": 4,
 "nbformat_minor": 5
}
