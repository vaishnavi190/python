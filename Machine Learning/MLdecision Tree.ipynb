{
 "cells": [
  {
   "cell_type": "code",
   "execution_count": 1,
   "id": "53a521ae",
   "metadata": {},
   "outputs": [],
   "source": [
    "import findspark\n",
    "findspark.init()"
   ]
  },
  {
   "cell_type": "code",
   "execution_count": 2,
   "id": "00a8f132",
   "metadata": {},
   "outputs": [],
   "source": [
    "import pyspark\n",
    "from pyspark.sql import SparkSession"
   ]
  },
  {
   "cell_type": "code",
   "execution_count": 3,
   "id": "fb245ae5",
   "metadata": {},
   "outputs": [],
   "source": [
    "sp=SparkSession.builder.appName('irisapp').getOrCreate()"
   ]
  },
  {
   "cell_type": "code",
   "execution_count": 4,
   "id": "a5a2dd47",
   "metadata": {},
   "outputs": [
    {
     "name": "stdout",
     "output_type": "stream",
     "text": [
      "+-----------+----------+-----------+----------+-------+\n",
      "|sepalLength|sepalWidth|petalLength|petalWidth|variety|\n",
      "+-----------+----------+-----------+----------+-------+\n",
      "|        5.1|       3.5|        1.4|       0.2| Setosa|\n",
      "|        4.9|       3.0|        1.4|       0.2| Setosa|\n",
      "|        4.7|       3.2|        1.3|       0.2| Setosa|\n",
      "|        4.6|       3.1|        1.5|       0.2| Setosa|\n",
      "|        5.0|       3.6|        1.4|       0.2| Setosa|\n",
      "+-----------+----------+-----------+----------+-------+\n",
      "only showing top 5 rows\n",
      "\n"
     ]
    },
    {
     "data": {
      "text/plain": [
       "150"
      ]
     },
     "execution_count": 4,
     "metadata": {},
     "output_type": "execute_result"
    }
   ],
   "source": [
    "diris=sp.read.csv('f:\\\\datasets\\\\iris.csv',header=True,inferSchema=True)\n",
    "diris.show(5)\n",
    "diris.count()"
   ]
  },
  {
   "cell_type": "code",
   "execution_count": 5,
   "id": "5fab617d",
   "metadata": {},
   "outputs": [
    {
     "name": "stdout",
     "output_type": "stream",
     "text": [
      "root\n",
      " |-- sepalLength: double (nullable = true)\n",
      " |-- sepalWidth: double (nullable = true)\n",
      " |-- petalLength: double (nullable = true)\n",
      " |-- petalWidth: double (nullable = true)\n",
      " |-- variety: string (nullable = true)\n",
      "\n",
      "+----------+\n",
      "|   variety|\n",
      "+----------+\n",
      "| Virginica|\n",
      "|    Setosa|\n",
      "|Versicolor|\n",
      "+----------+\n",
      "\n"
     ]
    }
   ],
   "source": [
    "diris.printSchema()\n",
    "diris.select('variety').distinct().show()"
   ]
  },
  {
   "cell_type": "code",
   "execution_count": 6,
   "id": "c6c21ec5",
   "metadata": {},
   "outputs": [
    {
     "data": {
      "text/plain": [
       "['sepalLength', 'sepalWidth', 'petalLength', 'petalWidth']"
      ]
     },
     "execution_count": 6,
     "metadata": {},
     "output_type": "execute_result"
    }
   ],
   "source": [
    "diris.columns[:4]"
   ]
  },
  {
   "cell_type": "code",
   "execution_count": 7,
   "id": "8649d488",
   "metadata": {},
   "outputs": [
    {
     "name": "stdout",
     "output_type": "stream",
     "text": [
      "+-----------+----------+-----------+----------+-------+-----------------+\n",
      "|sepalLength|sepalWidth|petalLength|petalWidth|variety|        inputfeat|\n",
      "+-----------+----------+-----------+----------+-------+-----------------+\n",
      "|        5.1|       3.5|        1.4|       0.2| Setosa|[5.1,3.5,1.4,0.2]|\n",
      "|        4.9|       3.0|        1.4|       0.2| Setosa|[4.9,3.0,1.4,0.2]|\n",
      "|        4.7|       3.2|        1.3|       0.2| Setosa|[4.7,3.2,1.3,0.2]|\n",
      "|        4.6|       3.1|        1.5|       0.2| Setosa|[4.6,3.1,1.5,0.2]|\n",
      "|        5.0|       3.6|        1.4|       0.2| Setosa|[5.0,3.6,1.4,0.2]|\n",
      "+-----------+----------+-----------+----------+-------+-----------------+\n",
      "only showing top 5 rows\n",
      "\n"
     ]
    }
   ],
   "source": [
    "from pyspark.ml.feature import VectorAssembler\n",
    "from pyspark.ml.feature import StringIndexer\n",
    "va=VectorAssembler(inputCols=diris.columns[:4],outputCol='inputfeat')\n",
    "df=va.transform(diris)\n",
    "df.show(5)"
   ]
  },
  {
   "cell_type": "code",
   "execution_count": 8,
   "id": "55040573",
   "metadata": {},
   "outputs": [
    {
     "name": "stdout",
     "output_type": "stream",
     "text": [
      "+-----------+----------+-----------+----------+-------+-----------------+---+\n",
      "|sepalLength|sepalWidth|petalLength|petalWidth|variety|        inputfeat| Sp|\n",
      "+-----------+----------+-----------+----------+-------+-----------------+---+\n",
      "|        5.1|       3.5|        1.4|       0.2| Setosa|[5.1,3.5,1.4,0.2]|0.0|\n",
      "|        4.9|       3.0|        1.4|       0.2| Setosa|[4.9,3.0,1.4,0.2]|0.0|\n",
      "|        4.7|       3.2|        1.3|       0.2| Setosa|[4.7,3.2,1.3,0.2]|0.0|\n",
      "|        4.6|       3.1|        1.5|       0.2| Setosa|[4.6,3.1,1.5,0.2]|0.0|\n",
      "|        5.0|       3.6|        1.4|       0.2| Setosa|[5.0,3.6,1.4,0.2]|0.0|\n",
      "|        5.4|       3.9|        1.7|       0.4| Setosa|[5.4,3.9,1.7,0.4]|0.0|\n",
      "|        4.6|       3.4|        1.4|       0.3| Setosa|[4.6,3.4,1.4,0.3]|0.0|\n",
      "|        5.0|       3.4|        1.5|       0.2| Setosa|[5.0,3.4,1.5,0.2]|0.0|\n",
      "|        4.4|       2.9|        1.4|       0.2| Setosa|[4.4,2.9,1.4,0.2]|0.0|\n",
      "|        4.9|       3.1|        1.5|       0.1| Setosa|[4.9,3.1,1.5,0.1]|0.0|\n",
      "|        5.4|       3.7|        1.5|       0.2| Setosa|[5.4,3.7,1.5,0.2]|0.0|\n",
      "|        4.8|       3.4|        1.6|       0.2| Setosa|[4.8,3.4,1.6,0.2]|0.0|\n",
      "|        4.8|       3.0|        1.4|       0.1| Setosa|[4.8,3.0,1.4,0.1]|0.0|\n",
      "|        4.3|       3.0|        1.1|       0.1| Setosa|[4.3,3.0,1.1,0.1]|0.0|\n",
      "|        5.8|       4.0|        1.2|       0.2| Setosa|[5.8,4.0,1.2,0.2]|0.0|\n",
      "|        5.7|       4.4|        1.5|       0.4| Setosa|[5.7,4.4,1.5,0.4]|0.0|\n",
      "|        5.4|       3.9|        1.3|       0.4| Setosa|[5.4,3.9,1.3,0.4]|0.0|\n",
      "|        5.1|       3.5|        1.4|       0.3| Setosa|[5.1,3.5,1.4,0.3]|0.0|\n",
      "|        5.7|       3.8|        1.7|       0.3| Setosa|[5.7,3.8,1.7,0.3]|0.0|\n",
      "|        5.1|       3.8|        1.5|       0.3| Setosa|[5.1,3.8,1.5,0.3]|0.0|\n",
      "+-----------+----------+-----------+----------+-------+-----------------+---+\n",
      "only showing top 20 rows\n",
      "\n"
     ]
    }
   ],
   "source": [
    "ind=StringIndexer(inputCol='variety',outputCol='Sp')\n",
    "df1=ind.fit(df).transform(df)\n",
    "df1.show()"
   ]
  },
  {
   "cell_type": "code",
   "execution_count": 9,
   "id": "33cb1773",
   "metadata": {},
   "outputs": [
    {
     "name": "stdout",
     "output_type": "stream",
     "text": [
      "+-----------------+---+\n",
      "|        inputfeat| sp|\n",
      "+-----------------+---+\n",
      "|[5.1,3.5,1.4,0.2]|0.0|\n",
      "|[4.9,3.0,1.4,0.2]|0.0|\n",
      "|[4.7,3.2,1.3,0.2]|0.0|\n",
      "|[4.6,3.1,1.5,0.2]|0.0|\n",
      "|[5.0,3.6,1.4,0.2]|0.0|\n",
      "|[5.4,3.9,1.7,0.4]|0.0|\n",
      "|[4.6,3.4,1.4,0.3]|0.0|\n",
      "|[5.0,3.4,1.5,0.2]|0.0|\n",
      "|[4.4,2.9,1.4,0.2]|0.0|\n",
      "|[4.9,3.1,1.5,0.1]|0.0|\n",
      "|[5.4,3.7,1.5,0.2]|0.0|\n",
      "|[4.8,3.4,1.6,0.2]|0.0|\n",
      "|[4.8,3.0,1.4,0.1]|0.0|\n",
      "|[4.3,3.0,1.1,0.1]|0.0|\n",
      "|[5.8,4.0,1.2,0.2]|0.0|\n",
      "|[5.7,4.4,1.5,0.4]|0.0|\n",
      "|[5.4,3.9,1.3,0.4]|0.0|\n",
      "|[5.1,3.5,1.4,0.3]|0.0|\n",
      "|[5.7,3.8,1.7,0.3]|0.0|\n",
      "|[5.1,3.8,1.5,0.3]|0.0|\n",
      "+-----------------+---+\n",
      "only showing top 20 rows\n",
      "\n"
     ]
    }
   ],
   "source": [
    "finaldata=df1.select('inputfeat','sp')\n",
    "finaldata.show()"
   ]
  },
  {
   "cell_type": "code",
   "execution_count": 10,
   "id": "402682ce",
   "metadata": {},
   "outputs": [],
   "source": [
    "train,test=finaldata.randomSplit([.70,.30])"
   ]
  },
  {
   "cell_type": "code",
   "execution_count": 11,
   "id": "2fcd2622",
   "metadata": {},
   "outputs": [],
   "source": [
    "from pyspark.ml.classification  import DecisionTreeClassifier\n",
    "dtcmodel=DecisionTreeClassifier(labelCol='sp',featuresCol='inputfeat')"
   ]
  },
  {
   "cell_type": "code",
   "execution_count": 12,
   "id": "8de68808",
   "metadata": {},
   "outputs": [],
   "source": [
    "model=dtcmodel.fit(train)"
   ]
  },
  {
   "cell_type": "code",
   "execution_count": 13,
   "id": "d86bffdf",
   "metadata": {},
   "outputs": [
    {
     "data": {
      "text/plain": [
       "DecisionTreeClassificationModel: uid=DecisionTreeClassifier_37382ffb88e7, depth=4, numNodes=13, numClasses=3, numFeatures=4"
      ]
     },
     "execution_count": 13,
     "metadata": {},
     "output_type": "execute_result"
    }
   ],
   "source": [
    "model"
   ]
  },
  {
   "cell_type": "code",
   "execution_count": 14,
   "id": "f5b2c421",
   "metadata": {},
   "outputs": [],
   "source": [
    "pre_res=model.transform(test)"
   ]
  },
  {
   "cell_type": "code",
   "execution_count": 15,
   "id": "8365d4fa",
   "metadata": {},
   "outputs": [
    {
     "name": "stdout",
     "output_type": "stream",
     "text": [
      "+-----------------+---+----------+\n",
      "|        inputfeat| sp|prediction|\n",
      "+-----------------+---+----------+\n",
      "|[4.3,3.0,1.1,0.1]|0.0|       0.0|\n",
      "|[4.4,3.0,1.3,0.2]|0.0|       0.0|\n",
      "|[4.6,3.2,1.4,0.2]|0.0|       0.0|\n",
      "|[4.6,3.6,1.0,0.2]|0.0|       0.0|\n",
      "|[4.7,3.2,1.3,0.2]|0.0|       0.0|\n",
      "|[4.8,3.0,1.4,0.1]|0.0|       0.0|\n",
      "|[4.8,3.0,1.4,0.3]|0.0|       0.0|\n",
      "|[4.8,3.4,1.6,0.2]|0.0|       0.0|\n",
      "|[4.9,2.4,3.3,1.0]|1.0|       1.0|\n",
      "|[4.9,2.5,4.5,1.7]|2.0|       1.0|\n",
      "|[4.9,3.0,1.4,0.2]|0.0|       0.0|\n",
      "|[4.9,3.1,1.5,0.2]|0.0|       0.0|\n",
      "|[5.0,2.3,3.3,1.0]|1.0|       1.0|\n",
      "|[5.0,3.2,1.2,0.2]|0.0|       0.0|\n",
      "|[5.1,2.5,3.0,1.1]|1.0|       1.0|\n",
      "|[5.1,3.7,1.5,0.4]|0.0|       0.0|\n",
      "|[5.1,3.8,1.5,0.3]|0.0|       0.0|\n",
      "|[5.1,3.8,1.9,0.4]|0.0|       0.0|\n",
      "|[5.4,3.0,4.5,1.5]|1.0|       1.0|\n",
      "|[5.4,3.4,1.7,0.2]|0.0|       0.0|\n",
      "+-----------------+---+----------+\n",
      "only showing top 20 rows\n",
      "\n"
     ]
    }
   ],
   "source": [
    "pre_res.select('inputfeat','sp','prediction').show()"
   ]
  },
  {
   "cell_type": "code",
   "execution_count": 16,
   "id": "01a071c3",
   "metadata": {},
   "outputs": [],
   "source": [
    "from pyspark.ml.evaluation import MulticlassClassificationEvaluator"
   ]
  },
  {
   "cell_type": "code",
   "execution_count": 17,
   "id": "1780048a",
   "metadata": {},
   "outputs": [
    {
     "name": "stdout",
     "output_type": "stream",
     "text": [
      "Accuaracy of model: 0.9632900432900433\n",
      "Test Error of model: 0.03670995670995669\n"
     ]
    }
   ],
   "source": [
    "ev=MulticlassClassificationEvaluator(labelCol='sp',predictionCol='prediction')\n",
    "acc=ev.evaluate(pre_res)\n",
    "print('Accuaracy of model:',acc)\n",
    "print('Test Error of model:',(1-acc))"
   ]
  },
  {
   "cell_type": "code",
   "execution_count": 18,
   "id": "2f94e589",
   "metadata": {},
   "outputs": [
    {
     "name": "stdout",
     "output_type": "stream",
     "text": [
      "+---+-----------+\n",
      "| Sp|va_category|\n",
      "+---+-----------+\n",
      "|1.0| Versicolor|\n",
      "|0.0|     Setosa|\n",
      "|2.0|  Virginica|\n",
      "+---+-----------+\n",
      "\n"
     ]
    }
   ],
   "source": [
    "#IndexToString converstion\n",
    "from pyspark.ml.feature import IndexToString\n",
    "itos=IndexToString(inputCol='Sp',outputCol='va_category')\n",
    "b=itos.transform(df1)\n",
    "b.select('Sp','va_category').distinct().show()"
   ]
  },
  {
   "cell_type": "code",
   "execution_count": 19,
   "id": "cf3bd59e",
   "metadata": {},
   "outputs": [
    {
     "name": "stdout",
     "output_type": "stream",
     "text": [
      "+-----------------+---+----------+-----------+\n",
      "|        inputfeat| Sp|prediction|va_category|\n",
      "+-----------------+---+----------+-----------+\n",
      "|[4.3,3.0,1.1,0.1]|0.0|       0.0|     Setosa|\n",
      "|[4.4,3.0,1.3,0.2]|0.0|       0.0|     Setosa|\n",
      "|[4.6,3.2,1.4,0.2]|0.0|       0.0|     Setosa|\n",
      "|[4.6,3.6,1.0,0.2]|0.0|       0.0|     Setosa|\n",
      "|[4.7,3.2,1.3,0.2]|0.0|       0.0|     Setosa|\n",
      "|[4.8,3.0,1.4,0.1]|0.0|       0.0|     Setosa|\n",
      "|[4.8,3.0,1.4,0.3]|0.0|       0.0|     Setosa|\n",
      "|[4.8,3.4,1.6,0.2]|0.0|       0.0|     Setosa|\n",
      "|[4.9,2.4,3.3,1.0]|1.0|       1.0| Versicolor|\n",
      "|[4.9,2.5,4.5,1.7]|2.0|       1.0|  Virginica|\n",
      "|[4.9,3.0,1.4,0.2]|0.0|       0.0|     Setosa|\n",
      "|[4.9,3.1,1.5,0.2]|0.0|       0.0|     Setosa|\n",
      "|[5.0,2.3,3.3,1.0]|1.0|       1.0| Versicolor|\n",
      "|[5.0,3.2,1.2,0.2]|0.0|       0.0|     Setosa|\n",
      "|[5.1,2.5,3.0,1.1]|1.0|       1.0| Versicolor|\n",
      "|[5.1,3.7,1.5,0.4]|0.0|       0.0|     Setosa|\n",
      "|[5.1,3.8,1.5,0.3]|0.0|       0.0|     Setosa|\n",
      "|[5.1,3.8,1.9,0.4]|0.0|       0.0|     Setosa|\n",
      "|[5.4,3.0,4.5,1.5]|1.0|       1.0| Versicolor|\n",
      "|[5.4,3.4,1.7,0.2]|0.0|       0.0|     Setosa|\n",
      "+-----------------+---+----------+-----------+\n",
      "only showing top 20 rows\n",
      "\n"
     ]
    }
   ],
   "source": [
    "f=pre_res.select('inputfeat','Sp','prediction')\n",
    "from pyspark.ml.feature import IndexToString\n",
    "itos=IndexToString(inputCol='Sp',outputCol='va_category')\n",
    "b=itos.transform(f)\n",
    "b.show()"
   ]
  },
  {
   "cell_type": "code",
   "execution_count": 20,
   "id": "dfd4737b",
   "metadata": {},
   "outputs": [],
   "source": [
    "from pyspark.ml.classification  import RandomForestClassifier\n",
    "rfmodel=RandomForestClassifier(labelCol='sp',featuresCol='inputfeat')\n",
    "model=rfmodel.fit(train)"
   ]
  },
  {
   "cell_type": "code",
   "execution_count": 21,
   "id": "9ff325cf",
   "metadata": {},
   "outputs": [
    {
     "name": "stdout",
     "output_type": "stream",
     "text": [
      "+-----------------+---+--------------+---------------+----------+\n",
      "|        inputfeat| sp| rawPrediction|    probability|prediction|\n",
      "+-----------------+---+--------------+---------------+----------+\n",
      "|[4.3,3.0,1.1,0.1]|0.0|[20.0,0.0,0.0]|  [1.0,0.0,0.0]|       0.0|\n",
      "|[4.4,3.0,1.3,0.2]|0.0|[20.0,0.0,0.0]|  [1.0,0.0,0.0]|       0.0|\n",
      "|[4.6,3.2,1.4,0.2]|0.0|[20.0,0.0,0.0]|  [1.0,0.0,0.0]|       0.0|\n",
      "|[4.6,3.6,1.0,0.2]|0.0|[20.0,0.0,0.0]|  [1.0,0.0,0.0]|       0.0|\n",
      "|[4.7,3.2,1.3,0.2]|0.0|[20.0,0.0,0.0]|  [1.0,0.0,0.0]|       0.0|\n",
      "|[4.8,3.0,1.4,0.1]|0.0|[20.0,0.0,0.0]|  [1.0,0.0,0.0]|       0.0|\n",
      "|[4.8,3.0,1.4,0.3]|0.0|[20.0,0.0,0.0]|  [1.0,0.0,0.0]|       0.0|\n",
      "|[4.8,3.4,1.6,0.2]|0.0|[20.0,0.0,0.0]|  [1.0,0.0,0.0]|       0.0|\n",
      "|[4.9,2.4,3.3,1.0]|1.0|[0.0,20.0,0.0]|  [0.0,1.0,0.0]|       1.0|\n",
      "|[4.9,2.5,4.5,1.7]|2.0|[0.0,12.0,8.0]|  [0.0,0.6,0.4]|       1.0|\n",
      "|[4.9,3.0,1.4,0.2]|0.0|[20.0,0.0,0.0]|  [1.0,0.0,0.0]|       0.0|\n",
      "|[4.9,3.1,1.5,0.2]|0.0|[20.0,0.0,0.0]|  [1.0,0.0,0.0]|       0.0|\n",
      "|[5.0,2.3,3.3,1.0]|1.0|[0.0,20.0,0.0]|  [0.0,1.0,0.0]|       1.0|\n",
      "|[5.0,3.2,1.2,0.2]|0.0|[20.0,0.0,0.0]|  [1.0,0.0,0.0]|       0.0|\n",
      "|[5.1,2.5,3.0,1.1]|1.0|[0.0,20.0,0.0]|  [0.0,1.0,0.0]|       1.0|\n",
      "|[5.1,3.7,1.5,0.4]|0.0|[20.0,0.0,0.0]|  [1.0,0.0,0.0]|       0.0|\n",
      "|[5.1,3.8,1.5,0.3]|0.0|[20.0,0.0,0.0]|  [1.0,0.0,0.0]|       0.0|\n",
      "|[5.1,3.8,1.9,0.4]|0.0|[16.0,4.0,0.0]|  [0.8,0.2,0.0]|       0.0|\n",
      "|[5.4,3.0,4.5,1.5]|1.0|[1.0,18.0,1.0]|[0.05,0.9,0.05]|       1.0|\n",
      "|[5.4,3.4,1.7,0.2]|0.0|[20.0,0.0,0.0]|  [1.0,0.0,0.0]|       0.0|\n",
      "+-----------------+---+--------------+---------------+----------+\n",
      "only showing top 20 rows\n",
      "\n"
     ]
    }
   ],
   "source": [
    "predctres=model.transform(test)\n",
    "predctres.show()"
   ]
  },
  {
   "cell_type": "code",
   "execution_count": 26,
   "id": "48bf2300",
   "metadata": {},
   "outputs": [
    {
     "name": "stdout",
     "output_type": "stream",
     "text": [
      "Accuaracy of model: 0.9445359772545017\n",
      "Test Error of model: 0.05546402274549833\n"
     ]
    }
   ],
   "source": [
    "ev=MulticlassClassificationEvaluator(labelCol='sp',predictionCol='prediction')\n",
    "acc=ev.evaluate(predctres)\n",
    "print('Accuaracy of model:',acc)\n",
    "print('Test Error of model:',(1-acc))"
   ]
  },
  {
   "cell_type": "code",
   "execution_count": null,
   "id": "f71c7f11",
   "metadata": {},
   "outputs": [],
   "source": []
  }
 ],
 "metadata": {
  "kernelspec": {
   "display_name": "Python 3 (ipykernel)",
   "language": "python",
   "name": "python3"
  },
  "language_info": {
   "codemirror_mode": {
    "name": "ipython",
    "version": 3
   },
   "file_extension": ".py",
   "mimetype": "text/x-python",
   "name": "python",
   "nbconvert_exporter": "python",
   "pygments_lexer": "ipython3",
   "version": "3.10.2"
  }
 },
 "nbformat": 4,
 "nbformat_minor": 5
}
