{
 "cells": [
  {
   "cell_type": "code",
   "execution_count": 1,
   "id": "3e02a3ab",
   "metadata": {},
   "outputs": [],
   "source": [
    "import findspark\n",
    "findspark.init()\n",
    "\n",
    "import pyspark \n",
    "from pyspark.sql import SparkSession\n",
    "\n",
    "spark = SparkSession.builder.appName(\"Classification\").getOrCreate()"
   ]
  },
  {
   "cell_type": "code",
   "execution_count": 2,
   "id": "5caaefaa",
   "metadata": {},
   "outputs": [],
   "source": [
    "from pyspark.ml.feature import VectorAssembler\n",
    "from pyspark.sql.types import * \n",
    "from pyspark.sql.functions import *\n",
    "from pyspark.ml.feature import StringIndexer\n",
    "from pyspark.ml.feature import MinMaxScaler\n",
    "from pyspark.ml.classification import NaiveBayes\n",
    "from pyspark.ml.evaluation import BinaryClassificationEvaluator"
   ]
  },
  {
   "cell_type": "code",
   "execution_count": 3,
   "id": "3de9a807",
   "metadata": {},
   "outputs": [
    {
     "data": {
      "text/html": [
       "<div>\n",
       "<style scoped>\n",
       "    .dataframe tbody tr th:only-of-type {\n",
       "        vertical-align: middle;\n",
       "    }\n",
       "\n",
       "    .dataframe tbody tr th {\n",
       "        vertical-align: top;\n",
       "    }\n",
       "\n",
       "    .dataframe thead th {\n",
       "        text-align: right;\n",
       "    }\n",
       "</style>\n",
       "<table border=\"1\" class=\"dataframe\">\n",
       "  <thead>\n",
       "    <tr style=\"text-align: right;\">\n",
       "      <th></th>\n",
       "      <th>Survived</th>\n",
       "      <th>Pclass</th>\n",
       "      <th>Name</th>\n",
       "      <th>Sex</th>\n",
       "      <th>Age</th>\n",
       "      <th>SiblingsSpouses Aboard</th>\n",
       "      <th>parentschildren</th>\n",
       "      <th>Fare</th>\n",
       "    </tr>\n",
       "  </thead>\n",
       "  <tbody>\n",
       "    <tr>\n",
       "      <th>0</th>\n",
       "      <td>0</td>\n",
       "      <td>3</td>\n",
       "      <td>Mr. Owen Harris Braund</td>\n",
       "      <td>male</td>\n",
       "      <td>22.0</td>\n",
       "      <td>1</td>\n",
       "      <td>0</td>\n",
       "      <td>7.2500</td>\n",
       "    </tr>\n",
       "    <tr>\n",
       "      <th>1</th>\n",
       "      <td>1</td>\n",
       "      <td>1</td>\n",
       "      <td>Mrs. John Bradley (Florence Briggs Thayer) Cum...</td>\n",
       "      <td>female</td>\n",
       "      <td>38.0</td>\n",
       "      <td>1</td>\n",
       "      <td>0</td>\n",
       "      <td>71.2833</td>\n",
       "    </tr>\n",
       "    <tr>\n",
       "      <th>2</th>\n",
       "      <td>1</td>\n",
       "      <td>3</td>\n",
       "      <td>Miss. Laina Heikkinen</td>\n",
       "      <td>female</td>\n",
       "      <td>26.0</td>\n",
       "      <td>0</td>\n",
       "      <td>0</td>\n",
       "      <td>7.9250</td>\n",
       "    </tr>\n",
       "    <tr>\n",
       "      <th>3</th>\n",
       "      <td>1</td>\n",
       "      <td>1</td>\n",
       "      <td>Mrs. Jacques Heath (Lily May Peel) Futrelle</td>\n",
       "      <td>female</td>\n",
       "      <td>35.0</td>\n",
       "      <td>1</td>\n",
       "      <td>0</td>\n",
       "      <td>53.1000</td>\n",
       "    </tr>\n",
       "    <tr>\n",
       "      <th>4</th>\n",
       "      <td>0</td>\n",
       "      <td>3</td>\n",
       "      <td>Mr. William Henry Allen</td>\n",
       "      <td>male</td>\n",
       "      <td>35.0</td>\n",
       "      <td>0</td>\n",
       "      <td>0</td>\n",
       "      <td>8.0500</td>\n",
       "    </tr>\n",
       "    <tr>\n",
       "      <th>5</th>\n",
       "      <td>0</td>\n",
       "      <td>3</td>\n",
       "      <td>Mr. James Moran</td>\n",
       "      <td>male</td>\n",
       "      <td>27.0</td>\n",
       "      <td>0</td>\n",
       "      <td>0</td>\n",
       "      <td>8.4583</td>\n",
       "    </tr>\n",
       "  </tbody>\n",
       "</table>\n",
       "</div>"
      ],
      "text/plain": [
       "   Survived  Pclass                                               Name  \\\n",
       "0         0       3                             Mr. Owen Harris Braund   \n",
       "1         1       1  Mrs. John Bradley (Florence Briggs Thayer) Cum...   \n",
       "2         1       3                              Miss. Laina Heikkinen   \n",
       "3         1       1        Mrs. Jacques Heath (Lily May Peel) Futrelle   \n",
       "4         0       3                            Mr. William Henry Allen   \n",
       "5         0       3                                    Mr. James Moran   \n",
       "\n",
       "      Sex   Age  SiblingsSpouses Aboard  parentschildren     Fare  \n",
       "0    male  22.0                       1                0   7.2500  \n",
       "1  female  38.0                       1                0  71.2833  \n",
       "2  female  26.0                       0                0   7.9250  \n",
       "3  female  35.0                       1                0  53.1000  \n",
       "4    male  35.0                       0                0   8.0500  \n",
       "5    male  27.0                       0                0   8.4583  "
      ]
     },
     "execution_count": 3,
     "metadata": {},
     "output_type": "execute_result"
    }
   ],
   "source": [
    "df = spark.read.csv('f:\\\\datasets\\\\titanic.csv',inferSchema=True,header=True)\n",
    "df.limit(6).toPandas()"
   ]
  },
  {
   "cell_type": "code",
   "execution_count": 4,
   "id": "8830df15",
   "metadata": {},
   "outputs": [
    {
     "name": "stdout",
     "output_type": "stream",
     "text": [
      "root\n",
      " |-- Survived: integer (nullable = true)\n",
      " |-- Pclass: integer (nullable = true)\n",
      " |-- Name: string (nullable = true)\n",
      " |-- Sex: string (nullable = true)\n",
      " |-- Age: double (nullable = true)\n",
      " |-- SiblingsSpouses Aboard: integer (nullable = true)\n",
      " |-- parentschildren: integer (nullable = true)\n",
      " |-- Fare: double (nullable = true)\n",
      "\n"
     ]
    }
   ],
   "source": [
    "df.printSchema()"
   ]
  },
  {
   "cell_type": "code",
   "execution_count": 5,
   "id": "899fce04",
   "metadata": {},
   "outputs": [
    {
     "name": "stdout",
     "output_type": "stream",
     "text": [
      "+--------+-----+\n",
      "|Survived|count|\n",
      "+--------+-----+\n",
      "|       1|  342|\n",
      "|       0|  545|\n",
      "+--------+-----+\n",
      "\n"
     ]
    }
   ],
   "source": [
    "df.groupBy(\"Survived\").count().show()"
   ]
  },
  {
   "cell_type": "code",
   "execution_count": 6,
   "id": "7b734f76",
   "metadata": {},
   "outputs": [
    {
     "name": "stdout",
     "output_type": "stream",
     "text": [
      "['Pclass', 'Sex']\n",
      "Survived\n"
     ]
    }
   ],
   "source": [
    "input_columns=df.columns\n",
    "input_columns=input_columns[1:4:2]\n",
    "dependent_var='Survived'\n",
    "print(input_columns)\n",
    "print(dependent_var)"
   ]
  },
  {
   "cell_type": "code",
   "execution_count": 7,
   "id": "343c9e91",
   "metadata": {},
   "outputs": [
    {
     "name": "stdout",
     "output_type": "stream",
     "text": [
      "+--------+------+--------------------+------+----+----------------------+---------------+-------+---------+-----+\n",
      "|Survived|Pclass|                Name|   Sex| Age|SiblingsSpouses Aboard|parentschildren|   Fare|label_str|label|\n",
      "+--------+------+--------------------+------+----+----------------------+---------------+-------+---------+-----+\n",
      "|       0|     3|Mr. Owen Harris B...|  male|22.0|                     1|              0|   7.25|        0|  0.0|\n",
      "|       1|     1|Mrs. John Bradley...|female|38.0|                     1|              0|71.2833|        1|  1.0|\n",
      "|       1|     3|Miss. Laina Heikk...|female|26.0|                     0|              0|  7.925|        1|  1.0|\n",
      "|       1|     1|Mrs. Jacques Heat...|female|35.0|                     1|              0|   53.1|        1|  1.0|\n",
      "|       0|     3|Mr. William Henry...|  male|35.0|                     0|              0|   8.05|        0|  0.0|\n",
      "|       0|     3|     Mr. James Moran|  male|27.0|                     0|              0| 8.4583|        0|  0.0|\n",
      "|       0|     1|Mr. Timothy J McC...|  male|54.0|                     0|              0|51.8625|        0|  0.0|\n",
      "|       0|     3|Master. Gosta Leo...|  male| 2.0|                     3|              1| 21.075|        0|  0.0|\n",
      "|       1|     3|Mrs. Oscar W (Eli...|female|27.0|                     0|              2|11.1333|        1|  1.0|\n",
      "|       1|     2|Mrs. Nicholas (Ad...|female|14.0|                     1|              0|30.0708|        1|  1.0|\n",
      "|       1|     3|Miss. Marguerite ...|female| 4.0|                     1|              1|   16.7|        1|  1.0|\n",
      "|       1|     1|Miss. Elizabeth B...|female|58.0|                     0|              0|  26.55|        1|  1.0|\n",
      "|       0|     3|Mr. William Henry...|  male|20.0|                     0|              0|   8.05|        0|  0.0|\n",
      "|       0|     3|Mr. Anders Johan ...|  male|39.0|                     1|              5| 31.275|        0|  0.0|\n",
      "|       0|     3|Miss. Hulda Amand...|female|14.0|                     0|              0| 7.8542|        0|  0.0|\n",
      "|       1|     2|Mrs. (Mary D King...|female|55.0|                     0|              0|   16.0|        1|  1.0|\n",
      "|       0|     3| Master. Eugene Rice|  male| 2.0|                     4|              1| 29.125|        0|  0.0|\n",
      "|       1|     2|Mr. Charles Eugen...|  male|23.0|                     0|              0|   13.0|        1|  1.0|\n",
      "|       0|     3|Mrs. Julius (Emel...|female|31.0|                     1|              0|   18.0|        0|  0.0|\n",
      "|       1|     3|Mrs. Fatima Masse...|female|22.0|                     0|              0|  7.225|        1|  1.0|\n",
      "+--------+------+--------------------+------+----+----------------------+---------------+-------+---------+-----+\n",
      "only showing top 20 rows\n",
      "\n"
     ]
    }
   ],
   "source": [
    "renamed=df.withColumn(\"label_str\",df[dependent_var].cast('string'))\n",
    "indexer=StringIndexer(inputCol='label_str',outputCol=\"label\")\n",
    "indexed=indexer.fit(renamed).transform(renamed)\n",
    "indexed.show()"
   ]
  },
  {
   "cell_type": "code",
   "execution_count": 8,
   "id": "0009e6ae",
   "metadata": {},
   "outputs": [
    {
     "name": "stdout",
     "output_type": "stream",
     "text": [
      "root\n",
      " |-- Survived: integer (nullable = true)\n",
      " |-- Pclass: integer (nullable = true)\n",
      " |-- Name: string (nullable = true)\n",
      " |-- Sex: string (nullable = true)\n",
      " |-- Age: double (nullable = true)\n",
      " |-- SiblingsSpouses Aboard: integer (nullable = true)\n",
      " |-- parentschildren: integer (nullable = true)\n",
      " |-- Fare: double (nullable = true)\n",
      " |-- label_str: string (nullable = true)\n",
      " |-- label: double (nullable = false)\n",
      "\n"
     ]
    }
   ],
   "source": [
    "indexed.printSchema()"
   ]
  },
  {
   "cell_type": "code",
   "execution_count": 9,
   "id": "5984208f",
   "metadata": {},
   "outputs": [
    {
     "name": "stdout",
     "output_type": "stream",
     "text": [
      "numeric_inputs ['Pclass']\n",
      "String_inputs ['Sex_num']\n"
     ]
    }
   ],
   "source": [
    "numeric_inputs=[]\n",
    "string_inputs=[]\n",
    "for column in input_columns:\n",
    "    if str(indexed.schema[column].dataType)=='StringType':\n",
    "        indexer=StringIndexer(inputCol=column,outputCol=column+\"_num\")\n",
    "        indexed=indexer.fit(indexed).transform(indexed)\n",
    "        new_col_name=column+\"_num\"\n",
    "        string_inputs.append(new_col_name)\n",
    "    else:\n",
    "        numeric_inputs.append(column)\n",
    "print('numeric_inputs' , numeric_inputs)\n",
    "print('String_inputs' , string_inputs)"
   ]
  },
  {
   "cell_type": "code",
   "execution_count": 10,
   "id": "1a401d5a",
   "metadata": {},
   "outputs": [
    {
     "name": "stdout",
     "output_type": "stream",
     "text": [
      "-0.6223541098616062\n"
     ]
    }
   ],
   "source": [
    "d = {}\n",
    "\n",
    "for col in numeric_inputs: \n",
    "    d[col] = indexed.approxQuantile(col,[0.01,0.99],0.25) \n",
    "\n",
    "for col in numeric_inputs:\n",
    "    skew = indexed.agg(skewness(indexed[col])).collect() \n",
    "    skew = skew[0][0]\n",
    "   \n",
    "    if skew > 1:\n",
    "        indexed = indexed.withColumn(col, \\\n",
    "        log(when(df[col] < d[col][0],d[col][0])\\\n",
    "        .when(indexed[col] > d[col][1], d[col][1])\\\n",
    "        .otherwise(indexed[col] ) +1).alias(col))\n",
    "        print(col+\" has been treated for positive (right) skewness. (skew =)\",skew,\")\")\n",
    "    elif skew < -1:\n",
    "        indexed = indexed.withColumn(col, \\\n",
    "        exp(when(df[col] < d[col][0],d[col][0])\\\n",
    "        .when(indexed[col] > d[col][1], d[col][1])\\\n",
    "        .otherwise(indexed[col] )).alias(col))\n",
    "        print(col+\" has been treated for negative (left) skewness. (skew =\",skew,\")\")\n",
    "        \n",
    "print(skew)        "
   ]
  },
  {
   "cell_type": "code",
   "execution_count": 11,
   "id": "6f2f3a71",
   "metadata": {},
   "outputs": [
    {
     "name": "stdout",
     "output_type": "stream",
     "text": [
      "No negative values were found in your dataframe.\n"
     ]
    }
   ],
   "source": [
    "minimums = df.select([min(c).alias(c) for c in df.columns if c in numeric_inputs]) \n",
    "\n",
    "min_array = minimums.select(array(numeric_inputs).alias(\"mins\")) \n",
    "\n",
    "df_minimum = min_array.select(array_min(min_array.mins)).collect() \n",
    "\n",
    "df_minimum = df_minimum[0][0] \n",
    "\n",
    "\n",
    "if df_minimum < 0:\n",
    "    print(\"WARNING: The Naive Bayes Classifier will not be able to process your dataframe as it contains negative values\")\n",
    "else:\n",
    "    print(\"No negative values were found in your dataframe.\")"
   ]
  },
  {
   "cell_type": "code",
   "execution_count": 12,
   "id": "6ae7319d",
   "metadata": {},
   "outputs": [
    {
     "name": "stdout",
     "output_type": "stream",
     "text": [
      "+---------+-----+\n",
      "|features |label|\n",
      "+---------+-----+\n",
      "|[3.0,0.0]|0.0  |\n",
      "|[1.0,1.0]|1.0  |\n",
      "|[3.0,1.0]|1.0  |\n",
      "|[1.0,1.0]|1.0  |\n",
      "|[3.0,0.0]|0.0  |\n",
      "+---------+-----+\n",
      "only showing top 5 rows\n",
      "\n"
     ]
    }
   ],
   "source": [
    "features_list = numeric_inputs + string_inputs\n",
    "assembler = VectorAssembler(inputCols=features_list,outputCol='features')\n",
    "\n",
    "output = assembler.transform(indexed).select('features','label')\n",
    "output.show(5,False)"
   ]
  },
  {
   "cell_type": "code",
   "execution_count": 13,
   "id": "2373a319",
   "metadata": {},
   "outputs": [
    {
     "name": "stdout",
     "output_type": "stream",
     "text": [
      "Features scaled to range: [0.000000, 1000.000000]\n",
      "+-----+---------------+\n",
      "|label|       features|\n",
      "+-----+---------------+\n",
      "|  0.0|   [1000.0,0.0]|\n",
      "|  1.0|   [0.0,1000.0]|\n",
      "|  1.0|[1000.0,1000.0]|\n",
      "|  1.0|   [0.0,1000.0]|\n",
      "|  0.0|   [1000.0,0.0]|\n",
      "|  0.0|   [1000.0,0.0]|\n",
      "|  0.0|      (2,[],[])|\n",
      "|  0.0|   [1000.0,0.0]|\n",
      "|  1.0|[1000.0,1000.0]|\n",
      "|  1.0| [500.0,1000.0]|\n",
      "|  1.0|[1000.0,1000.0]|\n",
      "|  1.0|   [0.0,1000.0]|\n",
      "|  0.0|   [1000.0,0.0]|\n",
      "|  0.0|   [1000.0,0.0]|\n",
      "|  0.0|[1000.0,1000.0]|\n",
      "|  1.0| [500.0,1000.0]|\n",
      "|  0.0|   [1000.0,0.0]|\n",
      "|  1.0|    [500.0,0.0]|\n",
      "|  0.0|[1000.0,1000.0]|\n",
      "|  1.0|[1000.0,1000.0]|\n",
      "+-----+---------------+\n",
      "only showing top 20 rows\n",
      "\n"
     ]
    }
   ],
   "source": [
    "scaler = MinMaxScaler(inputCol=\"features\", outputCol=\"scaledFeatures\",min=0,max=1000)\n",
    "print(\"Features scaled to range: [%f, %f]\" % (scaler.getMin(), scaler.getMax()))\n",
    "\n",
    "\n",
    "scalerModel = scaler.fit(output)\n",
    "\n",
    "\n",
    "scaled_data = scalerModel.transform(output)\n",
    "final_data = scaled_data.select('label','scaledFeatures')\n",
    "\n",
    "final_data = final_data.withColumnRenamed(\"scaledFeatures\",\"features\")\n",
    "final_data.show()"
   ]
  },
  {
   "cell_type": "code",
   "execution_count": 14,
   "id": "0b77fce4",
   "metadata": {},
   "outputs": [],
   "source": [
    "train,test = final_data.randomSplit([0.70,0.30])"
   ]
  },
  {
   "cell_type": "code",
   "execution_count": 15,
   "id": "5d3539f2",
   "metadata": {},
   "outputs": [],
   "source": [
    "naiveclassifier=NaiveBayes()\n",
    "navieModel = naiveclassifier.fit(train)\n"
   ]
  },
  {
   "cell_type": "code",
   "execution_count": 16,
   "id": "83642587",
   "metadata": {},
   "outputs": [],
   "source": [
    "predictions = navieModel.transform(test)"
   ]
  },
  {
   "cell_type": "code",
   "execution_count": 17,
   "id": "4171955e",
   "metadata": {},
   "outputs": [
    {
     "name": "stdout",
     "output_type": "stream",
     "text": [
      "root\n",
      " |-- label: double (nullable = false)\n",
      " |-- features: vector (nullable = true)\n",
      " |-- rawPrediction: vector (nullable = true)\n",
      " |-- probability: vector (nullable = true)\n",
      " |-- prediction: double (nullable = false)\n",
      "\n",
      "+-----+--------------------+--------------------+----------+\n",
      "|label|       rawPrediction|         probability|prediction|\n",
      "+-----+--------------------+--------------------+----------+\n",
      "|  0.0|[-0.4696805796548...|[0.62520193861066...|       0.0|\n",
      "|  0.0|[-0.4696805796548...|[0.62520193861066...|       0.0|\n",
      "|  0.0|[-0.4696805796548...|[0.62520193861066...|       0.0|\n",
      "|  0.0|[-0.4696805796548...|[0.62520193861066...|       0.0|\n",
      "|  0.0|[-0.4696805796548...|[0.62520193861066...|       0.0|\n",
      "|  0.0|[-0.4696805796548...|[0.62520193861066...|       0.0|\n",
      "|  0.0|[-0.4696805796548...|[0.62520193861066...|       0.0|\n",
      "|  0.0|[-0.4696805796548...|[0.62520193861066...|       0.0|\n",
      "|  0.0|[-0.4696805796548...|[0.62520193861066...|       0.0|\n",
      "|  0.0|[-0.4696805796548...|[0.62520193861066...|       0.0|\n",
      "|  0.0|[-0.4696805796548...|[0.62520193861066...|       0.0|\n",
      "|  0.0|[-0.4696805796548...|[0.62520193861066...|       0.0|\n",
      "|  0.0|[-0.4696805796548...|[0.62520193861066...|       0.0|\n",
      "|  0.0|[-0.4696805796548...|[0.62520193861066...|       0.0|\n",
      "|  0.0|[-0.4696805796548...|[0.62520193861066...|       0.0|\n",
      "|  0.0|[-0.4696805796548...|[0.62520193861066...|       0.0|\n",
      "|  0.0|[-0.4696805796548...|[0.62520193861066...|       0.0|\n",
      "|  0.0|[-0.4696805796548...|[0.62520193861066...|       0.0|\n",
      "|  0.0|[-0.4696805796548...|[0.62520193861066...|       0.0|\n",
      "|  0.0|[-0.4696805796548...|[0.62520193861066...|       0.0|\n",
      "+-----+--------------------+--------------------+----------+\n",
      "only showing top 20 rows\n",
      "\n"
     ]
    }
   ],
   "source": [
    "predictions.printSchema()\n",
    "predictions.select('label','rawPrediction','probability','prediction').show()"
   ]
  },
  {
   "cell_type": "code",
   "execution_count": 18,
   "id": "69b48a3f",
   "metadata": {},
   "outputs": [
    {
     "name": "stdout",
     "output_type": "stream",
     "text": [
      "Accuracy of Model : 0.4055470564904527\n",
      "Test Error of Model : 0.5944529435095474\n"
     ]
    }
   ],
   "source": [
    "evaluator=BinaryClassificationEvaluator();\n",
    "accuracy = evaluator.evaluate(predictions)\n",
    "print(\"Accuracy of Model :\" , accuracy)\n",
    "print(\"Test Error of Model :\" , 1-accuracy)"
   ]
  },
  {
   "cell_type": "code",
   "execution_count": null,
   "id": "105dede3",
   "metadata": {},
   "outputs": [],
   "source": []
  }
 ],
 "metadata": {
  "kernelspec": {
   "display_name": "Python 3 (ipykernel)",
   "language": "python",
   "name": "python3"
  },
  "language_info": {
   "codemirror_mode": {
    "name": "ipython",
    "version": 3
   },
   "file_extension": ".py",
   "mimetype": "text/x-python",
   "name": "python",
   "nbconvert_exporter": "python",
   "pygments_lexer": "ipython3",
   "version": "3.10.2"
  }
 },
 "nbformat": 4,
 "nbformat_minor": 5
}
