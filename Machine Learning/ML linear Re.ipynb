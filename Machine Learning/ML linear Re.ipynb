{
 "cells": [
  {
   "cell_type": "code",
   "execution_count": 1,
   "id": "31114526",
   "metadata": {},
   "outputs": [],
   "source": [
    "#1.dependent feature and independent variable must be numeric\n",
    "#2.if not numeric then convert to numeric valuesx\n",
    "\n",
    "import findspark\n",
    "findspark.init()"
   ]
  },
  {
   "cell_type": "code",
   "execution_count": 3,
   "id": "93ef42a5",
   "metadata": {},
   "outputs": [],
   "source": [
    "import pyspark\n",
    "from pyspark.sql import SparkSession\n",
    "spark=SparkSession.builder.appName(\"HTwtApp\").getOrCreate()"
   ]
  },
  {
   "cell_type": "code",
   "execution_count": 52,
   "id": "ccead1c6",
   "metadata": {},
   "outputs": [
    {
     "name": "stdout",
     "output_type": "stream",
     "text": [
      "+------+----------------+----------------+\n",
      "|Gender|Height          |Weight          |\n",
      "+------+----------------+----------------+\n",
      "|Male  |73.847017017515 |241.893563180437|\n",
      "|Male  |68.7819040458903|162.3104725213  |\n",
      "|Male  |74.1101053917849|212.7408555565  |\n",
      "|Male  |71.7309784033377|220.042470303077|\n",
      "|Male  |69.8817958611153|206.349800623871|\n",
      "+------+----------------+----------------+\n",
      "only showing top 5 rows\n",
      "\n"
     ]
    }
   ],
   "source": [
    "df=spark.read.csv(\"F:\\\\datasets\\\\weight-height.csv\",header=True,inferSchema=True)\n",
    "df.show(5,False)"
   ]
  },
  {
   "cell_type": "code",
   "execution_count": 14,
   "id": "1d0fefd3",
   "metadata": {},
   "outputs": [
    {
     "name": "stdout",
     "output_type": "stream",
     "text": [
      "root\n",
      " |-- Gender: string (nullable = true)\n",
      " |-- Height: double (nullable = true)\n",
      " |-- Weight: double (nullable = true)\n",
      "\n"
     ]
    },
    {
     "data": {
      "text/plain": [
       "10000"
      ]
     },
     "execution_count": 14,
     "metadata": {},
     "output_type": "execute_result"
    }
   ],
   "source": [
    "df.printSchema()\n",
    "df.count()"
   ]
  },
  {
   "cell_type": "code",
   "execution_count": 16,
   "id": "8a60b7e6",
   "metadata": {},
   "outputs": [
    {
     "data": {
      "text/plain": [
       "10000"
      ]
     },
     "execution_count": 16,
     "metadata": {},
     "output_type": "execute_result"
    }
   ],
   "source": [
    "df.na.drop()\n",
    "df.count()"
   ]
  },
  {
   "cell_type": "code",
   "execution_count": 19,
   "id": "959f05f7",
   "metadata": {},
   "outputs": [
    {
     "name": "stdout",
     "output_type": "stream",
     "text": [
      "+------+----------------+----------------+------------------+\n",
      "|Gender|          Height|          Weight|        HeightData|\n",
      "+------+----------------+----------------+------------------+\n",
      "|  Male| 73.847017017515|241.893563180437| [73.847017017515]|\n",
      "|  Male|68.7819040458903|  162.3104725213|[68.7819040458903]|\n",
      "|  Male|74.1101053917849|  212.7408555565|[74.1101053917849]|\n",
      "|  Male|71.7309784033377|220.042470303077|[71.7309784033377]|\n",
      "|  Male|69.8817958611153|206.349800623871|[69.8817958611153]|\n",
      "|  Male|67.2530156878065|152.212155757083|[67.2530156878065]|\n",
      "|  Male|68.7850812516616|183.927888604031|[68.7850812516616]|\n",
      "|  Male|68.3485155115879|167.971110489509|[68.3485155115879]|\n",
      "|  Male| 67.018949662883| 175.92944039571| [67.018949662883]|\n",
      "|  Male|63.4564939783664|156.399676387112|[63.4564939783664]|\n",
      "|  Male|71.1953822829745|186.604925560358|[71.1953822829745]|\n",
      "|  Male|71.6408051192206|213.741169489411|[71.6408051192206]|\n",
      "|  Male|64.7663291334055|167.127461073476|[64.7663291334055]|\n",
      "|  Male|69.2830700967204|189.446181386738|[69.2830700967204]|\n",
      "|  Male|69.2437322298112|186.434168021239|[69.2437322298112]|\n",
      "|  Male|67.6456197004212|172.186930058117|[67.6456197004212]|\n",
      "|  Male|72.4183166259878|196.028506330482|[72.4183166259878]|\n",
      "|  Male| 63.974325721061| 172.88347020878| [63.974325721061]|\n",
      "|  Male|69.6400598997523| 185.98395757313|[69.6400598997523]|\n",
      "|  Male|67.9360048540095|182.426648013226|[67.9360048540095]|\n",
      "+------+----------------+----------------+------------------+\n",
      "only showing top 20 rows\n",
      "\n"
     ]
    }
   ],
   "source": [
    "#formatting of data\n",
    "from pyspark.ml.feature import VectorAssembler\n",
    "featureassembler=VectorAssembler(inputCols=['Height'],outputCol='HeightData')\n",
    "dff=featureassembler.transform(df)\n",
    "dff.show()\n"
   ]
  },
  {
   "cell_type": "code",
   "execution_count": 21,
   "id": "024312cf",
   "metadata": {},
   "outputs": [
    {
     "name": "stdout",
     "output_type": "stream",
     "text": [
      "+------------------+----------------+\n",
      "|        HeightData|          Weight|\n",
      "+------------------+----------------+\n",
      "| [73.847017017515]|241.893563180437|\n",
      "|[68.7819040458903]|  162.3104725213|\n",
      "|[74.1101053917849]|  212.7408555565|\n",
      "|[71.7309784033377]|220.042470303077|\n",
      "|[69.8817958611153]|206.349800623871|\n",
      "|[67.2530156878065]|152.212155757083|\n",
      "|[68.7850812516616]|183.927888604031|\n",
      "|[68.3485155115879]|167.971110489509|\n",
      "| [67.018949662883]| 175.92944039571|\n",
      "|[63.4564939783664]|156.399676387112|\n",
      "|[71.1953822829745]|186.604925560358|\n",
      "|[71.6408051192206]|213.741169489411|\n",
      "|[64.7663291334055]|167.127461073476|\n",
      "|[69.2830700967204]|189.446181386738|\n",
      "|[69.2437322298112]|186.434168021239|\n",
      "|[67.6456197004212]|172.186930058117|\n",
      "|[72.4183166259878]|196.028506330482|\n",
      "| [63.974325721061]| 172.88347020878|\n",
      "|[69.6400598997523]| 185.98395757313|\n",
      "|[67.9360048540095]|182.426648013226|\n",
      "+------------------+----------------+\n",
      "only showing top 20 rows\n",
      "\n"
     ]
    }
   ],
   "source": [
    "dff.select('HeightData','Weight').show()"
   ]
  },
  {
   "cell_type": "code",
   "execution_count": 22,
   "id": "e613009a",
   "metadata": {},
   "outputs": [
    {
     "name": "stdout",
     "output_type": "stream",
     "text": [
      "root\n",
      " |-- Gender: string (nullable = true)\n",
      " |-- Height: double (nullable = true)\n",
      " |-- Weight: double (nullable = true)\n",
      " |-- HeightData: vector (nullable = true)\n",
      "\n"
     ]
    }
   ],
   "source": [
    "dff.printSchema()"
   ]
  },
  {
   "cell_type": "code",
   "execution_count": 23,
   "id": "3982c39a",
   "metadata": {},
   "outputs": [
    {
     "name": "stdout",
     "output_type": "stream",
     "text": [
      "+------------------+----------------+\n",
      "|        HeightData|          Weight|\n",
      "+------------------+----------------+\n",
      "| [73.847017017515]|241.893563180437|\n",
      "|[68.7819040458903]|  162.3104725213|\n",
      "|[74.1101053917849]|  212.7408555565|\n",
      "|[71.7309784033377]|220.042470303077|\n",
      "|[69.8817958611153]|206.349800623871|\n",
      "|[67.2530156878065]|152.212155757083|\n",
      "|[68.7850812516616]|183.927888604031|\n",
      "|[68.3485155115879]|167.971110489509|\n",
      "| [67.018949662883]| 175.92944039571|\n",
      "|[63.4564939783664]|156.399676387112|\n",
      "|[71.1953822829745]|186.604925560358|\n",
      "|[71.6408051192206]|213.741169489411|\n",
      "|[64.7663291334055]|167.127461073476|\n",
      "|[69.2830700967204]|189.446181386738|\n",
      "|[69.2437322298112]|186.434168021239|\n",
      "|[67.6456197004212]|172.186930058117|\n",
      "|[72.4183166259878]|196.028506330482|\n",
      "| [63.974325721061]| 172.88347020878|\n",
      "|[69.6400598997523]| 185.98395757313|\n",
      "|[67.9360048540095]|182.426648013226|\n",
      "+------------------+----------------+\n",
      "only showing top 20 rows\n",
      "\n"
     ]
    }
   ],
   "source": [
    "fd=dff.select('HeightData','Weight')\n",
    "fd.show()\n",
    "#preprocessing of data"
   ]
  },
  {
   "cell_type": "code",
   "execution_count": 24,
   "id": "8969814d",
   "metadata": {},
   "outputs": [],
   "source": [
    "#spliting of data into train and test data\n",
    "from pyspark.ml.regression import LinearRegression"
   ]
  },
  {
   "cell_type": "code",
   "execution_count": 25,
   "id": "e985175f",
   "metadata": {},
   "outputs": [],
   "source": [
    "train,test=fd.randomSplit([.70,.30])"
   ]
  },
  {
   "cell_type": "code",
   "execution_count": 31,
   "id": "a06a7004",
   "metadata": {},
   "outputs": [],
   "source": [
    "lr=LinearRegression(featuresCol='HeightData',labelCol='Weight')\n",
    "tm=lr.fit(train)"
   ]
  },
  {
   "cell_type": "code",
   "execution_count": 36,
   "id": "486c30b4",
   "metadata": {},
   "outputs": [
    {
     "name": "stdout",
     "output_type": "stream",
     "text": [
      "-353.62677174290985\n",
      "[7.760006146833987]\n"
     ]
    }
   ],
   "source": [
    "\n",
    "#coefficient and intercept\n",
    "print(tm.intercept)#intercept\n",
    "print(tm.coefficients)#coefficient  bet weight and height\n"
   ]
  },
  {
   "cell_type": "code",
   "execution_count": 40,
   "id": "851822e4",
   "metadata": {},
   "outputs": [
    {
     "name": "stdout",
     "output_type": "stream",
     "text": [
      "+------------------+----------------+-----------------+\n",
      "|        HeightData|          Weight|       prediction|\n",
      "+------------------+----------------+-----------------+\n",
      "|[54.2631333250971]| 64.700126712753|67.45547640631582|\n",
      "|[54.6168578301035]| 71.393748738973| 70.2003807394513|\n",
      "|[55.1485573624105]| 88.812412112758|74.32637237842238|\n",
      "|[55.6682021205121]|68.9825300912419|78.35881889546084|\n",
      "| [56.098245784398]|104.954100411731|81.69596037062246|\n",
      "|[56.1053695899164]| 87.298869133415|81.75124114523408|\n",
      "|[56.5479749809036]|84.8721236452797|85.18586169991659|\n",
      "|[56.5488430793485]|90.8475893808927|85.19259814918507|\n",
      "|[56.6304119764382]| 89.480480272958|85.82557329199159|\n",
      "|[56.7576036320284]|88.8848531761247|86.81258132119757|\n",
      "|[56.8103172829116]|84.1706947685606|87.22163957607324|\n",
      "|[56.8560821293767]|97.3649783271705|87.57677506595138|\n",
      "|[56.9752789632804]|90.3417842608302|88.50174322972725|\n",
      "|[57.0726562519626]|93.7461421572008|89.25739158846312|\n",
      "|[57.1038694679138]| 93.506315903823|89.49960633610692|\n",
      "|[57.1373009574261]|99.1084992611307|89.75903490022017|\n",
      "|[57.2026600428674]|103.962705070983|90.26622180499606|\n",
      "|[57.2581173592998]|101.714182141616|90.69657092139846|\n",
      "|[57.3139027398949]|95.1390467981634| 91.1294658177199|\n",
      "|[57.4813920896452]|87.4965711068527|92.42918420131144|\n",
      "+------------------+----------------+-----------------+\n",
      "only showing top 20 rows\n",
      "\n"
     ]
    },
    {
     "name": "stderr",
     "output_type": "stream",
     "text": [
      "C:\\Users\\User\\AppData\\Local\\Programs\\Python\\Python310\\lib\\site-packages\\pyspark\\sql\\context.py:125: FutureWarning: Deprecated in 3.0.0. Use SparkSession.builder.getOrCreate() instead.\n",
      "  warnings.warn(\n"
     ]
    }
   ],
   "source": [
    "#evaluate the train data\n",
    "res=tm.evaluate(test)\n",
    "res.predictions.show()"
   ]
  },
  {
   "cell_type": "code",
   "execution_count": 44,
   "id": "340e932f",
   "metadata": {},
   "outputs": [
    {
     "name": "stdout",
     "output_type": "stream",
     "text": [
      "this is R2  0.8577618544734198\n",
      "this is mean absolute error is 9.631205326953106\n",
      "Root mean square error(RMSE) 12.093136204198746\n"
     ]
    }
   ],
   "source": [
    "print(\"this is R2 \",res.r2)#--accuracy\n",
    "print(\"this is mean absolute error is\",res.meanAbsoluteError)\n",
    "print(\"Root mean square error(RMSE)\",res.rootMeanSquaredError)"
   ]
  },
  {
   "cell_type": "code",
   "execution_count": 50,
   "id": "c3951ccf",
   "metadata": {},
   "outputs": [],
   "source": [
    "#saving ,loading ,and using new model\n",
    "#tm.save(\"e:\\\\myperfectmodel\")\n",
    "#mynewmod=tm.load(\"e:\\\\myperfectmodel\")\n",
    "#mynewmod.evaluate(test)"
   ]
  },
  {
   "cell_type": "code",
   "execution_count": null,
   "id": "1d40a675",
   "metadata": {},
   "outputs": [],
   "source": []
  }
 ],
 "metadata": {
  "kernelspec": {
   "display_name": "Python 3 (ipykernel)",
   "language": "python",
   "name": "python3"
  },
  "language_info": {
   "codemirror_mode": {
    "name": "ipython",
    "version": 3
   },
   "file_extension": ".py",
   "mimetype": "text/x-python",
   "name": "python",
   "nbconvert_exporter": "python",
   "pygments_lexer": "ipython3",
   "version": "3.10.2"
  }
 },
 "nbformat": 4,
 "nbformat_minor": 5
}
