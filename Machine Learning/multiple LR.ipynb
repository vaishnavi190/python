{
 "cells": [
  {
   "cell_type": "code",
   "execution_count": 1,
   "id": "68b34507",
   "metadata": {},
   "outputs": [],
   "source": [
    "import findspark\n",
    "findspark.init()"
   ]
  },
  {
   "cell_type": "code",
   "execution_count": 2,
   "id": "ca4efc66",
   "metadata": {},
   "outputs": [],
   "source": [
    "import pyspark\n",
    "from pyspark.sql import SparkSession\n",
    "spark=SparkSession.builder.appName(\"HTwtApp\").getOrCreate()"
   ]
  },
  {
   "cell_type": "code",
   "execution_count": 3,
   "id": "5d225ca2",
   "metadata": {},
   "outputs": [
    {
     "name": "stdout",
     "output_type": "stream",
     "text": [
      "+------+----------------+----------------+\n",
      "|Gender|          Height|          Weight|\n",
      "+------+----------------+----------------+\n",
      "|  Male| 73.847017017515|241.893563180437|\n",
      "|  Male|68.7819040458903|  162.3104725213|\n",
      "|  Male|74.1101053917849|  212.7408555565|\n",
      "|  Male|71.7309784033377|220.042470303077|\n",
      "|  Male|69.8817958611153|206.349800623871|\n",
      "|  Male|67.2530156878065|152.212155757083|\n",
      "|  Male|68.7850812516616|183.927888604031|\n",
      "|  Male|68.3485155115879|167.971110489509|\n",
      "|  Male| 67.018949662883| 175.92944039571|\n",
      "|  Male|63.4564939783664|156.399676387112|\n",
      "|  Male|71.1953822829745|186.604925560358|\n",
      "|  Male|71.6408051192206|213.741169489411|\n",
      "|  Male|64.7663291334055|167.127461073476|\n",
      "|  Male|69.2830700967204|189.446181386738|\n",
      "|  Male|69.2437322298112|186.434168021239|\n",
      "|  Male|67.6456197004212|172.186930058117|\n",
      "|  Male|72.4183166259878|196.028506330482|\n",
      "|  Male| 63.974325721061| 172.88347020878|\n",
      "|  Male|69.6400598997523| 185.98395757313|\n",
      "|  Male|67.9360048540095|182.426648013226|\n",
      "+------+----------------+----------------+\n",
      "only showing top 20 rows\n",
      "\n"
     ]
    }
   ],
   "source": [
    "df=spark.read.csv(\"F:\\\\datasets\\\\weight-height.csv\",header=True,inferSchema=True)\n",
    "df.show()"
   ]
  },
  {
   "cell_type": "code",
   "execution_count": 4,
   "id": "7b3c4567",
   "metadata": {},
   "outputs": [
    {
     "name": "stdout",
     "output_type": "stream",
     "text": [
      "root\n",
      " |-- Gender: string (nullable = true)\n",
      " |-- Height: double (nullable = true)\n",
      " |-- Weight: double (nullable = true)\n",
      "\n"
     ]
    }
   ],
   "source": [
    "df.printSchema()"
   ]
  },
  {
   "cell_type": "code",
   "execution_count": 15,
   "id": "f75a0e97",
   "metadata": {},
   "outputs": [],
   "source": [
    "#convertion of  (independent feature )string col to numeric col\n",
    "from pyspark.ml.feature import StringIndexer\n",
    "from pyspark.ml.feature import VectorAssembler"
   ]
  },
  {
   "cell_type": "code",
   "execution_count": 11,
   "id": "5b4e3c12",
   "metadata": {},
   "outputs": [
    {
     "name": "stdout",
     "output_type": "stream",
     "text": [
      "+------+----------------+----------------+----------+\n",
      "|Gender|          Height|          Weight|Gender_num|\n",
      "+------+----------------+----------------+----------+\n",
      "|  Male| 73.847017017515|241.893563180437|       1.0|\n",
      "|  Male|68.7819040458903|  162.3104725213|       1.0|\n",
      "|  Male|74.1101053917849|  212.7408555565|       1.0|\n",
      "|  Male|71.7309784033377|220.042470303077|       1.0|\n",
      "|  Male|69.8817958611153|206.349800623871|       1.0|\n",
      "|  Male|67.2530156878065|152.212155757083|       1.0|\n",
      "|  Male|68.7850812516616|183.927888604031|       1.0|\n",
      "|  Male|68.3485155115879|167.971110489509|       1.0|\n",
      "|  Male| 67.018949662883| 175.92944039571|       1.0|\n",
      "|  Male|63.4564939783664|156.399676387112|       1.0|\n",
      "|  Male|71.1953822829745|186.604925560358|       1.0|\n",
      "|  Male|71.6408051192206|213.741169489411|       1.0|\n",
      "|  Male|64.7663291334055|167.127461073476|       1.0|\n",
      "|  Male|69.2830700967204|189.446181386738|       1.0|\n",
      "|  Male|69.2437322298112|186.434168021239|       1.0|\n",
      "|  Male|67.6456197004212|172.186930058117|       1.0|\n",
      "|  Male|72.4183166259878|196.028506330482|       1.0|\n",
      "|  Male| 63.974325721061| 172.88347020878|       1.0|\n",
      "|  Male|69.6400598997523| 185.98395757313|       1.0|\n",
      "|  Male|67.9360048540095|182.426648013226|       1.0|\n",
      "+------+----------------+----------------+----------+\n",
      "only showing top 20 rows\n",
      "\n",
      "10000\n"
     ]
    }
   ],
   "source": [
    "indexer=StringIndexer(inputCol='Gender',outputCol='Gender_num')\n",
    "dff=indexer.fit(df).transform(df)\n",
    "dff.show()\n",
    "print(dff.count())"
   ]
  },
  {
   "cell_type": "code",
   "execution_count": 14,
   "id": "42432b82",
   "metadata": {},
   "outputs": [
    {
     "name": "stdout",
     "output_type": "stream",
     "text": [
      "10000\n"
     ]
    }
   ],
   "source": [
    "dff.na.drop(how='any')\n",
    "print(dff.count())"
   ]
  },
  {
   "cell_type": "code",
   "execution_count": 18,
   "id": "dbcb7bf9",
   "metadata": {},
   "outputs": [],
   "source": [
    "featureAss=VectorAssembler(inputCols=['Height','Gender_num'],outputCol='inputfeatures')\n",
    "outputframe=featureAss.transform(dff)"
   ]
  },
  {
   "cell_type": "code",
   "execution_count": 20,
   "id": "4d8ccbd0",
   "metadata": {},
   "outputs": [
    {
     "name": "stdout",
     "output_type": "stream",
     "text": [
      "+------+----------------+----------------+----------+----------------------+\n",
      "|Gender|Height          |Weight          |Gender_num|inputfeatures         |\n",
      "+------+----------------+----------------+----------+----------------------+\n",
      "|Male  |73.847017017515 |241.893563180437|1.0       |[73.847017017515,1.0] |\n",
      "|Male  |68.7819040458903|162.3104725213  |1.0       |[68.7819040458903,1.0]|\n",
      "|Male  |74.1101053917849|212.7408555565  |1.0       |[74.1101053917849,1.0]|\n",
      "|Male  |71.7309784033377|220.042470303077|1.0       |[71.7309784033377,1.0]|\n",
      "|Male  |69.8817958611153|206.349800623871|1.0       |[69.8817958611153,1.0]|\n",
      "+------+----------------+----------------+----------+----------------------+\n",
      "only showing top 5 rows\n",
      "\n"
     ]
    }
   ],
   "source": [
    "outputframe.show(5,False)"
   ]
  },
  {
   "cell_type": "code",
   "execution_count": 21,
   "id": "37374398",
   "metadata": {},
   "outputs": [],
   "source": [
    "finaldata=outputframe.select('inputfeatures','Weight')"
   ]
  },
  {
   "cell_type": "code",
   "execution_count": 22,
   "id": "311f36a1",
   "metadata": {},
   "outputs": [
    {
     "name": "stdout",
     "output_type": "stream",
     "text": [
      "root\n",
      " |-- inputfeatures: vector (nullable = true)\n",
      " |-- Weight: double (nullable = true)\n",
      "\n"
     ]
    }
   ],
   "source": [
    "finaldata.printSchema()"
   ]
  },
  {
   "cell_type": "code",
   "execution_count": 24,
   "id": "57f77424",
   "metadata": {},
   "outputs": [
    {
     "name": "stdout",
     "output_type": "stream",
     "text": [
      "+----------------------+----------------+\n",
      "|inputfeatures         |Weight          |\n",
      "+----------------------+----------------+\n",
      "|[73.847017017515,1.0] |241.893563180437|\n",
      "|[68.7819040458903,1.0]|162.3104725213  |\n",
      "|[74.1101053917849,1.0]|212.7408555565  |\n",
      "|[71.7309784033377,1.0]|220.042470303077|\n",
      "|[69.8817958611153,1.0]|206.349800623871|\n",
      "+----------------------+----------------+\n",
      "only showing top 5 rows\n",
      "\n"
     ]
    }
   ],
   "source": [
    "finaldata.show(5,False)"
   ]
  },
  {
   "cell_type": "code",
   "execution_count": 25,
   "id": "30c62d0f",
   "metadata": {},
   "outputs": [],
   "source": [
    "train,test=finaldata.randomSplit([.70,.30])"
   ]
  },
  {
   "cell_type": "code",
   "execution_count": 30,
   "id": "2308b1b0",
   "metadata": {},
   "outputs": [],
   "source": [
    "from pyspark.ml.regression import LinearRegression\n",
    "lr=LinearRegression(featuresCol='inputfeatures',labelCol='Weight')\n",
    "lrt=lr.fit(train)"
   ]
  },
  {
   "cell_type": "code",
   "execution_count": 33,
   "id": "6317ec13",
   "metadata": {},
   "outputs": [
    {
     "name": "stdout",
     "output_type": "stream",
     "text": [
      "[5.997987408838811,19.134739417155952]\n",
      "-246.18523982830982\n"
     ]
    }
   ],
   "source": [
    "print(lrt.coefficients)\n",
    "print(lrt.intercept)"
   ]
  },
  {
   "cell_type": "code",
   "execution_count": 36,
   "id": "5f0138e3",
   "metadata": {},
   "outputs": [
    {
     "name": "stdout",
     "output_type": "stream",
     "text": [
      "+----------------------+----------------+-----------------+\n",
      "|inputfeatures         |Weight          |prediction       |\n",
      "+----------------------+----------------+-----------------+\n",
      "|[55.9791978761431,0.0]|85.4175336162677|89.57728418969276|\n",
      "|[56.1672991862273,0.0]|77.8985592718359|90.70551347916393|\n",
      "|[56.5488430793485,0.0]|90.8475893808927|92.99400894602422|\n",
      "|[56.6781404906408,0.0]|97.2699666809593|93.76953319095088|\n",
      "|[56.7576036320284,0.0]|88.8848531761247|94.24615211246049|\n",
      "+----------------------+----------------+-----------------+\n",
      "only showing top 5 rows\n",
      "\n"
     ]
    }
   ],
   "source": [
    "res=lrt.evaluate(test)\n",
    "res.predictions.show(5,False)"
   ]
  },
  {
   "cell_type": "code",
   "execution_count": 39,
   "id": "52988c55",
   "metadata": {},
   "outputs": [
    {
     "name": "stdout",
     "output_type": "stream",
     "text": [
      "r2 0.9002641316976288\n",
      "RMSE 9.999081010863307\n",
      "MAE 7.957034276057769\n"
     ]
    }
   ],
   "source": [
    "print(\"r2\",res.r2)\n",
    "print(\"RMSE\",res.rootMeanSquaredError)\n",
    "print(\"MAE\",res.meanAbsoluteError)"
   ]
  },
  {
   "cell_type": "code",
   "execution_count": 40,
   "id": "3c1438eb",
   "metadata": {},
   "outputs": [
    {
     "ename": "NameError",
     "evalue": "name 'sns' is not defined",
     "output_type": "error",
     "traceback": [
      "\u001b[1;31m---------------------------------------------------------------------------\u001b[0m",
      "\u001b[1;31mNameError\u001b[0m                                 Traceback (most recent call last)",
      "Input \u001b[1;32mIn [40]\u001b[0m, in \u001b[0;36m<module>\u001b[1;34m\u001b[0m\n\u001b[1;32m----> 1\u001b[0m dftip\u001b[38;5;241m=\u001b[39m\u001b[43msns\u001b[49m\u001b[38;5;241m.\u001b[39mload_dataset(\u001b[38;5;124m'\u001b[39m\u001b[38;5;124mtips\u001b[39m\u001b[38;5;124m'\u001b[39m)\n",
      "\u001b[1;31mNameError\u001b[0m: name 'sns' is not defined"
     ]
    }
   ],
   "source": [
    "#dftip=sns.load_dataset('tips')\n",
    "tip--predict bill\n",
    "dependecny of tip on total bill"
   ]
  },
  {
   "cell_type": "code",
   "execution_count": null,
   "id": "ebabe68a",
   "metadata": {},
   "outputs": [],
   "source": []
  }
 ],
 "metadata": {
  "kernelspec": {
   "display_name": "Python 3 (ipykernel)",
   "language": "python",
   "name": "python3"
  },
  "language_info": {
   "codemirror_mode": {
    "name": "ipython",
    "version": 3
   },
   "file_extension": ".py",
   "mimetype": "text/x-python",
   "name": "python",
   "nbconvert_exporter": "python",
   "pygments_lexer": "ipython3",
   "version": "3.10.2"
  }
 },
 "nbformat": 4,
 "nbformat_minor": 5
}
