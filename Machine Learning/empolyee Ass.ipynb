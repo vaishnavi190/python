{
 "cells": [
  {
   "cell_type": "code",
   "execution_count": 1,
   "id": "96969160",
   "metadata": {},
   "outputs": [],
   "source": [
    "import findspark\n",
    "findspark.init()"
   ]
  },
  {
   "cell_type": "code",
   "execution_count": 2,
   "id": "3f4deb2b",
   "metadata": {},
   "outputs": [],
   "source": [
    "import pyspark\n",
    "from pyspark.sql import SparkSession"
   ]
  },
  {
   "cell_type": "code",
   "execution_count": 3,
   "id": "370ec081",
   "metadata": {},
   "outputs": [],
   "source": [
    "spark=SparkSession.builder.appName('employeeapp').getOrCreate()"
   ]
  },
  {
   "cell_type": "code",
   "execution_count": 4,
   "id": "ba42e397",
   "metadata": {},
   "outputs": [
    {
     "name": "stdout",
     "output_type": "stream",
     "text": [
      "+----------+------+----------+---------------+------+------+----------------+---------------+\n",
      "|First Name|Gender|Start Date|Last Login Time|Salary| Bonus|seniorManagement|           Team|\n",
      "+----------+------+----------+---------------+------+------+----------------+---------------+\n",
      "|   Douglas|  Male|      null|           null|  null|  null|            null|      Marketing|\n",
      "|    Thomas|  Male| 3/31/1996|        6:53 AM| 61933|  4.17|            true|           null|\n",
      "|     Maria|  null| 4/23/1993|       11:17 AM|  null|11.858|           false|        Finance|\n",
      "|     Jerry|  Male|03-04-2005|           null|  null|  null|            true|        Finance|\n",
      "|     Larry|  Male| 1/24/1998|        4:47 PM|  null| 1.389|            true|Client Services|\n",
      "+----------+------+----------+---------------+------+------+----------------+---------------+\n",
      "only showing top 5 rows\n",
      "\n",
      "1000\n",
      "root\n",
      " |-- First Name: string (nullable = true)\n",
      " |-- Gender: string (nullable = true)\n",
      " |-- Start Date: string (nullable = true)\n",
      " |-- Last Login Time: string (nullable = true)\n",
      " |-- Salary: integer (nullable = true)\n",
      " |-- Bonus: double (nullable = true)\n",
      " |-- seniorManagement: boolean (nullable = true)\n",
      " |-- Team: string (nullable = true)\n",
      "\n"
     ]
    }
   ],
   "source": [
    "df=spark.read.csv(\"f:\\\\datasets\\\\employees.csv\",header=True,inferSchema=True)\n",
    "df.show(5)\n",
    "print(df.count())\n",
    "df.printSchema()"
   ]
  },
  {
   "cell_type": "code",
   "execution_count": 5,
   "id": "8dc9d659",
   "metadata": {},
   "outputs": [
    {
     "name": "stdout",
     "output_type": "stream",
     "text": [
      "756\n",
      "+----------+------+----------+---------------+------+------+----------------+--------------------+\n",
      "|First Name|Gender|Start Date|Last Login Time|Salary| Bonus|seniorManagement|                Team|\n",
      "+----------+------+----------+---------------+------+------+----------------+--------------------+\n",
      "|     Julie|Female|10/26/1997|        3:19 PM|102508|12.637|            true|               Legal|\n",
      "|   Brandon|  Male|12-01-1980|        1:08 AM|112807|17.492|            true|     Human Resources|\n",
      "|      Gary|  Male| 1/27/2008|       11:40 PM|109831| 5.831|           false|               Sales|\n",
      "|  Kimberly|Female| 1/14/1999|        7:13 AM| 41426|14.543|            true|             Finance|\n",
      "|   Lillian|Female|06-05-2016|        6:09 AM| 59414| 1.256|           false|             Product|\n",
      "|    Jeremy|  Male| 9/21/2010|        5:56 AM| 90370| 7.369|           false|     Human Resources|\n",
      "|     Shawn|  Male|12-07-1986|        7:45 PM|111737| 6.414|           false|             Product|\n",
      "|     Diana|Female|10/23/1981|       10:27 AM|132940|19.082|           false|     Client Services|\n",
      "|     Donna|Female| 7/22/2010|        3:48 AM| 81014| 1.894|           false|             Product|\n",
      "|   Matthew|  Male|09-05-1995|        2:12 AM|100612|13.645|           false|           Marketing|\n",
      "|      John|  Male|07-01-1992|       10:08 PM| 97950|13.873|           false|     Client Services|\n",
      "|     Craig|  Male| 2/27/2000|        7:45 AM| 37598| 7.757|            true|           Marketing|\n",
      "|     Terry|  Male|11/27/1981|        6:30 PM|124008|13.464|            true|     Client Services|\n",
      "|  Benjamin|  Male| 1/26/2005|       10:06 PM| 79529| 7.008|            true|               Legal|\n",
      "| Christina|Female|08-06-2002|        1:19 PM|118780| 9.096|            true|         Engineering|\n",
      "|      Jean|Female|12/18/1993|        9:07 AM|119082| 16.18|           false|Business Development|\n",
      "|     Jerry|  Male|01-10-2004|       12:56 PM| 95734|19.096|           false|     Client Services|\n",
      "|   Theresa|Female|10-10-2006|        1:12 AM| 85182|16.675|           false|               Sales|\n",
      "|    Rachel|Female| 2/16/2009|        8:47 PM|142032|12.599|           false|Business Development|\n",
      "|     Linda|Female|10/19/1981|        8:49 PM| 57427| 9.557|            true|     Client Services|\n",
      "+----------+------+----------+---------------+------+------+----------------+--------------------+\n",
      "only showing top 20 rows\n",
      "\n"
     ]
    }
   ],
   "source": [
    "dff=df.na.drop(how='any')\n",
    "print(dff.count())\n",
    "dff.show()"
   ]
  },
  {
   "cell_type": "code",
   "execution_count": 57,
   "id": "ebc9c531",
   "metadata": {},
   "outputs": [
    {
     "name": "stdout",
     "output_type": "stream",
     "text": [
      "+----------------+\n",
      "|seniorManagement|\n",
      "+----------------+\n",
      "|            true|\n",
      "|           false|\n",
      "+----------------+\n",
      "\n",
      "root\n",
      " |-- First Name: string (nullable = true)\n",
      " |-- Gender: string (nullable = true)\n",
      " |-- Start Date: string (nullable = true)\n",
      " |-- Last Login Time: string (nullable = true)\n",
      " |-- Salary: integer (nullable = true)\n",
      " |-- Bonus: double (nullable = true)\n",
      " |-- seniorManagement: boolean (nullable = true)\n",
      " |-- Team: string (nullable = true)\n",
      "\n"
     ]
    }
   ],
   "source": [
    "dff.select('seniorManagement').distinct().show()\n",
    "dff.printSchema()\n"
   ]
  },
  {
   "cell_type": "code",
   "execution_count": 58,
   "id": "dc35006d",
   "metadata": {},
   "outputs": [],
   "source": [
    "from pyspark.ml.feature import VectorAssembler\n",
    "from pyspark.ml.feature import StringIndexer\n",
    "va=VectorAssembler(inputCols=['Salary','Bonus'],outputCol='inputfeat')\n"
   ]
  },
  {
   "cell_type": "code",
   "execution_count": 60,
   "id": "f3f5955c",
   "metadata": {},
   "outputs": [],
   "source": [
    "df1=va.transform(dff)"
   ]
  },
  {
   "cell_type": "code",
   "execution_count": 61,
   "id": "276f71e5",
   "metadata": {},
   "outputs": [
    {
     "name": "stdout",
     "output_type": "stream",
     "text": [
      "+----------+------+----------+---------------+------+------+----------------+--------------------+-----------------+\n",
      "|First Name|Gender|Start Date|Last Login Time|Salary| Bonus|seniorManagement|                Team|        inputfeat|\n",
      "+----------+------+----------+---------------+------+------+----------------+--------------------+-----------------+\n",
      "|     Julie|Female|10/26/1997|        3:19 PM|102508|12.637|            true|               Legal|[102508.0,12.637]|\n",
      "|   Brandon|  Male|12-01-1980|        1:08 AM|112807|17.492|            true|     Human Resources|[112807.0,17.492]|\n",
      "|      Gary|  Male| 1/27/2008|       11:40 PM|109831| 5.831|           false|               Sales| [109831.0,5.831]|\n",
      "|  Kimberly|Female| 1/14/1999|        7:13 AM| 41426|14.543|            true|             Finance| [41426.0,14.543]|\n",
      "|   Lillian|Female|06-05-2016|        6:09 AM| 59414| 1.256|           false|             Product|  [59414.0,1.256]|\n",
      "|    Jeremy|  Male| 9/21/2010|        5:56 AM| 90370| 7.369|           false|     Human Resources|  [90370.0,7.369]|\n",
      "|     Shawn|  Male|12-07-1986|        7:45 PM|111737| 6.414|           false|             Product| [111737.0,6.414]|\n",
      "|     Diana|Female|10/23/1981|       10:27 AM|132940|19.082|           false|     Client Services|[132940.0,19.082]|\n",
      "|     Donna|Female| 7/22/2010|        3:48 AM| 81014| 1.894|           false|             Product|  [81014.0,1.894]|\n",
      "|   Matthew|  Male|09-05-1995|        2:12 AM|100612|13.645|           false|           Marketing|[100612.0,13.645]|\n",
      "|      John|  Male|07-01-1992|       10:08 PM| 97950|13.873|           false|     Client Services| [97950.0,13.873]|\n",
      "|     Craig|  Male| 2/27/2000|        7:45 AM| 37598| 7.757|            true|           Marketing|  [37598.0,7.757]|\n",
      "|     Terry|  Male|11/27/1981|        6:30 PM|124008|13.464|            true|     Client Services|[124008.0,13.464]|\n",
      "|  Benjamin|  Male| 1/26/2005|       10:06 PM| 79529| 7.008|            true|               Legal|  [79529.0,7.008]|\n",
      "| Christina|Female|08-06-2002|        1:19 PM|118780| 9.096|            true|         Engineering| [118780.0,9.096]|\n",
      "|      Jean|Female|12/18/1993|        9:07 AM|119082| 16.18|           false|Business Development| [119082.0,16.18]|\n",
      "|     Jerry|  Male|01-10-2004|       12:56 PM| 95734|19.096|           false|     Client Services| [95734.0,19.096]|\n",
      "|   Theresa|Female|10-10-2006|        1:12 AM| 85182|16.675|           false|               Sales| [85182.0,16.675]|\n",
      "|    Rachel|Female| 2/16/2009|        8:47 PM|142032|12.599|           false|Business Development|[142032.0,12.599]|\n",
      "|     Linda|Female|10/19/1981|        8:49 PM| 57427| 9.557|            true|     Client Services|  [57427.0,9.557]|\n",
      "+----------+------+----------+---------------+------+------+----------------+--------------------+-----------------+\n",
      "only showing top 20 rows\n",
      "\n"
     ]
    }
   ],
   "source": [
    "df1.show()"
   ]
  },
  {
   "cell_type": "code",
   "execution_count": 62,
   "id": "22b24d77",
   "metadata": {},
   "outputs": [
    {
     "name": "stdout",
     "output_type": "stream",
     "text": [
      "root\n",
      " |-- First Name: string (nullable = true)\n",
      " |-- Gender: string (nullable = true)\n",
      " |-- Start Date: string (nullable = true)\n",
      " |-- Last Login Time: string (nullable = true)\n",
      " |-- Salary: integer (nullable = true)\n",
      " |-- Bonus: double (nullable = true)\n",
      " |-- seniorManagement: string (nullable = true)\n",
      " |-- Team: string (nullable = true)\n",
      " |-- inputfeat: vector (nullable = true)\n",
      "\n"
     ]
    }
   ],
   "source": [
    "\n",
    "\n",
    "c=df1.withColumn('seniorManagement',df1['seniorManagement'].cast('string'))\n",
    "c.printSchema()\n"
   ]
  },
  {
   "cell_type": "code",
   "execution_count": 63,
   "id": "2bd63694",
   "metadata": {},
   "outputs": [
    {
     "name": "stdout",
     "output_type": "stream",
     "text": [
      "+----------+------+----------+---------------+------+------+----------------+--------------------+-----------------+------+\n",
      "|First Name|Gender|Start Date|Last Login Time|Salary| Bonus|seniorManagement|                Team|        inputfeat|senior|\n",
      "+----------+------+----------+---------------+------+------+----------------+--------------------+-----------------+------+\n",
      "|     Julie|Female|10/26/1997|        3:19 PM|102508|12.637|            true|               Legal|[102508.0,12.637]|   1.0|\n",
      "|   Brandon|  Male|12-01-1980|        1:08 AM|112807|17.492|            true|     Human Resources|[112807.0,17.492]|   1.0|\n",
      "|      Gary|  Male| 1/27/2008|       11:40 PM|109831| 5.831|           false|               Sales| [109831.0,5.831]|   0.0|\n",
      "|  Kimberly|Female| 1/14/1999|        7:13 AM| 41426|14.543|            true|             Finance| [41426.0,14.543]|   1.0|\n",
      "|   Lillian|Female|06-05-2016|        6:09 AM| 59414| 1.256|           false|             Product|  [59414.0,1.256]|   0.0|\n",
      "|    Jeremy|  Male| 9/21/2010|        5:56 AM| 90370| 7.369|           false|     Human Resources|  [90370.0,7.369]|   0.0|\n",
      "|     Shawn|  Male|12-07-1986|        7:45 PM|111737| 6.414|           false|             Product| [111737.0,6.414]|   0.0|\n",
      "|     Diana|Female|10/23/1981|       10:27 AM|132940|19.082|           false|     Client Services|[132940.0,19.082]|   0.0|\n",
      "|     Donna|Female| 7/22/2010|        3:48 AM| 81014| 1.894|           false|             Product|  [81014.0,1.894]|   0.0|\n",
      "|   Matthew|  Male|09-05-1995|        2:12 AM|100612|13.645|           false|           Marketing|[100612.0,13.645]|   0.0|\n",
      "|      John|  Male|07-01-1992|       10:08 PM| 97950|13.873|           false|     Client Services| [97950.0,13.873]|   0.0|\n",
      "|     Craig|  Male| 2/27/2000|        7:45 AM| 37598| 7.757|            true|           Marketing|  [37598.0,7.757]|   1.0|\n",
      "|     Terry|  Male|11/27/1981|        6:30 PM|124008|13.464|            true|     Client Services|[124008.0,13.464]|   1.0|\n",
      "|  Benjamin|  Male| 1/26/2005|       10:06 PM| 79529| 7.008|            true|               Legal|  [79529.0,7.008]|   1.0|\n",
      "| Christina|Female|08-06-2002|        1:19 PM|118780| 9.096|            true|         Engineering| [118780.0,9.096]|   1.0|\n",
      "|      Jean|Female|12/18/1993|        9:07 AM|119082| 16.18|           false|Business Development| [119082.0,16.18]|   0.0|\n",
      "|     Jerry|  Male|01-10-2004|       12:56 PM| 95734|19.096|           false|     Client Services| [95734.0,19.096]|   0.0|\n",
      "|   Theresa|Female|10-10-2006|        1:12 AM| 85182|16.675|           false|               Sales| [85182.0,16.675]|   0.0|\n",
      "|    Rachel|Female| 2/16/2009|        8:47 PM|142032|12.599|           false|Business Development|[142032.0,12.599]|   0.0|\n",
      "|     Linda|Female|10/19/1981|        8:49 PM| 57427| 9.557|            true|     Client Services|  [57427.0,9.557]|   1.0|\n",
      "+----------+------+----------+---------------+------+------+----------------+--------------------+-----------------+------+\n",
      "only showing top 20 rows\n",
      "\n"
     ]
    }
   ],
   "source": [
    "indexer=StringIndexer(inputCol='seniorManagement',outputCol='senior')\n",
    "ind=indexer.fit(c).transform(c)\n",
    "ind.show()"
   ]
  },
  {
   "cell_type": "code",
   "execution_count": 64,
   "id": "943ccd6c",
   "metadata": {},
   "outputs": [],
   "source": [
    "finaldata=ind.select('inputfeat','senior')"
   ]
  },
  {
   "cell_type": "code",
   "execution_count": 65,
   "id": "a62436fd",
   "metadata": {},
   "outputs": [
    {
     "name": "stdout",
     "output_type": "stream",
     "text": [
      "+-----------------+------+\n",
      "|        inputfeat|senior|\n",
      "+-----------------+------+\n",
      "|[102508.0,12.637]|   1.0|\n",
      "|[112807.0,17.492]|   1.0|\n",
      "| [109831.0,5.831]|   0.0|\n",
      "| [41426.0,14.543]|   1.0|\n",
      "|  [59414.0,1.256]|   0.0|\n",
      "|  [90370.0,7.369]|   0.0|\n",
      "| [111737.0,6.414]|   0.0|\n",
      "|[132940.0,19.082]|   0.0|\n",
      "|  [81014.0,1.894]|   0.0|\n",
      "|[100612.0,13.645]|   0.0|\n",
      "| [97950.0,13.873]|   0.0|\n",
      "|  [37598.0,7.757]|   1.0|\n",
      "|[124008.0,13.464]|   1.0|\n",
      "|  [79529.0,7.008]|   1.0|\n",
      "| [118780.0,9.096]|   1.0|\n",
      "| [119082.0,16.18]|   0.0|\n",
      "| [95734.0,19.096]|   0.0|\n",
      "| [85182.0,16.675]|   0.0|\n",
      "|[142032.0,12.599]|   0.0|\n",
      "|  [57427.0,9.557]|   1.0|\n",
      "+-----------------+------+\n",
      "only showing top 20 rows\n",
      "\n"
     ]
    }
   ],
   "source": [
    "finaldata.show()"
   ]
  },
  {
   "cell_type": "code",
   "execution_count": 66,
   "id": "fd54b348",
   "metadata": {},
   "outputs": [],
   "source": [
    "train,test=finaldata.randomSplit([.70,.30])"
   ]
  },
  {
   "cell_type": "code",
   "execution_count": 67,
   "id": "870ed681",
   "metadata": {},
   "outputs": [],
   "source": [
    "from pyspark.ml.classification  import DecisionTreeClassifier\n",
    "dtm=DecisionTreeClassifier(labelCol='senior',featuresCol='inputfeat')"
   ]
  },
  {
   "cell_type": "code",
   "execution_count": 68,
   "id": "cc9c2411",
   "metadata": {},
   "outputs": [
    {
     "name": "stdout",
     "output_type": "stream",
     "text": [
      "DecisionTreeClassificationModel: uid=DecisionTreeClassifier_16d62c24db6f, depth=5, numNodes=39, numClasses=2, numFeatures=2\n"
     ]
    }
   ],
   "source": [
    "model=dtm.fit(train)\n",
    "print(model)"
   ]
  },
  {
   "cell_type": "code",
   "execution_count": 69,
   "id": "364edb5d",
   "metadata": {},
   "outputs": [],
   "source": [
    "pre_res=model.transform(test)"
   ]
  },
  {
   "cell_type": "code",
   "execution_count": 70,
   "id": "54969aa6",
   "metadata": {},
   "outputs": [
    {
     "name": "stdout",
     "output_type": "stream",
     "text": [
      "+----------------+------+----------+\n",
      "|       inputfeat|senior|prediction|\n",
      "+----------------+------+----------+\n",
      "|[35575.0,14.595]|   0.0|       0.0|\n",
      "|[35884.0,17.667]|   0.0|       0.0|\n",
      "|  [36067.0,9.64]|   1.0|       0.0|\n",
      "|[36711.0,19.028]|   1.0|       0.0|\n",
      "|[36759.0,17.269]|   1.0|       0.0|\n",
      "| [36837.0,14.66]|   0.0|       0.0|\n",
      "| [36946.0,6.652]|   0.0|       0.0|\n",
      "| [37259.0,1.763]|   0.0|       0.0|\n",
      "| [37598.0,7.757]|   1.0|       1.0|\n",
      "| [37812.0,3.178]|   0.0|       0.0|\n",
      "| [37888.0,13.47]|   0.0|       0.0|\n",
      "|[37916.0,12.929]|   1.0|       0.0|\n",
      "| [38092.0,5.668]|   0.0|       0.0|\n",
      "|[39335.0,10.664]|   0.0|       0.0|\n",
      "| [39371.0,4.068]|   0.0|       0.0|\n",
      "| [39833.0,9.631]|   0.0|       0.0|\n",
      "| [40121.0,6.293]|   0.0|       0.0|\n",
      "|[41426.0,14.543]|   1.0|       0.0|\n",
      "|[41808.0,19.239]|   0.0|       0.0|\n",
      "| [41831.0,4.548]|   0.0|       0.0|\n",
      "+----------------+------+----------+\n",
      "only showing top 20 rows\n",
      "\n"
     ]
    }
   ],
   "source": [
    "pre_res.select('inputfeat','senior','prediction').show()"
   ]
  },
  {
   "cell_type": "code",
   "execution_count": 42,
   "id": "89852ca1",
   "metadata": {},
   "outputs": [],
   "source": [
    "from pyspark.ml.evaluation import MulticlassClassificationEvaluator"
   ]
  },
  {
   "cell_type": "code",
   "execution_count": 71,
   "id": "a2a4a2c8",
   "metadata": {},
   "outputs": [
    {
     "name": "stdout",
     "output_type": "stream",
     "text": [
      "Accuaracy of model: 0.5135193572899794\n",
      "Test Error of model: 0.48648064271002056\n"
     ]
    }
   ],
   "source": [
    "ev=MulticlassClassificationEvaluator(labelCol='senior',predictionCol='prediction')\n",
    "acc=ev.evaluate(pre_res)\n",
    "print('Accuaracy of model:',acc)\n",
    "print('Test Error of model:',(1-acc))"
   ]
  },
  {
   "cell_type": "code",
   "execution_count": null,
   "id": "ff2a7b75",
   "metadata": {},
   "outputs": [],
   "source": []
  }
 ],
 "metadata": {
  "kernelspec": {
   "display_name": "Python 3 (ipykernel)",
   "language": "python",
   "name": "python3"
  },
  "language_info": {
   "codemirror_mode": {
    "name": "ipython",
    "version": 3
   },
   "file_extension": ".py",
   "mimetype": "text/x-python",
   "name": "python",
   "nbconvert_exporter": "python",
   "pygments_lexer": "ipython3",
   "version": "3.10.2"
  }
 },
 "nbformat": 4,
 "nbformat_minor": 5
}
