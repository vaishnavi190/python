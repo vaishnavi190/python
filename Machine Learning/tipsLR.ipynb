{
 "cells": [
  {
   "cell_type": "code",
   "execution_count": 1,
   "id": "d2d60cb0",
   "metadata": {},
   "outputs": [],
   "source": [
    "import findspark\n",
    "findspark.init()"
   ]
  },
  {
   "cell_type": "code",
   "execution_count": 2,
   "id": "00b9963b",
   "metadata": {},
   "outputs": [],
   "source": [
    "import pyspark"
   ]
  },
  {
   "cell_type": "code",
   "execution_count": 3,
   "id": "5355fb1b",
   "metadata": {},
   "outputs": [],
   "source": [
    "from pyspark.sql import SparkSession"
   ]
  },
  {
   "cell_type": "code",
   "execution_count": 4,
   "id": "3dd2f46e",
   "metadata": {},
   "outputs": [],
   "source": [
    "spark=SparkSession.builder.appName(\"tipapp\").getOrCreate()"
   ]
  },
  {
   "cell_type": "code",
   "execution_count": 7,
   "id": "728a6d88",
   "metadata": {},
   "outputs": [
    {
     "name": "stdout",
     "output_type": "stream",
     "text": [
      "+----------+----+------+------+---+------+----+\n",
      "|total_bill| tip|   sex|smoker|day|  time|size|\n",
      "+----------+----+------+------+---+------+----+\n",
      "|     16.99|1.01|Female|    No|Sun|Dinner|   2|\n",
      "|     10.34|1.66|  Male|    No|Sun|Dinner|   3|\n",
      "|     21.01| 3.5|  Male|    No|Sun|Dinner|   3|\n",
      "|     23.68|3.31|  Male|    No|Sun|Dinner|   2|\n",
      "|     24.59|3.61|Female|    No|Sun|Dinner|   4|\n",
      "|     25.29|4.71|  Male|    No|Sun|Dinner|   4|\n",
      "|      8.77| 2.0|  Male|    No|Sun|Dinner|   2|\n",
      "|     26.88|3.12|  Male|    No|Sun|Dinner|   4|\n",
      "|     15.04|1.96|  Male|    No|Sun|Dinner|   2|\n",
      "|     14.78|3.23|  Male|    No|Sun|Dinner|   2|\n",
      "|     10.27|1.71|  Male|    No|Sun|Dinner|   2|\n",
      "|     35.26| 5.0|Female|    No|Sun|Dinner|   4|\n",
      "|     15.42|1.57|  Male|    No|Sun|Dinner|   2|\n",
      "|     18.43| 3.0|  Male|    No|Sun|Dinner|   4|\n",
      "|     14.83|3.02|Female|    No|Sun|Dinner|   2|\n",
      "|     21.58|3.92|  Male|    No|Sun|Dinner|   2|\n",
      "|     10.33|1.67|Female|    No|Sun|Dinner|   3|\n",
      "|     16.29|3.71|  Male|    No|Sun|Dinner|   3|\n",
      "|     16.97| 3.5|Female|    No|Sun|Dinner|   3|\n",
      "|     20.65|3.35|  Male|    No|Sat|Dinner|   3|\n",
      "+----------+----+------+------+---+------+----+\n",
      "only showing top 20 rows\n",
      "\n"
     ]
    }
   ],
   "source": [
    "df=spark.read.csv(\"f:\\\\datasets\\\\tips.csv\",header=True,inferSchema=True)\n",
    "df.show()"
   ]
  },
  {
   "cell_type": "code",
   "execution_count": 8,
   "id": "37932fdd",
   "metadata": {},
   "outputs": [
    {
     "name": "stdout",
     "output_type": "stream",
     "text": [
      "root\n",
      " |-- total_bill: double (nullable = true)\n",
      " |-- tip: double (nullable = true)\n",
      " |-- sex: string (nullable = true)\n",
      " |-- smoker: string (nullable = true)\n",
      " |-- day: string (nullable = true)\n",
      " |-- time: string (nullable = true)\n",
      " |-- size: integer (nullable = true)\n",
      "\n"
     ]
    }
   ],
   "source": [
    "df.printSchema()"
   ]
  },
  {
   "cell_type": "code",
   "execution_count": 11,
   "id": "f10600aa",
   "metadata": {},
   "outputs": [],
   "source": [
    "from pyspark.ml.feature import VectorAssembler"
   ]
  },
  {
   "cell_type": "code",
   "execution_count": 26,
   "id": "df02302f",
   "metadata": {},
   "outputs": [
    {
     "name": "stdout",
     "output_type": "stream",
     "text": [
      "+----------+----+------+------+---+------+----+-------+\n",
      "|total_bill| tip|   sex|smoker|day|  time|size|tipData|\n",
      "+----------+----+------+------+---+------+----+-------+\n",
      "|     16.99|1.01|Female|    No|Sun|Dinner|   2| [1.01]|\n",
      "|     10.34|1.66|  Male|    No|Sun|Dinner|   3| [1.66]|\n",
      "|     21.01| 3.5|  Male|    No|Sun|Dinner|   3|  [3.5]|\n",
      "|     23.68|3.31|  Male|    No|Sun|Dinner|   2| [3.31]|\n",
      "|     24.59|3.61|Female|    No|Sun|Dinner|   4| [3.61]|\n",
      "|     25.29|4.71|  Male|    No|Sun|Dinner|   4| [4.71]|\n",
      "|      8.77| 2.0|  Male|    No|Sun|Dinner|   2|  [2.0]|\n",
      "|     26.88|3.12|  Male|    No|Sun|Dinner|   4| [3.12]|\n",
      "|     15.04|1.96|  Male|    No|Sun|Dinner|   2| [1.96]|\n",
      "|     14.78|3.23|  Male|    No|Sun|Dinner|   2| [3.23]|\n",
      "|     10.27|1.71|  Male|    No|Sun|Dinner|   2| [1.71]|\n",
      "|     35.26| 5.0|Female|    No|Sun|Dinner|   4|  [5.0]|\n",
      "|     15.42|1.57|  Male|    No|Sun|Dinner|   2| [1.57]|\n",
      "|     18.43| 3.0|  Male|    No|Sun|Dinner|   4|  [3.0]|\n",
      "|     14.83|3.02|Female|    No|Sun|Dinner|   2| [3.02]|\n",
      "|     21.58|3.92|  Male|    No|Sun|Dinner|   2| [3.92]|\n",
      "|     10.33|1.67|Female|    No|Sun|Dinner|   3| [1.67]|\n",
      "|     16.29|3.71|  Male|    No|Sun|Dinner|   3| [3.71]|\n",
      "|     16.97| 3.5|Female|    No|Sun|Dinner|   3|  [3.5]|\n",
      "|     20.65|3.35|  Male|    No|Sat|Dinner|   3| [3.35]|\n",
      "+----------+----+------+------+---+------+----+-------+\n",
      "only showing top 20 rows\n",
      "\n"
     ]
    }
   ],
   "source": [
    "\n",
    "from pyspark.ml.feature import VectorAssembler\n",
    "featureassembler=VectorAssembler(inputCols=['tip'],outputCol='tipData')\n",
    "dff=featureassembler.transform(df)\n",
    "dff.show()\n"
   ]
  },
  {
   "cell_type": "code",
   "execution_count": 27,
   "id": "19991fdb",
   "metadata": {},
   "outputs": [
    {
     "name": "stdout",
     "output_type": "stream",
     "text": [
      "+-------+----------+\n",
      "|tipData|total_bill|\n",
      "+-------+----------+\n",
      "| [1.01]|     16.99|\n",
      "| [1.66]|     10.34|\n",
      "|  [3.5]|     21.01|\n",
      "| [3.31]|     23.68|\n",
      "| [3.61]|     24.59|\n",
      "| [4.71]|     25.29|\n",
      "|  [2.0]|      8.77|\n",
      "| [3.12]|     26.88|\n",
      "| [1.96]|     15.04|\n",
      "| [3.23]|     14.78|\n",
      "| [1.71]|     10.27|\n",
      "|  [5.0]|     35.26|\n",
      "| [1.57]|     15.42|\n",
      "|  [3.0]|     18.43|\n",
      "| [3.02]|     14.83|\n",
      "| [3.92]|     21.58|\n",
      "| [1.67]|     10.33|\n",
      "| [3.71]|     16.29|\n",
      "|  [3.5]|     16.97|\n",
      "| [3.35]|     20.65|\n",
      "+-------+----------+\n",
      "only showing top 20 rows\n",
      "\n"
     ]
    }
   ],
   "source": [
    "dff.select('tipData','total_bill').show()"
   ]
  },
  {
   "cell_type": "code",
   "execution_count": 28,
   "id": "553d07c1",
   "metadata": {},
   "outputs": [],
   "source": [
    "from pyspark.ml.regression import LinearRegression"
   ]
  },
  {
   "cell_type": "code",
   "execution_count": 30,
   "id": "1a515c77",
   "metadata": {},
   "outputs": [],
   "source": [
    "train,test=dff.randomSplit([.70,.30])"
   ]
  },
  {
   "cell_type": "code",
   "execution_count": 32,
   "id": "3efd2995",
   "metadata": {},
   "outputs": [
    {
     "name": "stdout",
     "output_type": "stream",
     "text": [
      "6.670397179248463\n",
      "[4.246280396665198]\n"
     ]
    }
   ],
   "source": [
    "lr=LinearRegression(featuresCol='tipData',labelCol='total_bill')\n",
    "tm=lr.fit(train)\n",
    "print(tm.intercept)\n",
    "print(tm.coefficients)"
   ]
  },
  {
   "cell_type": "code",
   "execution_count": 33,
   "id": "0d68d33d",
   "metadata": {},
   "outputs": [],
   "source": [
    "result=tm.evaluate(test)"
   ]
  },
  {
   "cell_type": "code",
   "execution_count": 34,
   "id": "b70fbb91",
   "metadata": {},
   "outputs": [
    {
     "name": "stdout",
     "output_type": "stream",
     "text": [
      "+----------+----+------+------+----+------+----+-------+------------------+\n",
      "|total_bill| tip|   sex|smoker| day|  time|size|tipData|        prediction|\n",
      "+----------+----+------+------+----+------+----+-------+------------------+\n",
      "|      7.51| 2.0|  Male|    No|Thur| Lunch|   2|  [2.0]|15.162957972578859|\n",
      "|      8.51|1.25|Female|    No|Thur| Lunch|   2| [1.25]| 11.97824767507996|\n",
      "|      8.77| 2.0|  Male|    No| Sun|Dinner|   2|  [2.0]|15.162957972578859|\n",
      "|      9.55|1.45|  Male|    No| Sat|Dinner|   2| [1.45]|   12.827503754413|\n",
      "|      9.94|1.56|  Male|    No| Sun|Dinner|   2| [1.56]| 13.29459459804617|\n",
      "|     10.07|1.25|  Male|    No| Sat|Dinner|   2| [1.25]| 11.97824767507996|\n",
      "|     10.29| 2.6|Female|    No| Sun|Dinner|   2|  [2.6]|17.710726210577977|\n",
      "|     10.51|1.25|  Male|    No| Sat|Dinner|   2| [1.25]| 11.97824767507996|\n",
      "|     10.65| 1.5|Female|    No|Thur| Lunch|   2|  [1.5]| 13.03981777424626|\n",
      "|     12.02|1.97|  Male|    No| Sat|Dinner|   2| [1.97]|15.035569560678903|\n",
      "|      12.6| 1.0|  Male|   Yes| Sat|Dinner|   2|  [1.0]| 10.91667757591366|\n",
      "|      12.9| 1.1|Female|   Yes| Sat|Dinner|   2|  [1.1]| 11.34130561558018|\n",
      "|      13.0| 2.0|Female|   Yes|Thur| Lunch|   2|  [2.0]|15.162957972578859|\n",
      "|     13.13| 2.0|  Male|    No| Sun|Dinner|   2|  [2.0]|15.162957972578859|\n",
      "|     13.16|2.75|Female|    No|Thur| Lunch|   2| [2.75]|18.347668270077758|\n",
      "|     13.42|1.58|  Male|   Yes| Fri| Lunch|   2| [1.58]|13.379520205979475|\n",
      "|     13.42|1.68|Female|    No|Thur| Lunch|   2| [1.68]|13.804148245645994|\n",
      "|     14.15| 2.0|Female|    No|Thur| Lunch|   2|  [2.0]|15.162957972578859|\n",
      "|     14.26| 2.5|  Male|    No|Thur| Lunch|   2|  [2.5]| 17.28609817091146|\n",
      "|     14.73| 2.2|Female|    No| Sat|Dinner|   2|  [2.2]|16.012214051911897|\n",
      "+----------+----+------+------+----+------+----+-------+------------------+\n",
      "only showing top 20 rows\n",
      "\n"
     ]
    },
    {
     "name": "stderr",
     "output_type": "stream",
     "text": [
      "C:\\Users\\User\\AppData\\Local\\Programs\\Python\\Python310\\lib\\site-packages\\pyspark\\sql\\context.py:125: FutureWarning: Deprecated in 3.0.0. Use SparkSession.builder.getOrCreate() instead.\n",
      "  warnings.warn(\n"
     ]
    }
   ],
   "source": [
    "result.predictions.show()"
   ]
  },
  {
   "cell_type": "code",
   "execution_count": 36,
   "id": "07ddb6c9",
   "metadata": {},
   "outputs": [
    {
     "name": "stdout",
     "output_type": "stream",
     "text": [
      "this is R2: 0.4911096774990752\n",
      "this is mean absolute error: 4.4168755181257175\n",
      "Root mean square error: 6.057405951228092\n"
     ]
    }
   ],
   "source": [
    "print('this is R2:',result.r2)\n",
    "print('this is mean absolute error:',result.meanAbsoluteError)\n",
    "print('Root mean square error:',result.rootMeanSquaredError)\n"
   ]
  },
  {
   "cell_type": "code",
   "execution_count": null,
   "id": "4079045a",
   "metadata": {},
   "outputs": [],
   "source": []
  }
 ],
 "metadata": {
  "kernelspec": {
   "display_name": "Python 3 (ipykernel)",
   "language": "python",
   "name": "python3"
  },
  "language_info": {
   "codemirror_mode": {
    "name": "ipython",
    "version": 3
   },
   "file_extension": ".py",
   "mimetype": "text/x-python",
   "name": "python",
   "nbconvert_exporter": "python",
   "pygments_lexer": "ipython3",
   "version": "3.10.2"
  }
 },
 "nbformat": 4,
 "nbformat_minor": 5
}
