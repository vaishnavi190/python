{
 "cells": [
  {
   "cell_type": "code",
   "execution_count": 1,
   "id": "c9cf8442",
   "metadata": {},
   "outputs": [
    {
     "name": "stdout",
     "output_type": "stream",
     "text": [
      "Requirement already satisfied: mysql-connector-python in c:\\users\\user\\appdata\\local\\programs\\python\\python310\\lib\\site-packages (8.0.28)\n",
      "Requirement already satisfied: protobuf>=3.0.0 in c:\\users\\user\\appdata\\local\\programs\\python\\python310\\lib\\site-packages (from mysql-connector-python) (3.19.3)\n",
      "Note: you may need to restart the kernel to use updated packages.\n"
     ]
    }
   ],
   "source": [
    "pip install mysql-connector-python"
   ]
  },
  {
   "cell_type": "code",
   "execution_count": 2,
   "id": "8a432577",
   "metadata": {},
   "outputs": [],
   "source": [
    "import mysql.connector as connector\n",
    "from mysql.connector import Error"
   ]
  },
  {
   "cell_type": "code",
   "execution_count": 3,
   "id": "87e2b239",
   "metadata": {},
   "outputs": [
    {
     "name": "stdout",
     "output_type": "stream",
     "text": [
      "Help on function connect in module mysql.connector:\n",
      "\n",
      "connect(*args, **kwargs)\n",
      "    Create or get a MySQL connection object\n",
      "    \n",
      "    In its simpliest form, Connect() will open a connection to a\n",
      "    MySQL server and return a MySQLConnection object.\n",
      "    \n",
      "    When any connection pooling arguments are given, for example pool_name\n",
      "    or pool_size, a pool is created or a previously one is used to return\n",
      "    a PooledMySQLConnection.\n",
      "    \n",
      "    Returns MySQLConnection or PooledMySQLConnection.\n",
      "\n"
     ]
    }
   ],
   "source": [
    "help(connector.connect)"
   ]
  },
  {
   "cell_type": "code",
   "execution_count": 4,
   "id": "a3134467",
   "metadata": {},
   "outputs": [
    {
     "name": "stdout",
     "output_type": "stream",
     "text": [
      "<class 'mysql.connector.connection_cext.CMySQLConnection'>\n",
      "connection achieved succefully with mysql server  (8, 0, 19)\n",
      "<class 'mysql.connector.cursor_cext.CMySQLCursor'>\n",
      "cursor created\n",
      "Driver no |  name |  Age |  experinece\n",
      "1    pqr    30    8\n",
      "2    ram    28    4\n",
      "3    ketan    40    10\n",
      "4    raju    35    8\n",
      "5    sham    30    None\n",
      "6    mukesh    24    4\n",
      "7    rajesh    40    None\n",
      "8    anup    38    8\n",
      "9    rupesh    40    10\n",
      "10    aarav    24    9\n",
      "11    aadi    40    9\n",
      "12    rajesh    50    15\n",
      "13    shiva    30    10\n",
      "101    xyz    None    None\n",
      "1111    oo    25    5\n",
      "1999    abc    35    9\n",
      "2000    shri    45    10\n",
      "connection establish suceesfully....\n",
      "connection closed\n"
     ]
    }
   ],
   "source": [
    "#DB server name,which db name,user id password\n",
    "\n",
    "\n",
    "try:\n",
    "    mysqlobj=connector.connect(host='localhost',port=3307,database='busbooking',user='root',password='Shreya@19')\n",
    "    print(type(mysqlobj))\n",
    "    if(mysqlobj.is_connected()):\n",
    "        print('connection achieved succefully with mysql server ',mysqlobj.get_server_version())\n",
    "        crsr=mysqlobj.cursor()\n",
    "        print(type(crsr))\n",
    "        print(\"cursor created\")\n",
    "        crsr.execute(\"select * from driverdetails\")\n",
    "        #print(crsr.fetchall())\n",
    "        records=crsr.fetchall()\n",
    "        print('Driver no |  name |  Age |  experinece')\n",
    "        for i in records:\n",
    "            print(i[0],\"  \",i[1],\"  \",i[2],\"  \",i[3])\n",
    "        \n",
    "        \n",
    "except Error as e:\n",
    "    print(e)\n",
    "    print('some problem while connecting with Db')\n",
    "else:\n",
    "    print('connection establish suceesfully....')\n",
    "finally:\n",
    "    crsr.close()\n",
    "    mysqlobj.close()\n",
    "    print(\"connection closed\")\n",
    "    \n"
   ]
  },
  {
   "cell_type": "code",
   "execution_count": 84,
   "id": "be3f2073",
   "metadata": {},
   "outputs": [],
   "source": [
    "import mysql.connector as connector\n",
    "from mysql.connector import Error\n",
    "\n",
    "def getDBConnection():\n",
    "    try:\n",
    "        mysqlobj=connector.connect(host='localhost',port=3307,database='busbooking',user='root',password='Shreya@19')\n",
    "        print(type(mysqlobj))\n",
    "        if(mysqlobj.is_connected()):\n",
    "            print('connection achieved succefully with mysql server ',mysqlobj.get_server_version())\n",
    "            crsr=mysqlobj.cursor()\n",
    "            print(type(crsr))\n",
    "            print(\"cursor created\")\n",
    "    except Error as e:\n",
    "        print(e)\n",
    "        print('some problem while connecting with Db')\n",
    "    return mysqlobj,crsr\n",
    "\n",
    "#fetching all records\n",
    "def fetchAllRecords():\n",
    "    connection=''\n",
    "    cursor=''\n",
    "    try:\n",
    "        connection,cursor=getDBConnection()\n",
    "        cursor.execute(\"select * from driverdetails\")\n",
    "        records=cursor.fetchall()\n",
    "        \n",
    "      \n",
    "        print('Driver no |  name |  Age |  experinece')\n",
    "        for i in records:\n",
    "            print(i[0],\"  \",i[1],\"  \",i[2],\"  \",i[3])\n",
    "    except Error as e:\n",
    "        print(e)\n",
    "        print('some problem while fetching data')\n",
    "    \n",
    "    finally:\n",
    "        cursor.close()\n",
    "        connection.close()\n",
    "        print(\"connection closed\")\n",
    "        \n",
    "\n",
    "\n",
    "        \n",
    "        \n",
    "    "
   ]
  },
  {
   "cell_type": "code",
   "execution_count": 109,
   "id": "7a79f084",
   "metadata": {},
   "outputs": [
    {
     "name": "stdout",
     "output_type": "stream",
     "text": [
      "<class 'mysql.connector.connection_cext.CMySQLConnection'>\n",
      "connection achieved succefully with mysql server  (8, 0, 19)\n",
      "<class 'mysql.connector.cursor_cext.CMySQLCursor'>\n",
      "cursor created\n",
      "Driver no |  name |  Age |  experinece\n",
      "1    pqr    30    8\n",
      "2    ram    28    4\n",
      "3    ketan    40    10\n",
      "4    raju    35    8\n",
      "5    sham    30    None\n",
      "6    mukesh    24    4\n",
      "7    rajesh    40    None\n",
      "8    anup    38    8\n",
      "9    rupesh    40    10\n",
      "10    aarav    24    9\n",
      "11    aadi    40    9\n",
      "12    rajesh    50    15\n",
      "13    shiva    30    10\n",
      "101    xyz    None    None\n",
      "1111    oo    25    5\n",
      "1999    abc    35    9\n",
      "2000    shri    45    10\n",
      "connection closed\n"
     ]
    }
   ],
   "source": [
    "fetchAllRecords()"
   ]
  },
  {
   "cell_type": "code",
   "execution_count": 86,
   "id": "6a62a6e4",
   "metadata": {},
   "outputs": [],
   "source": [
    "#insertion\n",
    "def insertRow(dlno,name,age,exp):\n",
    "    connection=''\n",
    "    cursor=''\n",
    "    try:\n",
    "        connection,cursor=getDBConnection()\n",
    "        cursor.execute(\"insert into driverdetails values(%s,%s,%s,%s)\",(dlno,name,age,exp))\n",
    "        connection.commit()\n",
    "        print(\"inserted\")\n",
    "    except Error as e:\n",
    "        print(e)\n",
    "        print('some problem while inserting data')\n",
    "    \n",
    "    finally:\n",
    "        cursor.close()\n",
    "        connection.close()\n",
    "        print(\"connection closed\")\n",
    "    \n",
    "    "
   ]
  },
  {
   "cell_type": "code",
   "execution_count": 97,
   "id": "ad593f2c",
   "metadata": {},
   "outputs": [
    {
     "name": "stdout",
     "output_type": "stream",
     "text": [
      "<class 'mysql.connector.connection_cext.CMySQLConnection'>\n",
      "connection achieved succefully with mysql server  (8, 0, 19)\n",
      "<class 'mysql.connector.cursor_cext.CMySQLCursor'>\n",
      "cursor created\n",
      "inserted\n",
      "connection closed\n",
      "<class 'mysql.connector.connection_cext.CMySQLConnection'>\n",
      "connection achieved succefully with mysql server  (8, 0, 19)\n",
      "<class 'mysql.connector.cursor_cext.CMySQLCursor'>\n",
      "cursor created\n",
      "Driver no |  name |  Age |  experinece\n",
      "1    pqr    30    8\n",
      "2    ram    28    4\n",
      "3    ketan    40    10\n",
      "4    raju    35    8\n",
      "5    sham    30    None\n",
      "6    mukesh    24    4\n",
      "7    rajesh    40    None\n",
      "8    anup    38    8\n",
      "9    rupesh    40    10\n",
      "10    aarav    24    9\n",
      "11    aadi    40    9\n",
      "12    rajesh    50    15\n",
      "13    shiva    30    10\n",
      "101    xyz    None    None\n",
      "1999    abc    35    9\n",
      "2000    shri    45    10\n",
      "connection closed\n"
     ]
    }
   ],
   "source": [
    "#insertRow(1999,\"xyz\",35,9)\n",
    "insertRow(2000,\"shri\",45,10)\n",
    "fetchAllRecords()"
   ]
  },
  {
   "cell_type": "code",
   "execution_count": 88,
   "id": "ade3ad18",
   "metadata": {},
   "outputs": [],
   "source": [
    "def deleteRecord(dlno):\n",
    "    connection=''\n",
    "    cursor=''\n",
    "    try:\n",
    "        connection,cursor=getDBConnection()\n",
    "        t1=(dlno,)\n",
    "        cursor.execute(\"delete from driverdetails where dlno=%s\",t1)\n",
    "        connection.commit()\n",
    "        print(\"deleted\")\n",
    "    except Error as e:\n",
    "        print(e)\n",
    "        print('some problem while deleting data')\n",
    "    \n",
    "    finally:\n",
    "        cursor.close()\n",
    "        connection.close()\n",
    "        print(\"connection closed\")\n",
    "    "
   ]
  },
  {
   "cell_type": "code",
   "execution_count": 93,
   "id": "585632c3",
   "metadata": {},
   "outputs": [
    {
     "name": "stdout",
     "output_type": "stream",
     "text": [
      "<class 'mysql.connector.connection_cext.CMySQLConnection'>\n",
      "connection achieved succefully with mysql server  (8, 0, 19)\n",
      "<class 'mysql.connector.cursor_cext.CMySQLCursor'>\n",
      "cursor created\n",
      "deleted\n",
      "connection closed\n",
      "<class 'mysql.connector.connection_cext.CMySQLConnection'>\n",
      "connection achieved succefully with mysql server  (8, 0, 19)\n",
      "<class 'mysql.connector.cursor_cext.CMySQLCursor'>\n",
      "cursor created\n",
      "Driver no |  name |  Age |  experinece\n",
      "1    priya    30    8\n",
      "2    ram    28    4\n",
      "3    ketan    40    10\n",
      "4    raju    35    8\n",
      "5    sham    30    None\n",
      "6    mukesh    24    4\n",
      "7    rajesh    40    None\n",
      "8    anup    38    8\n",
      "9    rupesh    40    10\n",
      "10    aarav    24    9\n",
      "11    aadi    40    9\n",
      "12    rajesh    50    15\n",
      "13    shiva    30    10\n",
      "101    xyz    None    None\n",
      "1999    abc    35    9\n",
      "connection closed\n"
     ]
    }
   ],
   "source": [
    "deleteRecord(2000)\n",
    "fetchAllRecords()"
   ]
  },
  {
   "cell_type": "code",
   "execution_count": 90,
   "id": "c18373fa",
   "metadata": {},
   "outputs": [],
   "source": [
    "#update record\n",
    "def updateRecord(name,dlno):\n",
    "    connection=''\n",
    "    cursor=''\n",
    "    try:\n",
    "        connection,cursor=getDBConnection()\n",
    "       \n",
    "        cursor.execute(\"update driverdetails set name=%s where dlno=%s\",(name,dlno))\n",
    "        connection.commit()\n",
    "        print(\"updated\")\n",
    "    except Error as e:\n",
    "        print(e)\n",
    "        print('some problem while updating data')\n",
    "\n",
    "    finally:\n",
    "        cursor.close()\n",
    "        connection.close()\n",
    "        print(\"connection closed\")\n",
    "    \n"
   ]
  },
  {
   "cell_type": "code",
   "execution_count": 94,
   "id": "a8ed3e6c",
   "metadata": {},
   "outputs": [
    {
     "name": "stdout",
     "output_type": "stream",
     "text": [
      "<class 'mysql.connector.connection_cext.CMySQLConnection'>\n",
      "connection achieved succefully with mysql server  (8, 0, 19)\n",
      "<class 'mysql.connector.cursor_cext.CMySQLCursor'>\n",
      "cursor created\n",
      "updated\n",
      "connection closed\n",
      "<class 'mysql.connector.connection_cext.CMySQLConnection'>\n",
      "connection achieved succefully with mysql server  (8, 0, 19)\n",
      "<class 'mysql.connector.cursor_cext.CMySQLCursor'>\n",
      "cursor created\n",
      "Driver no |  name |  Age |  experinece\n",
      "1    pqr    30    8\n",
      "2    ram    28    4\n",
      "3    ketan    40    10\n",
      "4    raju    35    8\n",
      "5    sham    30    None\n",
      "6    mukesh    24    4\n",
      "7    rajesh    40    None\n",
      "8    anup    38    8\n",
      "9    rupesh    40    10\n",
      "10    aarav    24    9\n",
      "11    aadi    40    9\n",
      "12    rajesh    50    15\n",
      "13    shiva    30    10\n",
      "101    xyz    None    None\n",
      "1999    abc    35    9\n",
      "connection closed\n"
     ]
    }
   ],
   "source": [
    "\n",
    "updateRecord(\"pqr\",1)\n",
    "fetchAllRecords()"
   ]
  }
 ],
 "metadata": {
  "kernelspec": {
   "display_name": "Python 3 (ipykernel)",
   "language": "python",
   "name": "python3"
  },
  "language_info": {
   "codemirror_mode": {
    "name": "ipython",
    "version": 3
   },
   "file_extension": ".py",
   "mimetype": "text/x-python",
   "name": "python",
   "nbconvert_exporter": "python",
   "pygments_lexer": "ipython3",
   "version": "3.10.2"
  }
 },
 "nbformat": 4,
 "nbformat_minor": 5
}
