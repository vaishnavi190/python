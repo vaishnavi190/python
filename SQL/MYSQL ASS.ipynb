{
 "cells": [
  {
   "cell_type": "code",
   "execution_count": 1,
   "id": "6ff737e8",
   "metadata": {},
   "outputs": [],
   "source": [
    "import mysql.connector as connector\n",
    "from mysql.connector import Error\n",
    "import mysql.connector as connector\n",
    "from mysql.connector import Error\n",
    "def getDBConnection():\n",
    "    try:\n",
    "        mysqlobj=connector.connect(host='localhost',port=3307,database='item',user='root',password='Shreya@19')\n",
    "        print(type(mysqlobj))\n",
    "        if(mysqlobj.is_connected()):\n",
    "            print('connection achieved succefully with mysql server ',mysqlobj.get_server_version())\n",
    "            crs=mysqlobj.cursor()\n",
    "           # crs.execute(\"create database item\")\n",
    "            #crs.execute(\"show databases\")\n",
    "            #for i in crs:\n",
    "             #   print(i)\n",
    "            print(\"DB created\")\n",
    "            print(type(crs))\n",
    "            print('Cursor created..') \n",
    "    except Error as e:\n",
    "        print(e)\n",
    "        print('some problem while connecting with Db')\n",
    "    else:\n",
    "        print('connection establish suceesfully....')\n",
    "    return mysqlobj,crs"
   ]
  },
  {
   "cell_type": "code",
   "execution_count": 2,
   "id": "0db2850e",
   "metadata": {},
   "outputs": [
    {
     "name": "stdout",
     "output_type": "stream",
     "text": [
      "<class 'mysql.connector.connection_cext.CMySQLConnection'>\n",
      "connection achieved succefully with mysql server  (8, 0, 19)\n",
      "DB created\n",
      "<class 'mysql.connector.cursor_cext.CMySQLCursor'>\n",
      "Cursor created..\n",
      "connection establish suceesfully....\n"
     ]
    },
    {
     "data": {
      "text/plain": [
       "(<mysql.connector.connection_cext.CMySQLConnection at 0x20a2fdd6380>,\n",
       " <mysql.connector.cursor_cext.CMySQLCursor at 0x20a2fdd61d0>)"
      ]
     },
     "execution_count": 2,
     "metadata": {},
     "output_type": "execute_result"
    }
   ],
   "source": [
    "getDBConnection()"
   ]
  },
  {
   "cell_type": "code",
   "execution_count": 9,
   "id": "7df3a1e9",
   "metadata": {},
   "outputs": [],
   "source": [
    "#table creation\n",
    "def create():\n",
    "        connection=' '\n",
    "        cursor=' '\n",
    "        try:\n",
    "            connection,cursor=getDBConnection()\n",
    "            cursor.execute('create table items (itemid int,iname varchar(25),cost int,supid int)')\n",
    "            record=cursor.fetchall()\n",
    "            connection.commit()\n",
    "                \n",
    "        except Error as e:\n",
    "            print(e)\n",
    "            print('some problem while connecting with Db')\n",
    "        else:\n",
    "            print('connection establish suceesfully....')\n",
    "        finally:\n",
    "            cursor.close()\n",
    "            connection.close()\n",
    "            print('DB Connection closed!')\n"
   ]
  },
  {
   "cell_type": "code",
   "execution_count": 31,
   "id": "1af102f5",
   "metadata": {},
   "outputs": [
    {
     "name": "stdout",
     "output_type": "stream",
     "text": [
      "<class 'mysql.connector.connection_cext.CMySQLConnection'>\n",
      "connection achieved succefully with mysql server  (8, 0, 19)\n",
      "DB created\n",
      "<class 'mysql.connector.cursor_cext.CMySQLCursor'>\n",
      "Cursor created..\n",
      "connection establish suceesfully....\n",
      "1050 (42S01): Table 'items' already exists\n",
      "some problem while connecting with Db\n",
      "DB Connection closed!\n"
     ]
    }
   ],
   "source": [
    "create()"
   ]
  },
  {
   "cell_type": "code",
   "execution_count": 6,
   "id": "c88a9d6d",
   "metadata": {},
   "outputs": [],
   "source": [
    "#Write a Python program to insert 5 records in table by accepting data from user\n",
    "def insert(itemid,iname,cost,supid):\n",
    "    connection=' '\n",
    "    cursor=' '\n",
    "    try:\n",
    "            connection,cursor=getDBConnection()\n",
    "            cursor.execute('insert into items (itemid,iname,cost,supid) values (%s,%s,%s,%s)',(itemid,iname,cost,supid)) \n",
    "           # record='''insert into items (itemid,iname,cost,supid) values (%s,%s,%s,%s)'''\n",
    "           # records_to_insert = [(5, 'smartwatch', 1999, 2),\n",
    "                            # (1011, 'CHESSE pizza', 570, 1),\n",
    "                             #(102, 'bagpack', 2330, 2),(103,'Veg burger',190,4),(103,'vanilaa icecream',20,4)]\n",
    "            #cursor.executemany(record,records_to_insert)\n",
    "            connection.commit()\n",
    "            print(cursor.rowcount, \"Record inserted successfully into items table\")\n",
    "    except Error as e:\n",
    "            print (e)\n",
    "            print('problem in fetching the data....')\n",
    "    finally:\n",
    "            cursor.close()\n",
    "            connection.close()\n",
    "            print('Connection closed successfully....')\n"
   ]
  },
  {
   "cell_type": "code",
   "execution_count": 7,
   "id": "e7a02ee4",
   "metadata": {},
   "outputs": [
    {
     "name": "stdout",
     "output_type": "stream",
     "text": [
      "<class 'mysql.connector.connection_cext.CMySQLConnection'>\n",
      "connection achieved succefully with mysql server  (8, 0, 19)\n",
      "DB created\n",
      "<class 'mysql.connector.cursor_cext.CMySQLCursor'>\n",
      "Cursor created..\n",
      "connection establish suceesfully....\n",
      "1 Record inserted successfully into items table\n",
      "Connection closed successfully....\n"
     ]
    }
   ],
   "source": [
    "#insert(101,'pen pencil',50,4)\n",
    "#insert(4, 'smartwatch', 1999, 2)\n",
    "#insert(5, 'pizza', 570, 1)\n",
    "#insert(6, 'bagpack', 2330, 2)\n",
    "#insert(1,'burgers',190,4)\n",
    "#insert(3,'creamroll',20,4)\n",
    "#insert(11,'books',2000,2)\n",
    "#insert(12,'laptop',50000,6)\n",
    "#insert(13,'tab',20000,4)\n",
    "#insert()\n",
    "insert(110,'paper',200,120)"
   ]
  },
  {
   "cell_type": "code",
   "execution_count": 28,
   "id": "58f9cddc",
   "metadata": {},
   "outputs": [],
   "source": [
    "def FetAllRecords():\n",
    "    connection=' '\n",
    "    cursor=' '\n",
    "    try:\n",
    "        connection,cursor=getDBConnection()\n",
    "        cursor.execute('select * from items')\n",
    "        record=cursor.fetchall()\n",
    "        print('itemid       |   itemname             |   itemcost             |  suppiler id')\n",
    "        print(\"-------------------------------------------------------------------------------\")\n",
    "        for i in record:\n",
    "            print(i[0],'        ',i[1],'               ',i[2],'            ',i[3])\n",
    "    except Error as e:\n",
    "        print (e)\n",
    "        print('problem in fetching the data....')\n",
    "    finally:\n",
    "        cursor.close()\n",
    "        connection.close()\n",
    "        print('Connection closed successfully....')"
   ]
  },
  {
   "cell_type": "code",
   "execution_count": 29,
   "id": "0a9bbe1c",
   "metadata": {},
   "outputs": [
    {
     "name": "stdout",
     "output_type": "stream",
     "text": [
      "<class 'mysql.connector.connection_cext.CMySQLConnection'>\n",
      "connection achieved succefully with mysql server  (8, 0, 19)\n",
      "DB created\n",
      "<class 'mysql.connector.cursor_cext.CMySQLCursor'>\n",
      "Cursor created..\n",
      "connection establish suceesfully....\n",
      "itemid       |   itemname             |   itemcost             |  suppiler id\n",
      "-------------------------------------------------------------------------------\n",
      "101          pen pencil                 50              4\n",
      "4          smartwatch                 1999              2\n",
      "5          pizza                 570              1\n",
      "6          bagpack                 2330              2\n",
      "3          creamroll                 20              4\n",
      "11          books                 2000              2\n",
      "12          laptop                 50000              6\n",
      "13          tab                 20000              4\n",
      "5          smartwatch                 1999              2\n",
      "1011          CHESSE pizza                 570              1\n",
      "102          bagpack                 2330              2\n",
      "103          Veg burger                 190              4\n",
      "103          vanilaa icecream                 20              4\n",
      "110          paper                 2200              120\n",
      "Connection closed successfully....\n"
     ]
    }
   ],
   "source": [
    "FetAllRecords()"
   ]
  },
  {
   "cell_type": "code",
   "execution_count": 24,
   "id": "285872f6",
   "metadata": {},
   "outputs": [],
   "source": [
    "#3.\tWrite a Python program to show records with cost between 1000 to 4450\n",
    "def Recorditems():\n",
    "    connection=' '\n",
    "    cursor=' '\n",
    "    try:\n",
    "        connection,cursor=getDBConnection()\n",
    "        cursor=connection.cursor(buffered=True)\n",
    "        cursor.execute('select * from items where items.cost between 1000 and 4450')\n",
    "        record=cursor.fetchall()\n",
    "        print('itemid       |   iname             |   cost             |  supid')\n",
    "        print(\"--------------------------------------------------------------------\")\n",
    "        for i in record:\n",
    "            print(i[0],'        ',i[1],'               ',i[2],'            ',i[3])\n",
    "        connection.commit()\n",
    "    except Error as e:\n",
    "        print (e)\n",
    "        print('problem in fetching the data....')\n",
    "    finally:\n",
    "        cursor.close()\n",
    "        connection.close()\n",
    "        print('Connection closed successfully....')\n"
   ]
  },
  {
   "cell_type": "code",
   "execution_count": 25,
   "id": "f2e172cf",
   "metadata": {},
   "outputs": [
    {
     "name": "stdout",
     "output_type": "stream",
     "text": [
      "<class 'mysql.connector.connection_cext.CMySQLConnection'>\n",
      "connection achieved succefully with mysql server  (8, 0, 19)\n",
      "DB created\n",
      "<class 'mysql.connector.cursor_cext.CMySQLCursor'>\n",
      "Cursor created..\n",
      "connection establish suceesfully....\n",
      "itemid       |   iname             |   cost             |  supid\n",
      "--------------------------------------------------------------------\n",
      "4          smartwatch                 1999              2\n",
      "6          bagpack                 2330              2\n",
      "11          books                 2000              2\n",
      "5          smartwatch                 1999              2\n",
      "102          bagpack                 2330              2\n",
      "110          paper                 2200              120\n",
      "Connection closed successfully....\n"
     ]
    }
   ],
   "source": [
    "Recorditems()"
   ]
  },
  {
   "cell_type": "code",
   "execution_count": 13,
   "id": "4e143b2a",
   "metadata": {},
   "outputs": [],
   "source": [
    "#4⦁\tWrite a Python program to increase cost of item by 2000 , which are supplied by supplier id 120\n",
    "def increase_cost():\n",
    "    connection=' '\n",
    "    cursor=' '\n",
    "    try:\n",
    "        connection,cursor=getDBConnection()\n",
    "        cursor.execute('update items set items.cost=items.cost+2000 where supid=120')\n",
    "        record=cursor.fetchall()\n",
    "        connection.commit()\n",
    "    except Error as e:\n",
    "        print (e)\n",
    "        print('problem in fetching the data....')\n",
    "    finally:\n",
    "        cursor.close()\n",
    "        connection.close()\n",
    "        print('Connection closed successfully....')\n"
   ]
  },
  {
   "cell_type": "code",
   "execution_count": 14,
   "id": "71b9ffeb",
   "metadata": {},
   "outputs": [
    {
     "name": "stdout",
     "output_type": "stream",
     "text": [
      "<class 'mysql.connector.connection_cext.CMySQLConnection'>\n",
      "connection achieved succefully with mysql server  (8, 0, 19)\n",
      "DB created\n",
      "<class 'mysql.connector.cursor_cext.CMySQLCursor'>\n",
      "Cursor created..\n",
      "connection establish suceesfully....\n",
      "Connection closed successfully....\n"
     ]
    }
   ],
   "source": [
    "increase_cost()\n"
   ]
  },
  {
   "cell_type": "code",
   "execution_count": 27,
   "id": "7b731bbf",
   "metadata": {},
   "outputs": [
    {
     "name": "stdout",
     "output_type": "stream",
     "text": [
      "<class 'mysql.connector.connection_cext.CMySQLConnection'>\n",
      "connection achieved succefully with mysql server  (8, 0, 19)\n",
      "DB created\n",
      "<class 'mysql.connector.cursor_cext.CMySQLCursor'>\n",
      "Cursor created..\n",
      "connection establish suceesfully....\n",
      "itemid       |   itemname             |   itemcost             |  suppiler id\n",
      "101          pen pencil                 50              4\n",
      "4          smartwatch                 1999              2\n",
      "5          pizza                 570              1\n",
      "6          bagpack                 2330              2\n",
      "3          creamroll                 20              4\n",
      "11          books                 2000              2\n",
      "12          laptop                 50000              6\n",
      "13          tab                 20000              4\n",
      "5          smartwatch                 1999              2\n",
      "1011          CHESSE pizza                 570              1\n",
      "102          bagpack                 2330              2\n",
      "103          Veg burger                 190              4\n",
      "103          vanilaa icecream                 20              4\n",
      "110          paper                 2200              120\n",
      "Connection closed successfully....\n"
     ]
    }
   ],
   "source": [
    "FetAllRecords()"
   ]
  },
  {
   "cell_type": "code",
   "execution_count": 30,
   "id": "ea0d9402",
   "metadata": {},
   "outputs": [
    {
     "name": "stdout",
     "output_type": "stream",
     "text": [
      "<class 'mysql.connector.connection_cext.CMySQLConnection'>\n",
      "connection achieved succefully with mysql server  (8, 0, 19)\n",
      "DB created\n",
      "<class 'mysql.connector.cursor_cext.CMySQLCursor'>\n",
      "Cursor created..\n",
      "connection establish suceesfully....\n",
      "itemid       |   itemname             |   itemcost             |  suppiler id\n",
      "-------------------------------------------------------------------------------\n",
      "101          pen pencil                 50              4\n",
      "4          smartwatch                 1999              2\n",
      "5          pizza                 570              1\n",
      "6          bagpack                 2330              2\n",
      "3          creamroll                 20              4\n",
      "11          books                 2000              2\n",
      "12          laptop                 50000              6\n",
      "13          tab                 20000              4\n",
      "5          smartwatch                 1999              2\n",
      "1011          CHESSE pizza                 570              1\n",
      "102          bagpack                 2330              2\n",
      "103          Veg burger                 190              4\n",
      "103          vanilaa icecream                 20              4\n",
      "110          paper                 2200              120\n",
      "Connection closed successfully....\n"
     ]
    }
   ],
   "source": [
    "FetAllRecords()"
   ]
  },
  {
   "cell_type": "code",
   "execution_count": 31,
   "id": "be58194b",
   "metadata": {},
   "outputs": [],
   "source": [
    "#5.\tWrite a Python program  to fetch all itemId and itemname as key values pairs \n",
    "def ItemdetailsKey():\n",
    "    connection=' '\n",
    "    cursor=' '\n",
    "    try:\n",
    "        connection,cursor=getDBConnection()\n",
    "        cursor.execute('select itemid,iname from items')\n",
    "        record=cursor.fetchall()\n",
    "        print('item ID   ||      item name')\n",
    "        print(\"----------------------\")\n",
    "        for i in record:\n",
    "           \n",
    "            print(i[0],'            ',i[1])\n",
    "        connection.commit()\n",
    "    except Error as e:\n",
    "        print (e)\n",
    "        print('problem in fetching the data....')\n",
    "    finally:\n",
    "        cursor.close()\n",
    "        connection.close()\n",
    "        print('Connection closed successfully....')\n"
   ]
  },
  {
   "cell_type": "code",
   "execution_count": 32,
   "id": "1801a84f",
   "metadata": {},
   "outputs": [
    {
     "name": "stdout",
     "output_type": "stream",
     "text": [
      "<class 'mysql.connector.connection_cext.CMySQLConnection'>\n",
      "connection achieved succefully with mysql server  (8, 0, 19)\n",
      "DB created\n",
      "<class 'mysql.connector.cursor_cext.CMySQLCursor'>\n",
      "Cursor created..\n",
      "connection establish suceesfully....\n",
      "item ID   ||      item name\n",
      "----------------------\n",
      "101              pen pencil\n",
      "4              smartwatch\n",
      "5              pizza\n",
      "6              bagpack\n",
      "3              creamroll\n",
      "11              books\n",
      "12              laptop\n",
      "13              tab\n",
      "5              smartwatch\n",
      "1011              CHESSE pizza\n",
      "102              bagpack\n",
      "103              Veg burger\n",
      "103              vanilaa icecream\n",
      "110              paper\n",
      "Connection closed successfully....\n"
     ]
    }
   ],
   "source": [
    "ItemdetailsKey()"
   ]
  },
  {
   "cell_type": "code",
   "execution_count": 48,
   "id": "ed9c4ead",
   "metadata": {},
   "outputs": [],
   "source": [
    "#6.\tWrite a Python program to fetch first 10 records in key-value pair format\n",
    "\n",
    "def FetTenRecords():\n",
    "    connection=' '\n",
    "    cursor=' '\n",
    "    try:\n",
    "        connection,cursor=getDBConnection()\n",
    "        cursor.execute('select   * from items limit 10')\n",
    "        \n",
    "        record=cursor.fetchall()\n",
    "        print('itemid       |   itemname             |   itemcost             |  suppiler id')\n",
    "        print(\"-------------------------------------------------------------------------------\")\n",
    "        for i in record:\n",
    "            print(i[0],'        ',i[1],'               ',i[2],'            ',i[3])\n",
    "    except Error as e:\n",
    "        print (e)\n",
    "        print('problem in fetching the data....')\n",
    "    finally:\n",
    "        cursor.close()\n",
    "        connection.close()\n",
    "        print('Connection closed successfully....')"
   ]
  },
  {
   "cell_type": "code",
   "execution_count": 49,
   "id": "348a5dd6",
   "metadata": {},
   "outputs": [
    {
     "name": "stdout",
     "output_type": "stream",
     "text": [
      "<class 'mysql.connector.connection_cext.CMySQLConnection'>\n",
      "connection achieved succefully with mysql server  (8, 0, 19)\n",
      "DB created\n",
      "<class 'mysql.connector.cursor_cext.CMySQLCursor'>\n",
      "Cursor created..\n",
      "connection establish suceesfully....\n",
      "itemid       |   itemname             |   itemcost             |  suppiler id\n",
      "-------------------------------------------------------------------------------\n",
      "101          pen pencil                 50              4\n",
      "4          smartwatch                 1999              2\n",
      "5          pizza                 570              1\n",
      "6          bagpack                 2330              2\n",
      "3          creamroll                 20              4\n",
      "11          books                 2000              2\n",
      "12          laptop                 50000              6\n",
      "13          tab                 20000              4\n",
      "5          smartwatch                 1999              2\n",
      "1011          CHESSE pizza                 570              1\n",
      "Connection closed successfully....\n"
     ]
    }
   ],
   "source": [
    "FetTenRecords()"
   ]
  },
  {
   "cell_type": "code",
   "execution_count": 50,
   "id": "1dd24f38",
   "metadata": {},
   "outputs": [],
   "source": [
    "\n",
    "#7.\tWrite a Python program  to fetch all itemId and itemname as key values pairs \n",
    "def deleteRecord(iname):\n",
    "    connection=''\n",
    "    cursor=''\n",
    "    try:\n",
    "        connection,cursor=getDBConnection()\n",
    "        t1=(iname,)\n",
    "        cursor.execute(\"delete from items where iname=%s\",t1)\n",
    "        connection.commit()\n",
    "        print(\"deleted\")\n",
    "    except Error as e:\n",
    "        print(e)\n",
    "        print('some problem while deleting data')\n",
    "    \n",
    "    finally:\n",
    "        cursor.close()\n",
    "        connection.close()\n",
    "        print(\"connection closed\")"
   ]
  },
  {
   "cell_type": "code",
   "execution_count": 51,
   "id": "861ea083",
   "metadata": {},
   "outputs": [
    {
     "name": "stdout",
     "output_type": "stream",
     "text": [
      "<class 'mysql.connector.connection_cext.CMySQLConnection'>\n",
      "connection achieved succefully with mysql server  (8, 0, 19)\n",
      "DB created\n",
      "<class 'mysql.connector.cursor_cext.CMySQLCursor'>\n",
      "Cursor created..\n",
      "connection establish suceesfully....\n",
      "deleted\n",
      "connection closed\n"
     ]
    }
   ],
   "source": [
    "deleteRecord('smartwatch')"
   ]
  },
  {
   "cell_type": "code",
   "execution_count": 52,
   "id": "42167d4f",
   "metadata": {},
   "outputs": [
    {
     "name": "stdout",
     "output_type": "stream",
     "text": [
      "<class 'mysql.connector.connection_cext.CMySQLConnection'>\n",
      "connection achieved succefully with mysql server  (8, 0, 19)\n",
      "DB created\n",
      "<class 'mysql.connector.cursor_cext.CMySQLCursor'>\n",
      "Cursor created..\n",
      "connection establish suceesfully....\n",
      "itemid       |   itemname             |   itemcost             |  suppiler id\n",
      "-------------------------------------------------------------------------------\n",
      "101          pen pencil                 50              4\n",
      "5          pizza                 570              1\n",
      "6          bagpack                 2330              2\n",
      "3          creamroll                 20              4\n",
      "11          books                 2000              2\n",
      "12          laptop                 50000              6\n",
      "13          tab                 20000              4\n",
      "1011          CHESSE pizza                 570              1\n",
      "102          bagpack                 2330              2\n",
      "103          Veg burger                 190              4\n",
      "103          vanilaa icecream                 20              4\n",
      "110          paper                 2200              120\n",
      "Connection closed successfully....\n"
     ]
    }
   ],
   "source": [
    "FetAllRecords()"
   ]
  },
  {
   "cell_type": "code",
   "execution_count": null,
   "id": "d0f86c8f",
   "metadata": {},
   "outputs": [],
   "source": []
  }
 ],
 "metadata": {
  "kernelspec": {
   "display_name": "Python 3 (ipykernel)",
   "language": "python",
   "name": "python3"
  },
  "language_info": {
   "codemirror_mode": {
    "name": "ipython",
    "version": 3
   },
   "file_extension": ".py",
   "mimetype": "text/x-python",
   "name": "python",
   "nbconvert_exporter": "python",
   "pygments_lexer": "ipython3",
   "version": "3.10.2"
  }
 },
 "nbformat": 4,
 "nbformat_minor": 5
}
