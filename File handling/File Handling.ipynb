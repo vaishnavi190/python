{
 "cells": [
  {
   "cell_type": "code",
   "execution_count": 1,
   "id": "32cc7eb9",
   "metadata": {},
   "outputs": [
    {
     "name": "stdout",
     "output_type": "stream",
     "text": [
      "h\n",
      "i\n",
      " \n",
      "p\n",
      "p\n",
      "l\n",
      "\n",
      "\n",
      "g\n",
      "o\n",
      "o\n",
      "d\n",
      " \n",
      "m\n",
      "o\n",
      "r\n",
      "n\n",
      "i\n",
      "n\n",
      "g\n",
      "done\n"
     ]
    }
   ],
   "source": [
    "#read contents of file character by character\n",
    "try:\n",
    "    fi=open(\"C:\\\\Users\\\\User\\\\AIT\\\\calculator1.txt\")\n",
    "    for i in fi:\n",
    "        for ch in i:\n",
    "            print(ch)\n",
    "except FileNotFoundError as e:\n",
    "    print(e)\n",
    "else:\n",
    "    print(\"done\")\n",
    "finally:\n",
    "    fi.close()"
   ]
  },
  {
   "cell_type": "code",
   "execution_count": 8,
   "id": "15472f08",
   "metadata": {},
   "outputs": [
    {
     "name": "stdout",
     "output_type": "stream",
     "text": [
      "['hi ppl\\n', 'good morning']\n",
      "done\n"
     ]
    }
   ],
   "source": [
    "#read contents line by line\n",
    "try:\n",
    "    fi=open(\"C:\\\\Users\\\\User\\\\AIT\\\\calculator1.txt\")\n",
    "    i=fi.readlines()\n",
    "    print(i)\n",
    "except FileNotFoundError as e:\n",
    "    print(e)\n",
    "else:\n",
    "    print(\"done\")\n",
    "finally:\n",
    "    fi.close()\n"
   ]
  },
  {
   "cell_type": "code",
   "execution_count": 11,
   "id": "edc7e7ea",
   "metadata": {},
   "outputs": [
    {
     "name": "stdout",
     "output_type": "stream",
     "text": [
      "hi\n",
      "ppl\n",
      "good\n",
      "morning\n",
      "done\n"
     ]
    }
   ],
   "source": [
    "#read contents word by word\n",
    "try:\n",
    "    fi=open(\"C:\\\\Users\\\\User\\\\AIT\\\\calculator1.txt\")\n",
    "    for i in fi:\n",
    "        for j in i.split():\n",
    "            print(j)\n",
    "except FileNotFoundError as e:\n",
    "    print(e)\n",
    "else:\n",
    "    print(\"done\")\n",
    "finally:\n",
    "    fi.close()\n",
    "\n"
   ]
  },
  {
   "cell_type": "code",
   "execution_count": 16,
   "id": "597cf62f",
   "metadata": {},
   "outputs": [
    {
     "name": "stdout",
     "output_type": "stream",
     "text": [
      "removed\n"
     ]
    }
   ],
   "source": [
    "#remove file\n",
    "import os\n",
    "if os.path.exists(\"C:\\\\Users\\\\User\\\\AIT\\\\covariant.txt\"):\n",
    "    os.remove(\"covariant.txt\")\n",
    "    print(\"removed\")\n",
    "else:\n",
    "    print(\"not found\")"
   ]
  },
  {
   "cell_type": "code",
   "execution_count": 19,
   "id": "578c3750",
   "metadata": {},
   "outputs": [
    {
     "name": "stdout",
     "output_type": "stream",
     "text": [
      "hi ppl\n",
      "good morning\n",
      "\n",
      " reading and writing done\n"
     ]
    }
   ],
   "source": [
    "#copy contents from one file to another\n",
    "try:\n",
    "    fi=open(\"C:\\\\Users\\\\User\\\\AIT\\\\Calculator1.txt\",\"r\")\n",
    "    print(fi.read())\n",
    "    with open(\"C:\\\\Users\\\\User\\\\AIT\\\\Calculator2.txt\",\"w\") as f:\n",
    "        for i in fi:\n",
    "            f.write(i)\n",
    "    f=open(\"C:\\\\Users\\\\User\\\\AIT\\\\Calculator2.txt\")\n",
    "    print(f.read())\n",
    "        \n",
    "except FileNotFoundError as e:\n",
    "    print(e)\n",
    "else:\n",
    "    print(\" reading and writing done\")\n"
   ]
  },
  {
   "cell_type": "code",
   "execution_count": null,
   "id": "9625d2ab",
   "metadata": {},
   "outputs": [],
   "source": []
  }
 ],
 "metadata": {
  "kernelspec": {
   "display_name": "Python 3 (ipykernel)",
   "language": "python",
   "name": "python3"
  },
  "language_info": {
   "codemirror_mode": {
    "name": "ipython",
    "version": 3
   },
   "file_extension": ".py",
   "mimetype": "text/x-python",
   "name": "python",
   "nbconvert_exporter": "python",
   "pygments_lexer": "ipython3",
   "version": "3.10.2"
  }
 },
 "nbformat": 4,
 "nbformat_minor": 5
}
