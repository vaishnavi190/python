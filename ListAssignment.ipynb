{
 "cells": [
  {
   "cell_type": "code",
   "execution_count": 2,
   "id": "e363061f",
   "metadata": {},
   "outputs": [
    {
     "name": "stdout",
     "output_type": "stream",
     "text": [
      "[2, 3, 5]\n"
     ]
    }
   ],
   "source": [
    "#1.\tWAP to remove to find duplicates elements in  list\n",
    "\n",
    "list=[1,2,3,1,5]\n",
    "l1=[]\n",
    "for i in list:\n",
    "    if i not in l1:\n",
    "        l1.append(i)\n",
    "    else:\n",
    "        l1.remove(i)\n",
    "print(l1)"
   ]
  },
  {
   "cell_type": "code",
   "execution_count": 5,
   "id": "9f998697",
   "metadata": {},
   "outputs": [
    {
     "name": "stdout",
     "output_type": "stream",
     "text": [
      "[1, 2, 3, 5, 6, 9, 17]\n"
     ]
    }
   ],
   "source": [
    "#write to sort  the given list\n",
    "lst=[17,5,6,9,1,2,3]\n",
    "l1=sorted(lst)\n",
    "print(l1)"
   ]
  },
  {
   "cell_type": "code",
   "execution_count": 55,
   "id": "02b252a2",
   "metadata": {},
   "outputs": [
    {
     "name": "stdout",
     "output_type": "stream",
     "text": [
      "[11, 73, 5, 7]\n",
      "[7, 7, 7, 7, 7, 7, 7]\n"
     ]
    }
   ],
   "source": [
    "#3.\tWAP to create a list such that new list contains alternate even and odd from given list\n",
    "list=[11,12,73,4,5,6,7,8]\n",
    "l1=[]\n",
    "l2=[]\n",
    "for i in range(0,len(list),2):\n",
    "    l1.append(list[i])\n",
    "for j in range(1,len(list)):\n",
    "    l2.append(list[i])\n",
    "print(l1)\n",
    "print(l2)\n",
    "    "
   ]
  },
  {
   "cell_type": "code",
   "execution_count": 6,
   "id": "b7069cd8",
   "metadata": {},
   "outputs": [
    {
     "name": "stdout",
     "output_type": "stream",
     "text": [
      "1001\n"
     ]
    }
   ],
   "source": [
    "#4.\tWrite a Python program to get the largest number from a list.\n",
    "list=[201,1001,547,985]\n",
    "l1=max(list)\n",
    "print(l1)"
   ]
  },
  {
   "cell_type": "code",
   "execution_count": 39,
   "id": "07ad4b73",
   "metadata": {},
   "outputs": [
    {
     "name": "stdout",
     "output_type": "stream",
     "text": [
      "enter the word: banglore\n",
      "[]\n"
     ]
    }
   ],
   "source": [
    "\n",
    "#7. write a python program to find list of words that are longer than given word\n",
    "def long(words,e):\n",
    "    word=[]\n",
    "    for i in words:\n",
    "        if len(i)>len(e):\n",
    "            word.append(i)\n",
    "    return word\n",
    "lst=['hello','world']\n",
    "n=input('enter the word: ')\n",
    "print(long(lst,n))"
   ]
  },
  {
   "cell_type": "code",
   "execution_count": 21,
   "id": "34315416",
   "metadata": {},
   "outputs": [
    {
     "data": {
      "text/plain": [
       "['green', 'white', 'black']"
      ]
     },
     "execution_count": 21,
     "metadata": {},
     "output_type": "execute_result"
    }
   ],
   "source": [
    "#9.\tWrite a Python program to print a specified list after removing the 0th, 4th and 5th elements. Go to the editor\n",
    "#.\tSample List : ['Red', 'Green', 'White', 'Black', 'Pink', 'Yellow']\n",
    "#.\tExpected Output : ['Green', 'White', 'Black']\n",
    "\n",
    "lst=['red','green','white','black','pink','yellow']\n",
    "lst[1:4]\n"
   ]
  },
  {
   "cell_type": "code",
   "execution_count": 40,
   "id": "631b4a84",
   "metadata": {},
   "outputs": [
    {
     "name": "stdout",
     "output_type": "stream",
     "text": [
      "list before removal of even numbers: [2, 1, 4, 5, 6, 7, 11]\n",
      "list after removal of even numbers: [1, 5, 7, 11]\n"
     ]
    }
   ],
   "source": [
    "#12.\tWrite a Python program to print the numbers of a specified list after removing even numbers from it.\n",
    "\n",
    "list=[2,1,4,5,6,7,11]\n",
    "print(\"list before removal of even numbers:\",list)\n",
    "for i in list:\n",
    "    if(i%2==0):\n",
    "        list.remove(i)\n",
    "print(\"list after removal of even numbers:\",list)"
   ]
  },
  {
   "cell_type": "code",
   "execution_count": null,
   "id": "621f03d2",
   "metadata": {},
   "outputs": [],
   "source": []
  }
 ],
 "metadata": {
  "kernelspec": {
   "display_name": "Python 3 (ipykernel)",
   "language": "python",
   "name": "python3"
  },
  "language_info": {
   "codemirror_mode": {
    "name": "ipython",
    "version": 3
   },
   "file_extension": ".py",
   "mimetype": "text/x-python",
   "name": "python",
   "nbconvert_exporter": "python",
   "pygments_lexer": "ipython3",
   "version": "3.10.2"
  }
 },
 "nbformat": 4,
 "nbformat_minor": 5
}
