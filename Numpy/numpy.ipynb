{
 "cells": [
  {
   "cell_type": "code",
   "execution_count": 1,
   "id": "63fec9e7",
   "metadata": {},
   "outputs": [
    {
     "name": "stdout",
     "output_type": "stream",
     "text": [
      "Collecting numpy\n",
      "  Downloading numpy-1.22.1-cp310-cp310-win_amd64.whl (14.7 MB)\n",
      "Installing collected packages: numpy\n",
      "Successfully installed numpy-1.22.1\n",
      "Note: you may need to restart the kernel to use updated packages.\n"
     ]
    }
   ],
   "source": [
    "pip install numpy"
   ]
  },
  {
   "cell_type": "code",
   "execution_count": 2,
   "id": "34c7338d",
   "metadata": {},
   "outputs": [],
   "source": [
    "import numpy as np"
   ]
  },
  {
   "cell_type": "code",
   "execution_count": 4,
   "id": "f6ea772b",
   "metadata": {},
   "outputs": [
    {
     "name": "stdout",
     "output_type": "stream",
     "text": [
      "1.22.1\n"
     ]
    }
   ],
   "source": [
    "print(np.__version__)"
   ]
  },
  {
   "cell_type": "code",
   "execution_count": 38,
   "id": "8b61f217",
   "metadata": {},
   "outputs": [
    {
     "name": "stdout",
     "output_type": "stream",
     "text": [
      "<class 'numpy.ndarray'>\n",
      "[1 2 3 4 5 6]\n",
      "1\n",
      "(6,)\n"
     ]
    }
   ],
   "source": [
    "#creation of array \n",
    "a=np.array([1,2,3,4,5,6])\n",
    "print(type(a))\n",
    "print(a)\n",
    "print(a.ndim)#gives dimension\n",
    "print(a.shape)#in tuple form and gives number of col"
   ]
  },
  {
   "cell_type": "code",
   "execution_count": 19,
   "id": "b4e242ae",
   "metadata": {},
   "outputs": [
    {
     "name": "stdout",
     "output_type": "stream",
     "text": [
      "1\n"
     ]
    }
   ],
   "source": [
    "#accesing\n",
    "print(a[0])"
   ]
  },
  {
   "cell_type": "code",
   "execution_count": 20,
   "id": "ed613f84",
   "metadata": {},
   "outputs": [
    {
     "name": "stdout",
     "output_type": "stream",
     "text": [
      "6\n"
     ]
    }
   ],
   "source": [
    "#length\n",
    "print(len(a))"
   ]
  },
  {
   "cell_type": "code",
   "execution_count": 29,
   "id": "642d8be5",
   "metadata": {},
   "outputs": [
    {
     "name": "stdout",
     "output_type": "stream",
     "text": [
      "[1 3 5]\n",
      "[10  4  6]\n",
      "[ 6  5  4  3 10  1]\n",
      "[ 1 10  3  4  5  6]\n"
     ]
    }
   ],
   "source": [
    "#slicing\n",
    "print(a[::2])\n",
    "print(a[1::2])\n",
    "#reverse\n",
    "print(a[::-1])\n",
    "a[1]=10\n",
    "print(a)"
   ]
  },
  {
   "cell_type": "code",
   "execution_count": 39,
   "id": "25f41faf",
   "metadata": {},
   "outputs": [
    {
     "name": "stdout",
     "output_type": "stream",
     "text": [
      "['2' 'ok' '455.5' '5']\n",
      "<class 'numpy.str_'>\n",
      "<class 'numpy.ndarray'>\n",
      "<class 'numpy.dtype[str_]'>\n",
      "int32\n"
     ]
    }
   ],
   "source": [
    "a2=np.array([2,\"ok\",455.5,5])\n",
    "print(a2)\n",
    "print(type(a2[0]))\n",
    "print(type(a2))\n",
    "print(type(a2.dtype))#gives type of the every element in array\n",
    "print((a.dtype))"
   ]
  },
  {
   "cell_type": "code",
   "execution_count": 41,
   "id": "c8ed96ad",
   "metadata": {},
   "outputs": [
    {
     "name": "stdout",
     "output_type": "stream",
     "text": [
      "float64\n"
     ]
    }
   ],
   "source": [
    "a=np.array([1,2,3,4,5,6],dtype='float')\n",
    "print(a.dtype)"
   ]
  },
  {
   "cell_type": "code",
   "execution_count": 44,
   "id": "7abfe84e",
   "metadata": {},
   "outputs": [],
   "source": [
    "a[1]=10.4"
   ]
  },
  {
   "cell_type": "code",
   "execution_count": 45,
   "id": "5ae7ef9d",
   "metadata": {},
   "outputs": [
    {
     "name": "stdout",
     "output_type": "stream",
     "text": [
      "[ 1.  10.4  3.   4.   5.   6. ]\n"
     ]
    }
   ],
   "source": [
    "print(a)"
   ]
  },
  {
   "cell_type": "code",
   "execution_count": 59,
   "id": "56f61330",
   "metadata": {},
   "outputs": [
    {
     "name": "stdout",
     "output_type": "stream",
     "text": [
      "sum is: 0.0\n",
      "29.4\n"
     ]
    }
   ],
   "source": [
    "#for loop\n",
    "sum=0.0\n",
    "for i in range(0,len(a)):\n",
    "    pass\n",
    "    #print(a[i])\n",
    "    #sum+=i\n",
    "print('sum is:',sum)\n",
    "\n",
    "print(a.sum())\n",
    "    \n",
    "    "
   ]
  },
  {
   "cell_type": "code",
   "execution_count": 80,
   "id": "5ec30624",
   "metadata": {},
   "outputs": [
    {
     "name": "stdout",
     "output_type": "stream",
     "text": [
      "2 4 6 10 "
     ]
    }
   ],
   "source": [
    "#even elements\n",
    "b=np.array([2,4,6,1,10,99])\n",
    "for i in range(len(b)):\n",
    "    if(b[i]%2==0):\n",
    "        print(b[i],end=\" \")"
   ]
  },
  {
   "cell_type": "code",
   "execution_count": 112,
   "id": "1ce551c6",
   "metadata": {},
   "outputs": [
    {
     "name": "stdout",
     "output_type": "stream",
     "text": [
      "Array Items =  [1 2 3 4]\n",
      " Largest   4\n",
      " Second Largest  3\n"
     ]
    }
   ],
   "source": [
    "secarr = np.array([1,2,3,4])\n",
    "print(\"Array Items = \", secLarr)\n",
    "\n",
    "first = second = min(secLarr)\n",
    "\n",
    "for i in range(len(secarr)):\n",
    "    if (secarr[i] > first):\n",
    "        second = first\n",
    "        first = secarr[i]\n",
    "    elif(secarr[i] > second and secarr[i] < first):\n",
    "        second = secarr[i]\n",
    "\n",
    "print(\" Largest  \", first)\n",
    "print(\" Second Largest \", second)"
   ]
  },
  {
   "cell_type": "code",
   "execution_count": 129,
   "id": "dfc2951b",
   "metadata": {},
   "outputs": [
    {
     "name": "stdout",
     "output_type": "stream",
     "text": [
      "enter number:8\n",
      "[ 8 16 24 32 40 48 56 64 72 80] <class 'numpy.ndarray'>\n",
      "-------------\n",
      "[56 64 72 80]\n",
      "<class 'numpy.ndarray'>\n"
     ]
    }
   ],
   "source": [
    "#array of table\n",
    "a=[]\n",
    "\n",
    "n=int(input(\"enter number:\"))\n",
    "for i in range(1,11):\n",
    "    r=n*i\n",
    "    a.append(r)\n",
    "    b3=np.array(a)\n",
    "print(b3,end=\" \")\n",
    "print(type(b3))\n",
    "print(\"-------------\")\n",
    "b1=a[6:]\n",
    "b2=np.array(a[6:])\n",
    "#b1.copy()\n",
    "#print(b1)\n",
    "print(b2)\n",
    "print(type(b2))\n",
    "\n"
   ]
  },
  {
   "cell_type": "code",
   "execution_count": 5,
   "id": "7f6b9fea",
   "metadata": {},
   "outputs": [
    {
     "name": "stdout",
     "output_type": "stream",
     "text": [
      "<class 'numpy.ndarray'>\n",
      "<U6\n",
      "['shreya' 'nagma']\n"
     ]
    }
   ],
   "source": [
    "a=np.array(('shreya','nagma'))\n",
    "print(type(a))\n",
    "print(a.dtype)#string\n",
    "print(a)"
   ]
  },
  {
   "cell_type": "code",
   "execution_count": 6,
   "id": "6b9587f2",
   "metadata": {},
   "outputs": [
    {
     "name": "stdout",
     "output_type": "stream",
     "text": [
      "[0. 0.]\n"
     ]
    }
   ],
   "source": [
    "arr=np.zeros(2)\n",
    "print(arr)"
   ]
  },
  {
   "cell_type": "code",
   "execution_count": 8,
   "id": "fb820e33",
   "metadata": {},
   "outputs": [
    {
     "name": "stdout",
     "output_type": "stream",
     "text": [
      "[1. 1. 1.]\n",
      "[1 1 1]\n"
     ]
    }
   ],
   "source": [
    "arr1=np.ones(3)\n",
    "arr2=np.ones(3,dtype=int)\n",
    "print(arr1)\n",
    "print(arr2)"
   ]
  },
  {
   "cell_type": "code",
   "execution_count": 18,
   "id": "114fd1ac",
   "metadata": {},
   "outputs": [
    {
     "name": "stdout",
     "output_type": "stream",
     "text": [
      "[ 1. 10. 20.]\n",
      "20.0\n",
      "[10.  1.]\n"
     ]
    }
   ],
   "source": [
    "arr1[[1,2]]=[10,20]\n",
    "print(arr1)\n",
    "print(arr1[2])\n",
    "print(arr1[1::-1])\n"
   ]
  },
  {
   "cell_type": "code",
   "execution_count": 21,
   "id": "854d1b51",
   "metadata": {},
   "outputs": [
    {
     "name": "stdout",
     "output_type": "stream",
     "text": [
      "(3,)\n"
     ]
    }
   ],
   "source": [
    "print(arr1.shape)"
   ]
  },
  {
   "cell_type": "code",
   "execution_count": 128,
   "id": "b554b6f8",
   "metadata": {},
   "outputs": [
    {
     "name": "stdout",
     "output_type": "stream",
     "text": [
      "[]\n",
      "[[1 2 3]\n",
      " [4 5 6]]\n"
     ]
    }
   ],
   "source": [
    "#2d array\n",
    "a2d=np.array([[1,2,3],[4,5,6]])\n",
    "print(a2d[1:1])\n",
    "print(a2d)"
   ]
  },
  {
   "cell_type": "code",
   "execution_count": 29,
   "id": "14706781",
   "metadata": {},
   "outputs": [
    {
     "name": "stdout",
     "output_type": "stream",
     "text": [
      "array is: 2\n",
      "shape is: (2, 3)\n"
     ]
    }
   ],
   "source": [
    "print(\"array is:\",a2d.ndim)\n",
    "print(\"shape is:\",a2d.shape)\n"
   ]
  },
  {
   "cell_type": "code",
   "execution_count": 79,
   "id": "76336e3b",
   "metadata": {},
   "outputs": [
    {
     "name": "stdout",
     "output_type": "stream",
     "text": [
      "[0 0 0]\n",
      "[0. 0. 0.]\n",
      "[1. 1. 1.]\n",
      "[ 1. 10.  1.]\n",
      "[ 1. 10. 20.]\n"
     ]
    }
   ],
   "source": [
    "ar_zero=np.zeros((3))\n",
    "ar1_zero=np.zeros((3),dtype=int)\n",
    "print(ar1_zero)\n",
    "print(ar_zero)\n",
    "ar_one=np.ones(3)\n",
    "print(ar_one)\n",
    "ar_one[1]=10\n",
    "print(ar_one)\n",
    "ar_one[[1,2]]=[10,20]\n",
    "print(ar_one)"
   ]
  },
  {
   "cell_type": "code",
   "execution_count": 82,
   "id": "75b80006",
   "metadata": {},
   "outputs": [
    {
     "name": "stdout",
     "output_type": "stream",
     "text": [
      "[ 5 10 15 20 25 30 35 40 45 50]\n",
      "dimension is: 1\n"
     ]
    }
   ],
   "source": [
    "#arrage---generates 1 -d array always\n",
    "a=np.arange(5,51,5)\n",
    "print(a)\n",
    "print(\"dimension is:\",a.ndim)"
   ]
  },
  {
   "cell_type": "code",
   "execution_count": 47,
   "id": "18f3b992",
   "metadata": {},
   "outputs": [
    {
     "name": "stdout",
     "output_type": "stream",
     "text": [
      "[[1 2 3]\n",
      " [4 5 6]\n",
      " [7 8 9]]\n"
     ]
    }
   ],
   "source": [
    "#conversion of 1d to 2d\n",
    "a2=a.reshape(3,3)#doesnt change original array\n",
    "print(a2)"
   ]
  },
  {
   "cell_type": "code",
   "execution_count": 71,
   "id": "fd2f8443",
   "metadata": {},
   "outputs": [
    {
     "name": "stdout",
     "output_type": "stream",
     "text": [
      "[[6 7 1 8 9]\n",
      " [1 3 8 7 5]\n",
      " [3 5 4 4 5]\n",
      " [2 9 1 7 8]\n",
      " [8 4 5 1 3]]\n",
      "[1 3 1 1 3]\n"
     ]
    }
   ],
   "source": [
    "#array 2d random\n",
    "arr2d=np.random.randint(1,10,(5,5))\n",
    "print(arr2d)\n",
    "print(np.min(arr2d,axis=0))"
   ]
  },
  {
   "cell_type": "code",
   "execution_count": 67,
   "id": "817fb2ff",
   "metadata": {},
   "outputs": [
    {
     "name": "stdout",
     "output_type": "stream",
     "text": [
      "29\n"
     ]
    }
   ],
   "source": [
    "a=np.array([1,21,3,4])\n",
    "s=np.sum(a)\n",
    "print(s)\n"
   ]
  },
  {
   "cell_type": "code",
   "execution_count": 69,
   "id": "dcf0b43a",
   "metadata": {},
   "outputs": [
    {
     "name": "stdout",
     "output_type": "stream",
     "text": [
      "7.25\n",
      "1\n",
      "21\n",
      "before sort: [ 1 21  3  4]\n",
      "after sort: [ 1  3  4 21]\n"
     ]
    }
   ],
   "source": [
    "print(np.mean(a))\n",
    "print(np.min(a))\n",
    "print(np.max(a))\n",
    "print(\"before sort:\",a)\n",
    "print(\"after sort:\",np.sort(a))\n"
   ]
  },
  {
   "cell_type": "code",
   "execution_count": 205,
   "id": "99b26fa8",
   "metadata": {},
   "outputs": [
    {
     "name": "stdout",
     "output_type": "stream",
     "text": [
      "1212746432848\n",
      "[0 0 0 0 0 0 0 0 0 0]\n",
      "[11 13 15 17 19 21 23 25 27 29]\n",
      "<class 'numpy.ndarray'>\n",
      "1212746432848\n"
     ]
    }
   ],
   "source": [
    "arr=np.zeros(len(np.arange(11,31,2)),dtype=int)\n",
    "print(id(arr))\n",
    "print(arr)\n",
    "for i in range(0,len(arr)):\n",
    "   \n",
    "    arr[i%2!=0]=np.arange(11,31,2)\n",
    "print(arr)\n",
    "print(type(arr))\n",
    "print(id(arr))"
   ]
  },
  {
   "cell_type": "code",
   "execution_count": 112,
   "id": "9633521f",
   "metadata": {},
   "outputs": [
    {
     "name": "stdout",
     "output_type": "stream",
     "text": [
      "[100  90  80  70  60  50  40  30  20  10]\n"
     ]
    }
   ],
   "source": [
    "a2=np.arange(100,1,-10)\n",
    "print(a2)"
   ]
  },
  {
   "cell_type": "code",
   "execution_count": 124,
   "id": "b8acf19c",
   "metadata": {},
   "outputs": [
    {
     "name": "stdout",
     "output_type": "stream",
     "text": [
      "550\n",
      "550\n",
      "10\n",
      "100\n",
      "55.0\n",
      "55.0\n"
     ]
    }
   ],
   "source": [
    "print(a2.sum())\n",
    "print(np.sum(a2))\n",
    "print(a2.min())\n",
    "print(a2.max())\n",
    "#print(a2.avg())--error\n",
    "print(np.average(a2))\n",
    "print(np.mean(a2))\n",
    "#print(np.median(a2))"
   ]
  },
  {
   "cell_type": "code",
   "execution_count": 144,
   "id": "93b7f8f5",
   "metadata": {},
   "outputs": [
    {
     "name": "stdout",
     "output_type": "stream",
     "text": [
      "51\n",
      "[[ 1  2  3]\n",
      " [ 5  6  7]\n",
      " [ 8  9 10]]\n",
      "51\n"
     ]
    }
   ],
   "source": [
    "#create 3x3 array and find sum\n",
    "array2d=np.array(([1,2,3],[5,6,7],[8,9,10]))\n",
    "s=np.sum(array2d)\n",
    "s1=np.sum(s)\n",
    "print(s1)\n",
    "print(array2d)\n",
    "s=0\n",
    "for i in array2d:\n",
    "    for j in i:\n",
    "        s+=j\n",
    "print(s)\n",
    "        "
   ]
  },
  {
   "cell_type": "code",
   "execution_count": 148,
   "id": "2fd3dfba",
   "metadata": {},
   "outputs": [
    {
     "name": "stdout",
     "output_type": "stream",
     "text": [
      "[[ 5  7  9]\n",
      " [ 6  9 12]]\n"
     ]
    }
   ],
   "source": [
    "#add 2 single dimension array\n",
    "a1=np.array(([1,2,3],[2,4,6]))\n",
    "a2=np.array([4,5,6])\n",
    "a3=a1+a2\n",
    "print(a3)\n"
   ]
  },
  {
   "cell_type": "code",
   "execution_count": 155,
   "id": "c5320590",
   "metadata": {},
   "outputs": [
    {
     "name": "stdout",
     "output_type": "stream",
     "text": [
      "[10 12 14 16 18]\n",
      "[10 12 14 16 18]\n"
     ]
    }
   ],
   "source": [
    "arr11=np.arange(5,10)\n",
    "arr2=np.array([2])\n",
    "a1=arr11*2\n",
    "a2=arr11*arr2\n",
    "print(a2)\n",
    "print(a1)"
   ]
  },
  {
   "cell_type": "code",
   "execution_count": 171,
   "id": "abb38b06",
   "metadata": {},
   "outputs": [
    {
     "name": "stdout",
     "output_type": "stream",
     "text": [
      "[[ 5  6  7  8  9]\n",
      " [10 11 12 13 14]]\n",
      "-------------\n",
      "[[ 1  2  3  4  5]\n",
      " [ 6  7  8  9 10]]\n",
      "-------------\n",
      "[[ 6  8 10 12 14]\n",
      " [16 18 20 22 24]]\n",
      "-------------\n",
      "[[ 6  8 10 12 14]\n",
      " [11 13 15 17 19]]\n"
     ]
    }
   ],
   "source": [
    "#2d array using arange\n",
    "a2d=np.arange(5,15).reshape(2,5)\n",
    "print(a2d)\n",
    "print(\"-------------\")\n",
    "a2d1=np.arange(1,11).reshape(2,5)\n",
    "print(a2d1)\n",
    "print(\"-------------\")\n",
    "print(a2d+a2d1)\n",
    "a2d1=np.arange(1,6).reshape(1,5)\n",
    "\n",
    "print(\"-------------\")\n",
    "print(a2d+a2d1)"
   ]
  },
  {
   "cell_type": "code",
   "execution_count": 192,
   "id": "acf968a4",
   "metadata": {},
   "outputs": [
    {
     "name": "stdout",
     "output_type": "stream",
     "text": [
      "[[ 5  6  7  8  9]\n",
      " [10 11 12 13 14]]\n",
      "sum is: 95\n",
      "row sum: [[15 17 19 21 23]]\n",
      "col sum: [[35]\n",
      " [60]]\n"
     ]
    }
   ],
   "source": [
    "a2d=np.arange(5,15).reshape(2,5)\n",
    "print(a2d)\n",
    "print(\"sum is:\",np.sum(a2d))\n",
    "s=np.sum(a2d,axis=0,keepdims=True)\n",
    "print(\"row sum:\",s)\n",
    "s1=np.sum(a2d,axis=1,keepdims=True)#sum col\n",
    "print(\"col sum:\",s1)\n"
   ]
  },
  {
   "cell_type": "code",
   "execution_count": 203,
   "id": "88b09113",
   "metadata": {},
   "outputs": [
    {
     "name": "stdout",
     "output_type": "stream",
     "text": [
      "[[ 5  6  7  8  9]\n",
      " [10 11 12 13 14]]\n",
      "minimun is [[ 5]\n",
      " [10]]\n",
      "average is [ 7.5  8.5  9.5 10.5 11.5]\n"
     ]
    }
   ],
   "source": [
    "#min from each row and avergae of each col\n",
    "a2=np.arange(5,15).reshape(2,5)\n",
    "print(a2)\n",
    "print(\"minimun is\",np.min(a2,axis=1,keepdims=2))\n",
    "print(\"average is\",np.average(a2,axis=0))"
   ]
  },
  {
   "cell_type": "code",
   "execution_count": 209,
   "id": "e4443e06",
   "metadata": {},
   "outputs": [
    {
     "name": "stdout",
     "output_type": "stream",
     "text": [
      "0.18654629386867516\n",
      "[0.919067   0.53112377 0.29244567 0.95789348 0.79154734 0.72272241\n",
      " 0.58708059 0.07223084 0.61017626 0.59548413]\n",
      "3\n",
      "[8.77940685 5.33045364 5.7707834  3.75840319 7.23001256 5.335858\n",
      " 2.25350655 2.42401441 7.30931728 5.93686379 3.95970659 3.3097396\n",
      " 2.41602701 9.53654398 7.84281495]\n",
      "[7 6 2 3 5 3 5 2 4 3]\n"
     ]
    }
   ],
   "source": [
    "#random values\n",
    "a1d=np.random.random()#range is from 0 to 1\n",
    "print(a1d)\n",
    "print(np.random.random(10))\n",
    "print(np.random.randint(1,10))#random number from specified from 1 to 10\n",
    "print(np.random.uniform(1,10,15))#generates random float number specified\n",
    "print(np.random.randint(1,10,10))\n"
   ]
  },
  {
   "cell_type": "code",
   "execution_count": 217,
   "id": "a33392ad",
   "metadata": {},
   "outputs": [
    {
     "name": "stdout",
     "output_type": "stream",
     "text": [
      "[[10  5 14  7 14]\n",
      " [ 7  7  5 12  5]]\n",
      "[[ 5.4609342  10.23914591  7.68902934  7.0199858   7.56203223]\n",
      " [12.37750953  7.00390746 10.58334908  8.37774819  7.54125206]]\n"
     ]
    }
   ],
   "source": [
    "#2d using random values\n",
    "a=np.random.randint(5,15,(2,5))\n",
    "print(a)\n",
    "b=np.random.uniform(5,15,(2,5))\n",
    "print(b)"
   ]
  },
  {
   "cell_type": "code",
   "execution_count": 264,
   "id": "7db35150",
   "metadata": {},
   "outputs": [
    {
     "name": "stdout",
     "output_type": "stream",
     "text": [
      "[[ 5  9 12  5]\n",
      " [11 11 12  7]\n",
      " [12  5  6 15]\n",
      " [11  7  7 15]]\n",
      "-------------------------\n",
      "[[ 5  9 12  5]\n",
      " [11 11 12  7]\n",
      " [12  5  6 15]\n",
      " [11  7  7 15]]\n",
      "-------------------------\n",
      "[[ 5  9]\n",
      " [11 11]\n",
      " [12  5]\n",
      " [11  7]]\n",
      "-------------------------\n",
      "[[12  5]\n",
      " [12  7]\n",
      " [ 6 15]\n",
      " [ 7 15]]\n",
      "-------------------------\n",
      "[[11 12]\n",
      " [ 5  6]]\n",
      "sum 34\n",
      "-------------------------\n",
      "[[11  7]\n",
      " [ 7 15]]\n"
     ]
    }
   ],
   "source": [
    "a=np.random.randint(5,16,(4,4))\n",
    "print(a)\n",
    "print(\"-------------------------\")\n",
    "print(a[::])\n",
    "print(\"-------------------------\")\n",
    "print(a[0::,0:2:])\n",
    "print(\"-------------------------\")\n",
    "print(a[0::,2:4:])\n",
    "print(\"-------------------------\")\n",
    "a3=(a[1:3:,1:3])\n",
    "print(a3)\n",
    "c=np.sum(a3)\n",
    "print(\"sum\",c)\n",
    "print(\"-------------------------\")\n",
    "\n",
    "a3=(a[1::2,1::2])\n",
    "\n",
    "print(a3)\n"
   ]
  },
  {
   "cell_type": "code",
   "execution_count": 267,
   "id": "bab5bc49",
   "metadata": {},
   "outputs": [
    {
     "name": "stdout",
     "output_type": "stream",
     "text": [
      "[  7   8   8   6   7 200 212 203 212 205 210 214 211]\n"
     ]
    }
   ],
   "source": [
    "a1=np.random.randint(5,10,5)\n",
    "a2=np.random.randint(200,215,8)\n",
    "print(np.concatenate([a1,a2]))"
   ]
  },
  {
   "cell_type": "code",
   "execution_count": 269,
   "id": "e48e83aa",
   "metadata": {},
   "outputs": [
    {
     "name": "stdout",
     "output_type": "stream",
     "text": [
      "[[ 21  17  14]\n",
      " [ 14  21  16]\n",
      " [ 14  20  24]\n",
      " [ 15  21  15]\n",
      " [ 16  14   6]\n",
      " [212 203 202]\n",
      " [207 200 201]\n",
      " [201 203 212]\n",
      " [210 212 208]\n",
      " [207 200 201]]\n"
     ]
    }
   ],
   "source": [
    "a1=np.random.randint(5,25,15).reshape(5,3)\n",
    "a2=np.random.randint(200,215,15).reshape(5,3)\n",
    "print(np.concatenate([a1,a2]))"
   ]
  },
  {
   "cell_type": "code",
   "execution_count": 273,
   "id": "69203ea7",
   "metadata": {},
   "outputs": [
    {
     "name": "stdout",
     "output_type": "stream",
     "text": [
      "[[ 21  17  14 212 203 202]\n",
      " [ 14  21  16 207 200 201]\n",
      " [ 14  20  24 201 203 212]\n",
      " [ 15  21  15 210 212 208]\n",
      " [ 16  14   6 207 200 201]]\n"
     ]
    }
   ],
   "source": [
    "#hstack--col wise\n",
    "print(np.hstack((a1,a2)))"
   ]
  },
  {
   "cell_type": "code",
   "execution_count": 274,
   "id": "ed6ffcd9",
   "metadata": {
    "scrolled": true
   },
   "outputs": [
    {
     "name": "stdout",
     "output_type": "stream",
     "text": [
      "[[ 21  17  14]\n",
      " [ 14  21  16]\n",
      " [ 14  20  24]\n",
      " [ 15  21  15]\n",
      " [ 16  14   6]\n",
      " [212 203 202]\n",
      " [207 200 201]\n",
      " [201 203 212]\n",
      " [210 212 208]\n",
      " [207 200 201]]\n"
     ]
    }
   ],
   "source": [
    "#vstack-row wise\n",
    "print(np.vstack((a1,a2)))"
   ]
  },
  {
   "cell_type": "code",
   "execution_count": 275,
   "id": "8f144f85",
   "metadata": {},
   "outputs": [
    {
     "name": "stdout",
     "output_type": "stream",
     "text": [
      "[[21 17 14]\n",
      " [14 21 16]\n",
      " [14 20 24]\n",
      " [15 21 15]\n",
      " [16 14  6]]\n",
      "------------------------------------\n",
      "[[212 203 202]\n",
      " [207 200 201]\n",
      " [201 203 212]\n",
      " [210 212 208]\n",
      " [207 200 201]]\n",
      "------------------------------------\n",
      "[[21 14 14 15 16]\n",
      " [17 21 20 21 14]\n",
      " [14 16 24 15  6]]\n"
     ]
    }
   ],
   "source": [
    "#transpose\n",
    "print(a1)\n",
    "print(\"------------------------------------\")\n",
    "print(a2)\n",
    "print(\"------------------------------------\")\n",
    "print(np.transpose(a1))"
   ]
  },
  {
   "cell_type": "code",
   "execution_count": 282,
   "id": "2cc65fcc",
   "metadata": {},
   "outputs": [
    {
     "data": {
      "text/plain": [
       "array([[ True,  True, False],\n",
       "       [False,  True,  True],\n",
       "       [False,  True,  True],\n",
       "       [False,  True, False],\n",
       "       [ True, False, False]])"
      ]
     },
     "execution_count": 282,
     "metadata": {},
     "output_type": "execute_result"
    }
   ],
   "source": [
    "a1>15\n"
   ]
  },
  {
   "cell_type": "code",
   "execution_count": 284,
   "id": "5499e3fc",
   "metadata": {},
   "outputs": [
    {
     "data": {
      "text/plain": [
       "array([21, 17, 21, 16, 20, 24, 21, 16])"
      ]
     },
     "execution_count": 284,
     "metadata": {},
     "output_type": "execute_result"
    }
   ],
   "source": [
    "a1[a1>15]"
   ]
  },
  {
   "cell_type": "code",
   "execution_count": 286,
   "id": "e51c164e",
   "metadata": {},
   "outputs": [
    {
     "data": {
      "text/plain": [
       "138"
      ]
     },
     "execution_count": 286,
     "metadata": {},
     "output_type": "execute_result"
    }
   ],
   "source": [
    "#sum of even ele\n",
    "np.sum(a1[a1%2==0])"
   ]
  },
  {
   "cell_type": "code",
   "execution_count": 288,
   "id": "100ffccb",
   "metadata": {},
   "outputs": [
    {
     "data": {
      "text/plain": [
       "array([[21, 17,  0],\n",
       "       [ 0, 21, 16],\n",
       "       [ 0, 20, 24],\n",
       "       [ 0, 21,  0],\n",
       "       [16,  0,  0]])"
      ]
     },
     "execution_count": 288,
     "metadata": {},
     "output_type": "execute_result"
    }
   ],
   "source": [
    "#array ele >3\n",
    "np.where(a1>15,a1,0)"
   ]
  },
  {
   "cell_type": "code",
   "execution_count": 294,
   "id": "90a9169d",
   "metadata": {},
   "outputs": [
    {
     "name": "stdout",
     "output_type": "stream",
     "text": [
      "[ 0  1  2  9  4 25]\n"
     ]
    }
   ],
   "source": [
    "#1d array where odd number\n",
    "arra=np.array([0,1,2,3,4,5])\n",
    "print(np.where(arra%2==0,arra,arra*arra))"
   ]
  },
  {
   "cell_type": "code",
   "execution_count": 310,
   "id": "f0dfaca2",
   "metadata": {},
   "outputs": [
    {
     "name": "stdout",
     "output_type": "stream",
     "text": [
      "[45.  7. nan 23. 24. nan]\n",
      "[2025.   49.   nan  529.  576.   nan]\n",
      "[45.  7. nan 23. 24. nan]\n"
     ]
    }
   ],
   "source": [
    "a10=np.array([45,7,np.nan,23,24,np.nan])\n",
    "print(a10)\n",
    "print(np.where(np.isnan(a10),a10,a10**2))\n",
    "print(a10)"
   ]
  },
  {
   "cell_type": "code",
   "execution_count": 315,
   "id": "182d8da0",
   "metadata": {},
   "outputs": [
    {
     "name": "stdout",
     "output_type": "stream",
     "text": [
      "[[14 12 14  7]\n",
      " [14  5  7  9]\n",
      " [14 14 14 11]\n",
      " [ 7 12  8  9]]\n",
      "[14 12 14  7 14  5  7  9 14 14 14 11  7 12  8  9]\n"
     ]
    }
   ],
   "source": [
    "#flatten #doesnt effect original array\n",
    "a=np.random.randint(5,16,(4,4))\n",
    "print(a)\n",
    "s1=a.flatten()\n",
    "print(s1)"
   ]
  },
  {
   "cell_type": "code",
   "execution_count": 316,
   "id": "ae1d50e9",
   "metadata": {},
   "outputs": [
    {
     "name": "stdout",
     "output_type": "stream",
     "text": [
      "[14 12 14  7 14  5  7  9 14 14 14 11  7 12  8  9]\n"
     ]
    }
   ],
   "source": [
    "#ravel\n",
    "a22=a.ravel()\n",
    "print(a22)"
   ]
  },
  {
   "cell_type": "code",
   "execution_count": 317,
   "id": "bd4b66cb",
   "metadata": {},
   "outputs": [
    {
     "data": {
      "text/plain": [
       "14"
      ]
     },
     "execution_count": 317,
     "metadata": {},
     "output_type": "execute_result"
    }
   ],
   "source": [
    "a1=np.array([1,2,3])\n",
    "a2=np.array([1,2,3])\n",
    "a1.dot(a2)"
   ]
  },
  {
   "cell_type": "code",
   "execution_count": null,
   "id": "fa6200e0",
   "metadata": {},
   "outputs": [],
   "source": []
  }
 ],
 "metadata": {
  "kernelspec": {
   "display_name": "Python 3 (ipykernel)",
   "language": "python",
   "name": "python3"
  },
  "language_info": {
   "codemirror_mode": {
    "name": "ipython",
    "version": 3
   },
   "file_extension": ".py",
   "mimetype": "text/x-python",
   "name": "python",
   "nbconvert_exporter": "python",
   "pygments_lexer": "ipython3",
   "version": "3.10.2"
  }
 },
 "nbformat": 4,
 "nbformat_minor": 5
}
