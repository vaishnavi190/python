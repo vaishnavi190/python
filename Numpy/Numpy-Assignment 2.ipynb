{
 "cells": [
  {
   "cell_type": "markdown",
   "id": "2ff02a19",
   "metadata": {},
   "source": [
    "# Assignment-2"
   ]
  },
  {
   "cell_type": "code",
   "execution_count": 3,
   "id": "b04ca63e",
   "metadata": {},
   "outputs": [],
   "source": [
    "import numpy as np"
   ]
  },
  {
   "cell_type": "code",
   "execution_count": 20,
   "id": "80385827",
   "metadata": {},
   "outputs": [
    {
     "data": {
      "text/plain": [
       "array([[7, 5, 7],\n",
       "       [7, 5, 7]])"
      ]
     },
     "execution_count": 20,
     "metadata": {},
     "output_type": "execute_result"
    }
   ],
   "source": [
    "#1.Write a NumPy program to broadcast on different shapes of arrays where p(3,3) + q(3).\n",
    "a_1d=np.array([[1,2,3],[1,2,3]])\n",
    "a1=np.array([6,3,4])\n",
    "a_1d+a1"
   ]
  },
  {
   "cell_type": "code",
   "execution_count": 21,
   "id": "bc3c61ce",
   "metadata": {},
   "outputs": [
    {
     "name": "stdout",
     "output_type": "stream",
     "text": [
      "[45.  7. nan 23. 24. nan]\n",
      "[45.  7.  0. 23. 24.  0.]\n"
     ]
    }
   ],
   "source": [
    "#2. How to replace all missing values with 0 in a numpy array?\n",
    "a7=np.array([45,7,np.nan,23,24,np.nan])\n",
    "print(a7)\n",
    "a8=np.where(np.isnan(a7),0,a7)\n",
    "print(a8)"
   ]
  },
  {
   "cell_type": "code",
   "execution_count": 22,
   "id": "96d9487b",
   "metadata": {},
   "outputs": [
    {
     "name": "stdout",
     "output_type": "stream",
     "text": [
      "Original array: [ 1  2  3  4  5  6  7  8  9 10]\n",
      "[ 1  2  3  4  5  6  7  8  9 10]\n"
     ]
    }
   ],
   "source": [
    "#3.How to get the second largest value of an array when grouped by another array?\n",
    "x = np.arange(1,10+1)\n",
    "print(\"Original array:\",x)\n",
    "print (x[np.argsort(x)[:]])"
   ]
  },
  {
   "cell_type": "code",
   "execution_count": 23,
   "id": "7a282f09",
   "metadata": {},
   "outputs": [
    {
     "name": "stdout",
     "output_type": "stream",
     "text": [
      "[[[0.26161172 0.49700468 0.99198256]\n",
      "  [0.55775651 0.10991398 0.97818433]\n",
      "  [0.60187174 0.82771886 0.67321418]]\n",
      "\n",
      " [[0.37422071 0.62851907 0.45786791]\n",
      "  [0.67487873 0.4662748  0.02683549]\n",
      "  [0.0653194  0.02119666 0.27240349]]\n",
      "\n",
      " [[0.98705089 0.67616971 0.20176178]\n",
      "  [0.15921599 0.52566067 0.33796135]\n",
      "  [0.60323655 0.65566138 0.56435439]]]\n"
     ]
    }
   ],
   "source": [
    "#4.Write a NumPy program to create a 3x3x3 array with random values. \n",
    "a7=np.random.random((3,3,3))\n",
    "print(a7)"
   ]
  },
  {
   "cell_type": "code",
   "execution_count": 24,
   "id": "c34c785d",
   "metadata": {},
   "outputs": [
    {
     "name": "stdout",
     "output_type": "stream",
     "text": [
      "[8 1 3 3 8 9 4 6 7 6 4 4 6 8 1]\n",
      "**************\n",
      "[ 8  1  3  3  8 -1  4  6  7  6  4  4  6  8  1]\n"
     ]
    }
   ],
   "source": [
    "#5. Write a NumPy program to create random vector of size 15 and replace the maximum value by -1.\n",
    "a=np.random.randint(1,10,15)\n",
    "print(a)\n",
    "print('**************')\n",
    "a[a.argmax()] = -1\n",
    "print(a)\n"
   ]
  },
  {
   "cell_type": "code",
   "execution_count": 25,
   "id": "5c0263f3",
   "metadata": {},
   "outputs": [
    {
     "name": "stdout",
     "output_type": "stream",
     "text": [
      "Original array:  [[ 0 10 20]\n",
      " [20 30 40]]\n",
      "Values bigger than 10 = [20 20 30 40]\n",
      "Their indices are  (array([0, 1, 1, 1], dtype=int64), array([2, 0, 1, 2], dtype=int64))\n"
     ]
    }
   ],
   "source": [
    "#6.Write a NumPy program to get the values and indices of the elements that are bigger than 10 in a given array.\n",
    "x = np.array([[0, 10, 20], [20, 30, 40]])\n",
    "print(\"Original array: \",x)\n",
    "print(\"Values bigger than 10 =\", x[x>10])\n",
    "print(\"Their indices are \", np.nonzero(x > 10))"
   ]
  },
  {
   "cell_type": "code",
   "execution_count": 26,
   "id": "03e4fda0",
   "metadata": {},
   "outputs": [
    {
     "name": "stdout",
     "output_type": "stream",
     "text": [
      "[1 2 3 4 8]\n"
     ]
    }
   ],
   "source": [
    "#7.Write a NumPy program to get the unique elements of an array. \n",
    "a=np.array([1,1,2,3,4,8,8])\n",
    "b=np.unique(a)\n",
    "print(b)"
   ]
  },
  {
   "cell_type": "code",
   "execution_count": 27,
   "id": "48ac8c3a",
   "metadata": {},
   "outputs": [
    {
     "name": "stdout",
     "output_type": "stream",
     "text": [
      "a: [1 2 3 4 5 6 7 8 9]\n",
      "powers of a: [ 1  4  9 16 25 36 49 64 81]\n"
     ]
    }
   ],
   "source": [
    "#8.Write a NumPy program to get the powers of an array values element-wise.\n",
    "a=np.arange(1,10)\n",
    "print('a:',a)\n",
    "print('powers of a:',a**2)"
   ]
  },
  {
   "cell_type": "code",
   "execution_count": 28,
   "id": "3698c241",
   "metadata": {},
   "outputs": [
    {
     "name": "stdout",
     "output_type": "stream",
     "text": [
      "[ 1  2  0  5  6  0  0  6 55]\n"
     ]
    }
   ],
   "source": [
    "#9.Write a NumPy program to remove the negative values in a NumPy array with 0.\n",
    "c=np.array([1,2,-4,5,6,-9,-8,6,55])\n",
    "print(np.where(c>0,c,0))"
   ]
  },
  {
   "cell_type": "code",
   "execution_count": 29,
   "id": "52c0d54b",
   "metadata": {},
   "outputs": [
    {
     "name": "stdout",
     "output_type": "stream",
     "text": [
      "[1.  1.2 2.  2.2 3.  1. ]\n"
     ]
    }
   ],
   "source": [
    "#10.Write a NumPy program to calculate the absolute value element-wise. \n",
    "b=np.array([1,1.2,2,2.2,3,1j])\n",
    "print(np.abs(b))"
   ]
  },
  {
   "cell_type": "code",
   "execution_count": 30,
   "id": "318843c3",
   "metadata": {},
   "outputs": [
    {
     "name": "stdout",
     "output_type": "stream",
     "text": [
      "[[64  7  5]\n",
      " [36  5  5]\n",
      " [ 5  5 36]]\n"
     ]
    }
   ],
   "source": [
    "#11.Write a NumPy program to replace odd number in 2d array by its square . \n",
    "a1=np.random.randint(1,10,(3,3))\n",
    "print(np.where(a1%2!=0,a1,a1**2))"
   ]
  },
  {
   "cell_type": "code",
   "execution_count": null,
   "id": "e6c8fb04",
   "metadata": {},
   "outputs": [],
   "source": []
  },
  {
   "cell_type": "code",
   "execution_count": null,
   "id": "d0556b85",
   "metadata": {},
   "outputs": [],
   "source": []
  }
 ],
 "metadata": {
  "kernelspec": {
   "display_name": "Python 3 (ipykernel)",
   "language": "python",
   "name": "python3"
  },
  "language_info": {
   "codemirror_mode": {
    "name": "ipython",
    "version": 3
   },
   "file_extension": ".py",
   "mimetype": "text/x-python",
   "name": "python",
   "nbconvert_exporter": "python",
   "pygments_lexer": "ipython3",
   "version": "3.10.2"
  }
 },
 "nbformat": 4,
 "nbformat_minor": 5
}
