{
 "cells": [
  {
   "cell_type": "markdown",
   "id": "41b44989",
   "metadata": {},
   "source": [
    "# #Assignment-1"
   ]
  },
  {
   "cell_type": "code",
   "execution_count": 1,
   "id": "c6eb02b0",
   "metadata": {},
   "outputs": [
    {
     "name": "stdout",
     "output_type": "stream",
     "text": [
      "revese of array is:\n",
      "[5 4 3 2 1]\n"
     ]
    }
   ],
   "source": [
    "#1.Write a NumPy program to reverse an array (first element becomes last).\n",
    "import numpy as np\n",
    "a=np.array([1,2,3,4,5])\n",
    "print(\"revese of array is:\")\n",
    "print(a[::-1])"
   ]
  },
  {
   "cell_type": "code",
   "execution_count": 2,
   "id": "0cba9a62",
   "metadata": {},
   "outputs": [
    {
     "name": "stdout",
     "output_type": "stream",
     "text": [
      "[ 1.  2.  3. 45.  5.]\n"
     ]
    }
   ],
   "source": [
    "#2.Write a NumPy program to convert an array to a float type. \n",
    "ar=np.array([1,2,3,45,5],dtype='float')\n",
    "print(ar)"
   ]
  },
  {
   "cell_type": "code",
   "execution_count": 3,
   "id": "e1dd6fd6",
   "metadata": {},
   "outputs": [
    {
     "name": "stdout",
     "output_type": "stream",
     "text": [
      "[1 2 3 4 5 7]\n"
     ]
    }
   ],
   "source": [
    "#3.Write a NumPy program to append values to the end of an array.\n",
    "a=np.array([1,2,3,4,5])\n",
    "b=np.append(a,7)\n",
    "print(b)"
   ]
  },
  {
   "cell_type": "code",
   "execution_count": 38,
   "id": "2e842f0b",
   "metadata": {},
   "outputs": [
    {
     "name": "stdout",
     "output_type": "stream",
     "text": [
      "[12 13 14 15 16 17 18 19 20 21 22 23 24 25 26 27 28 29 30 31 32 33 34 35\n",
      " 36 37 38]\n"
     ]
    }
   ],
   "source": [
    "#4.Write a NumPy program to create an array with values ranging from 12 to 38.\n",
    "a=np.arange(12,39)\n",
    "print(a)"
   ]
  },
  {
   "cell_type": "code",
   "execution_count": 5,
   "id": "bc4532a2",
   "metadata": {},
   "outputs": [
    {
     "name": "stdout",
     "output_type": "stream",
     "text": [
      "[[1 2 3 4]\n",
      " [4 5 6 7]]\n",
      "______________\n",
      "[1 4]\n",
      "[4 7]\n"
     ]
    }
   ],
   "source": [
    "#5.Write a NumPy program to find the indices of the maximum and minimum values along the given axis of an array.\n",
    "a1=np.array([[1,2,3,4],[4,5,6,7]])\n",
    "print(a1)\n",
    "print(\"______________\")\n",
    "\n",
    "print(np.min(a1,axis=1))\n",
    "print(np.max(a1,axis=1))\n"
   ]
  },
  {
   "cell_type": "code",
   "execution_count": 9,
   "id": "deddd088",
   "metadata": {},
   "outputs": [
    {
     "name": "stdout",
     "output_type": "stream",
     "text": [
      "a1: [[ 5  6  7  8  9]\n",
      " [10 11 12 13 14]]\n"
     ]
    }
   ],
   "source": [
    "#6.Write a NumPy program to convert 1-D arrays as columns into a 2-D array.\n",
    "a1=np.arange(5,15).reshape(2,5)\n",
    "print('a1:',a1)\n"
   ]
  },
  {
   "cell_type": "code",
   "execution_count": 10,
   "id": "8688ba06",
   "metadata": {},
   "outputs": [
    {
     "name": "stdout",
     "output_type": "stream",
     "text": [
      "[1 2 3 4 5 6 7 8 9]\n",
      "[[1]\n",
      " [2]\n",
      " [3]\n",
      " [4]\n",
      " [5]\n",
      " [6]\n",
      " [7]\n",
      " [8]\n",
      " [9]]\n"
     ]
    }
   ],
   "source": [
    "#7.Write a NumPy program to stack 1-D arrays as row wise. \n",
    "a1=np.arange(1,10)\n",
    "print(a1)\n",
    "print(np.vstack(a1))"
   ]
  },
  {
   "cell_type": "code",
   "execution_count": 11,
   "id": "3fb29104",
   "metadata": {},
   "outputs": [
    {
     "name": "stdout",
     "output_type": "stream",
     "text": [
      "[[0 1]\n",
      " [2 3]]\n",
      "minimun is [0 2]\n",
      "maximum is [1 3]\n"
     ]
    }
   ],
   "source": [
    "#8.Write a NumPy program to get the minimum and maximum value of a given array along the second axis. \n",
    "#Expected Output:\n",
    "#Original array:\n",
    "#[[0 1]\n",
    "#[2 3]]\n",
    "#Maximum value along the second axis:\n",
    "#[1 3]\n",
    "#Minimum value along the second axis:\n",
    "#[0 2]\n",
    "a=np.arange(0,4).reshape(2,2)\n",
    "print(a)\n",
    "print(\"minimun is\",np.min(a,1))\n",
    "print(\"maximum is\",np.max(a,1))"
   ]
  },
  {
   "cell_type": "code",
   "execution_count": null,
   "id": "6fff9ccb",
   "metadata": {},
   "outputs": [],
   "source": [
    "#9.Write a NumPy program (using NumPy) to sum of all the multiples of 3 or 5 below 100. \n",
    "a=np.arange(1,100)\n",
    "s=a[(a%3==0)|(a%5==0)]\n",
    "\n",
    "print(s)\n",
    "print(\"sum is\",np.sum(s))"
   ]
  },
  {
   "cell_type": "code",
   "execution_count": 34,
   "id": "fe16cbcb",
   "metadata": {},
   "outputs": [
    {
     "name": "stdout",
     "output_type": "stream",
     "text": [
      "[[ 16   7  20]\n",
      " [ 12  19  22]\n",
      " [ 23  17  14]\n",
      " [ 18  10  10]\n",
      " [ 12  24  15]\n",
      " [213 208 209]\n",
      " [213 213 209]\n",
      " [208 212 202]\n",
      " [212 206 202]\n",
      " [212 210 211]]\n"
     ]
    }
   ],
   "source": [
    "#10.Write a NumPy program to concatenate two 2-dimensional arrays. \n",
    "a1=np.random.randint(5,25,15).reshape(5,3)\n",
    "a2=np.random.randint(200,215,15).reshape(5,3)\n",
    "print(np.concatenate([a1,a2]))"
   ]
  },
  {
   "cell_type": "code",
   "execution_count": 35,
   "id": "02491b3b",
   "metadata": {},
   "outputs": [
    {
     "name": "stdout",
     "output_type": "stream",
     "text": [
      "[ 0. nan  4.]\n",
      "[False  True False]\n"
     ]
    }
   ],
   "source": [
    "#11.Write a NumPy program to test element-wise for NaN of a given array.\n",
    "a1=np.array([0,np.nan,4])\n",
    "print(a1)\n",
    "print(np.isnan(a1))"
   ]
  },
  {
   "cell_type": "code",
   "execution_count": 36,
   "id": "762a6784",
   "metadata": {},
   "outputs": [
    {
     "name": "stdout",
     "output_type": "stream",
     "text": [
      "[False  True False  True]\n"
     ]
    }
   ],
   "source": [
    "#12.Write a NumPy program to test whether each element of a 1-D array is also present in a second array.\n",
    "a1=np.array([1,2,3,4])\n",
    "a2=np.array([2,4])\n",
    "print(np.in1d(a1,a2))"
   ]
  },
  {
   "cell_type": "code",
   "execution_count": 37,
   "id": "d765017f",
   "metadata": {},
   "outputs": [
    {
     "name": "stdout",
     "output_type": "stream",
     "text": [
      "[[13  5 13 12]\n",
      " [ 6  6  9 14]\n",
      " [12 12 14 13]\n",
      " [ 8  7  7  9]]\n",
      "[13  5 13 12  6  6  9 14 12 12 14 13  8  7  7  9]\n"
     ]
    }
   ],
   "source": [
    "#13.Write a NumPy program to create a contiguous flattened array\n",
    "a=np.random.randint(5,16,(4,4))\n",
    "print(a)\n",
    "s1=a.flatten()\n",
    "print(s1)"
   ]
  },
  {
   "cell_type": "code",
   "execution_count": 12,
   "id": "1316a0a0",
   "metadata": {},
   "outputs": [
    {
     "name": "stdout",
     "output_type": "stream",
     "text": [
      "[[0 1 0 1 0 1 0 1]\n",
      " [1 0 1 0 1 0 1 0]\n",
      " [0 1 0 1 0 1 0 1]\n",
      " [1 0 1 0 1 0 1 0]\n",
      " [0 1 0 1 0 1 0 1]\n",
      " [1 0 1 0 1 0 1 0]\n",
      " [0 1 0 1 0 1 0 1]\n",
      " [1 0 1 0 1 0 1 0]]\n"
     ]
    }
   ],
   "source": [
    "#14.Write a NumPy program to create a 8x8 matrix and fill it with a checkerboard pattern.  Checkerboard pattern:\n",
    "Z = np.zeros ((8,8), dtype=int)\n",
    "Z[1::2, ::2]= 1\n",
    "Z[::2, 1::2] = 1\n",
    "print (Z)"
   ]
  },
  {
   "cell_type": "code",
   "execution_count": 28,
   "id": "c7ed6f63",
   "metadata": {},
   "outputs": [
    {
     "name": "stdout",
     "output_type": "stream",
     "text": [
      "[4 5]\n",
      "[ 7 10]\n",
      "Inner product of said vectors:\n",
      "78\n"
     ]
    }
   ],
   "source": [
    "#15.Write a NumPy program to compute the inner product of two given vectors \n",
    "x = np.array([4, 5])\n",
    "y = np.array([7, 10])\n",
    "print(x)\n",
    "print(y)\n",
    "print(\"Inner product of said vectors:\")\n",
    "print(np.dot(x, y))"
   ]
  },
  {
   "cell_type": "code",
   "execution_count": 33,
   "id": "2b3880b0",
   "metadata": {},
   "outputs": [
    {
     "name": "stdout",
     "output_type": "stream",
     "text": [
      "Original array:\n",
      " [[1. 1. 1. 1. 1.]\n",
      " [1. 1. 1. 1. 1.]\n",
      " [1. 1. 1. 1. 1.]\n",
      " [1. 1. 1. 1. 1.]\n",
      " [1. 1. 1. 1. 1.]]\n",
      "   ______________\n",
      "[[1. 1. 1. 1. 1.]\n",
      " [1. 0. 0. 0. 1.]\n",
      " [1. 0. 0. 0. 1.]\n",
      " [1. 0. 0. 0. 1.]\n",
      " [1. 1. 1. 1. 1.]]\n"
     ]
    }
   ],
   "source": [
    "#16.Write a NumPy program to create a 2d array with 1 on the border and 0 inside.\n",
    "x = np.ones((5,5))\n",
    "print(\"Original array:\\n\",x)\n",
    "print('   ______________')\n",
    "x[1:-1,1:-1] = 0\n",
    "print(x)"
   ]
  },
  {
   "cell_type": "code",
   "execution_count": 29,
   "id": "66f0f323",
   "metadata": {},
   "outputs": [
    {
     "name": "stdout",
     "output_type": "stream",
     "text": [
      "Original array: [10, 20, 30]\n",
      "After:: [10 20 30 40 50 60 70 80 90]\n"
     ]
    }
   ],
   "source": [
    "#17.Write a NumPy program to append values to the end of an array.\n",
    "x = [10, 20, 30]\n",
    "print(\"Original array:\",x)\n",
    "x = np.append(x, [[40, 50, 60], [70, 80, 90]])\n",
    "print(\"After::\",x)\n"
   ]
  },
  {
   "cell_type": "code",
   "execution_count": null,
   "id": "a1aa0ece",
   "metadata": {},
   "outputs": [],
   "source": [
    "#18.Write a NumPy program to get the unique elements of an array. \n",
    "a=np.array([1,1,2,3,4,8,8])\n",
    "b=np.unique(a)\n",
    "print(b)"
   ]
  },
  {
   "cell_type": "code",
   "execution_count": 27,
   "id": "8b210bf9",
   "metadata": {},
   "outputs": [
    {
     "name": "stdout",
     "output_type": "stream",
     "text": [
      "[[0 1]\n",
      " [2 3]]\n",
      "max: 3\n"
     ]
    }
   ],
   "source": [
    "#19.Write a NumPy program to get the index of a maximum element in a NumPy array along one axis.\n",
    "a=np.arange(0,4).reshape(2,2)\n",
    "print(a)\n",
    "i,j=np.unravel_index(a.argmax(),a.shape)\n",
    "print('max:',a[i,j])"
   ]
  }
 ],
 "metadata": {
  "kernelspec": {
   "display_name": "Python 3 (ipykernel)",
   "language": "python",
   "name": "python3"
  },
  "language_info": {
   "codemirror_mode": {
    "name": "ipython",
    "version": 3
   },
   "file_extension": ".py",
   "mimetype": "text/x-python",
   "name": "python",
   "nbconvert_exporter": "python",
   "pygments_lexer": "ipython3",
   "version": "3.10.2"
  }
 },
 "nbformat": 4,
 "nbformat_minor": 5
}
