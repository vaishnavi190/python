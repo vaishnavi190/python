{
 "cells": [
  {
   "cell_type": "markdown",
   "metadata": {},
   "source": [
    "# SQL Options in Spark HW\n",
    "\n",
    "Alirght let's apply what we learned in the lecture to a new dataset!\n",
    "\n",
    "**But first!**\n",
    "\n",
    "Let's start with Spark SQL. But first we need to create a Spark Session!"
   ]
  },
  {
   "cell_type": "code",
   "execution_count": 2,
   "metadata": {},
   "outputs": [],
   "source": [
    "import findspark\n",
    "findspark.init()\n",
    "import pyspark\n",
    "from pyspark.sql import SparkSession\n",
    "spark=SparkSession.builder.appName(\"Dfapp\").getOrCreate()"
   ]
  },
  {
   "cell_type": "markdown",
   "metadata": {},
   "source": [
    "## Read in our DataFrame for this Notebook\n",
    "\n",
    "For this notebook we will be using the Google Play Store csv file attached to this lecture. Let's go ahead and read it in. \n",
    "\n",
    "### About this dataset\n",
    "\n",
    "Contains a list of Google Play Store Apps and info about the apps like the category, rating, reviews, size, etc. \n",
    "\n",
    "**Source:** https://www.kaggle.com/lava18/google-play-store-apps"
   ]
  },
  {
   "cell_type": "code",
   "execution_count": 2,
   "metadata": {},
   "outputs": [],
   "source": []
  },
  {
   "cell_type": "markdown",
   "metadata": {},
   "source": [
    "## First things first\n",
    "\n",
    "Let's check out the first few lines of the dataframe to see what we are working with"
   ]
  },
  {
   "cell_type": "code",
   "execution_count": 3,
   "metadata": {},
   "outputs": [
    {
     "name": "stdout",
     "output_type": "stream",
     "text": [
      "+--------------------+--------------+------+-------+----+-----------+----+-----+--------------+--------------------+----------------+------------------+------------+\n",
      "|                 App|      Category|Rating|Reviews|Size|   Installs|Type|Price|Content Rating|              Genres|    Last Updated|       Current Ver| Android Ver|\n",
      "+--------------------+--------------+------+-------+----+-----------+----+-----+--------------+--------------------+----------------+------------------+------------+\n",
      "|Photo Editor & Ca...|ART_AND_DESIGN|   4.1|    159| 19M|    10,000+|Free|    0|      Everyone|        Art & Design| January 7, 2018|             1.0.0|4.0.3 and up|\n",
      "| Coloring book moana|ART_AND_DESIGN|   3.9|    967| 14M|   500,000+|Free|    0|      Everyone|Art & Design;Pret...|January 15, 2018|             2.0.0|4.0.3 and up|\n",
      "|U Launcher Lite –...|ART_AND_DESIGN|   4.7|  87510|8.7M| 5,000,000+|Free|    0|      Everyone|        Art & Design|  August 1, 2018|             1.2.4|4.0.3 and up|\n",
      "|Sketch - Draw & P...|ART_AND_DESIGN|   4.5| 215644| 25M|50,000,000+|Free|    0|          Teen|        Art & Design|    June 8, 2018|Varies with device|  4.2 and up|\n",
      "|Pixel Draw - Numb...|ART_AND_DESIGN|   4.3|    967|2.8M|   100,000+|Free|    0|      Everyone|Art & Design;Crea...|   June 20, 2018|               1.1|  4.4 and up|\n",
      "+--------------------+--------------+------+-------+----+-----------+----+-----+--------------+--------------------+----------------+------------------+------------+\n",
      "only showing top 5 rows\n",
      "\n"
     ]
    }
   ],
   "source": [
    "df=spark.read.option(\"header\",\"true\").csv(\"F:\\\\datasets\\\\googleplaystore.csv\",header=True,inferSchema=True)\n",
    "df.show(5)"
   ]
  },
  {
   "cell_type": "markdown",
   "metadata": {},
   "source": [
    "As well as the schema to make sure all the column types were correctly infered"
   ]
  },
  {
   "cell_type": "code",
   "execution_count": 4,
   "metadata": {},
   "outputs": [
    {
     "name": "stdout",
     "output_type": "stream",
     "text": [
      "root\n",
      " |-- App: string (nullable = true)\n",
      " |-- Category: string (nullable = true)\n",
      " |-- Rating: string (nullable = true)\n",
      " |-- Reviews: string (nullable = true)\n",
      " |-- Size: string (nullable = true)\n",
      " |-- Installs: string (nullable = true)\n",
      " |-- Type: string (nullable = true)\n",
      " |-- Price: string (nullable = true)\n",
      " |-- Content Rating: string (nullable = true)\n",
      " |-- Genres: string (nullable = true)\n",
      " |-- Last Updated: string (nullable = true)\n",
      " |-- Current Ver: string (nullable = true)\n",
      " |-- Android Ver: string (nullable = true)\n",
      "\n"
     ]
    }
   ],
   "source": [
    "df.printSchema()"
   ]
  },
  {
   "cell_type": "markdown",
   "metadata": {},
   "source": [
    "Looks like we need to edit some of the datatypes. We need to update Rating, Reviews and Price as integer (float for Rating) values for now, since the Size and Installs variables will need a bit more cleaning. Since we haven't been over this yet, I'm going to provide the code for you here so you can get a quick look at how it used (and how often we need it!).\n",
    "\n",
    "**make sure to change the df name to whatever you named your df**"
   ]
  },
  {
   "cell_type": "code",
   "execution_count": 5,
   "metadata": {},
   "outputs": [
    {
     "name": "stdout",
     "output_type": "stream",
     "text": [
      "root\n",
      " |-- App: string (nullable = true)\n",
      " |-- Category: string (nullable = true)\n",
      " |-- Rating: float (nullable = true)\n",
      " |-- Reviews: integer (nullable = true)\n",
      " |-- Size: string (nullable = true)\n",
      " |-- Installs: string (nullable = true)\n",
      " |-- Type: string (nullable = true)\n",
      " |-- Price: integer (nullable = true)\n",
      " |-- Content Rating: string (nullable = true)\n",
      " |-- Genres: string (nullable = true)\n",
      " |-- Last Updated: string (nullable = true)\n",
      " |-- Current Ver: string (nullable = true)\n",
      " |-- Android Ver: string (nullable = true)\n",
      "\n",
      "None\n"
     ]
    },
    {
     "data": {
      "text/html": [
       "<div>\n",
       "<style scoped>\n",
       "    .dataframe tbody tr th:only-of-type {\n",
       "        vertical-align: middle;\n",
       "    }\n",
       "\n",
       "    .dataframe tbody tr th {\n",
       "        vertical-align: top;\n",
       "    }\n",
       "\n",
       "    .dataframe thead th {\n",
       "        text-align: right;\n",
       "    }\n",
       "</style>\n",
       "<table border=\"1\" class=\"dataframe\">\n",
       "  <thead>\n",
       "    <tr style=\"text-align: right;\">\n",
       "      <th></th>\n",
       "      <th>App</th>\n",
       "      <th>Category</th>\n",
       "      <th>Rating</th>\n",
       "      <th>Reviews</th>\n",
       "      <th>Size</th>\n",
       "      <th>Installs</th>\n",
       "      <th>Type</th>\n",
       "      <th>Price</th>\n",
       "      <th>Content Rating</th>\n",
       "      <th>Genres</th>\n",
       "      <th>Last Updated</th>\n",
       "      <th>Current Ver</th>\n",
       "      <th>Android Ver</th>\n",
       "    </tr>\n",
       "  </thead>\n",
       "  <tbody>\n",
       "    <tr>\n",
       "      <th>0</th>\n",
       "      <td>Photo Editor &amp; Candy Camera &amp; Grid &amp; ScrapBook</td>\n",
       "      <td>ART_AND_DESIGN</td>\n",
       "      <td>4.1</td>\n",
       "      <td>159</td>\n",
       "      <td>19M</td>\n",
       "      <td>10,000+</td>\n",
       "      <td>Free</td>\n",
       "      <td>0</td>\n",
       "      <td>Everyone</td>\n",
       "      <td>Art &amp; Design</td>\n",
       "      <td>January 7, 2018</td>\n",
       "      <td>1.0.0</td>\n",
       "      <td>4.0.3 and up</td>\n",
       "    </tr>\n",
       "    <tr>\n",
       "      <th>1</th>\n",
       "      <td>Coloring book moana</td>\n",
       "      <td>ART_AND_DESIGN</td>\n",
       "      <td>3.9</td>\n",
       "      <td>967</td>\n",
       "      <td>14M</td>\n",
       "      <td>500,000+</td>\n",
       "      <td>Free</td>\n",
       "      <td>0</td>\n",
       "      <td>Everyone</td>\n",
       "      <td>Art &amp; Design;Pretend Play</td>\n",
       "      <td>January 15, 2018</td>\n",
       "      <td>2.0.0</td>\n",
       "      <td>4.0.3 and up</td>\n",
       "    </tr>\n",
       "    <tr>\n",
       "      <th>2</th>\n",
       "      <td>U Launcher Lite – FREE Live Cool Themes, Hide ...</td>\n",
       "      <td>ART_AND_DESIGN</td>\n",
       "      <td>4.7</td>\n",
       "      <td>87510</td>\n",
       "      <td>8.7M</td>\n",
       "      <td>5,000,000+</td>\n",
       "      <td>Free</td>\n",
       "      <td>0</td>\n",
       "      <td>Everyone</td>\n",
       "      <td>Art &amp; Design</td>\n",
       "      <td>August 1, 2018</td>\n",
       "      <td>1.2.4</td>\n",
       "      <td>4.0.3 and up</td>\n",
       "    </tr>\n",
       "    <tr>\n",
       "      <th>3</th>\n",
       "      <td>Sketch - Draw &amp; Paint</td>\n",
       "      <td>ART_AND_DESIGN</td>\n",
       "      <td>4.5</td>\n",
       "      <td>215644</td>\n",
       "      <td>25M</td>\n",
       "      <td>50,000,000+</td>\n",
       "      <td>Free</td>\n",
       "      <td>0</td>\n",
       "      <td>Teen</td>\n",
       "      <td>Art &amp; Design</td>\n",
       "      <td>June 8, 2018</td>\n",
       "      <td>Varies with device</td>\n",
       "      <td>4.2 and up</td>\n",
       "    </tr>\n",
       "    <tr>\n",
       "      <th>4</th>\n",
       "      <td>Pixel Draw - Number Art Coloring Book</td>\n",
       "      <td>ART_AND_DESIGN</td>\n",
       "      <td>4.3</td>\n",
       "      <td>967</td>\n",
       "      <td>2.8M</td>\n",
       "      <td>100,000+</td>\n",
       "      <td>Free</td>\n",
       "      <td>0</td>\n",
       "      <td>Everyone</td>\n",
       "      <td>Art &amp; Design;Creativity</td>\n",
       "      <td>June 20, 2018</td>\n",
       "      <td>1.1</td>\n",
       "      <td>4.4 and up</td>\n",
       "    </tr>\n",
       "  </tbody>\n",
       "</table>\n",
       "</div>"
      ],
      "text/plain": [
       "                                                 App        Category  Rating  \\\n",
       "0     Photo Editor & Candy Camera & Grid & ScrapBook  ART_AND_DESIGN     4.1   \n",
       "1                                Coloring book moana  ART_AND_DESIGN     3.9   \n",
       "2  U Launcher Lite – FREE Live Cool Themes, Hide ...  ART_AND_DESIGN     4.7   \n",
       "3                              Sketch - Draw & Paint  ART_AND_DESIGN     4.5   \n",
       "4              Pixel Draw - Number Art Coloring Book  ART_AND_DESIGN     4.3   \n",
       "\n",
       "   Reviews  Size     Installs  Type  Price Content Rating  \\\n",
       "0      159   19M      10,000+  Free      0       Everyone   \n",
       "1      967   14M     500,000+  Free      0       Everyone   \n",
       "2    87510  8.7M   5,000,000+  Free      0       Everyone   \n",
       "3   215644   25M  50,000,000+  Free      0           Teen   \n",
       "4      967  2.8M     100,000+  Free      0       Everyone   \n",
       "\n",
       "                      Genres      Last Updated         Current Ver  \\\n",
       "0               Art & Design   January 7, 2018               1.0.0   \n",
       "1  Art & Design;Pretend Play  January 15, 2018               2.0.0   \n",
       "2               Art & Design    August 1, 2018               1.2.4   \n",
       "3               Art & Design      June 8, 2018  Varies with device   \n",
       "4    Art & Design;Creativity     June 20, 2018                 1.1   \n",
       "\n",
       "    Android Ver  \n",
       "0  4.0.3 and up  \n",
       "1  4.0.3 and up  \n",
       "2  4.0.3 and up  \n",
       "3    4.2 and up  \n",
       "4    4.4 and up  "
      ]
     },
     "execution_count": 5,
     "metadata": {},
     "output_type": "execute_result"
    }
   ],
   "source": [
    "from pyspark.sql.types import IntegerType, FloatType\n",
    "newdf = df.withColumn(\"Rating\", df[\"Rating\"].cast(FloatType())) \\\n",
    "            .withColumn(\"Reviews\", df[\"Reviews\"].cast(IntegerType())) \\\n",
    "            .withColumn(\"Price\", df[\"Price\"].cast(IntegerType()))\n",
    "print(newdf.printSchema())\n",
    "newdf.limit(5).toPandas()"
   ]
  },
  {
   "cell_type": "markdown",
   "metadata": {},
   "source": [
    "Looks like that worked! Great! Let's dig in. "
   ]
  },
  {
   "cell_type": "markdown",
   "metadata": {},
   "source": [
    "## 1. Create Tempview\n",
    "\n",
    "Go ahead and create a tempview of the dataframe so we can work with it in spark sql."
   ]
  },
  {
   "cell_type": "code",
   "execution_count": 6,
   "metadata": {},
   "outputs": [],
   "source": [
    "df.createOrReplaceTempView(\"tempview\")\n",
    "newdf.createOrReplaceTempView('tempview2')"
   ]
  },
  {
   "cell_type": "markdown",
   "metadata": {},
   "source": [
    "## 2. Select all apps with ratings above 4.1\n",
    "\n",
    "Use your tempview to select all apps with ratings above 4.1"
   ]
  },
  {
   "cell_type": "code",
   "execution_count": 7,
   "metadata": {},
   "outputs": [
    {
     "name": "stdout",
     "output_type": "stream",
     "text": [
      "+--------------------+\n",
      "|                 App|\n",
      "+--------------------+\n",
      "|U Launcher Lite –...|\n",
      "|Sketch - Draw & P...|\n",
      "|Pixel Draw - Numb...|\n",
      "|Paper flowers ins...|\n",
      "|Garden Coloring Book|\n",
      "|Kids Paint Free -...|\n",
      "|Text on Photo - F...|\n",
      "|Name Art Photo Ed...|\n",
      "|Tattoo Name On My...|\n",
      "|Mandala Coloring ...|\n",
      "|3D Color Pixel by...|\n",
      "|Photo Designer - ...|\n",
      "|350 Diy Room Deco...|\n",
      "|FlipaClip - Carto...|\n",
      "|        ibis Paint X|\n",
      "|Superheroes Wallp...|\n",
      "|Mcqueen Coloring ...|\n",
      "|HD Mickey Minnie ...|\n",
      "|Harley Quinn wall...|\n",
      "|Colorfit - Drawin...|\n",
      "+--------------------+\n",
      "only showing top 20 rows\n",
      "\n"
     ]
    }
   ],
   "source": [
    "g1=spark.sql('select App from tempview2 where rating >4.1')\n",
    "g1.show()"
   ]
  },
  {
   "cell_type": "markdown",
   "metadata": {},
   "source": [
    "## 3. Now pass your results to an object \n",
    "(ie create a spark dataframe)\n",
    "\n",
    "Select just the App and Rating column where the Category is in the Comic category and the Rating is above 4.5."
   ]
  },
  {
   "cell_type": "code",
   "execution_count": 8,
   "metadata": {},
   "outputs": [
    {
     "name": "stdout",
     "output_type": "stream",
     "text": [
      "+---------------------+------+\n",
      "|                  App|Rating|\n",
      "+---------------------+------+\n",
      "| Manga Master - Be...|   4.6|\n",
      "| GANMA! - All orig...|   4.7|\n",
      "| Röhrich Werner So...|   4.7|\n",
      "| Unicorn Pokez - C...|   4.8|\n",
      "| Manga - read Thai...|   4.6|\n",
      "| Dragon Ball Wallp...|   4.7|\n",
      "| Children's cartoo...|   4.6|\n",
      "|【Ranobbe complete...|   NaN|\n",
      "|       Faustop Sounds|   4.7|\n",
      "| Hojiboy Tojiboyev...|   5.0|\n",
      "| Best Wallpapers B...|   4.7|\n",
      "| Laftel - Watching...|   4.6|\n",
      "|            WebComics|   4.8|\n",
      "| Superheroes, Marv...|   5.0|\n",
      "|       Pepsi Cards DC|   NaN|\n",
      "+---------------------+------+\n",
      "\n"
     ]
    }
   ],
   "source": [
    "\n",
    "i=spark.sql('select App,Rating from tempview2 where Rating>4.5 and Category=\"COMICS\"')\n",
    "i.show()"
   ]
  },
  {
   "cell_type": "markdown",
   "metadata": {},
   "source": [
    "## 4. Which category has the most cumulative reviews\n",
    "\n",
    "Only select the one category with the most reivews. \n",
    "\n",
    "*Note: will require adding all the review together for each category*"
   ]
  },
  {
   "cell_type": "code",
   "execution_count": 9,
   "metadata": {},
   "outputs": [
    {
     "name": "stdout",
     "output_type": "stream",
     "text": [
      "+--------+------------+\n",
      "|category|sum(reviews)|\n",
      "+--------+------------+\n",
      "|  EVENTS|      161018|\n",
      "+--------+------------+\n",
      "only showing top 1 row\n",
      "\n"
     ]
    }
   ],
   "source": [
    "o=spark.sql('select category,sum(reviews)from tempview2 group by category')\n",
    "o.show(1)\n",
    "\n"
   ]
  },
  {
   "cell_type": "markdown",
   "metadata": {},
   "source": [
    "## 5. Which App has the most reviews?\n",
    "\n",
    "Display ONLY the top result\n",
    "\n",
    "Include only the App column and the Reviews column."
   ]
  },
  {
   "cell_type": "code",
   "execution_count": 10,
   "metadata": {},
   "outputs": [
    {
     "name": "stdout",
     "output_type": "stream",
     "text": [
      "+--------+--------+\n",
      "|     App| Reviews|\n",
      "+--------+--------+\n",
      "|Facebook|78158306|\n",
      "+--------+--------+\n",
      "only showing top 1 row\n",
      "\n"
     ]
    }
   ],
   "source": [
    "j=spark.sql('select App,Reviews from tempview2 order by Reviews desc ')\n",
    "j.show(1)"
   ]
  },
  {
   "cell_type": "markdown",
   "metadata": {},
   "source": [
    "## 5. Select all apps that contain the word 'dating' anywhere in the title\n",
    "\n",
    "*Note: we did not cover this in the lecture. You'll have to use your SQL knowledge :) Google it if you need to.*"
   ]
  },
  {
   "cell_type": "code",
   "execution_count": 102,
   "metadata": {},
   "outputs": [
    {
     "name": "stdout",
     "output_type": "stream",
     "text": [
      "+--------------------+\n",
      "|                 App|\n",
      "+--------------------+\n",
      "|Meet, chat & date...|\n",
      "|Friend Find: free...|\n",
      "|Spine- The dating...|\n",
      "|Princess Closet :...|\n",
      "|happn – Local dat...|\n",
      "+--------------------+\n",
      "\n"
     ]
    }
   ],
   "source": [
    "l=spark.sql('select App from tempview2 where app like \"%dating%\"').show()"
   ]
  },
  {
   "cell_type": "markdown",
   "metadata": {},
   "source": [
    "## 6. Use SQL Transformer to display how many free apps there are in this list"
   ]
  },
  {
   "cell_type": "code",
   "execution_count": 12,
   "metadata": {},
   "outputs": [
    {
     "name": "stdout",
     "output_type": "stream",
     "text": [
      "+--------------------+\n",
      "|                 app|\n",
      "+--------------------+\n",
      "|Photo Editor & Ca...|\n",
      "| Coloring book moana|\n",
      "|U Launcher Lite –...|\n",
      "|Sketch - Draw & P...|\n",
      "|Pixel Draw - Numb...|\n",
      "|Paper flowers ins...|\n",
      "|Smoke Effect Phot...|\n",
      "|    Infinite Painter|\n",
      "|Garden Coloring Book|\n",
      "|Kids Paint Free -...|\n",
      "|Text on Photo - F...|\n",
      "|Name Art Photo Ed...|\n",
      "|Tattoo Name On My...|\n",
      "|Mandala Coloring ...|\n",
      "|3D Color Pixel by...|\n",
      "|Learn To Draw Kaw...|\n",
      "|Photo Designer - ...|\n",
      "|350 Diy Room Deco...|\n",
      "|FlipaClip - Carto...|\n",
      "|        ibis Paint X|\n",
      "+--------------------+\n",
      "only showing top 20 rows\n",
      "\n"
     ]
    }
   ],
   "source": [
    "\n",
    "from pyspark.ml.feature import SQLTransformer\n",
    "res=SQLTransformer(statement=\"select app from __THIS__ where Type='Free'\")\n",
    "res.transform(newdf).show()"
   ]
  },
  {
   "cell_type": "markdown",
   "metadata": {},
   "source": [
    "## 7. What is the most popular Genre?\n",
    "\n",
    "Which genre appears most often in the dataframe. Show only the top result."
   ]
  },
  {
   "cell_type": "code",
   "execution_count": 14,
   "metadata": {},
   "outputs": [
    {
     "name": "stdout",
     "output_type": "stream",
     "text": [
      "+-----------+------+\n",
      "|        App|Genres|\n",
      "+-----------+------+\n",
      "|Word Search|  Word|\n",
      "+-----------+------+\n",
      "only showing top 1 row\n",
      "\n"
     ]
    }
   ],
   "source": [
    "pd=spark.sql('select App, Genres from tempview2 order by genres desc')\n",
    "pd.show(1)"
   ]
  },
  {
   "cell_type": "markdown",
   "metadata": {},
   "source": [
    "## 8. Select all the apps in the 'Tools' genre that have more than 100 reviews"
   ]
  },
  {
   "cell_type": "code",
   "execution_count": 15,
   "metadata": {},
   "outputs": [
    {
     "name": "stdout",
     "output_type": "stream",
     "text": [
      "+--------------------+------+\n",
      "|                 app|Genres|\n",
      "+--------------------+------+\n",
      "|   Moto File Manager| Tools|\n",
      "|              Google| Tools|\n",
      "|    Google Translate| Tools|\n",
      "|        Moto Display| Tools|\n",
      "|      Motorola Alert| Tools|\n",
      "|     Motorola Assist| Tools|\n",
      "|Cache Cleaner-DU ...| Tools|\n",
      "|  Moto Suggestions ™| Tools|\n",
      "|          Moto Voice| Tools|\n",
      "|          Calculator| Tools|\n",
      "|         Device Help| Tools|\n",
      "|     Account Manager| Tools|\n",
      "|             myMetro| Tools|\n",
      "|        File Manager| Tools|\n",
      "|           My Telcel| Tools|\n",
      "|Calculator - free...| Tools|\n",
      "| ASUS Sound Recorder| Tools|\n",
      "|  iWnn IME for Nexus| Tools|\n",
      "|Samsung Max - Dat...| Tools|\n",
      "|          ZenUI Help| Tools|\n",
      "+--------------------+------+\n",
      "only showing top 20 rows\n",
      "\n"
     ]
    }
   ],
   "source": [
    "p=spark.sql('select app,Genres from tempview2 where Reviews>100 and Genres=\"Tools\"')\n",
    "p.show()"
   ]
  },
  {
   "cell_type": "markdown",
   "metadata": {},
   "source": [
    "## That's all folks! Great job!"
   ]
  }
 ],
 "metadata": {
  "kernelspec": {
   "display_name": "Python 3 (ipykernel)",
   "language": "python",
   "name": "python3"
  },
  "language_info": {
   "codemirror_mode": {
    "name": "ipython",
    "version": 3
   },
   "file_extension": ".py",
   "mimetype": "text/x-python",
   "name": "python",
   "nbconvert_exporter": "python",
   "pygments_lexer": "ipython3",
   "version": "3.10.2"
  }
 },
 "nbformat": 4,
 "nbformat_minor": 2
}
