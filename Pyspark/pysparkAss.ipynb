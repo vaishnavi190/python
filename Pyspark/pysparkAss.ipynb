{
 "cells": [
  {
   "cell_type": "code",
   "execution_count": 6,
   "id": "336e4778",
   "metadata": {},
   "outputs": [],
   "source": [
    "import findspark\n",
    "findspark.init()\n"
   ]
  },
  {
   "cell_type": "code",
   "execution_count": 8,
   "id": "5fa1de94",
   "metadata": {},
   "outputs": [],
   "source": [
    "import pyspark\n",
    "from pyspark.sql import SparkSession\n",
    "spark=SparkSession.builder.appName(\"Dfapp\").getOrCreate()"
   ]
  },
  {
   "cell_type": "code",
   "execution_count": 9,
   "id": "f692f340",
   "metadata": {},
   "outputs": [
    {
     "data": {
      "text/html": [
       "\n",
       "            <div>\n",
       "                <p><b>SparkSession - in-memory</b></p>\n",
       "                \n",
       "        <div>\n",
       "            <p><b>SparkContext</b></p>\n",
       "\n",
       "            <p><a href=\"http://LAPTOP-RSBALQM6:4040\">Spark UI</a></p>\n",
       "\n",
       "            <dl>\n",
       "              <dt>Version</dt>\n",
       "                <dd><code>v3.2.1</code></dd>\n",
       "              <dt>Master</dt>\n",
       "                <dd><code>local[*]</code></dd>\n",
       "              <dt>AppName</dt>\n",
       "                <dd><code>Dfapp</code></dd>\n",
       "            </dl>\n",
       "        </div>\n",
       "        \n",
       "            </div>\n",
       "        "
      ],
      "text/plain": [
       "<pyspark.sql.session.SparkSession at 0x283b0a743d0>"
      ]
     },
     "execution_count": 9,
     "metadata": {},
     "output_type": "execute_result"
    }
   ],
   "source": [
    "spark\n"
   ]
  },
  {
   "cell_type": "code",
   "execution_count": 24,
   "id": "6df1355e",
   "metadata": {},
   "outputs": [],
   "source": [
    "#df=spark.read.csv(\"F:\\\\item_details.csv\",header=True)\n",
    "#df=spark.read.option(\"header\",\"true\").csv(\"F:\\\\item_details.csv\",header=True)\n",
    "df=spark.read.option(\"header\",\"true\").csv(\"F:\\\\item_details.csv\",header=True,inferSchema=True)"
   ]
  },
  {
   "cell_type": "code",
   "execution_count": 25,
   "id": "e64dc75b",
   "metadata": {},
   "outputs": [
    {
     "name": "stdout",
     "output_type": "stream",
     "text": [
      "+------+---------+--------+--------+-----+--------+\n",
      "|itemid|itemname |itemcost|supplier|grade|Quantity|\n",
      "+------+---------+--------+--------+-----+--------+\n",
      "|     8|    chalk|   65.76|       X|    A|      10|\n",
      "|    12|   Pencil|     4.0|       Y|    B|       5|\n",
      "|    13|      Pen|    null|    null| null|    null|\n",
      "|    15|   Duster|    54.0|       Y|    C|       4|\n",
      "|    23|    Scale|    null|    null|    A|       3|\n",
      "|    34|   Colors|    50.0|    null|    B|       1|\n",
      "+------+---------+--------+--------+-----+--------+\n",
      "\n"
     ]
    }
   ],
   "source": [
    "df.show()"
   ]
  },
  {
   "cell_type": "code",
   "execution_count": 26,
   "id": "3f6ae70d",
   "metadata": {},
   "outputs": [
    {
     "data": {
      "text/plain": [
       "['itemid', 'itemname ', 'itemcost', 'supplier', 'grade', 'Quantity']"
      ]
     },
     "execution_count": 26,
     "metadata": {},
     "output_type": "execute_result"
    }
   ],
   "source": [
    "df.columns"
   ]
  },
  {
   "cell_type": "code",
   "execution_count": 27,
   "id": "d977e704",
   "metadata": {},
   "outputs": [
    {
     "data": {
      "text/plain": [
       "[Row(itemid=8, itemname ='chalk', itemcost=65.76, supplier='X', grade='A', Quantity=10),\n",
       " Row(itemid=12, itemname ='Pencil', itemcost=4.0, supplier='Y', grade='B', Quantity=5),\n",
       " Row(itemid=13, itemname ='Pen', itemcost=None, supplier=None, grade=None, Quantity=None),\n",
       " Row(itemid=15, itemname ='Duster', itemcost=54.0, supplier='Y', grade='C', Quantity=4)]"
      ]
     },
     "execution_count": 27,
     "metadata": {},
     "output_type": "execute_result"
    }
   ],
   "source": [
    "df.head(4)"
   ]
  },
  {
   "cell_type": "code",
   "execution_count": 28,
   "id": "8e42e2bb",
   "metadata": {},
   "outputs": [
    {
     "name": "stdout",
     "output_type": "stream",
     "text": [
      "+------+\n",
      "|itemid|\n",
      "+------+\n",
      "|     8|\n",
      "|    12|\n",
      "|    13|\n",
      "+------+\n",
      "only showing top 3 rows\n",
      "\n"
     ]
    }
   ],
   "source": [
    "df.select('itemid').show(3)"
   ]
  },
  {
   "cell_type": "code",
   "execution_count": 29,
   "id": "ae6261b9",
   "metadata": {},
   "outputs": [
    {
     "data": {
      "text/plain": [
       "[('itemid', 'int'),\n",
       " ('itemname ', 'string'),\n",
       " ('itemcost', 'double'),\n",
       " ('supplier', 'string'),\n",
       " ('grade', 'string'),\n",
       " ('Quantity', 'int')]"
      ]
     },
     "execution_count": 29,
     "metadata": {},
     "output_type": "execute_result"
    }
   ],
   "source": [
    "df.dtypes"
   ]
  },
  {
   "cell_type": "code",
   "execution_count": 30,
   "id": "a28a1db5",
   "metadata": {},
   "outputs": [
    {
     "name": "stdout",
     "output_type": "stream",
     "text": [
      "root\n",
      " |-- itemid: integer (nullable = true)\n",
      " |-- itemname : string (nullable = true)\n",
      " |-- itemcost: double (nullable = true)\n",
      " |-- supplier: string (nullable = true)\n",
      " |-- grade: string (nullable = true)\n",
      " |-- Quantity: integer (nullable = true)\n",
      "\n"
     ]
    }
   ],
   "source": [
    "df.printSchema()"
   ]
  },
  {
   "cell_type": "code",
   "execution_count": 39,
   "id": "4d27036d",
   "metadata": {},
   "outputs": [
    {
     "name": "stdout",
     "output_type": "stream",
     "text": [
      "+------+---------+--------+--------+-----+--------+------+\n",
      "|itemid|itemname |itemcost|supplier|grade|Quantity|billss|\n",
      "+------+---------+--------+--------+-----+--------+------+\n",
      "|     8|    chalk|   65.76|       X|    A|      10| 657.6|\n",
      "|    12|   Pencil|     4.0|       Y|    B|       5|  20.0|\n",
      "|    13|      Pen|    null|    null| null|    null|  null|\n",
      "|    15|   Duster|    54.0|       Y|    C|       4| 216.0|\n",
      "|    23|    Scale|    null|    null|    A|       3|  null|\n",
      "|    34|   Colors|    50.0|    null|    B|       1|  50.0|\n",
      "+------+---------+--------+--------+-----+--------+------+\n",
      "\n"
     ]
    }
   ],
   "source": [
    "df6=df.withColumn('billss',df['itemcost']*df['Quantity'])\n",
    "df6.show()"
   ]
  },
  {
   "cell_type": "code",
   "execution_count": 40,
   "id": "84880dc9",
   "metadata": {},
   "outputs": [
    {
     "name": "stdout",
     "output_type": "stream",
     "text": [
      "+------+---------+--------+--------+-----+----+\n",
      "|itemid|itemname |itemcost|supplier|grade| qty|\n",
      "+------+---------+--------+--------+-----+----+\n",
      "|     8|    chalk|   65.76|       X|    A|  10|\n",
      "|    12|   Pencil|     4.0|       Y|    B|   5|\n",
      "|    13|      Pen|    null|    null| null|null|\n",
      "|    15|   Duster|    54.0|       Y|    C|   4|\n",
      "|    23|    Scale|    null|    null|    A|   3|\n",
      "|    34|   Colors|    50.0|    null|    B|   1|\n",
      "+------+---------+--------+--------+-----+----+\n",
      "\n"
     ]
    }
   ],
   "source": [
    "#rename col\n",
    "df.withColumnRenamed('Quantity','qty').show()"
   ]
  },
  {
   "cell_type": "code",
   "execution_count": 41,
   "id": "0393fe0f",
   "metadata": {},
   "outputs": [
    {
     "name": "stdout",
     "output_type": "stream",
     "text": [
      "+------+---------+--------+--------+-----+--------+\n",
      "|itemid|itemname |itemcost|supplier|grade|Quantity|\n",
      "+------+---------+--------+--------+-----+--------+\n",
      "|     8|    chalk|   65.76|       X|    A|      10|\n",
      "|    12|   Pencil|     4.0|       Y|    B|       5|\n",
      "|    13|      Pen|    null|    null| null|    null|\n",
      "|    15|   Duster|    54.0|       Y|    C|       4|\n",
      "|    23|    Scale|    null|    null|    A|       3|\n",
      "|    34|   Colors|    50.0|    null|    B|       1|\n",
      "+------+---------+--------+--------+-----+--------+\n",
      "\n"
     ]
    }
   ],
   "source": [
    "#col drop\n",
    "\n",
    "df6.drop('billss').show()"
   ]
  },
  {
   "cell_type": "code",
   "execution_count": 42,
   "id": "660e0a02",
   "metadata": {},
   "outputs": [
    {
     "data": {
      "text/plain": [
       "<bound method DataFrameNaFunctions.drop of <pyspark.sql.dataframe.DataFrameNaFunctions object at 0x00000283B1F55ED0>>"
      ]
     },
     "execution_count": 42,
     "metadata": {},
     "output_type": "execute_result"
    }
   ],
   "source": [
    "df6.na.drop()"
   ]
  },
  {
   "cell_type": "code",
   "execution_count": null,
   "id": "35682614",
   "metadata": {},
   "outputs": [],
   "source": []
  },
  {
   "cell_type": "code",
   "execution_count": 43,
   "id": "bd2fe0a9",
   "metadata": {},
   "outputs": [
    {
     "name": "stdout",
     "output_type": "stream",
     "text": [
      "+------+---------+--------+--------+-----+--------+------+\n",
      "|itemid|itemname |itemcost|supplier|grade|Quantity|billss|\n",
      "+------+---------+--------+--------+-----+--------+------+\n",
      "|     8|    chalk|   65.76|       X|    A|      10| 657.6|\n",
      "|    12|   Pencil|     4.0|       Y|    B|       5|  20.0|\n",
      "|    13|      Pen|    null|    null| null|    null|  null|\n",
      "|    15|   Duster|    54.0|       Y|    C|       4| 216.0|\n",
      "|    23|    Scale|    null|    null|    A|       3|  null|\n",
      "|    34|   Colors|    50.0|    null|    B|       1|  50.0|\n",
      "+------+---------+--------+--------+-----+--------+------+\n",
      "\n"
     ]
    }
   ],
   "source": [
    "df6.show()"
   ]
  },
  {
   "cell_type": "code",
   "execution_count": 44,
   "id": "c29c96ed",
   "metadata": {},
   "outputs": [
    {
     "name": "stdout",
     "output_type": "stream",
     "text": [
      "+------+---------+--------+------------+------------+--------+------+\n",
      "|itemid|itemname |itemcost|    supplier|       grade|Quantity|billss|\n",
      "+------+---------+--------+------------+------------+--------+------+\n",
      "|     8|    chalk|   65.76|           X|           A|      10| 657.6|\n",
      "|    12|   Pencil|     4.0|           Y|           B|       5|  20.0|\n",
      "|    13|      Pen|    null|not provided|not provided|    null|  null|\n",
      "|    15|   Duster|    54.0|           Y|           C|       4| 216.0|\n",
      "|    23|    Scale|    null|not provided|           A|       3|  null|\n",
      "|    34|   Colors|    50.0|not provided|           B|       1|  50.0|\n",
      "+------+---------+--------+------------+------------+--------+------+\n",
      "\n"
     ]
    }
   ],
   "source": [
    "#replaces only string\n",
    "df6.na.fill('not provided').show()"
   ]
  },
  {
   "cell_type": "code",
   "execution_count": 45,
   "id": "c8cdf573",
   "metadata": {},
   "outputs": [
    {
     "name": "stdout",
     "output_type": "stream",
     "text": [
      "+------+---------+--------+--------+-----+--------+------+\n",
      "|itemid|itemname |itemcost|supplier|grade|Quantity|billss|\n",
      "+------+---------+--------+--------+-----+--------+------+\n",
      "|     8|    chalk|   65.76|       X|    A|      10| 657.6|\n",
      "|    12|   Pencil|     4.0|       Y|    B|       5|  20.0|\n",
      "|    13|      Pen|    99.0|    null| null|      99|  99.0|\n",
      "|    15|   Duster|    54.0|       Y|    C|       4| 216.0|\n",
      "|    23|    Scale|    99.0|    null|    A|       3|  99.0|\n",
      "|    34|   Colors|    50.0|    null|    B|       1|  50.0|\n",
      "+------+---------+--------+--------+-----+--------+------+\n",
      "\n"
     ]
    }
   ],
   "source": [
    "#replaces int value\n",
    "df6.na.fill(99).show()"
   ]
  },
  {
   "cell_type": "code",
   "execution_count": 46,
   "id": "296d6cec",
   "metadata": {},
   "outputs": [
    {
     "name": "stdout",
     "output_type": "stream",
     "text": [
      "+------+---------+--------+--------+-----+--------+\n",
      "|itemid|itemname |itemcost|supplier|grade|Quantity|\n",
      "+------+---------+--------+--------+-----+--------+\n",
      "|     8|    chalk|   65.76|       X|    A|      10|\n",
      "|    12|   Pencil|     4.0|       Y|    B|       5|\n",
      "|    13|      Pen|    null|    null| null|    null|\n",
      "|    15|   Duster|    54.0|       Y|    C|       4|\n",
      "|    23|    Scale|    null|    null|    A|       3|\n",
      "|    34|   Colors|    50.0|    null|    B|       1|\n",
      "+------+---------+--------+--------+-----+--------+\n",
      "\n"
     ]
    }
   ],
   "source": [
    "df.show()"
   ]
  },
  {
   "cell_type": "code",
   "execution_count": 47,
   "id": "12943db4",
   "metadata": {},
   "outputs": [],
   "source": [
    "pdf=spark.read.option(\"header\",\"true\").csv(\"F:\\\\item_details.csv\",header=True,inferSchema=True)"
   ]
  },
  {
   "cell_type": "code",
   "execution_count": 48,
   "id": "f44d498e",
   "metadata": {},
   "outputs": [
    {
     "name": "stdout",
     "output_type": "stream",
     "text": [
      "+------+---------+--------+--------+-----+--------+\n",
      "|itemid|itemname |itemcost|supplier|grade|Quantity|\n",
      "+------+---------+--------+--------+-----+--------+\n",
      "|     8|    chalk|   65.76|       X|    A|      10|\n",
      "|    12|   Pencil|     4.0|       Y|    B|       5|\n",
      "|    13|     null|    null|    null| null|    null|\n",
      "|    15|   Duster|    54.0|       Y|    C|       4|\n",
      "|    23|    Scale|    null|    null|    A|       3|\n",
      "|    34|   Colors|    50.0|    null|    B|       1|\n",
      "+------+---------+--------+--------+-----+--------+\n",
      "\n"
     ]
    }
   ],
   "source": [
    "pdf.show()"
   ]
  },
  {
   "cell_type": "code",
   "execution_count": 53,
   "id": "601dc034",
   "metadata": {},
   "outputs": [
    {
     "name": "stdout",
     "output_type": "stream",
     "text": [
      "+------+---------+--------+--------+-----+--------+\n",
      "|itemid|itemname |itemcost|supplier|grade|Quantity|\n",
      "+------+---------+--------+--------+-----+--------+\n",
      "|     8|    chalk|   65.76|       X|    A|      10|\n",
      "|    12|   Pencil|     4.0|       Y|    B|       5|\n",
      "|    15|   Duster|    54.0|       Y|    C|       4|\n",
      "|    23|    Scale|    null|    null|    A|       3|\n",
      "|    34|   Colors|    50.0|    null|    B|       1|\n",
      "+------+---------+--------+--------+-----+--------+\n",
      "\n"
     ]
    }
   ],
   "source": [
    "pdf.na.drop(how='any',thresh=3).show()#min 3 non null values shd be there"
   ]
  },
  {
   "cell_type": "code",
   "execution_count": 55,
   "id": "46456100",
   "metadata": {},
   "outputs": [
    {
     "name": "stdout",
     "output_type": "stream",
     "text": [
      "+------+---------+--------+--------+-----+--------+\n",
      "|itemid|itemname |itemcost|supplier|grade|Quantity|\n",
      "+------+---------+--------+--------+-----+--------+\n",
      "|     8|    chalk|   65.76|       X|    A|      10|\n",
      "|    12|   Pencil|     4.0|       Y|    B|       5|\n",
      "|    15|   Duster|    54.0|       Y|    C|       4|\n",
      "+------+---------+--------+--------+-----+--------+\n",
      "\n"
     ]
    }
   ],
   "source": [
    "pdf.na.drop(subset=['supplier']).show()"
   ]
  },
  {
   "cell_type": "code",
   "execution_count": 102,
   "id": "22cd9f62",
   "metadata": {},
   "outputs": [
    {
     "ename": "TypeError",
     "evalue": "value should be a float, int, string, bool or dict",
     "output_type": "error",
     "traceback": [
      "\u001b[1;31m---------------------------------------------------------------------------\u001b[0m",
      "\u001b[1;31mTypeError\u001b[0m                                 Traceback (most recent call last)",
      "Input \u001b[1;32mIn [102]\u001b[0m, in \u001b[0;36m<module>\u001b[1;34m\u001b[0m\n\u001b[1;32m----> 1\u001b[0m \u001b[43mpdf\u001b[49m\u001b[38;5;241;43m.\u001b[39;49m\u001b[43mna\u001b[49m\u001b[38;5;241;43m.\u001b[39;49m\u001b[43mfill\u001b[49m\u001b[43m(\u001b[49m\u001b[43mf\u001b[49m\u001b[38;5;241;43m.\u001b[39;49m\u001b[43mmean\u001b[49m\u001b[43m(\u001b[49m\u001b[38;5;124;43m'\u001b[39;49m\u001b[38;5;124;43mitemcost\u001b[39;49m\u001b[38;5;124;43m'\u001b[39;49m\u001b[43m)\u001b[49m\u001b[43m,\u001b[49m\u001b[43m(\u001b[49m\u001b[43mpdf\u001b[49m\u001b[43m[\u001b[49m\u001b[38;5;124;43m'\u001b[39;49m\u001b[38;5;124;43mitemcost\u001b[39;49m\u001b[38;5;124;43m'\u001b[39;49m\u001b[43m]\u001b[49m\u001b[43m)\u001b[49m\u001b[43m)\u001b[49m\u001b[38;5;241m.\u001b[39mshow()\n",
      "File \u001b[1;32m~\\AppData\\Local\\Programs\\Python\\Python310\\lib\\site-packages\\pyspark\\sql\\dataframe.py:2789\u001b[0m, in \u001b[0;36mDataFrameNaFunctions.fill\u001b[1;34m(self, value, subset)\u001b[0m\n\u001b[0;32m   2788\u001b[0m \u001b[38;5;28;01mdef\u001b[39;00m \u001b[38;5;21mfill\u001b[39m(\u001b[38;5;28mself\u001b[39m, value, subset\u001b[38;5;241m=\u001b[39m\u001b[38;5;28;01mNone\u001b[39;00m):\n\u001b[1;32m-> 2789\u001b[0m     \u001b[38;5;28;01mreturn\u001b[39;00m \u001b[38;5;28;43mself\u001b[39;49m\u001b[38;5;241;43m.\u001b[39;49m\u001b[43mdf\u001b[49m\u001b[38;5;241;43m.\u001b[39;49m\u001b[43mfillna\u001b[49m\u001b[43m(\u001b[49m\u001b[43mvalue\u001b[49m\u001b[38;5;241;43m=\u001b[39;49m\u001b[43mvalue\u001b[49m\u001b[43m,\u001b[49m\u001b[43m \u001b[49m\u001b[43msubset\u001b[49m\u001b[38;5;241;43m=\u001b[39;49m\u001b[43msubset\u001b[49m\u001b[43m)\u001b[49m\n",
      "File \u001b[1;32m~\\AppData\\Local\\Programs\\Python\\Python310\\lib\\site-packages\\pyspark\\sql\\dataframe.py:2088\u001b[0m, in \u001b[0;36mDataFrame.fillna\u001b[1;34m(self, value, subset)\u001b[0m\n\u001b[0;32m   2038\u001b[0m \u001b[38;5;124;03m\"\"\"Replace null values, alias for ``na.fill()``.\u001b[39;00m\n\u001b[0;32m   2039\u001b[0m \u001b[38;5;124;03m:func:`DataFrame.fillna` and :func:`DataFrameNaFunctions.fill` are aliases of each other.\u001b[39;00m\n\u001b[0;32m   2040\u001b[0m \n\u001b[1;32m   (...)\u001b[0m\n\u001b[0;32m   2085\u001b[0m \u001b[38;5;124;03m+---+------+-------+\u001b[39;00m\n\u001b[0;32m   2086\u001b[0m \u001b[38;5;124;03m\"\"\"\u001b[39;00m\n\u001b[0;32m   2087\u001b[0m \u001b[38;5;28;01mif\u001b[39;00m \u001b[38;5;129;01mnot\u001b[39;00m \u001b[38;5;28misinstance\u001b[39m(value, (\u001b[38;5;28mfloat\u001b[39m, \u001b[38;5;28mint\u001b[39m, \u001b[38;5;28mstr\u001b[39m, \u001b[38;5;28mbool\u001b[39m, \u001b[38;5;28mdict\u001b[39m)):\n\u001b[1;32m-> 2088\u001b[0m     \u001b[38;5;28;01mraise\u001b[39;00m \u001b[38;5;167;01mTypeError\u001b[39;00m(\u001b[38;5;124m\"\u001b[39m\u001b[38;5;124mvalue should be a float, int, string, bool or dict\u001b[39m\u001b[38;5;124m\"\u001b[39m)\n\u001b[0;32m   2090\u001b[0m \u001b[38;5;66;03m# Note that bool validates isinstance(int), but we don't want to\u001b[39;00m\n\u001b[0;32m   2091\u001b[0m \u001b[38;5;66;03m# convert bools to floats\u001b[39;00m\n\u001b[0;32m   2093\u001b[0m \u001b[38;5;28;01mif\u001b[39;00m \u001b[38;5;129;01mnot\u001b[39;00m \u001b[38;5;28misinstance\u001b[39m(value, \u001b[38;5;28mbool\u001b[39m) \u001b[38;5;129;01mand\u001b[39;00m \u001b[38;5;28misinstance\u001b[39m(value, \u001b[38;5;28mint\u001b[39m):\n",
      "\u001b[1;31mTypeError\u001b[0m: value should be a float, int, string, bool or dict"
     ]
    }
   ],
   "source": [
    "pdf.na.fill(f.mean('itemcost'),(pdf['itemcost'])).show()"
   ]
  },
  {
   "cell_type": "code",
   "execution_count": 104,
   "id": "c2beac06",
   "metadata": {},
   "outputs": [
    {
     "data": {
      "text/plain": [
       "DataFrame[avg(itemcost): double]"
      ]
     },
     "execution_count": 104,
     "metadata": {},
     "output_type": "execute_result"
    }
   ],
   "source": [
    "from pyspark.sql import functions as f\n",
    "avg=pdf.agg(f.mean('itemcost'))\n",
    "avg\n"
   ]
  },
  {
   "cell_type": "code",
   "execution_count": 63,
   "id": "3539df5f",
   "metadata": {},
   "outputs": [],
   "source": [
    "edf=spark.read.option(\"header\",\"true\").csv(\"F:\\\\employees.csv\",header=True,inferSchema=True)"
   ]
  },
  {
   "cell_type": "code",
   "execution_count": 64,
   "id": "c326426c",
   "metadata": {},
   "outputs": [
    {
     "name": "stdout",
     "output_type": "stream",
     "text": [
      "+----------+------+----------+---------------+------+-------+-----------------+--------------------+\n",
      "|First Name|Gender|Start Date|Last Login Time|Salary|Bonus %|Senior Management|                Team|\n",
      "+----------+------+----------+---------------+------+-------+-----------------+--------------------+\n",
      "|   Douglas|  Male|      null|           null|  null|   null|             null|           Marketing|\n",
      "|    Thomas|  Male| 3/31/1996|        6:53 AM| 61933|   4.17|             true|                null|\n",
      "|     Maria|  null| 4/23/1993|       11:17 AM|  null| 11.858|            false|             Finance|\n",
      "|     Jerry|  Male|03-04-2005|           null|  null|   null|             true|             Finance|\n",
      "|     Larry|  Male| 1/24/1998|        4:47 PM|  null|  1.389|             true|     Client Services|\n",
      "|    Dennis|  null| 4/18/1987|        1:35 AM|115163| 10.125|            false|               Legal|\n",
      "|      Ruby|Female|      null|           null| 65476| 10.012|             true|             Product|\n",
      "|      null|Female| 7/20/2015|       10:43 AM|  null|   null|             null|             Finance|\n",
      "|    Angela|Female|      null|        6:29 AM| 95570|   null|             true|         Engineering|\n",
      "|   Frances|Female|      null|        6:51 AM|139852|  7.524|             true|Business Development|\n",
      "|    Louise|Female|08-12-1980|        9:01 AM| 63241| 15.132|             true|                null|\n",
      "|     Julie|Female|10/26/1997|        3:19 PM|102508| 12.637|             true|               Legal|\n",
      "|   Brandon|  Male|12-01-1980|        1:08 AM|112807| 17.492|             true|     Human Resources|\n",
      "|      Gary|  Male| 1/27/2008|       11:40 PM|109831|  5.831|            false|               Sales|\n",
      "|  Kimberly|Female| 1/14/1999|        7:13 AM| 41426| 14.543|             true|             Finance|\n",
      "|   Lillian|Female|06-05-2016|        6:09 AM| 59414|  1.256|            false|             Product|\n",
      "|    Jeremy|  Male| 9/21/2010|        5:56 AM| 90370|  7.369|            false|     Human Resources|\n",
      "|     Shawn|  Male|12-07-1986|        7:45 PM|111737|  6.414|            false|             Product|\n",
      "|     Diana|Female|10/23/1981|       10:27 AM|132940| 19.082|            false|     Client Services|\n",
      "|     Donna|Female| 7/22/2010|        3:48 AM| 81014|  1.894|            false|             Product|\n",
      "+----------+------+----------+---------------+------+-------+-----------------+--------------------+\n",
      "only showing top 20 rows\n",
      "\n"
     ]
    }
   ],
   "source": [
    "edf.show()"
   ]
  },
  {
   "cell_type": "code",
   "execution_count": 76,
   "id": "c68f2161",
   "metadata": {},
   "outputs": [
    {
     "name": "stdout",
     "output_type": "stream",
     "text": [
      "+-------+----------+------+----------+---------------+------------------+------------------+--------------------+\n",
      "|summary|First Name|Gender|Start Date|Last Login Time|            Salary|           Bonus %|                Team|\n",
      "+-------+----------+------+----------+---------------+------------------+------------------+--------------------+\n",
      "|  count|       933|   853|       996|            997|               995|               996|                 956|\n",
      "|   mean|      null|  null|      null|           null| 90601.67638190955|10.201956827309235|                null|\n",
      "| stddev|      null|  null|      null|           null|32913.908066363096| 5.532092566649024|                null|\n",
      "|    min|     Aaron|Female|01-01-2014|       10:00 AM|             35013|             1.015|Business Development|\n",
      "|    max|    Willie|  Male| 9/30/2007|        9:59 AM|            149908|            19.944|               Sales|\n",
      "+-------+----------+------+----------+---------------+------------------+------------------+--------------------+\n",
      "\n"
     ]
    }
   ],
   "source": [
    "edf.describe().show()"
   ]
  },
  {
   "cell_type": "code",
   "execution_count": 77,
   "id": "169efedc",
   "metadata": {},
   "outputs": [
    {
     "data": {
      "text/plain": [
       "[('First Name', 'string'),\n",
       " ('Gender', 'string'),\n",
       " ('Start Date', 'string'),\n",
       " ('Last Login Time', 'string'),\n",
       " ('Salary', 'int'),\n",
       " ('Bonus %', 'double'),\n",
       " ('Senior Management', 'boolean'),\n",
       " ('Team', 'string')]"
      ]
     },
     "execution_count": 77,
     "metadata": {},
     "output_type": "execute_result"
    }
   ],
   "source": [
    "edf.dtypes"
   ]
  },
  {
   "cell_type": "code",
   "execution_count": 78,
   "id": "ca01e5fb",
   "metadata": {},
   "outputs": [
    {
     "name": "stdout",
     "output_type": "stream",
     "text": [
      "root\n",
      " |-- First Name: string (nullable = true)\n",
      " |-- Gender: string (nullable = true)\n",
      " |-- Start Date: string (nullable = true)\n",
      " |-- Last Login Time: string (nullable = true)\n",
      " |-- Salary: integer (nullable = true)\n",
      " |-- Bonus %: double (nullable = true)\n",
      " |-- Senior Management: boolean (nullable = true)\n",
      " |-- Team: string (nullable = true)\n",
      "\n"
     ]
    }
   ],
   "source": [
    "edf.printSchema()"
   ]
  },
  {
   "cell_type": "code",
   "execution_count": 71,
   "id": "cede45fc",
   "metadata": {},
   "outputs": [
    {
     "name": "stdout",
     "output_type": "stream",
     "text": [
      "+----------+------+----------+---------------+------+-------+-----------------+--------------------+\n",
      "|First Name|Gender|        SD|Last Login Time|Salary|Bonus %|Senior Management|                Team|\n",
      "+----------+------+----------+---------------+------+-------+-----------------+--------------------+\n",
      "|   Douglas|  Male|      null|           null|  null|   null|             null|           Marketing|\n",
      "|    Thomas|  Male| 3/31/1996|        6:53 AM| 61933|   4.17|             true|                null|\n",
      "|     Maria|  null| 4/23/1993|       11:17 AM|  null| 11.858|            false|             Finance|\n",
      "|     Jerry|  Male|03-04-2005|           null|  null|   null|             true|             Finance|\n",
      "|     Larry|  Male| 1/24/1998|        4:47 PM|  null|  1.389|             true|     Client Services|\n",
      "|    Dennis|  null| 4/18/1987|        1:35 AM|115163| 10.125|            false|               Legal|\n",
      "|      Ruby|Female|      null|           null| 65476| 10.012|             true|             Product|\n",
      "|      null|Female| 7/20/2015|       10:43 AM|  null|   null|             null|             Finance|\n",
      "|    Angela|Female|      null|        6:29 AM| 95570|   null|             true|         Engineering|\n",
      "|   Frances|Female|      null|        6:51 AM|139852|  7.524|             true|Business Development|\n",
      "|    Louise|Female|08-12-1980|        9:01 AM| 63241| 15.132|             true|                null|\n",
      "|     Julie|Female|10/26/1997|        3:19 PM|102508| 12.637|             true|               Legal|\n",
      "|   Brandon|  Male|12-01-1980|        1:08 AM|112807| 17.492|             true|     Human Resources|\n",
      "|      Gary|  Male| 1/27/2008|       11:40 PM|109831|  5.831|            false|               Sales|\n",
      "|  Kimberly|Female| 1/14/1999|        7:13 AM| 41426| 14.543|             true|             Finance|\n",
      "|   Lillian|Female|06-05-2016|        6:09 AM| 59414|  1.256|            false|             Product|\n",
      "|    Jeremy|  Male| 9/21/2010|        5:56 AM| 90370|  7.369|            false|     Human Resources|\n",
      "|     Shawn|  Male|12-07-1986|        7:45 PM|111737|  6.414|            false|             Product|\n",
      "|     Diana|Female|10/23/1981|       10:27 AM|132940| 19.082|            false|     Client Services|\n",
      "|     Donna|Female| 7/22/2010|        3:48 AM| 81014|  1.894|            false|             Product|\n",
      "+----------+------+----------+---------------+------+-------+-----------------+--------------------+\n",
      "only showing top 20 rows\n",
      "\n"
     ]
    }
   ],
   "source": [
    "edf.withColumnRenamed('start Date','SD').show()"
   ]
  },
  {
   "cell_type": "code",
   "execution_count": 70,
   "id": "3f49cd46",
   "metadata": {},
   "outputs": [
    {
     "name": "stdout",
     "output_type": "stream",
     "text": [
      "+----------+------+----------+---------------+------+-------+-----------------+--------------------+\n",
      "|First Name|Gender|Start Date|Last Login Time|Salary|Bonus %|Senior Management|                Team|\n",
      "+----------+------+----------+---------------+------+-------+-----------------+--------------------+\n",
      "|    Thomas|  Male| 3/31/1996|        6:53 AM| 61933|   4.17|             true|                null|\n",
      "|     Maria|  null| 4/23/1993|       11:17 AM|  null| 11.858|            false|             Finance|\n",
      "|     Jerry|  Male|03-04-2005|           null|  null|   null|             true|             Finance|\n",
      "|     Larry|  Male| 1/24/1998|        4:47 PM|  null|  1.389|             true|     Client Services|\n",
      "|    Dennis|  null| 4/18/1987|        1:35 AM|115163| 10.125|            false|               Legal|\n",
      "|      Ruby|Female|      null|           null| 65476| 10.012|             true|             Product|\n",
      "|      null|Female| 7/20/2015|       10:43 AM|  null|   null|             null|             Finance|\n",
      "|    Angela|Female|      null|        6:29 AM| 95570|   null|             true|         Engineering|\n",
      "|   Frances|Female|      null|        6:51 AM|139852|  7.524|             true|Business Development|\n",
      "|    Louise|Female|08-12-1980|        9:01 AM| 63241| 15.132|             true|                null|\n",
      "|     Julie|Female|10/26/1997|        3:19 PM|102508| 12.637|             true|               Legal|\n",
      "|   Brandon|  Male|12-01-1980|        1:08 AM|112807| 17.492|             true|     Human Resources|\n",
      "|      Gary|  Male| 1/27/2008|       11:40 PM|109831|  5.831|            false|               Sales|\n",
      "|  Kimberly|Female| 1/14/1999|        7:13 AM| 41426| 14.543|             true|             Finance|\n",
      "|   Lillian|Female|06-05-2016|        6:09 AM| 59414|  1.256|            false|             Product|\n",
      "|    Jeremy|  Male| 9/21/2010|        5:56 AM| 90370|  7.369|            false|     Human Resources|\n",
      "|     Shawn|  Male|12-07-1986|        7:45 PM|111737|  6.414|            false|             Product|\n",
      "|     Diana|Female|10/23/1981|       10:27 AM|132940| 19.082|            false|     Client Services|\n",
      "|     Donna|Female| 7/22/2010|        3:48 AM| 81014|  1.894|            false|             Product|\n",
      "|      Lois|  null| 4/22/1995|        7:18 PM| 64714|  4.934|             true|               Legal|\n",
      "+----------+------+----------+---------------+------+-------+-----------------+--------------------+\n",
      "only showing top 20 rows\n",
      "\n"
     ]
    }
   ],
   "source": [
    "edf.na.drop(how='any',thresh=4).show()"
   ]
  },
  {
   "cell_type": "code",
   "execution_count": 66,
   "id": "1b26fdf6",
   "metadata": {},
   "outputs": [
    {
     "name": "stdout",
     "output_type": "stream",
     "text": [
      "+----------+------+----------+---------------+------+-------+-----------------+--------------------+\n",
      "|First Name|Gender|Start Date|Last Login Time|Salary|Bonus %|Senior Management|                Team|\n",
      "+----------+------+----------+---------------+------+-------+-----------------+--------------------+\n",
      "|   Douglas|  Male|      null|           null|  null|   null|             null|           Marketing|\n",
      "|    Thomas|  Male| 3/31/1996|        6:53 AM| 61933|   4.17|             true|                null|\n",
      "|     Jerry|  Male|03-04-2005|           null|  null|   null|             true|             Finance|\n",
      "|     Larry|  Male| 1/24/1998|        4:47 PM|  null|  1.389|             true|     Client Services|\n",
      "|      Ruby|Female|      null|           null| 65476| 10.012|             true|             Product|\n",
      "|      null|Female| 7/20/2015|       10:43 AM|  null|   null|             null|             Finance|\n",
      "|    Angela|Female|      null|        6:29 AM| 95570|   null|             true|         Engineering|\n",
      "|   Frances|Female|      null|        6:51 AM|139852|  7.524|             true|Business Development|\n",
      "|    Louise|Female|08-12-1980|        9:01 AM| 63241| 15.132|             true|                null|\n",
      "|     Julie|Female|10/26/1997|        3:19 PM|102508| 12.637|             true|               Legal|\n",
      "|   Brandon|  Male|12-01-1980|        1:08 AM|112807| 17.492|             true|     Human Resources|\n",
      "|      Gary|  Male| 1/27/2008|       11:40 PM|109831|  5.831|            false|               Sales|\n",
      "|  Kimberly|Female| 1/14/1999|        7:13 AM| 41426| 14.543|             true|             Finance|\n",
      "|   Lillian|Female|06-05-2016|        6:09 AM| 59414|  1.256|            false|             Product|\n",
      "|    Jeremy|  Male| 9/21/2010|        5:56 AM| 90370|  7.369|            false|     Human Resources|\n",
      "|     Shawn|  Male|12-07-1986|        7:45 PM|111737|  6.414|            false|             Product|\n",
      "|     Diana|Female|10/23/1981|       10:27 AM|132940| 19.082|            false|     Client Services|\n",
      "|     Donna|Female| 7/22/2010|        3:48 AM| 81014|  1.894|            false|             Product|\n",
      "|   Matthew|  Male|09-05-1995|        2:12 AM|100612| 13.645|            false|           Marketing|\n",
      "|      null|  Male| 6/14/2012|        4:19 PM|125792|  5.042|             null|                null|\n",
      "+----------+------+----------+---------------+------+-------+-----------------+--------------------+\n",
      "only showing top 20 rows\n",
      "\n"
     ]
    }
   ],
   "source": [
    "edf.na.drop(subset=['Gender']).show()"
   ]
  },
  {
   "cell_type": "code",
   "execution_count": 68,
   "id": "53d7adc4",
   "metadata": {},
   "outputs": [
    {
     "name": "stdout",
     "output_type": "stream",
     "text": [
      "+----------+------+----------+---------------+------+-------+-----------------+--------------------+\n",
      "|First Name|Gender|Start Date|Last Login Time|Salary|Bonus %|Senior Management|                Team|\n",
      "+----------+------+----------+---------------+------+-------+-----------------+--------------------+\n",
      "|   Douglas|  Male|      null|           null|  null|   null|             null|           Marketing|\n",
      "|    Thomas|  Male| 3/31/1996|        6:53 AM| 61933|   4.17|             true|                none|\n",
      "|     Maria|  none| 4/23/1993|       11:17 AM|  null| 11.858|            false|             Finance|\n",
      "|     Jerry|  Male|03-04-2005|           null|  null|   null|             true|             Finance|\n",
      "|     Larry|  Male| 1/24/1998|        4:47 PM|  null|  1.389|             true|     Client Services|\n",
      "|    Dennis|  none| 4/18/1987|        1:35 AM|115163| 10.125|            false|               Legal|\n",
      "|      Ruby|Female|      null|           null| 65476| 10.012|             true|             Product|\n",
      "|      null|Female| 7/20/2015|       10:43 AM|  null|   null|             null|             Finance|\n",
      "|    Angela|Female|      null|        6:29 AM| 95570|   null|             true|         Engineering|\n",
      "|   Frances|Female|      null|        6:51 AM|139852|  7.524|             true|Business Development|\n",
      "|    Louise|Female|08-12-1980|        9:01 AM| 63241| 15.132|             true|                none|\n",
      "|     Julie|Female|10/26/1997|        3:19 PM|102508| 12.637|             true|               Legal|\n",
      "|   Brandon|  Male|12-01-1980|        1:08 AM|112807| 17.492|             true|     Human Resources|\n",
      "|      Gary|  Male| 1/27/2008|       11:40 PM|109831|  5.831|            false|               Sales|\n",
      "|  Kimberly|Female| 1/14/1999|        7:13 AM| 41426| 14.543|             true|             Finance|\n",
      "|   Lillian|Female|06-05-2016|        6:09 AM| 59414|  1.256|            false|             Product|\n",
      "|    Jeremy|  Male| 9/21/2010|        5:56 AM| 90370|  7.369|            false|     Human Resources|\n",
      "|     Shawn|  Male|12-07-1986|        7:45 PM|111737|  6.414|            false|             Product|\n",
      "|     Diana|Female|10/23/1981|       10:27 AM|132940| 19.082|            false|     Client Services|\n",
      "|     Donna|Female| 7/22/2010|        3:48 AM| 81014|  1.894|            false|             Product|\n",
      "+----------+------+----------+---------------+------+-------+-----------------+--------------------+\n",
      "only showing top 20 rows\n",
      "\n"
     ]
    }
   ],
   "source": [
    "edf.na.fill(\"none\",['Gender','Salary','Team']).show()"
   ]
  },
  {
   "cell_type": "code",
   "execution_count": 73,
   "id": "51d13e61",
   "metadata": {},
   "outputs": [
    {
     "name": "stdout",
     "output_type": "stream",
     "text": [
      "+----------+------+----------+---------------+------+-------+-----------------+--------------------+\n",
      "|First Name|Gender|Start Date|Last Login Time|Salary|Bonus %|Senior Management|                Team|\n",
      "+----------+------+----------+---------------+------+-------+-----------------+--------------------+\n",
      "|   Douglas|  Male|      null|           null|     0|    0.0|             null|           Marketing|\n",
      "|    Thomas|  Male| 3/31/1996|        6:53 AM| 61933|   4.17|             true|                null|\n",
      "|     Maria|  null| 4/23/1993|       11:17 AM|     0| 11.858|            false|             Finance|\n",
      "|     Jerry|  Male|03-04-2005|           null|     0|    0.0|             true|             Finance|\n",
      "|     Larry|  Male| 1/24/1998|        4:47 PM|     0|  1.389|             true|     Client Services|\n",
      "|    Dennis|  null| 4/18/1987|        1:35 AM|115163| 10.125|            false|               Legal|\n",
      "|      Ruby|Female|      null|           null| 65476| 10.012|             true|             Product|\n",
      "|      null|Female| 7/20/2015|       10:43 AM|     0|    0.0|             null|             Finance|\n",
      "|    Angela|Female|      null|        6:29 AM| 95570|    0.0|             true|         Engineering|\n",
      "|   Frances|Female|      null|        6:51 AM|139852|  7.524|             true|Business Development|\n",
      "|    Louise|Female|08-12-1980|        9:01 AM| 63241| 15.132|             true|                null|\n",
      "|     Julie|Female|10/26/1997|        3:19 PM|102508| 12.637|             true|               Legal|\n",
      "|   Brandon|  Male|12-01-1980|        1:08 AM|112807| 17.492|             true|     Human Resources|\n",
      "|      Gary|  Male| 1/27/2008|       11:40 PM|109831|  5.831|            false|               Sales|\n",
      "|  Kimberly|Female| 1/14/1999|        7:13 AM| 41426| 14.543|             true|             Finance|\n",
      "|   Lillian|Female|06-05-2016|        6:09 AM| 59414|  1.256|            false|             Product|\n",
      "|    Jeremy|  Male| 9/21/2010|        5:56 AM| 90370|  7.369|            false|     Human Resources|\n",
      "|     Shawn|  Male|12-07-1986|        7:45 PM|111737|  6.414|            false|             Product|\n",
      "|     Diana|Female|10/23/1981|       10:27 AM|132940| 19.082|            false|     Client Services|\n",
      "|     Donna|Female| 7/22/2010|        3:48 AM| 81014|  1.894|            false|             Product|\n",
      "+----------+------+----------+---------------+------+-------+-----------------+--------------------+\n",
      "only showing top 20 rows\n",
      "\n"
     ]
    }
   ],
   "source": [
    "edf.na.fill(0,['Salary','Bonus %']).show()"
   ]
  },
  {
   "cell_type": "code",
   "execution_count": 108,
   "id": "16bf57e2",
   "metadata": {},
   "outputs": [
    {
     "name": "stdout",
     "output_type": "stream",
     "text": [
      "+-----------------+\n",
      "|      avg(Salary)|\n",
      "+-----------------+\n",
      "|90601.67638190955|\n",
      "+-----------------+\n",
      "\n"
     ]
    }
   ],
   "source": [
    "from pyspark.sql import functions as f\n",
    "avg=edf.agg(f.mean('Salary'))\n",
    "avg.show()\n",
    "\n"
   ]
  },
  {
   "cell_type": "code",
   "execution_count": 100,
   "id": "87209597",
   "metadata": {},
   "outputs": [
    {
     "ename": "TypeError",
     "evalue": "value should be a float, int, string, bool or dict",
     "output_type": "error",
     "traceback": [
      "\u001b[1;31m---------------------------------------------------------------------------\u001b[0m",
      "\u001b[1;31mTypeError\u001b[0m                                 Traceback (most recent call last)",
      "Input \u001b[1;32mIn [100]\u001b[0m, in \u001b[0;36m<module>\u001b[1;34m\u001b[0m\n\u001b[1;32m----> 1\u001b[0m \u001b[43medf\u001b[49m\u001b[38;5;241;43m.\u001b[39;49m\u001b[43mna\u001b[49m\u001b[38;5;241;43m.\u001b[39;49m\u001b[43mfill\u001b[49m\u001b[43m(\u001b[49m\u001b[43mf\u001b[49m\u001b[38;5;241;43m.\u001b[39;49m\u001b[43mmean\u001b[49m\u001b[43m(\u001b[49m\u001b[38;5;124;43m'\u001b[39;49m\u001b[38;5;124;43mSalary\u001b[39;49m\u001b[38;5;124;43m'\u001b[39;49m\u001b[43m)\u001b[49m\u001b[43m,\u001b[49m\u001b[43m(\u001b[49m\u001b[43medf\u001b[49m\u001b[43m[\u001b[49m\u001b[38;5;124;43m'\u001b[39;49m\u001b[38;5;124;43mSalary\u001b[39;49m\u001b[38;5;124;43m'\u001b[39;49m\u001b[43m]\u001b[49m\u001b[43m)\u001b[49m\u001b[43m)\u001b[49m\u001b[38;5;241m.\u001b[39mshow()\n",
      "File \u001b[1;32m~\\AppData\\Local\\Programs\\Python\\Python310\\lib\\site-packages\\pyspark\\sql\\dataframe.py:2789\u001b[0m, in \u001b[0;36mDataFrameNaFunctions.fill\u001b[1;34m(self, value, subset)\u001b[0m\n\u001b[0;32m   2788\u001b[0m \u001b[38;5;28;01mdef\u001b[39;00m \u001b[38;5;21mfill\u001b[39m(\u001b[38;5;28mself\u001b[39m, value, subset\u001b[38;5;241m=\u001b[39m\u001b[38;5;28;01mNone\u001b[39;00m):\n\u001b[1;32m-> 2789\u001b[0m     \u001b[38;5;28;01mreturn\u001b[39;00m \u001b[38;5;28;43mself\u001b[39;49m\u001b[38;5;241;43m.\u001b[39;49m\u001b[43mdf\u001b[49m\u001b[38;5;241;43m.\u001b[39;49m\u001b[43mfillna\u001b[49m\u001b[43m(\u001b[49m\u001b[43mvalue\u001b[49m\u001b[38;5;241;43m=\u001b[39;49m\u001b[43mvalue\u001b[49m\u001b[43m,\u001b[49m\u001b[43m \u001b[49m\u001b[43msubset\u001b[49m\u001b[38;5;241;43m=\u001b[39;49m\u001b[43msubset\u001b[49m\u001b[43m)\u001b[49m\n",
      "File \u001b[1;32m~\\AppData\\Local\\Programs\\Python\\Python310\\lib\\site-packages\\pyspark\\sql\\dataframe.py:2088\u001b[0m, in \u001b[0;36mDataFrame.fillna\u001b[1;34m(self, value, subset)\u001b[0m\n\u001b[0;32m   2038\u001b[0m \u001b[38;5;124;03m\"\"\"Replace null values, alias for ``na.fill()``.\u001b[39;00m\n\u001b[0;32m   2039\u001b[0m \u001b[38;5;124;03m:func:`DataFrame.fillna` and :func:`DataFrameNaFunctions.fill` are aliases of each other.\u001b[39;00m\n\u001b[0;32m   2040\u001b[0m \n\u001b[1;32m   (...)\u001b[0m\n\u001b[0;32m   2085\u001b[0m \u001b[38;5;124;03m+---+------+-------+\u001b[39;00m\n\u001b[0;32m   2086\u001b[0m \u001b[38;5;124;03m\"\"\"\u001b[39;00m\n\u001b[0;32m   2087\u001b[0m \u001b[38;5;28;01mif\u001b[39;00m \u001b[38;5;129;01mnot\u001b[39;00m \u001b[38;5;28misinstance\u001b[39m(value, (\u001b[38;5;28mfloat\u001b[39m, \u001b[38;5;28mint\u001b[39m, \u001b[38;5;28mstr\u001b[39m, \u001b[38;5;28mbool\u001b[39m, \u001b[38;5;28mdict\u001b[39m)):\n\u001b[1;32m-> 2088\u001b[0m     \u001b[38;5;28;01mraise\u001b[39;00m \u001b[38;5;167;01mTypeError\u001b[39;00m(\u001b[38;5;124m\"\u001b[39m\u001b[38;5;124mvalue should be a float, int, string, bool or dict\u001b[39m\u001b[38;5;124m\"\u001b[39m)\n\u001b[0;32m   2090\u001b[0m \u001b[38;5;66;03m# Note that bool validates isinstance(int), but we don't want to\u001b[39;00m\n\u001b[0;32m   2091\u001b[0m \u001b[38;5;66;03m# convert bools to floats\u001b[39;00m\n\u001b[0;32m   2093\u001b[0m \u001b[38;5;28;01mif\u001b[39;00m \u001b[38;5;129;01mnot\u001b[39;00m \u001b[38;5;28misinstance\u001b[39m(value, \u001b[38;5;28mbool\u001b[39m) \u001b[38;5;129;01mand\u001b[39;00m \u001b[38;5;28misinstance\u001b[39m(value, \u001b[38;5;28mint\u001b[39m):\n",
      "\u001b[1;31mTypeError\u001b[0m: value should be a float, int, string, bool or dict"
     ]
    }
   ],
   "source": [
    "edf.na.fill(f.mean('Salary'),(edf['Salary'])).show()"
   ]
  },
  {
   "cell_type": "code",
   "execution_count": 118,
   "id": "331c2952",
   "metadata": {},
   "outputs": [],
   "source": [
    "from pyspark.ml.feature import Imputer \n",
    "imp=Imputer(inputCols=['Salary'],outputCols=['{}_Imputed'.format(c) for c in ['Salary']]).setStrategy('mean')"
   ]
  },
  {
   "cell_type": "code",
   "execution_count": 119,
   "id": "2053a12c",
   "metadata": {},
   "outputs": [
    {
     "name": "stdout",
     "output_type": "stream",
     "text": [
      "+----------+------+----------+---------------+------+-------+-----------------+--------------------+--------------+\n",
      "|First Name|Gender|Start Date|Last Login Time|Salary|Bonus %|Senior Management|                Team|Salary_Imputed|\n",
      "+----------+------+----------+---------------+------+-------+-----------------+--------------------+--------------+\n",
      "|   Douglas|  Male|      null|           null|  null|   null|             null|           Marketing|         90601|\n",
      "|    Thomas|  Male| 3/31/1996|        6:53 AM| 61933|   4.17|             true|                null|         61933|\n",
      "|     Maria|  null| 4/23/1993|       11:17 AM|  null| 11.858|            false|             Finance|         90601|\n",
      "|     Jerry|  Male|03-04-2005|           null|  null|   null|             true|             Finance|         90601|\n",
      "|     Larry|  Male| 1/24/1998|        4:47 PM|  null|  1.389|             true|     Client Services|         90601|\n",
      "|    Dennis|  null| 4/18/1987|        1:35 AM|115163| 10.125|            false|               Legal|        115163|\n",
      "|      Ruby|Female|      null|           null| 65476| 10.012|             true|             Product|         65476|\n",
      "|      null|Female| 7/20/2015|       10:43 AM|  null|   null|             null|             Finance|         90601|\n",
      "|    Angela|Female|      null|        6:29 AM| 95570|   null|             true|         Engineering|         95570|\n",
      "|   Frances|Female|      null|        6:51 AM|139852|  7.524|             true|Business Development|        139852|\n",
      "|    Louise|Female|08-12-1980|        9:01 AM| 63241| 15.132|             true|                null|         63241|\n",
      "|     Julie|Female|10/26/1997|        3:19 PM|102508| 12.637|             true|               Legal|        102508|\n",
      "|   Brandon|  Male|12-01-1980|        1:08 AM|112807| 17.492|             true|     Human Resources|        112807|\n",
      "|      Gary|  Male| 1/27/2008|       11:40 PM|109831|  5.831|            false|               Sales|        109831|\n",
      "|  Kimberly|Female| 1/14/1999|        7:13 AM| 41426| 14.543|             true|             Finance|         41426|\n",
      "|   Lillian|Female|06-05-2016|        6:09 AM| 59414|  1.256|            false|             Product|         59414|\n",
      "|    Jeremy|  Male| 9/21/2010|        5:56 AM| 90370|  7.369|            false|     Human Resources|         90370|\n",
      "|     Shawn|  Male|12-07-1986|        7:45 PM|111737|  6.414|            false|             Product|        111737|\n",
      "|     Diana|Female|10/23/1981|       10:27 AM|132940| 19.082|            false|     Client Services|        132940|\n",
      "|     Donna|Female| 7/22/2010|        3:48 AM| 81014|  1.894|            false|             Product|         81014|\n",
      "+----------+------+----------+---------------+------+-------+-----------------+--------------------+--------------+\n",
      "only showing top 20 rows\n",
      "\n"
     ]
    }
   ],
   "source": [
    "imp.fit(edf).transform(edf).show()"
   ]
  },
  {
   "cell_type": "code",
   "execution_count": 127,
   "id": "a6f4c350",
   "metadata": {},
   "outputs": [],
   "source": [
    "from pyspark.ml.feature import Imputer #doent work with non numeric\n",
    "impt=Imputer(inputCols=['Gender'],outputCols=['{}_Imputed'.format(c) for c in ['Gender']]).setStrategy('')"
   ]
  },
  {
   "cell_type": "code",
   "execution_count": 128,
   "id": "16a5ed33",
   "metadata": {},
   "outputs": [
    {
     "ename": "IllegalArgumentException",
     "evalue": "Imputer_bc4bac8c09ef parameter strategy given invalid value .",
     "output_type": "error",
     "traceback": [
      "\u001b[1;31m---------------------------------------------------------------------------\u001b[0m",
      "\u001b[1;31mIllegalArgumentException\u001b[0m                  Traceback (most recent call last)",
      "Input \u001b[1;32mIn [128]\u001b[0m, in \u001b[0;36m<module>\u001b[1;34m\u001b[0m\n\u001b[1;32m----> 1\u001b[0m \u001b[43mimpt\u001b[49m\u001b[38;5;241;43m.\u001b[39;49m\u001b[43mfit\u001b[49m\u001b[43m(\u001b[49m\u001b[43medf\u001b[49m\u001b[43m)\u001b[49m\u001b[38;5;241m.\u001b[39mtransform(edf)\u001b[38;5;241m.\u001b[39mshow()\n",
      "File \u001b[1;32m~\\AppData\\Local\\Programs\\Python\\Python310\\lib\\site-packages\\pyspark\\ml\\base.py:161\u001b[0m, in \u001b[0;36mEstimator.fit\u001b[1;34m(self, dataset, params)\u001b[0m\n\u001b[0;32m    159\u001b[0m         \u001b[38;5;28;01mreturn\u001b[39;00m \u001b[38;5;28mself\u001b[39m\u001b[38;5;241m.\u001b[39mcopy(params)\u001b[38;5;241m.\u001b[39m_fit(dataset)\n\u001b[0;32m    160\u001b[0m     \u001b[38;5;28;01melse\u001b[39;00m:\n\u001b[1;32m--> 161\u001b[0m         \u001b[38;5;28;01mreturn\u001b[39;00m \u001b[38;5;28;43mself\u001b[39;49m\u001b[38;5;241;43m.\u001b[39;49m\u001b[43m_fit\u001b[49m\u001b[43m(\u001b[49m\u001b[43mdataset\u001b[49m\u001b[43m)\u001b[49m\n\u001b[0;32m    162\u001b[0m \u001b[38;5;28;01melse\u001b[39;00m:\n\u001b[0;32m    163\u001b[0m     \u001b[38;5;28;01mraise\u001b[39;00m \u001b[38;5;167;01mTypeError\u001b[39;00m(\u001b[38;5;124m\"\u001b[39m\u001b[38;5;124mParams must be either a param map or a list/tuple of param maps, \u001b[39m\u001b[38;5;124m\"\u001b[39m\n\u001b[0;32m    164\u001b[0m                     \u001b[38;5;124m\"\u001b[39m\u001b[38;5;124mbut got \u001b[39m\u001b[38;5;132;01m%s\u001b[39;00m\u001b[38;5;124m.\u001b[39m\u001b[38;5;124m\"\u001b[39m \u001b[38;5;241m%\u001b[39m \u001b[38;5;28mtype\u001b[39m(params))\n",
      "File \u001b[1;32m~\\AppData\\Local\\Programs\\Python\\Python310\\lib\\site-packages\\pyspark\\ml\\wrapper.py:335\u001b[0m, in \u001b[0;36mJavaEstimator._fit\u001b[1;34m(self, dataset)\u001b[0m\n\u001b[0;32m    334\u001b[0m \u001b[38;5;28;01mdef\u001b[39;00m \u001b[38;5;21m_fit\u001b[39m(\u001b[38;5;28mself\u001b[39m, dataset):\n\u001b[1;32m--> 335\u001b[0m     java_model \u001b[38;5;241m=\u001b[39m \u001b[38;5;28;43mself\u001b[39;49m\u001b[38;5;241;43m.\u001b[39;49m\u001b[43m_fit_java\u001b[49m\u001b[43m(\u001b[49m\u001b[43mdataset\u001b[49m\u001b[43m)\u001b[49m\n\u001b[0;32m    336\u001b[0m     model \u001b[38;5;241m=\u001b[39m \u001b[38;5;28mself\u001b[39m\u001b[38;5;241m.\u001b[39m_create_model(java_model)\n\u001b[0;32m    337\u001b[0m     \u001b[38;5;28;01mreturn\u001b[39;00m \u001b[38;5;28mself\u001b[39m\u001b[38;5;241m.\u001b[39m_copyValues(model)\n",
      "File \u001b[1;32m~\\AppData\\Local\\Programs\\Python\\Python310\\lib\\site-packages\\pyspark\\ml\\wrapper.py:331\u001b[0m, in \u001b[0;36mJavaEstimator._fit_java\u001b[1;34m(self, dataset)\u001b[0m\n\u001b[0;32m    317\u001b[0m \u001b[38;5;28;01mdef\u001b[39;00m \u001b[38;5;21m_fit_java\u001b[39m(\u001b[38;5;28mself\u001b[39m, dataset):\n\u001b[0;32m    318\u001b[0m     \u001b[38;5;124;03m\"\"\"\u001b[39;00m\n\u001b[0;32m    319\u001b[0m \u001b[38;5;124;03m    Fits a Java model to the input dataset.\u001b[39;00m\n\u001b[0;32m    320\u001b[0m \n\u001b[1;32m   (...)\u001b[0m\n\u001b[0;32m    329\u001b[0m \u001b[38;5;124;03m        fitted Java model\u001b[39;00m\n\u001b[0;32m    330\u001b[0m \u001b[38;5;124;03m    \"\"\"\u001b[39;00m\n\u001b[1;32m--> 331\u001b[0m     \u001b[38;5;28;43mself\u001b[39;49m\u001b[38;5;241;43m.\u001b[39;49m\u001b[43m_transfer_params_to_java\u001b[49m\u001b[43m(\u001b[49m\u001b[43m)\u001b[49m\n\u001b[0;32m    332\u001b[0m     \u001b[38;5;28;01mreturn\u001b[39;00m \u001b[38;5;28mself\u001b[39m\u001b[38;5;241m.\u001b[39m_java_obj\u001b[38;5;241m.\u001b[39mfit(dataset\u001b[38;5;241m.\u001b[39m_jdf)\n",
      "File \u001b[1;32m~\\AppData\\Local\\Programs\\Python\\Python310\\lib\\site-packages\\pyspark\\ml\\wrapper.py:143\u001b[0m, in \u001b[0;36mJavaParams._transfer_params_to_java\u001b[1;34m(self)\u001b[0m\n\u001b[0;32m    141\u001b[0m \u001b[38;5;28;01mfor\u001b[39;00m param \u001b[38;5;129;01min\u001b[39;00m \u001b[38;5;28mself\u001b[39m\u001b[38;5;241m.\u001b[39mparams:\n\u001b[0;32m    142\u001b[0m     \u001b[38;5;28;01mif\u001b[39;00m \u001b[38;5;28mself\u001b[39m\u001b[38;5;241m.\u001b[39misSet(param):\n\u001b[1;32m--> 143\u001b[0m         pair \u001b[38;5;241m=\u001b[39m \u001b[38;5;28;43mself\u001b[39;49m\u001b[38;5;241;43m.\u001b[39;49m\u001b[43m_make_java_param_pair\u001b[49m\u001b[43m(\u001b[49m\u001b[43mparam\u001b[49m\u001b[43m,\u001b[49m\u001b[43m \u001b[49m\u001b[38;5;28;43mself\u001b[39;49m\u001b[38;5;241;43m.\u001b[39;49m\u001b[43m_paramMap\u001b[49m\u001b[43m[\u001b[49m\u001b[43mparam\u001b[49m\u001b[43m]\u001b[49m\u001b[43m)\u001b[49m\n\u001b[0;32m    144\u001b[0m         \u001b[38;5;28mself\u001b[39m\u001b[38;5;241m.\u001b[39m_java_obj\u001b[38;5;241m.\u001b[39mset(pair)\n\u001b[0;32m    145\u001b[0m     \u001b[38;5;28;01mif\u001b[39;00m \u001b[38;5;28mself\u001b[39m\u001b[38;5;241m.\u001b[39mhasDefault(param):\n",
      "File \u001b[1;32m~\\AppData\\Local\\Programs\\Python\\Python310\\lib\\site-packages\\pyspark\\ml\\wrapper.py:134\u001b[0m, in \u001b[0;36mJavaParams._make_java_param_pair\u001b[1;34m(self, param, value)\u001b[0m\n\u001b[0;32m    132\u001b[0m java_param \u001b[38;5;241m=\u001b[39m \u001b[38;5;28mself\u001b[39m\u001b[38;5;241m.\u001b[39m_java_obj\u001b[38;5;241m.\u001b[39mgetParam(param\u001b[38;5;241m.\u001b[39mname)\n\u001b[0;32m    133\u001b[0m java_value \u001b[38;5;241m=\u001b[39m _py2java(sc, value)\n\u001b[1;32m--> 134\u001b[0m \u001b[38;5;28;01mreturn\u001b[39;00m \u001b[43mjava_param\u001b[49m\u001b[38;5;241;43m.\u001b[39;49m\u001b[43mw\u001b[49m\u001b[43m(\u001b[49m\u001b[43mjava_value\u001b[49m\u001b[43m)\u001b[49m\n",
      "File \u001b[1;32m~\\AppData\\Local\\Programs\\Python\\Python310\\lib\\site-packages\\py4j\\java_gateway.py:1321\u001b[0m, in \u001b[0;36mJavaMember.__call__\u001b[1;34m(self, *args)\u001b[0m\n\u001b[0;32m   1315\u001b[0m command \u001b[38;5;241m=\u001b[39m proto\u001b[38;5;241m.\u001b[39mCALL_COMMAND_NAME \u001b[38;5;241m+\u001b[39m\\\n\u001b[0;32m   1316\u001b[0m     \u001b[38;5;28mself\u001b[39m\u001b[38;5;241m.\u001b[39mcommand_header \u001b[38;5;241m+\u001b[39m\\\n\u001b[0;32m   1317\u001b[0m     args_command \u001b[38;5;241m+\u001b[39m\\\n\u001b[0;32m   1318\u001b[0m     proto\u001b[38;5;241m.\u001b[39mEND_COMMAND_PART\n\u001b[0;32m   1320\u001b[0m answer \u001b[38;5;241m=\u001b[39m \u001b[38;5;28mself\u001b[39m\u001b[38;5;241m.\u001b[39mgateway_client\u001b[38;5;241m.\u001b[39msend_command(command)\n\u001b[1;32m-> 1321\u001b[0m return_value \u001b[38;5;241m=\u001b[39m \u001b[43mget_return_value\u001b[49m\u001b[43m(\u001b[49m\n\u001b[0;32m   1322\u001b[0m \u001b[43m    \u001b[49m\u001b[43manswer\u001b[49m\u001b[43m,\u001b[49m\u001b[43m \u001b[49m\u001b[38;5;28;43mself\u001b[39;49m\u001b[38;5;241;43m.\u001b[39;49m\u001b[43mgateway_client\u001b[49m\u001b[43m,\u001b[49m\u001b[43m \u001b[49m\u001b[38;5;28;43mself\u001b[39;49m\u001b[38;5;241;43m.\u001b[39;49m\u001b[43mtarget_id\u001b[49m\u001b[43m,\u001b[49m\u001b[43m \u001b[49m\u001b[38;5;28;43mself\u001b[39;49m\u001b[38;5;241;43m.\u001b[39;49m\u001b[43mname\u001b[49m\u001b[43m)\u001b[49m\n\u001b[0;32m   1324\u001b[0m \u001b[38;5;28;01mfor\u001b[39;00m temp_arg \u001b[38;5;129;01min\u001b[39;00m temp_args:\n\u001b[0;32m   1325\u001b[0m     temp_arg\u001b[38;5;241m.\u001b[39m_detach()\n",
      "File \u001b[1;32m~\\AppData\\Local\\Programs\\Python\\Python310\\lib\\site-packages\\pyspark\\sql\\utils.py:117\u001b[0m, in \u001b[0;36mcapture_sql_exception.<locals>.deco\u001b[1;34m(*a, **kw)\u001b[0m\n\u001b[0;32m    113\u001b[0m converted \u001b[38;5;241m=\u001b[39m convert_exception(e\u001b[38;5;241m.\u001b[39mjava_exception)\n\u001b[0;32m    114\u001b[0m \u001b[38;5;28;01mif\u001b[39;00m \u001b[38;5;129;01mnot\u001b[39;00m \u001b[38;5;28misinstance\u001b[39m(converted, UnknownException):\n\u001b[0;32m    115\u001b[0m     \u001b[38;5;66;03m# Hide where the exception came from that shows a non-Pythonic\u001b[39;00m\n\u001b[0;32m    116\u001b[0m     \u001b[38;5;66;03m# JVM exception message.\u001b[39;00m\n\u001b[1;32m--> 117\u001b[0m     \u001b[38;5;28;01mraise\u001b[39;00m converted \u001b[38;5;28;01mfrom\u001b[39;00m \u001b[38;5;28mNone\u001b[39m\n\u001b[0;32m    118\u001b[0m \u001b[38;5;28;01melse\u001b[39;00m:\n\u001b[0;32m    119\u001b[0m     \u001b[38;5;28;01mraise\u001b[39;00m\n",
      "\u001b[1;31mIllegalArgumentException\u001b[0m: Imputer_bc4bac8c09ef parameter strategy given invalid value ."
     ]
    }
   ],
   "source": [
    "impt.fit(edf).transform(edf).show()"
   ]
  },
  {
   "cell_type": "code",
   "execution_count": 134,
   "id": "191d58bf",
   "metadata": {},
   "outputs": [
    {
     "name": "stdout",
     "output_type": "stream",
     "text": [
      "+----------+------+----------+---------------+------+-------+-----------------+--------------------+\n",
      "|First Name|Gender|Start Date|Last Login Time|Salary|Bonus %|Senior Management|                Team|\n",
      "+----------+------+----------+---------------+------+-------+-----------------+--------------------+\n",
      "|    Dennis|  null| 4/18/1987|        1:35 AM|115163| 10.125|            false|               Legal|\n",
      "|    Angela|Female|      null|        6:29 AM| 95570|   null|             true|         Engineering|\n",
      "|   Frances|Female|      null|        6:51 AM|139852|  7.524|             true|Business Development|\n",
      "|     Julie|Female|10/26/1997|        3:19 PM|102508| 12.637|             true|               Legal|\n",
      "|   Brandon|  Male|12-01-1980|        1:08 AM|112807| 17.492|             true|     Human Resources|\n",
      "|      Gary|  Male| 1/27/2008|       11:40 PM|109831|  5.831|            false|               Sales|\n",
      "|    Jeremy|  Male| 9/21/2010|        5:56 AM| 90370|  7.369|            false|     Human Resources|\n",
      "|     Shawn|  Male|12-07-1986|        7:45 PM|111737|  6.414|            false|             Product|\n",
      "|     Diana|Female|10/23/1981|       10:27 AM|132940| 19.082|            false|     Client Services|\n",
      "|   Matthew|  Male|09-05-1995|        2:12 AM|100612| 13.645|            false|           Marketing|\n",
      "|    Joshua|  null|03-08-2012|        1:58 AM| 90816| 18.816|             true|     Client Services|\n",
      "|      null|  Male| 6/14/2012|        4:19 PM|125792|  5.042|             null|                null|\n",
      "|      John|  Male|07-01-1992|       10:08 PM| 97950| 13.873|            false|     Client Services|\n",
      "|     Scott|  null|07-11-1991|        6:58 PM|122367|  5.218|            false|               Legal|\n",
      "|     Terry|  Male|11/27/1981|        6:30 PM|124008| 13.464|             true|     Client Services|\n",
      "| Christina|Female|08-06-2002|        1:19 PM|118780|  9.096|             true|         Engineering|\n",
      "|      null|  Male| 8/21/1998|        2:27 PM|122340|  6.417|             null|                null|\n",
      "|      Jean|Female|12/18/1993|        9:07 AM|119082|  16.18|            false|Business Development|\n",
      "|     Jerry|  Male|01-10-2004|       12:56 PM| 95734| 19.096|            false|     Client Services|\n",
      "|    Rachel|Female| 2/16/2009|        8:47 PM|142032| 12.599|            false|Business Development|\n",
      "+----------+------+----------+---------------+------+-------+-----------------+--------------------+\n",
      "only showing top 20 rows\n",
      "\n"
     ]
    }
   ],
   "source": [
    "edf.filter(\"Salary>=90000\").show()"
   ]
  },
  {
   "cell_type": "code",
   "execution_count": 136,
   "id": "e2328103",
   "metadata": {},
   "outputs": [
    {
     "name": "stdout",
     "output_type": "stream",
     "text": [
      "+----------+------+----------+---------------+------+-------+-----------------+--------------------+\n",
      "|First Name|Gender|Start Date|Last Login Time|Salary|Bonus %|Senior Management|                Team|\n",
      "+----------+------+----------+---------------+------+-------+-----------------+--------------------+\n",
      "|    Thomas|  Male| 3/31/1996|        6:53 AM| 61933|   4.17|             true|                null|\n",
      "|      Ruby|Female|      null|           null| 65476| 10.012|             true|             Product|\n",
      "|    Louise|Female|08-12-1980|        9:01 AM| 63241| 15.132|             true|                null|\n",
      "|  Kimberly|Female| 1/14/1999|        7:13 AM| 41426| 14.543|             true|             Finance|\n",
      "|   Lillian|Female|06-05-2016|        6:09 AM| 59414|  1.256|            false|             Product|\n",
      "|     Donna|Female| 7/22/2010|        3:48 AM| 81014|  1.894|            false|             Product|\n",
      "|      Lois|  null| 4/22/1995|        7:18 PM| 64714|  4.934|             true|               Legal|\n",
      "|      null|  Male|10-08-2012|        1:12 AM| 37076| 18.576|             null|     Client Services|\n",
      "|     Craig|  Male| 2/27/2000|        7:45 AM| 37598|  7.757|             true|           Marketing|\n",
      "|  Benjamin|  Male| 1/26/2005|       10:06 PM| 79529|  7.008|             true|               Legal|\n",
      "|     Joyce|  null| 2/20/2005|        2:40 PM| 88657| 12.752|            false|             Product|\n",
      "|   Theresa|Female|10-10-2006|        1:12 AM| 85182| 16.675|            false|               Sales|\n",
      "|     Linda|Female|10/19/1981|        8:49 PM| 57427|  9.557|             true|     Client Services|\n",
      "| Stephanie|Female| 9/13/1986|        1:52 AM| 36844|  5.574|             true|Business Development|\n",
      "| Christine|  null| 6/28/2015|        1:08 AM| 66582| 11.308|             true|Business Development|\n",
      "|   Marilyn|Female|12-07-1980|        3:16 AM| 73524|  5.207|             true|           Marketing|\n",
      "|     Roger|  Male| 4/17/1980|       11:32 AM| 88010| 13.886|             true|               Sales|\n",
      "|     Kathy|Female| 6/22/2005|        4:51 AM| 66820|    9.0|             true|     Client Services|\n",
      "|      null|  null|12/17/2011|        8:29 AM| 41126| 14.009|             null|               Sales|\n",
      "|      Todd|  Male| 2/18/1990|        2:41 AM| 49339|  1.695|             true|     Human Resources|\n",
      "+----------+------+----------+---------------+------+-------+-----------------+--------------------+\n",
      "only showing top 20 rows\n",
      "\n"
     ]
    }
   ],
   "source": [
    "edf.filter(~(edf[\"Salary\"]>=90000)).show()"
   ]
  },
  {
   "cell_type": "code",
   "execution_count": 143,
   "id": "22978c21",
   "metadata": {},
   "outputs": [
    {
     "name": "stdout",
     "output_type": "stream",
     "text": [
      "+----------+------+----------+---------------+------+-------+-----------------+--------------------+\n",
      "|First Name|Gender|Start Date|Last Login Time|Salary|Bonus %|Senior Management|                Team|\n",
      "+----------+------+----------+---------------+------+-------+-----------------+--------------------+\n",
      "|    Thomas|  Male| 3/31/1996|        6:53 AM| 61933|   4.17|             true|                null|\n",
      "|      Ruby|Female|      null|           null| 65476| 10.012|             true|             Product|\n",
      "|    Louise|Female|08-12-1980|        9:01 AM| 63241| 15.132|             true|                null|\n",
      "|   Lillian|Female|06-05-2016|        6:09 AM| 59414|  1.256|            false|             Product|\n",
      "|      Lois|  null| 4/22/1995|        7:18 PM| 64714|  4.934|             true|               Legal|\n",
      "|  Benjamin|  Male| 1/26/2005|       10:06 PM| 79529|  7.008|             true|               Legal|\n",
      "|     Linda|Female|10/19/1981|        8:49 PM| 57427|  9.557|             true|     Client Services|\n",
      "| Christine|  null| 6/28/2015|        1:08 AM| 66582| 11.308|             true|Business Development|\n",
      "|   Marilyn|Female|12-07-1980|        3:16 AM| 73524|  5.207|             true|           Marketing|\n",
      "|     Kathy|Female| 6/22/2005|        4:51 AM| 66820|    9.0|             true|     Client Services|\n",
      "|     Henry|  Male| 6/26/1996|        1:44 AM| 64715| 15.107|             true|     Human Resources|\n",
      "|   Theresa|Female|04-11-2010|        7:18 AM| 72670|  1.481|             true|         Engineering|\n",
      "|     Irene|Female|05-07-1997|        9:32 AM| 66851| 11.279|            false|         Engineering|\n",
      "|      null|Female|06-12-2007|        5:25 PM| 58112| 19.414|             null|           Marketing|\n",
      "|  Kathleen|  null|04-11-1990|        6:46 PM| 77834| 18.771|            false|Business Development|\n",
      "|     Steve|  Male|11-11-2009|       11:44 PM| 61310| 12.428|             true|        Distribution|\n",
      "|    Rachel|Female| 8/16/1999|        6:53 AM| 51178|  9.735|             true|             Finance|\n",
      "|     Bobby|  Male|05-07-2007|       10:01 AM| 54043|  3.833|            false|             Product|\n",
      "|    Thomas|  Male|06-04-1995|        2:24 PM| 62096| 17.029|            false|           Marketing|\n",
      "|     Donna|Female|11/27/1991|        1:59 PM| 64088|  6.155|             true|               Legal|\n",
      "+----------+------+----------+---------------+------+-------+-----------------+--------------------+\n",
      "only showing top 20 rows\n",
      "\n"
     ]
    }
   ],
   "source": [
    "edf.filter((edf[\"Salary\"]>50000) & (edf[\"Salary\"]<80000)).show()"
   ]
  },
  {
   "cell_type": "code",
   "execution_count": 173,
   "id": "d03b92ff",
   "metadata": {},
   "outputs": [
    {
     "name": "stdout",
     "output_type": "stream",
     "text": [
      "+----------+------+----------+---------------+------+-------+-----------------+--------------------+\n",
      "|First Name|Gender|Start Date|Last Login Time|Salary|Bonus %|Senior Management|                Team|\n",
      "+----------+------+----------+---------------+------+-------+-----------------+--------------------+\n",
      "|    Thomas|  Male| 3/31/1996|        6:53 AM| 61933|   4.17|             true|                null|\n",
      "|      Ruby|Female|      null|           null| 65476| 10.012|             true|             Product|\n",
      "|    Angela|Female|      null|        6:29 AM| 95570|   null|             true|         Engineering|\n",
      "|    Louise|Female|08-12-1980|        9:01 AM| 63241| 15.132|             true|                null|\n",
      "|  Kimberly|Female| 1/14/1999|        7:13 AM| 41426| 14.543|             true|             Finance|\n",
      "|   Lillian|Female|06-05-2016|        6:09 AM| 59414|  1.256|            false|             Product|\n",
      "|    Jeremy|  Male| 9/21/2010|        5:56 AM| 90370|  7.369|            false|     Human Resources|\n",
      "|     Donna|Female| 7/22/2010|        3:48 AM| 81014|  1.894|            false|             Product|\n",
      "|      Lois|  null| 4/22/1995|        7:18 PM| 64714|  4.934|             true|               Legal|\n",
      "|    Joshua|  null|03-08-2012|        1:58 AM| 90816| 18.816|             true|     Client Services|\n",
      "|      John|  Male|07-01-1992|       10:08 PM| 97950| 13.873|            false|     Client Services|\n",
      "|      null|  Male|10-08-2012|        1:12 AM| 37076| 18.576|             null|     Client Services|\n",
      "|     Craig|  Male| 2/27/2000|        7:45 AM| 37598|  7.757|             true|           Marketing|\n",
      "|  Benjamin|  Male| 1/26/2005|       10:06 PM| 79529|  7.008|             true|               Legal|\n",
      "|     Joyce|  null| 2/20/2005|        2:40 PM| 88657| 12.752|            false|             Product|\n",
      "|     Jerry|  Male|01-10-2004|       12:56 PM| 95734| 19.096|            false|     Client Services|\n",
      "|   Theresa|Female|10-10-2006|        1:12 AM| 85182| 16.675|            false|               Sales|\n",
      "|     Linda|Female|10/19/1981|        8:49 PM| 57427|  9.557|             true|     Client Services|\n",
      "| Stephanie|Female| 9/13/1986|        1:52 AM| 36844|  5.574|             true|Business Development|\n",
      "|   Michael|  Male|10-10-2008|       11:25 AM| 99283|  2.665|             true|        Distribution|\n",
      "+----------+------+----------+---------------+------+-------+-----------------+--------------------+\n",
      "only showing top 20 rows\n",
      "\n"
     ]
    }
   ],
   "source": [
    "e=edf.filter(~(edf[\"Salary\"]>100000)).show()"
   ]
  },
  {
   "cell_type": "code",
   "execution_count": 175,
   "id": "9367becc",
   "metadata": {},
   "outputs": [
    {
     "name": "stdout",
     "output_type": "stream",
     "text": [
      "+----------+------+----------+---------------+------+-------+-----------------+--------------------+\n",
      "|First Name|Gender|Start Date|Last Login Time|Salary|Bonus %|Senior Management|                Team|\n",
      "+----------+------+----------+---------------+------+-------+-----------------+--------------------+\n",
      "|    Thomas|  Male| 3/31/1996|        6:53 AM| 61933|   4.17|             true|                null|\n",
      "|    Dennis|  null| 4/18/1987|        1:35 AM|115163| 10.125|            false|               Legal|\n",
      "|      Ruby|Female|      null|           null| 65476| 10.012|             true|             Product|\n",
      "|    Angela|Female|      null|        6:29 AM| 95570|   null|             true|         Engineering|\n",
      "|   Frances|Female|      null|        6:51 AM|139852|  7.524|             true|Business Development|\n",
      "|    Louise|Female|08-12-1980|        9:01 AM| 63241| 15.132|             true|                null|\n",
      "|     Julie|Female|10/26/1997|        3:19 PM|102508| 12.637|             true|               Legal|\n",
      "|   Brandon|  Male|12-01-1980|        1:08 AM|112807| 17.492|             true|     Human Resources|\n",
      "|      Gary|  Male| 1/27/2008|       11:40 PM|109831|  5.831|            false|               Sales|\n",
      "|  Kimberly|Female| 1/14/1999|        7:13 AM| 41426| 14.543|             true|             Finance|\n",
      "|   Lillian|Female|06-05-2016|        6:09 AM| 59414|  1.256|            false|             Product|\n",
      "|    Jeremy|  Male| 9/21/2010|        5:56 AM| 90370|  7.369|            false|     Human Resources|\n",
      "|     Shawn|  Male|12-07-1986|        7:45 PM|111737|  6.414|            false|             Product|\n",
      "|     Diana|Female|10/23/1981|       10:27 AM|132940| 19.082|            false|     Client Services|\n",
      "|     Donna|Female| 7/22/2010|        3:48 AM| 81014|  1.894|            false|             Product|\n",
      "|      Lois|  null| 4/22/1995|        7:18 PM| 64714|  4.934|             true|               Legal|\n",
      "|   Matthew|  Male|09-05-1995|        2:12 AM|100612| 13.645|            false|           Marketing|\n",
      "|    Joshua|  null|03-08-2012|        1:58 AM| 90816| 18.816|             true|     Client Services|\n",
      "|      null|  Male| 6/14/2012|        4:19 PM|125792|  5.042|             null|                null|\n",
      "|      John|  Male|07-01-1992|       10:08 PM| 97950| 13.873|            false|     Client Services|\n",
      "+----------+------+----------+---------------+------+-------+-----------------+--------------------+\n",
      "only showing top 20 rows\n",
      "\n"
     ]
    }
   ],
   "source": [
    "edf.filter((edf[\"Salary\"]>10000)).drop().show()"
   ]
  },
  {
   "cell_type": "code",
   "execution_count": null,
   "id": "b8984c0a",
   "metadata": {},
   "outputs": [],
   "source": []
  },
  {
   "cell_type": "code",
   "execution_count": null,
   "id": "428cfc1e",
   "metadata": {},
   "outputs": [],
   "source": []
  }
 ],
 "metadata": {
  "kernelspec": {
   "display_name": "Python 3 (ipykernel)",
   "language": "python",
   "name": "python3"
  },
  "language_info": {
   "codemirror_mode": {
    "name": "ipython",
    "version": 3
   },
   "file_extension": ".py",
   "mimetype": "text/x-python",
   "name": "python",
   "nbconvert_exporter": "python",
   "pygments_lexer": "ipython3",
   "version": "3.10.2"
  }
 },
 "nbformat": 4,
 "nbformat_minor": 5
}
