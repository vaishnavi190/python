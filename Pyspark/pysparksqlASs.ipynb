{
 "cells": [
  {
   "cell_type": "code",
   "execution_count": 204,
   "id": "7015de33",
   "metadata": {},
   "outputs": [],
   "source": [
    "import findspark\n",
    "findspark.init()"
   ]
  },
  {
   "cell_type": "code",
   "execution_count": 205,
   "id": "767c3e25",
   "metadata": {},
   "outputs": [],
   "source": [
    "import pyspark\n",
    "from pyspark.sql import SparkSession\n",
    "spark=SparkSession.builder.appName(\"Dfapp\").getOrCreate()"
   ]
  },
  {
   "cell_type": "code",
   "execution_count": 145,
   "id": "3135224d",
   "metadata": {},
   "outputs": [
    {
     "name": "stdout",
     "output_type": "stream",
     "text": [
      "+------+---------+--------+------+\n",
      "|itemid| itemname|itemcost|sup_id|\n",
      "+------+---------+--------+------+\n",
      "|    11|    chalk|    1000|     1|\n",
      "|    12|   Pencil|     900|     1|\n",
      "|    13|      Pen|    1500|     2|\n",
      "|    14|   Duster|    1600|     3|\n",
      "|    15|    Scale|     100|     2|\n",
      "|    16|    chalk|     600|     5|\n",
      "|  null|     null|    1200|     6|\n",
      "|    17|penpencil|      10|  null|\n",
      "|    18|    Brush|     250|     2|\n",
      "+------+---------+--------+------+\n",
      "\n"
     ]
    }
   ],
   "source": [
    "df=spark.read.option(\"header\",\"true\").csv(\"F:\\\\datasets\\\\pitem.csv\",header=True)\n",
    "df.show()"
   ]
  },
  {
   "cell_type": "code",
   "execution_count": 147,
   "id": "613dc0b7",
   "metadata": {},
   "outputs": [
    {
     "name": "stdout",
     "output_type": "stream",
     "text": [
      "+------+--------+\n",
      "|sup_id|Sup_name|\n",
      "+------+--------+\n",
      "|     1|       X|\n",
      "|     2|       Y|\n",
      "|     3|       X|\n",
      "|     4|       A|\n",
      "|     5|    null|\n",
      "|     6|       B|\n",
      "|  null|    null|\n",
      "|     7|       Q|\n",
      "+------+--------+\n",
      "\n"
     ]
    }
   ],
   "source": [
    "dfs=spark.read.option(\"header\",\"true\").csv(\"F:\\\\datasets\\\\supplier.csv\",header=True)\n",
    "dfs.show()"
   ]
  },
  {
   "cell_type": "code",
   "execution_count": 148,
   "id": "df0bbd27",
   "metadata": {},
   "outputs": [],
   "source": [
    "\n",
    "df.createOrReplaceTempView(\"tempview\")\n",
    "dfs.createOrReplaceTempView(\"tempviewsup\")"
   ]
  },
  {
   "cell_type": "code",
   "execution_count": 149,
   "id": "666ad610",
   "metadata": {},
   "outputs": [],
   "source": [
    "res=spark.sql(\"select * from tempview\")\n",
    "r=spark.sql(\"select * from tempviewsup\")"
   ]
  },
  {
   "cell_type": "code",
   "execution_count": 150,
   "id": "380dc981",
   "metadata": {},
   "outputs": [
    {
     "name": "stdout",
     "output_type": "stream",
     "text": [
      "+------+---------+--------+------+\n",
      "|itemid| itemname|itemcost|sup_id|\n",
      "+------+---------+--------+------+\n",
      "|    11|    chalk|    1000|     1|\n",
      "|    12|   Pencil|     900|     1|\n",
      "|    13|      Pen|    1500|     2|\n",
      "|    14|   Duster|    1600|     3|\n",
      "|    15|    Scale|     100|     2|\n",
      "|    16|    chalk|     600|     5|\n",
      "|  null|     null|    1200|     6|\n",
      "|    17|penpencil|      10|  null|\n",
      "|    18|    Brush|     250|     2|\n",
      "+------+---------+--------+------+\n",
      "\n"
     ]
    }
   ],
   "source": [
    "res.show()"
   ]
  },
  {
   "cell_type": "code",
   "execution_count": 151,
   "id": "afbcb5b4",
   "metadata": {},
   "outputs": [
    {
     "name": "stdout",
     "output_type": "stream",
     "text": [
      "+------+--------+\n",
      "|sup_id|Sup_name|\n",
      "+------+--------+\n",
      "|     1|       X|\n",
      "|     2|       Y|\n",
      "|     3|       X|\n",
      "|     4|       A|\n",
      "|     5|    null|\n",
      "|     6|       B|\n",
      "|  null|    null|\n",
      "|     7|       Q|\n",
      "+------+--------+\n",
      "\n"
     ]
    }
   ],
   "source": [
    "r.show()"
   ]
  },
  {
   "cell_type": "code",
   "execution_count": 152,
   "id": "20d530ff",
   "metadata": {},
   "outputs": [
    {
     "name": "stdout",
     "output_type": "stream",
     "text": [
      "+------+--------+--------+------+------+--------+\n",
      "|itemid|itemname|itemcost|sup_id|sup_id|Sup_name|\n",
      "+------+--------+--------+------+------+--------+\n",
      "|    11|   chalk|    1000|     1|     1|       X|\n",
      "|    12|  Pencil|     900|     1|     1|       X|\n",
      "|    14|  Duster|    1600|     3|     3|       X|\n",
      "+------+--------+--------+------+------+--------+\n",
      "\n"
     ]
    }
   ],
   "source": [
    "#1.show item details supplied by MR.X\n",
    "r1=spark.sql(\"select * from tempview as p join tempviewsup as p1 on p.sup_id=p1.sup_id where p1.Sup_name='X'\")\n",
    "r1.show()"
   ]
  },
  {
   "cell_type": "code",
   "execution_count": 203,
   "id": "15e0d7a4",
   "metadata": {},
   "outputs": [
    {
     "name": "stdout",
     "output_type": "stream",
     "text": [
      "+------+--------+--------+------+\n",
      "|itemid|itemname|itemcost|sup_id|\n",
      "+------+--------+--------+------+\n",
      "|    13|     Pen|    1500|     2|\n",
      "|    14|  Duster|    1600|     3|\n",
      "|  null|    null|    1200|     6|\n",
      "+------+--------+--------+------+\n",
      "\n"
     ]
    }
   ],
   "source": [
    "#2.show supplier details who has supplied items cost>1000\n",
    "r2=spark.sql(\"select * from tempview where itemcost>1000\")\n",
    "r2.show()"
   ]
  },
  {
   "cell_type": "code",
   "execution_count": 198,
   "id": "f5878493",
   "metadata": {},
   "outputs": [
    {
     "name": "stdout",
     "output_type": "stream",
     "text": [
      "+------+--------+--------+------+------+--------+\n",
      "|itemid|itemname|itemcost|sup_id|sup_id|Sup_name|\n",
      "+------+--------+--------+------+------+--------+\n",
      "|    16|   chalk|     600|     5|     5|    null|\n",
      "+------+--------+--------+------+------+--------+\n",
      "\n"
     ]
    }
   ],
   "source": [
    "#3.show all item details whos supplier details are not available\n",
    "r4=spark.sql(\"select * from tempview as p join tempviewsup as p1 on p.sup_id==p1.sup_id where p1.Sup_name is null \")\n",
    "r4.show()\n"
   ]
  },
  {
   "cell_type": "code",
   "execution_count": 155,
   "id": "bb525d9e",
   "metadata": {},
   "outputs": [
    {
     "name": "stdout",
     "output_type": "stream",
     "text": [
      "+------+--------+--------+------+------+--------+\n",
      "|itemid|itemname|itemcost|sup_id|sup_id|Sup_name|\n",
      "+------+--------+--------+------+------+--------+\n",
      "|    11|   chalk|    1000|     1|     1|       X|\n",
      "|    12|  Pencil|     900|     1|     1|       X|\n",
      "|    13|     Pen|    1500|     2|     2|       Y|\n",
      "|    14|  Duster|    1600|     3|     3|       X|\n",
      "|    15|   Scale|     100|     2|     2|       Y|\n",
      "|  null|    null|    1200|     6|     6|       B|\n",
      "|    18|   Brush|     250|     2|     2|       Y|\n",
      "+------+--------+--------+------+------+--------+\n",
      "\n"
     ]
    }
   ],
   "source": [
    "#4.show item details whos supplier details are available\n",
    "r4=spark.sql(\"select * from tempview as p join tempviewsup as p1 on p.sup_id=p1.sup_id where p1.sup_id==p.sup_id and p1.Sup_name!='null'\")\n",
    "r4.show()"
   ]
  },
  {
   "cell_type": "code",
   "execution_count": 199,
   "id": "bf754059",
   "metadata": {},
   "outputs": [
    {
     "name": "stdout",
     "output_type": "stream",
     "text": [
      "+------+--------+--------+------+------+--------+\n",
      "|itemid|itemname|itemcost|sup_id|sup_id|Sup_name|\n",
      "+------+--------+--------+------+------+--------+\n",
      "|    18|   Brush|     250|     2|     2|       Y|\n",
      "+------+--------+--------+------+------+--------+\n",
      "\n"
     ]
    }
   ],
   "source": [
    "#5show item details along with supplier details for such items,for which supplier details \n",
    "#are available and item name starts with 'b'\n",
    "\n",
    "r5=spark.sql(\"select * from tempview as p join tempviewsup as p1 on p.sup_id=p1.sup_id where   p.itemname like 'B%'\")\n",
    "r5.show()"
   ]
  },
  {
   "cell_type": "code",
   "execution_count": 201,
   "id": "6bd828ad",
   "metadata": {},
   "outputs": [
    {
     "name": "stdout",
     "output_type": "stream",
     "text": [
      "+-------------+-------------+-------------+-------------+\n",
      "|count(itemid)|min(itemcost)|max(itemcost)|sum(itemcost)|\n",
      "+-------------+-------------+-------------+-------------+\n",
      "|            8|           10|          900|       7160.0|\n",
      "+-------------+-------------+-------------+-------------+\n",
      "\n"
     ]
    }
   ],
   "source": [
    "#6.supplier wise nor of items supplied,sum of all items supplied by particular supplier,min ,max total of \n",
    "#all item cost supplied\n",
    "r6=spark.sql(\"select count(itemid),min(itemcost) ,max(itemcost),sum(itemcost)from tempview\" )\n",
    "r6.show()\n"
   ]
  },
  {
   "cell_type": "code",
   "execution_count": 192,
   "id": "0d09bf7a",
   "metadata": {},
   "outputs": [
    {
     "name": "stdout",
     "output_type": "stream",
     "text": [
      "+------+--------+--------+------+------+--------+\n",
      "|itemid|itemname|itemcost|sup_id|sup_id|Sup_name|\n",
      "+------+--------+--------+------+------+--------+\n",
      "|    11|   chalk|    1000|     1|     1|       X|\n",
      "|    12|  Pencil|     900|     1|     1|       X|\n",
      "|    13|     Pen|    1500|     2|     2|       Y|\n",
      "|    14|  Duster|    1600|     3|     3|       X|\n",
      "|    15|   Scale|     100|     2|     2|       Y|\n",
      "|    16|   chalk|     600|     5|     5|    null|\n",
      "|  null|    null|    1200|     6|     6|       B|\n",
      "|    18|   Brush|     250|     2|     2|       Y|\n",
      "+------+--------+--------+------+------+--------+\n",
      "\n"
     ]
    }
   ],
   "source": [
    "#join overall items available in 2 stores\n",
    "i=df.join(dfs,df.sup_id==dfs.sup_id,\"inner\")\n",
    "i.show()\n"
   ]
  },
  {
   "cell_type": "code",
   "execution_count": 208,
   "id": "f610c08a",
   "metadata": {},
   "outputs": [
    {
     "name": "stdout",
     "output_type": "stream",
     "text": [
      "+----------+------+----------+---------------+------+-------+-----------------+--------------------+\n",
      "|First Name|Gender|Start Date|Last Login Time|Salary|Bonus %|Senior Management|                Team|\n",
      "+----------+------+----------+---------------+------+-------+-----------------+--------------------+\n",
      "|   Douglas|  Male|      null|           null|  null|   null|             null|           Marketing|\n",
      "|    Thomas|  Male| 3/31/1996|        6:53 AM| 61933|   4.17|             true|                null|\n",
      "|     Maria|  null| 4/23/1993|       11:17 AM|  null| 11.858|            false|             Finance|\n",
      "|     Jerry|  Male|03-04-2005|           null|  null|   null|             true|             Finance|\n",
      "|     Larry|  Male| 1/24/1998|        4:47 PM|  null|  1.389|             true|     Client Services|\n",
      "|    Dennis|  null| 4/18/1987|        1:35 AM|115163| 10.125|            false|               Legal|\n",
      "|      Ruby|Female|      null|           null| 65476| 10.012|             true|             Product|\n",
      "|      null|Female| 7/20/2015|       10:43 AM|  null|   null|             null|             Finance|\n",
      "|    Angela|Female|      null|        6:29 AM| 95570|   null|             true|         Engineering|\n",
      "|   Frances|Female|      null|        6:51 AM|139852|  7.524|             true|Business Development|\n",
      "|    Louise|Female|08-12-1980|        9:01 AM| 63241| 15.132|             true|                null|\n",
      "|     Julie|Female|10/26/1997|        3:19 PM|102508| 12.637|             true|               Legal|\n",
      "|   Brandon|  Male|12-01-1980|        1:08 AM|112807| 17.492|             true|     Human Resources|\n",
      "|      Gary|  Male| 1/27/2008|       11:40 PM|109831|  5.831|            false|               Sales|\n",
      "|  Kimberly|Female| 1/14/1999|        7:13 AM| 41426| 14.543|             true|             Finance|\n",
      "|   Lillian|Female|06-05-2016|        6:09 AM| 59414|  1.256|            false|             Product|\n",
      "|    Jeremy|  Male| 9/21/2010|        5:56 AM| 90370|  7.369|            false|     Human Resources|\n",
      "|     Shawn|  Male|12-07-1986|        7:45 PM|111737|  6.414|            false|             Product|\n",
      "|     Diana|Female|10/23/1981|       10:27 AM|132940| 19.082|            false|     Client Services|\n",
      "|     Donna|Female| 7/22/2010|        3:48 AM| 81014|  1.894|            false|             Product|\n",
      "+----------+------+----------+---------------+------+-------+-----------------+--------------------+\n",
      "only showing top 20 rows\n",
      "\n"
     ]
    }
   ],
   "source": [
    "pdf=spark.read.csv(\"F:\\\\employees.csv\",header=True,inferSchema=True)\n",
    "pdf.show()"
   ]
  },
  {
   "cell_type": "code",
   "execution_count": 209,
   "id": "c7c48b88",
   "metadata": {},
   "outputs": [
    {
     "name": "stdout",
     "output_type": "stream",
     "text": [
      "root\n",
      " |-- First Name: string (nullable = true)\n",
      " |-- Gender: string (nullable = true)\n",
      " |-- Start Date: string (nullable = true)\n",
      " |-- Last Login Time: string (nullable = true)\n",
      " |-- Salary: integer (nullable = true)\n",
      " |-- Bonus %: double (nullable = true)\n",
      " |-- Senior Management: boolean (nullable = true)\n",
      " |-- Team: string (nullable = true)\n",
      "\n"
     ]
    }
   ],
   "source": [
    "pdf.printSchema()"
   ]
  },
  {
   "cell_type": "code",
   "execution_count": 348,
   "id": "c83338b0",
   "metadata": {},
   "outputs": [
    {
     "name": "stdout",
     "output_type": "stream",
     "text": [
      "+---------+------+----------+-------------+------+------+-----+--------------------+\n",
      "|firstname|   Gen| StartDate|LastLoginTime|   Sal| Bonus|   SM|                Team|\n",
      "+---------+------+----------+-------------+------+------+-----+--------------------+\n",
      "|  Douglas|  Male|      null|         null|  null|  null| null|           Marketing|\n",
      "|   Thomas|  Male| 3/31/1996|      6:53 AM| 61933|  4.17| true|                null|\n",
      "|    Maria|  null| 4/23/1993|     11:17 AM|  null|11.858|false|             Finance|\n",
      "|    Jerry|  Male|03-04-2005|         null|  null|  null| true|             Finance|\n",
      "|    Larry|  Male| 1/24/1998|      4:47 PM|  null| 1.389| true|     Client Services|\n",
      "|   Dennis|  null| 4/18/1987|      1:35 AM|115163|10.125|false|               Legal|\n",
      "|     Ruby|Female|      null|         null| 65476|10.012| true|             Product|\n",
      "|     null|Female| 7/20/2015|     10:43 AM|  null|  null| null|             Finance|\n",
      "|   Angela|Female|      null|      6:29 AM| 95570|  null| true|         Engineering|\n",
      "|  Frances|Female|      null|      6:51 AM|139852| 7.524| true|Business Development|\n",
      "|   Louise|Female|08-12-1980|      9:01 AM| 63241|15.132| true|                null|\n",
      "|    Julie|Female|10/26/1997|      3:19 PM|102508|12.637| true|               Legal|\n",
      "|  Brandon|  Male|12-01-1980|      1:08 AM|112807|17.492| true|     Human Resources|\n",
      "|     Gary|  Male| 1/27/2008|     11:40 PM|109831| 5.831|false|               Sales|\n",
      "| Kimberly|Female| 1/14/1999|      7:13 AM| 41426|14.543| true|             Finance|\n",
      "|  Lillian|Female|06-05-2016|      6:09 AM| 59414| 1.256|false|             Product|\n",
      "|   Jeremy|  Male| 9/21/2010|      5:56 AM| 90370| 7.369|false|     Human Resources|\n",
      "|    Shawn|  Male|12-07-1986|      7:45 PM|111737| 6.414|false|             Product|\n",
      "|    Diana|Female|10/23/1981|     10:27 AM|132940|19.082|false|     Client Services|\n",
      "|    Donna|Female| 7/22/2010|      3:48 AM| 81014| 1.894|false|             Product|\n",
      "+---------+------+----------+-------------+------+------+-----+--------------------+\n",
      "only showing top 20 rows\n",
      "\n"
     ]
    }
   ],
   "source": [
    "from pyspark.sql.functions import col\n",
    "pdf1=pdf.select(col('First Name').alias(\"firstname\"),col('Gender').alias(\"Gen\"),col('Start Date').alias('StartDate'),\n",
    "               col('Last Login Time').alias('LastLoginTime'),col('Salary').alias('Sal'),col('Bonus %').alias('Bonus'),\n",
    "                col('Senior Management').alias('SM'),col('Team').alias('Team'))\n",
    "pdf1.show()"
   ]
  },
  {
   "cell_type": "code",
   "execution_count": 349,
   "id": "5865e998",
   "metadata": {},
   "outputs": [
    {
     "name": "stdout",
     "output_type": "stream",
     "text": [
      "root\n",
      " |-- firstname: string (nullable = true)\n",
      " |-- Gen: string (nullable = true)\n",
      " |-- StartDate: string (nullable = true)\n",
      " |-- LastLoginTime: string (nullable = true)\n",
      " |-- Sal: integer (nullable = true)\n",
      " |-- Bonus: double (nullable = true)\n",
      " |-- SM: boolean (nullable = true)\n",
      " |-- Team: string (nullable = true)\n",
      "\n"
     ]
    }
   ],
   "source": [
    "pdf1.printSchema()"
   ]
  },
  {
   "cell_type": "code",
   "execution_count": 272,
   "id": "580fc2cf",
   "metadata": {},
   "outputs": [],
   "source": [
    "pdf1.createOrReplaceTempView(\"tempview\")\n"
   ]
  },
  {
   "cell_type": "code",
   "execution_count": 273,
   "id": "5adbe29c",
   "metadata": {},
   "outputs": [
    {
     "name": "stdout",
     "output_type": "stream",
     "text": [
      "+------+--------+--------+---------+-----+----+\n",
      "|itemid|itemname|itemcost|supplierd|Grade| Qyt|\n",
      "+------+--------+--------+---------+-----+----+\n",
      "|     8|   chalk|   100.0|        X|    A|  10|\n",
      "|    12|  Pencil|    50.0|        Y|    B|   5|\n",
      "|    13|    null|    null|     null| null|null|\n",
      "|    15|  Duster|    20.0|        Y|    C|   4|\n",
      "|    23|   Scale|    null|     null|    A|   3|\n",
      "|    34|  Colors|    50.0|     null|    B|   1|\n",
      "+------+--------+--------+---------+-----+----+\n",
      "\n"
     ]
    }
   ],
   "source": [
    "res=spark.sql(\"select * from tempview\")\n",
    "res.show()"
   ]
  },
  {
   "cell_type": "code",
   "execution_count": 346,
   "id": "9933e724",
   "metadata": {},
   "outputs": [],
   "source": [
    "#r1=spark.sql(\"select Team,sum(Sal) as total_Sal from tempview GROUP BY Team\").show()\n"
   ]
  },
  {
   "cell_type": "code",
   "execution_count": 345,
   "id": "34d41f0c",
   "metadata": {},
   "outputs": [],
   "source": [
    "from pyspark.ml.feature import SQLTransformer"
   ]
  },
  {
   "cell_type": "code",
   "execution_count": 236,
   "id": "ca4c24b5",
   "metadata": {},
   "outputs": [
    {
     "name": "stdout",
     "output_type": "stream",
     "text": [
      "+---------+--------------------+------+------+\n",
      "|firstname|                Team|   Sal| Bonus|\n",
      "+---------+--------------------+------+------+\n",
      "|  Douglas|           Marketing|  null|  null|\n",
      "|   Thomas|                null| 61933|  4.17|\n",
      "|    Maria|             Finance|  null|11.858|\n",
      "|    Jerry|             Finance|  null|  null|\n",
      "|    Larry|     Client Services|  null| 1.389|\n",
      "|   Dennis|               Legal|115163|10.125|\n",
      "|     Ruby|             Product| 65476|10.012|\n",
      "|     null|             Finance|  null|  null|\n",
      "|   Angela|         Engineering| 95570|  null|\n",
      "|  Frances|Business Development|139852| 7.524|\n",
      "|   Louise|                null| 63241|15.132|\n",
      "|    Julie|               Legal|102508|12.637|\n",
      "|  Brandon|     Human Resources|112807|17.492|\n",
      "|     Gary|               Sales|109831| 5.831|\n",
      "| Kimberly|             Finance| 41426|14.543|\n",
      "|  Lillian|             Product| 59414| 1.256|\n",
      "|   Jeremy|     Human Resources| 90370| 7.369|\n",
      "|    Shawn|             Product|111737| 6.414|\n",
      "|    Diana|     Client Services|132940|19.082|\n",
      "|    Donna|             Product| 81014| 1.894|\n",
      "+---------+--------------------+------+------+\n",
      "only showing top 20 rows\n",
      "\n"
     ]
    }
   ],
   "source": [
    "res=SQLTransformer(statement=\"select firstname,Team,Sal,Bonus from __THIS__\")\n",
    "res.transform(pdf1).show()"
   ]
  },
  {
   "cell_type": "code",
   "execution_count": 265,
   "id": "3648b953",
   "metadata": {},
   "outputs": [
    {
     "name": "stdout",
     "output_type": "stream",
     "text": [
      "+-------+---------+---------+--------+-----+----+\n",
      "|item id|item name|item cost|supplier|grade| Qyt|\n",
      "+-------+---------+---------+--------+-----+----+\n",
      "|      8|    chalk|      100|       X|    A|  10|\n",
      "|     12|   Pencil|       50|       Y|    B|   5|\n",
      "|     13|     null|     null|    null| null|null|\n",
      "|     15|   Duster|       20|       Y|    C|   4|\n",
      "|     23|    Scale|     null|    null|    A|   3|\n",
      "|     34|   Colors|       50|    null|    B|   1|\n",
      "+-------+---------+---------+--------+-----+----+\n",
      "\n",
      "root\n",
      " |-- item id: integer (nullable = true)\n",
      " |-- item name: string (nullable = true)\n",
      " |-- item cost: integer (nullable = true)\n",
      " |-- supplier: string (nullable = true)\n",
      " |-- grade: string (nullable = true)\n",
      " |-- Qyt: integer (nullable = true)\n",
      "\n"
     ]
    }
   ],
   "source": [
    "item=spark.read.csv(\"F:\\\\item_details.csv\",header=True,inferSchema=True)\n",
    "item.show()\n",
    "item.printSchema()"
   ]
  },
  {
   "cell_type": "code",
   "execution_count": 266,
   "id": "7df22194",
   "metadata": {},
   "outputs": [
    {
     "name": "stdout",
     "output_type": "stream",
     "text": [
      "+------+--------+--------+---------+-----+----+\n",
      "|itemid|itemname|itemcost|supplierd|Grade| Qyt|\n",
      "+------+--------+--------+---------+-----+----+\n",
      "|     8|   chalk|     100|        X|    A|  10|\n",
      "|    12|  Pencil|      50|        Y|    B|   5|\n",
      "|    13|    null|    null|     null| null|null|\n",
      "|    15|  Duster|      20|        Y|    C|   4|\n",
      "|    23|   Scale|    null|     null|    A|   3|\n",
      "|    34|  Colors|      50|     null|    B|   1|\n",
      "+------+--------+--------+---------+-----+----+\n",
      "\n"
     ]
    }
   ],
   "source": [
    "from pyspark.sql.functions import col\n",
    "pdfi=item.select(col('item id').alias(\"itemid\"),col('item name').alias(\"itemname\"),col('item cost').alias('itemcost'),\n",
    "               col('supplier').alias('supplierd'),col('grade').alias('Grade'),col('Qyt').alias('Qyt'),\n",
    "        )\n",
    "pdfi.show()"
   ]
  },
  {
   "cell_type": "code",
   "execution_count": 245,
   "id": "0f4c944c",
   "metadata": {},
   "outputs": [
    {
     "name": "stdout",
     "output_type": "stream",
     "text": [
      "+-------------+-------------+\n",
      "|min(itemcost)|max(itemcost)|\n",
      "+-------------+-------------+\n",
      "|          4.0|        65.76|\n",
      "+-------------+-------------+\n",
      "\n"
     ]
    }
   ],
   "source": [
    "res=SQLTransformer(statement=\"select min(itemcost),max(itemcost) from __THIS__\")\n",
    "res.transform(pdf1).show()"
   ]
  },
  {
   "cell_type": "code",
   "execution_count": 248,
   "id": "a691efc9",
   "metadata": {},
   "outputs": [
    {
     "name": "stdout",
     "output_type": "stream",
     "text": [
      "+------+--------+--------+---------+-----+----+-----+\n",
      "|itemid|itemname|itemcost|supplierd|Grade| Qyt|incre|\n",
      "+------+--------+--------+---------+-----+----+-----+\n",
      "|     8|   chalk|   65.76|        X|    A|  10|85.76|\n",
      "|    12|  Pencil|     4.0|        Y|    B|   5| 24.0|\n",
      "|    13|    null|    null|     null| null|null| null|\n",
      "|    15|  Duster|    54.0|        Y|    C|   4| 74.0|\n",
      "|    23|   Scale|    null|     null|    A|   3| null|\n",
      "|    34|  Colors|    50.0|     null|    B|   1| 70.0|\n",
      "+------+--------+--------+---------+-----+----+-----+\n",
      "\n"
     ]
    }
   ],
   "source": [
    "from pyspark.sql.functions  import expr\n",
    "pdf1.withColumn(\"incre\",expr(\"itemcost+20\")).show()"
   ]
  },
  {
   "cell_type": "code",
   "execution_count": 249,
   "id": "be3b0754",
   "metadata": {},
   "outputs": [
    {
     "name": "stdout",
     "output_type": "stream",
     "text": [
      "+------+--------+---------------+\n",
      "|itemid|itemcost|(itemcost + 20)|\n",
      "+------+--------+---------------+\n",
      "|     8|   65.76|          85.76|\n",
      "|    12|     4.0|           24.0|\n",
      "|    13|    null|           null|\n",
      "|    15|    54.0|           74.0|\n",
      "|    23|    null|           null|\n",
      "|    34|    50.0|           70.0|\n",
      "+------+--------+---------------+\n",
      "\n"
     ]
    }
   ],
   "source": [
    "pdf1.selectExpr('itemid','itemcost','itemcost+20').show()"
   ]
  },
  {
   "cell_type": "code",
   "execution_count": 255,
   "id": "c49988f9",
   "metadata": {},
   "outputs": [
    {
     "name": "stdout",
     "output_type": "stream",
     "text": [
      "+---------+----+----------+-------------+------+------+-----+--------------------+\n",
      "|firstname| Gen| StartDate|LastLoginTime|   Sal| Bonus|   SM|                Team|\n",
      "+---------+----+----------+-------------+------+------+-----+--------------------+\n",
      "|  Douglas|   M|      null|         null|  null|  null| null|           Marketing|\n",
      "|   Thomas|   M| 3/31/1996|      6:53 AM| 61933|  4.17| true|                null|\n",
      "|    Maria|null| 4/23/1993|     11:17 AM|  null|11.858|false|             Finance|\n",
      "|    Jerry|   M|03-04-2005|         null|  null|  null| true|             Finance|\n",
      "|    Larry|   M| 1/24/1998|      4:47 PM|  null| 1.389| true|     Client Services|\n",
      "|   Dennis|null| 4/18/1987|      1:35 AM|115163|10.125|false|               Legal|\n",
      "|     Ruby|   F|      null|         null| 65476|10.012| true|             Product|\n",
      "|     null|   F| 7/20/2015|     10:43 AM|  null|  null| null|             Finance|\n",
      "|   Angela|   F|      null|      6:29 AM| 95570|  null| true|         Engineering|\n",
      "|  Frances|   F|      null|      6:51 AM|139852| 7.524| true|Business Development|\n",
      "|   Louise|   F|08-12-1980|      9:01 AM| 63241|15.132| true|                null|\n",
      "|    Julie|   F|10/26/1997|      3:19 PM|102508|12.637| true|               Legal|\n",
      "|  Brandon|   M|12-01-1980|      1:08 AM|112807|17.492| true|     Human Resources|\n",
      "|     Gary|   M| 1/27/2008|     11:40 PM|109831| 5.831|false|               Sales|\n",
      "| Kimberly|   F| 1/14/1999|      7:13 AM| 41426|14.543| true|             Finance|\n",
      "|  Lillian|   F|06-05-2016|      6:09 AM| 59414| 1.256|false|             Product|\n",
      "|   Jeremy|   M| 9/21/2010|      5:56 AM| 90370| 7.369|false|     Human Resources|\n",
      "|    Shawn|   M|12-07-1986|      7:45 PM|111737| 6.414|false|             Product|\n",
      "|    Diana|   F|10/23/1981|     10:27 AM|132940|19.082|false|     Client Services|\n",
      "|    Donna|   F| 7/22/2010|      3:48 AM| 81014| 1.894|false|             Product|\n",
      "+---------+----+----------+-------------+------+------+-----+--------------------+\n",
      "only showing top 20 rows\n",
      "\n"
     ]
    }
   ],
   "source": [
    "pdf1.withColumn(\"Gen\",expr(\"CASE WHEN Gen='Male' THEN 'M'\" + \"WHEN Gen='Female' THEN 'F' END \")).show()"
   ]
  },
  {
   "cell_type": "code",
   "execution_count": 271,
   "id": "ddf07f2e",
   "metadata": {},
   "outputs": [
    {
     "name": "stdout",
     "output_type": "stream",
     "text": [
      "+------+--------+--------+---------+-----+----+\n",
      "|itemid|itemname|itemcost|supplierd|Grade| Qyt|\n",
      "+------+--------+--------+---------+-----+----+\n",
      "|     8|   chalk|     100|        X|    A|  10|\n",
      "|    12|  Pencil|      50|        Y|    B|   5|\n",
      "|    13|    null|    null|     null|    C|null|\n",
      "|    15|  Duster|      20|        Y|    B|   4|\n",
      "|    23|   Scale|    null|     null|    C|   3|\n",
      "|    34|  Colors|      50|     null|    B|   1|\n",
      "+------+--------+--------+---------+-----+----+\n",
      "\n"
     ]
    }
   ],
   "source": [
    "pdfi.withColumn(\"Grade\",expr(\"CASE WHEN itemcost>=100 THEN 'A'\" + 'WHEN itemcost<=50  THEN \"B\" else \"C\" END')).show()"
   ]
  },
  {
   "cell_type": "code",
   "execution_count": 287,
   "id": "37b8cab7",
   "metadata": {},
   "outputs": [
    {
     "name": "stdout",
     "output_type": "stream",
     "text": [
      "+---------+-----+------+-------+\n",
      "|firstname|  Sal| Bonus|roundup|\n",
      "+---------+-----+------+-------+\n",
      "|  Douglas| null|  null|   null|\n",
      "|   Thomas|61933|  4.17|   4.17|\n",
      "|    Maria| null|11.858|  11.86|\n",
      "+---------+-----+------+-------+\n",
      "only showing top 3 rows\n",
      "\n"
     ]
    }
   ],
   "source": [
    "pdf1.select('firstname','Sal','Bonus',expr('round(Bonus,2) as roundup')).show(3)"
   ]
  },
  {
   "cell_type": "code",
   "execution_count": 289,
   "id": "9dbc73be",
   "metadata": {},
   "outputs": [
    {
     "name": "stdout",
     "output_type": "stream",
     "text": [
      "+---------+-----+-----+-------+\n",
      "|firstname|  Sal|Bonus|roundup|\n",
      "+---------+-----+-----+-------+\n",
      "|  Douglas| null| null|   null|\n",
      "|   Thomas|61933| 4.17|    4.2|\n",
      "+---------+-----+-----+-------+\n",
      "only showing top 2 rows\n",
      "\n"
     ]
    }
   ],
   "source": [
    "pdf1.selectExpr('firstname','Sal','Bonus',('round(Bonus,1) as roundup')).show(2)"
   ]
  },
  {
   "cell_type": "code",
   "execution_count": 291,
   "id": "edd27d7b",
   "metadata": {},
   "outputs": [
    {
     "data": {
      "text/html": [
       "<div>\n",
       "<style scoped>\n",
       "    .dataframe tbody tr th:only-of-type {\n",
       "        vertical-align: middle;\n",
       "    }\n",
       "\n",
       "    .dataframe tbody tr th {\n",
       "        vertical-align: top;\n",
       "    }\n",
       "\n",
       "    .dataframe thead th {\n",
       "        text-align: right;\n",
       "    }\n",
       "</style>\n",
       "<table border=\"1\" class=\"dataframe\">\n",
       "  <thead>\n",
       "    <tr style=\"text-align: right;\">\n",
       "      <th></th>\n",
       "      <th>firstname</th>\n",
       "      <th>round(Bonus, 1)</th>\n",
       "    </tr>\n",
       "  </thead>\n",
       "  <tbody>\n",
       "    <tr>\n",
       "      <th>0</th>\n",
       "      <td>Jerry</td>\n",
       "      <td>NaN</td>\n",
       "    </tr>\n",
       "    <tr>\n",
       "      <th>1</th>\n",
       "      <td>Jerry</td>\n",
       "      <td>19.1</td>\n",
       "    </tr>\n",
       "    <tr>\n",
       "      <th>2</th>\n",
       "      <td>Jerry</td>\n",
       "      <td>9.2</td>\n",
       "    </tr>\n",
       "    <tr>\n",
       "      <th>3</th>\n",
       "      <td>Jerry</td>\n",
       "      <td>18.8</td>\n",
       "    </tr>\n",
       "    <tr>\n",
       "      <th>4</th>\n",
       "      <td>Jerry</td>\n",
       "      <td>11.4</td>\n",
       "    </tr>\n",
       "    <tr>\n",
       "      <th>5</th>\n",
       "      <td>Jerry</td>\n",
       "      <td>18.9</td>\n",
       "    </tr>\n",
       "  </tbody>\n",
       "</table>\n",
       "</div>"
      ],
      "text/plain": [
       "  firstname  round(Bonus, 1)\n",
       "0     Jerry              NaN\n",
       "1     Jerry             19.1\n",
       "2     Jerry              9.2\n",
       "3     Jerry             18.8\n",
       "4     Jerry             11.4\n",
       "5     Jerry             18.9"
      ]
     },
     "execution_count": 291,
     "metadata": {},
     "output_type": "execute_result"
    }
   ],
   "source": [
    "pdf1.selectExpr(\"firstname\",\"round(Bonus,1)\").filter('firstname==\"Jerry\"').toPandas"
   ]
  },
  {
   "cell_type": "markdown",
   "id": "ac547517",
   "metadata": {},
   "source": [
    "\n",
    "pdf1.selectExpr(\"firstname\",\"Team\",\"round(Bonus,1)\").filter('length(Team)==\"7\"').show()"
   ]
  },
  {
   "cell_type": "code",
   "execution_count": 316,
   "id": "09c6ba0e",
   "metadata": {},
   "outputs": [
    {
     "name": "stdout",
     "output_type": "stream",
     "text": [
      "+--------------------+--------+\n",
      "|                Team|sum(Sal)|\n",
      "+--------------------+--------+\n",
      "|               Sales| 8664303|\n",
      "|         Engineering| 8532753|\n",
      "|                null| 4042828|\n",
      "|Business Development| 9278498|\n",
      "|             Finance| 9091186|\n",
      "|     Client Services| 9250785|\n",
      "|        Distribution| 7965042|\n",
      "|               Legal| 7858718|\n",
      "|           Marketing| 8765380|\n",
      "|             Product| 8423223|\n",
      "|     Human Resources| 8275952|\n",
      "+--------------------+--------+\n",
      "\n"
     ]
    }
   ],
   "source": [
    "\n",
    "r1=pdf1.groupBy(\"Team\").sum(\"Sal\").show()"
   ]
  },
  {
   "cell_type": "code",
   "execution_count": 331,
   "id": "cef39c72",
   "metadata": {},
   "outputs": [
    {
     "name": "stdout",
     "output_type": "stream",
     "text": [
      "+-------+--------+\n",
      "|   Team|sum(Sal)|\n",
      "+-------+--------+\n",
      "|Finance| 9091186|\n",
      "|Product| 8423223|\n",
      "+-------+--------+\n",
      "\n"
     ]
    }
   ],
   "source": [
    "pdf1.selectExpr(\"Team\",\"Sal\").filter('length(Team)==\"7\"').groupBy(\"Team\").sum('Sal').show()"
   ]
  },
  {
   "cell_type": "code",
   "execution_count": 325,
   "id": "d753d76d",
   "metadata": {},
   "outputs": [
    {
     "name": "stdout",
     "output_type": "stream",
     "text": [
      "+--------------------+--------+\n",
      "|                Team|sum(Sal)|\n",
      "+--------------------+--------+\n",
      "|               Sales| 8664303|\n",
      "|         Engineering| 8532753|\n",
      "|                null| 4042828|\n",
      "|Business Development| 9278498|\n",
      "|             Finance| 9091186|\n",
      "|     Client Services| 9250785|\n",
      "|        Distribution| 7965042|\n",
      "|               Legal| 7858718|\n",
      "|           Marketing| 8765380|\n",
      "|             Product| 8423223|\n",
      "|     Human Resources| 8275952|\n",
      "+--------------------+--------+\n",
      "\n"
     ]
    }
   ],
   "source": [
    "r1=pdf1.groupBy(\"Team\").sum(\"Sal\")\n",
    "r1.show()"
   ]
  },
  {
   "cell_type": "code",
   "execution_count": 354,
   "id": "0c86578d",
   "metadata": {},
   "outputs": [],
   "source": [
    "\n",
    "#r=spark.sql('select Team,sum(Sal) from tempview where length(Team)==7 GROUP BY Team').show()"
   ]
  },
  {
   "cell_type": "code",
   "execution_count": null,
   "id": "4197b592",
   "metadata": {},
   "outputs": [],
   "source": []
  },
  {
   "cell_type": "code",
   "execution_count": null,
   "id": "908eb919",
   "metadata": {},
   "outputs": [],
   "source": []
  }
 ],
 "metadata": {
  "kernelspec": {
   "display_name": "Python 3 (ipykernel)",
   "language": "python",
   "name": "python3"
  },
  "language_info": {
   "codemirror_mode": {
    "name": "ipython",
    "version": 3
   },
   "file_extension": ".py",
   "mimetype": "text/x-python",
   "name": "python",
   "nbconvert_exporter": "python",
   "pygments_lexer": "ipython3",
   "version": "3.10.2"
  }
 },
 "nbformat": 4,
 "nbformat_minor": 5
}
