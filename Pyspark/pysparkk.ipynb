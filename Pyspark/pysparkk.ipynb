{
 "cells": [
  {
   "cell_type": "code",
   "execution_count": 1,
   "id": "53f6295f",
   "metadata": {},
   "outputs": [],
   "source": [
    "\n",
    "import findspark\n",
    "findspark.init()\n"
   ]
  },
  {
   "cell_type": "code",
   "execution_count": 2,
   "id": "318eff2a",
   "metadata": {},
   "outputs": [],
   "source": [
    "import pyspark\n",
    "from pyspark.sql import SparkSession\n",
    "spark=SparkSession.builder.appName(\"Employee\").getOrCreate()"
   ]
  },
  {
   "cell_type": "code",
   "execution_count": 4,
   "id": "cb575df2",
   "metadata": {},
   "outputs": [],
   "source": [
    "data=[[101,\"shreya\",40000],[102,\"priya\",50000],[103,\"tina\",6000]]\n",
    "df=spark.createDataFrame(data,[\"Id\",\"name\",\"salary\"])\n"
   ]
  },
  {
   "cell_type": "code",
   "execution_count": 6,
   "id": "45e00c6b",
   "metadata": {},
   "outputs": [
    {
     "name": "stdout",
     "output_type": "stream",
     "text": [
      "DataFrame[Id: bigint, name: string, salary: bigint]\n",
      "<class 'pyspark.sql.dataframe.DataFrame'>\n"
     ]
    }
   ],
   "source": [
    "print(df)\n",
    "print(type(df))"
   ]
  },
  {
   "cell_type": "code",
   "execution_count": 7,
   "id": "25e2ce2e",
   "metadata": {},
   "outputs": [
    {
     "name": "stdout",
     "output_type": "stream",
     "text": [
      "+---+------+------+\n",
      "| Id|  name|salary|\n",
      "+---+------+------+\n",
      "|101|shreya| 40000|\n",
      "|102| priya| 50000|\n",
      "|103|  tina|  6000|\n",
      "+---+------+------+\n",
      "\n"
     ]
    }
   ],
   "source": [
    "df.show()"
   ]
  },
  {
   "cell_type": "code",
   "execution_count": 11,
   "id": "d10b1d7a",
   "metadata": {},
   "outputs": [
    {
     "data": {
      "text/html": [
       "<div>\n",
       "<style scoped>\n",
       "    .dataframe tbody tr th:only-of-type {\n",
       "        vertical-align: middle;\n",
       "    }\n",
       "\n",
       "    .dataframe tbody tr th {\n",
       "        vertical-align: top;\n",
       "    }\n",
       "\n",
       "    .dataframe thead th {\n",
       "        text-align: right;\n",
       "    }\n",
       "</style>\n",
       "<table border=\"1\" class=\"dataframe\">\n",
       "  <thead>\n",
       "    <tr style=\"text-align: right;\">\n",
       "      <th></th>\n",
       "      <th>Id</th>\n",
       "      <th>name</th>\n",
       "      <th>salary</th>\n",
       "    </tr>\n",
       "  </thead>\n",
       "  <tbody>\n",
       "    <tr>\n",
       "      <th>0</th>\n",
       "      <td>101</td>\n",
       "      <td>shreya</td>\n",
       "      <td>40000</td>\n",
       "    </tr>\n",
       "    <tr>\n",
       "      <th>1</th>\n",
       "      <td>102</td>\n",
       "      <td>priya</td>\n",
       "      <td>50000</td>\n",
       "    </tr>\n",
       "    <tr>\n",
       "      <th>2</th>\n",
       "      <td>103</td>\n",
       "      <td>tina</td>\n",
       "      <td>6000</td>\n",
       "    </tr>\n",
       "  </tbody>\n",
       "</table>\n",
       "</div>"
      ],
      "text/plain": [
       "    Id    name  salary\n",
       "0  101  shreya   40000\n",
       "1  102   priya   50000\n",
       "2  103    tina    6000"
      ]
     },
     "execution_count": 11,
     "metadata": {},
     "output_type": "execute_result"
    }
   ],
   "source": [
    "#as pandas frame\n",
    "df1=df.toPandas()\n",
    "df1"
   ]
  },
  {
   "cell_type": "code",
   "execution_count": 10,
   "id": "d332d948",
   "metadata": {},
   "outputs": [
    {
     "name": "stdout",
     "output_type": "stream",
     "text": [
      "<class 'pandas.core.frame.DataFrame'>\n"
     ]
    }
   ],
   "source": [
    "print(type(df1))"
   ]
  },
  {
   "cell_type": "code",
   "execution_count": 13,
   "id": "b52f90df",
   "metadata": {},
   "outputs": [
    {
     "data": {
      "text/plain": [
       "['Id', 'name', 'salary']"
      ]
     },
     "execution_count": 13,
     "metadata": {},
     "output_type": "execute_result"
    }
   ],
   "source": [
    "#col infor\n",
    "df.columns"
   ]
  },
  {
   "cell_type": "code",
   "execution_count": 16,
   "id": "4b37baa1",
   "metadata": {},
   "outputs": [
    {
     "data": {
      "text/plain": [
       "3"
      ]
     },
     "execution_count": 16,
     "metadata": {},
     "output_type": "execute_result"
    }
   ],
   "source": [
    "#rows \n",
    "df.count()"
   ]
  },
  {
   "cell_type": "code",
   "execution_count": 42,
   "id": "0449e1ee",
   "metadata": {},
   "outputs": [],
   "source": [
    "df2=spark.read.csv(\"F:\\\\Items1.csv\",header=True)"
   ]
  },
  {
   "cell_type": "code",
   "execution_count": 43,
   "id": "e40d79c7",
   "metadata": {},
   "outputs": [
    {
     "data": {
      "text/plain": [
       "DataFrame[itemID: string, itemName: string, itemcost: string, supplier : string, grade: string]"
      ]
     },
     "execution_count": 43,
     "metadata": {},
     "output_type": "execute_result"
    }
   ],
   "source": [
    "df2"
   ]
  },
  {
   "cell_type": "code",
   "execution_count": 44,
   "id": "c621b014",
   "metadata": {},
   "outputs": [
    {
     "name": "stdout",
     "output_type": "stream",
     "text": [
      "+------+--------------+--------+---------+-----+\n",
      "|itemID|      itemName|itemcost|supplier |grade|\n",
      "+------+--------------+--------+---------+-----+\n",
      "|     8|         chalk|      70|        X|    A|\n",
      "|    12|        Pencil|      20|        Y|    B|\n",
      "|    13|        Pencil|      70|        X|    A|\n",
      "|    15|        Duster|      54|        Y|    C|\n",
      "|     1|calculator    |     200|     null|    A|\n",
      "|     2|          none|      20|     null|    C|\n",
      "+------+--------------+--------+---------+-----+\n",
      "\n"
     ]
    }
   ],
   "source": [
    "df2.show()#shows oly top 20"
   ]
  },
  {
   "cell_type": "code",
   "execution_count": 45,
   "id": "91ad6914",
   "metadata": {},
   "outputs": [
    {
     "name": "stdout",
     "output_type": "stream",
     "text": [
      "Row(itemID='8', itemName='chalk', itemcost='70', supplier ='X', grade='A')\n",
      "<class 'pyspark.sql.types.Row'>\n"
     ]
    }
   ],
   "source": [
    "frame=df2.head()\n",
    "print(frame)\n",
    "print(type(frame))\n"
   ]
  },
  {
   "cell_type": "code",
   "execution_count": 46,
   "id": "3414eafc",
   "metadata": {},
   "outputs": [],
   "source": [
    "pdf=df2.toPandas()#shows all record"
   ]
  },
  {
   "cell_type": "code",
   "execution_count": 47,
   "id": "032eefcc",
   "metadata": {},
   "outputs": [
    {
     "data": {
      "text/html": [
       "<div>\n",
       "<style scoped>\n",
       "    .dataframe tbody tr th:only-of-type {\n",
       "        vertical-align: middle;\n",
       "    }\n",
       "\n",
       "    .dataframe tbody tr th {\n",
       "        vertical-align: top;\n",
       "    }\n",
       "\n",
       "    .dataframe thead th {\n",
       "        text-align: right;\n",
       "    }\n",
       "</style>\n",
       "<table border=\"1\" class=\"dataframe\">\n",
       "  <thead>\n",
       "    <tr style=\"text-align: right;\">\n",
       "      <th></th>\n",
       "      <th>itemID</th>\n",
       "      <th>itemName</th>\n",
       "      <th>itemcost</th>\n",
       "      <th>supplier</th>\n",
       "      <th>grade</th>\n",
       "    </tr>\n",
       "  </thead>\n",
       "  <tbody>\n",
       "    <tr>\n",
       "      <th>0</th>\n",
       "      <td>8</td>\n",
       "      <td>chalk</td>\n",
       "      <td>70</td>\n",
       "      <td>X</td>\n",
       "      <td>A</td>\n",
       "    </tr>\n",
       "    <tr>\n",
       "      <th>1</th>\n",
       "      <td>12</td>\n",
       "      <td>Pencil</td>\n",
       "      <td>20</td>\n",
       "      <td>Y</td>\n",
       "      <td>B</td>\n",
       "    </tr>\n",
       "    <tr>\n",
       "      <th>2</th>\n",
       "      <td>13</td>\n",
       "      <td>Pencil</td>\n",
       "      <td>70</td>\n",
       "      <td>X</td>\n",
       "      <td>A</td>\n",
       "    </tr>\n",
       "    <tr>\n",
       "      <th>3</th>\n",
       "      <td>15</td>\n",
       "      <td>Duster</td>\n",
       "      <td>54</td>\n",
       "      <td>Y</td>\n",
       "      <td>C</td>\n",
       "    </tr>\n",
       "    <tr>\n",
       "      <th>4</th>\n",
       "      <td>1</td>\n",
       "      <td>calculator</td>\n",
       "      <td>200</td>\n",
       "      <td>None</td>\n",
       "      <td>A</td>\n",
       "    </tr>\n",
       "    <tr>\n",
       "      <th>5</th>\n",
       "      <td>2</td>\n",
       "      <td>none</td>\n",
       "      <td>20</td>\n",
       "      <td>None</td>\n",
       "      <td>C</td>\n",
       "    </tr>\n",
       "  </tbody>\n",
       "</table>\n",
       "</div>"
      ],
      "text/plain": [
       "  itemID        itemName itemcost supplier  grade\n",
       "0      8           chalk       70         X     A\n",
       "1     12          Pencil       20         Y     B\n",
       "2     13          Pencil       70         X     A\n",
       "3     15          Duster       54         Y     C\n",
       "4      1  calculator          200      None     A\n",
       "5      2            none       20      None     C"
      ]
     },
     "execution_count": 47,
     "metadata": {},
     "output_type": "execute_result"
    }
   ],
   "source": [
    "pdf"
   ]
  },
  {
   "cell_type": "code",
   "execution_count": 49,
   "id": "508b73b2",
   "metadata": {},
   "outputs": [
    {
     "name": "stdout",
     "output_type": "stream",
     "text": [
      "+--------------+-------------+\n",
      "|      itemName|count(itemID)|\n",
      "+--------------+-------------+\n",
      "|         chalk|            1|\n",
      "|          none|            1|\n",
      "|        Duster|            1|\n",
      "|calculator    |            1|\n",
      "|        Pencil|            2|\n",
      "+--------------+-------------+\n",
      "\n"
     ]
    }
   ],
   "source": [
    "#aggreation of data,grouping\n",
    "#grade wise \n",
    "df2.groupBy(\"itemName\").agg({'itemID':'count'}).show()"
   ]
  },
  {
   "cell_type": "code",
   "execution_count": 51,
   "id": "28838188",
   "metadata": {},
   "outputs": [],
   "source": [
    "dsp=spark.read.csv(\"f:\\\\loan prediction dataset in banking.csv\",header=False)"
   ]
  },
  {
   "cell_type": "code",
   "execution_count": 52,
   "id": "4e40ab3f",
   "metadata": {},
   "outputs": [
    {
     "name": "stdout",
     "output_type": "stream",
     "text": [
      "+--------+------+-------+----------+------------+-------------+---------------+-----------------+----------+----------------+--------------+-------------+-----------+\n",
      "|     _c0|   _c1|    _c2|       _c3|         _c4|          _c5|            _c6|              _c7|       _c8|             _c9|          _c10|         _c11|       _c12|\n",
      "+--------+------+-------+----------+------------+-------------+---------------+-----------------+----------+----------------+--------------+-------------+-----------+\n",
      "| Loan_ID|Gender|Married|Dependents|   Education|Self_Employed|ApplicantIncome|CoapplicantIncome|LoanAmount|Loan_Amount_Term|Credit_History|Property_Area|Loan_Status|\n",
      "|LP001002|  Male|     No|         0|    Graduate|           No|           5849|                0|      null|             360|             1|        Urban|          Y|\n",
      "|LP001003|  Male|    Yes|         1|    Graduate|           No|           4583|             1508|       128|             360|             1|        Rural|          N|\n",
      "|LP001005|  Male|    Yes|         0|    Graduate|          Yes|           3000|                0|        66|             360|             1|        Urban|          Y|\n",
      "|LP001006|  Male|    Yes|         0|Not Graduate|           No|           2583|             2358|       120|             360|             1|        Urban|          Y|\n",
      "|LP001008|  Male|     No|         0|    Graduate|           No|           6000|                0|       141|             360|             1|        Urban|          Y|\n",
      "|LP001011|  Male|    Yes|         2|    Graduate|          Yes|           5417|             4196|       267|             360|             1|        Urban|          Y|\n",
      "|LP001013|  Male|    Yes|         0|Not Graduate|           No|           2333|             1516|        95|             360|             1|        Urban|          Y|\n",
      "|LP001014|  Male|    Yes|        3+|    Graduate|           No|           3036|             2504|       158|             360|             0|    Semiurban|          N|\n",
      "|LP001018|  Male|    Yes|         2|    Graduate|           No|           4006|             1526|       168|             360|             1|        Urban|          Y|\n",
      "|LP001020|  Male|    Yes|         1|    Graduate|           No|          12841|            10968|       349|             360|             1|    Semiurban|          N|\n",
      "|LP001024|  Male|    Yes|         2|    Graduate|           No|           3200|              700|        70|             360|             1|        Urban|          Y|\n",
      "|LP001027|  Male|    Yes|         2|    Graduate|         null|           2500|             1840|       109|             360|             1|        Urban|          Y|\n",
      "|LP001028|  Male|    Yes|         2|    Graduate|           No|           3073|             8106|       200|             360|             1|        Urban|          Y|\n",
      "|LP001029|  Male|     No|         0|    Graduate|           No|           1853|             2840|       114|             360|             1|        Rural|          N|\n",
      "|LP001030|  Male|    Yes|         2|    Graduate|           No|           1299|             1086|        17|             120|             1|        Urban|          Y|\n",
      "|LP001032|  Male|     No|         0|    Graduate|           No|           4950|                0|       125|             360|             1|        Urban|          Y|\n",
      "|LP001034|  Male|     No|         1|Not Graduate|           No|           3596|                0|       100|             240|          null|        Urban|          Y|\n",
      "|LP001036|Female|     No|         0|    Graduate|           No|           3510|                0|        76|             360|             0|        Urban|          N|\n",
      "|LP001038|  Male|    Yes|         0|Not Graduate|           No|           4887|                0|       133|             360|             1|        Rural|          N|\n",
      "+--------+------+-------+----------+------------+-------------+---------------+-----------------+----------+----------------+--------------+-------------+-----------+\n",
      "only showing top 20 rows\n",
      "\n"
     ]
    }
   ],
   "source": [
    "\n",
    "dsp.show()"
   ]
  },
  {
   "cell_type": "code",
   "execution_count": 54,
   "id": "adcdbe99",
   "metadata": {},
   "outputs": [
    {
     "name": "stdout",
     "output_type": "stream",
     "text": [
      "+----------------+----------+\n",
      "|             _c9|count(_c9)|\n",
      "+----------------+----------+\n",
      "|            null|         0|\n",
      "|Loan_Amount_Term|         1|\n",
      "|             300|        13|\n",
      "|             120|         3|\n",
      "|              60|         2|\n",
      "|             360|       512|\n",
      "|             240|         4|\n",
      "|             180|        44|\n",
      "|              84|         4|\n",
      "|             480|        15|\n",
      "|              36|         2|\n",
      "|              12|         1|\n",
      "+----------------+----------+\n",
      "\n"
     ]
    }
   ],
   "source": [
    "dsp.groupBy(\"_c9\").agg({'_c9':'count'}).show()"
   ]
  },
  {
   "cell_type": "code",
   "execution_count": 55,
   "id": "7ec495a3",
   "metadata": {},
   "outputs": [],
   "source": [
    "df5=spark.read.csv(\"F:\\\\item_details.csv\",header=True)"
   ]
  },
  {
   "cell_type": "code",
   "execution_count": 56,
   "id": "5c215859",
   "metadata": {},
   "outputs": [
    {
     "name": "stdout",
     "output_type": "stream",
     "text": [
      "+------+---------+--------+--------+-----+\n",
      "|itemid|itemname |itemcost|supplier|grade|\n",
      "+------+---------+--------+--------+-----+\n",
      "|     8|    chalk|   65.76|       X|    A|\n",
      "|    12|   Pencil|       4|       Y|    B|\n",
      "|    13|      Pen|      43|       X|    A|\n",
      "|    15|   Duster|      54|       Y|    C|\n",
      "|    23|    Scale|      10|    null|    A|\n",
      "|    34|   Colors|      50|    null|    B|\n",
      "+------+---------+--------+--------+-----+\n",
      "\n"
     ]
    }
   ],
   "source": [
    "df5.show()"
   ]
  },
  {
   "cell_type": "code",
   "execution_count": 57,
   "id": "fe65e255",
   "metadata": {},
   "outputs": [
    {
     "name": "stdout",
     "output_type": "stream",
     "text": [
      "+--------+---------------+\n",
      "|supplier|count(supplier)|\n",
      "+--------+---------------+\n",
      "|    null|              0|\n",
      "|       Y|              2|\n",
      "|       X|              2|\n",
      "+--------+---------------+\n",
      "\n"
     ]
    }
   ],
   "source": [
    "df5.groupBy(\"supplier\").agg({'supplier':'count'}).show()"
   ]
  },
  {
   "cell_type": "code",
   "execution_count": 61,
   "id": "b627faa5",
   "metadata": {},
   "outputs": [
    {
     "name": "stdout",
     "output_type": "stream",
     "text": [
      "+--------+-------------+-------------+-------------+\n",
      "|supplier|max(itemcost)|sum(itemcost)|avg(itemcost)|\n",
      "+--------+-------------+-------------+-------------+\n",
      "|    null|           50|         60.0|         30.0|\n",
      "|       X|        65.76|       108.76|        54.38|\n",
      "|       Y|           54|         58.0|         29.0|\n",
      "+--------+-------------+-------------+-------------+\n",
      "\n"
     ]
    }
   ],
   "source": [
    "from pyspark.sql import functions as f\n",
    "df5.groupBy(\"supplier\").agg(f.max('itemcost'),f.sum('itemcost'),f.avg('itemcost')).show()"
   ]
  },
  {
   "cell_type": "code",
   "execution_count": 63,
   "id": "848f9a49",
   "metadata": {},
   "outputs": [
    {
     "data": {
      "text/plain": [
       "244"
      ]
     },
     "execution_count": 63,
     "metadata": {},
     "output_type": "execute_result"
    }
   ],
   "source": [
    "dff=df5\n",
    "df5.rdd.id()"
   ]
  },
  {
   "cell_type": "code",
   "execution_count": 64,
   "id": "e1d4ca6a",
   "metadata": {},
   "outputs": [
    {
     "data": {
      "text/plain": [
       "244"
      ]
     },
     "execution_count": 64,
     "metadata": {},
     "output_type": "execute_result"
    }
   ],
   "source": [
    "dff.rdd.id()"
   ]
  },
  {
   "cell_type": "code",
   "execution_count": 69,
   "id": "7829731c",
   "metadata": {},
   "outputs": [],
   "source": [
    "df6=df5.withColumn('billss',df5['itemcost']+df5['itemID'])"
   ]
  },
  {
   "cell_type": "code",
   "execution_count": 70,
   "id": "ef27e10c",
   "metadata": {},
   "outputs": [
    {
     "name": "stdout",
     "output_type": "stream",
     "text": [
      "+------+---------+--------+--------+-----+------+\n",
      "|itemid|itemname |itemcost|supplier|grade|billss|\n",
      "+------+---------+--------+--------+-----+------+\n",
      "|     8|    chalk|   65.76|       X|    A| 73.76|\n",
      "|    12|   Pencil|       4|       Y|    B|  16.0|\n",
      "|    13|      Pen|      43|       X|    A|  56.0|\n",
      "|    15|   Duster|      54|       Y|    C|  69.0|\n",
      "|    23|    Scale|      10|    null|    A|  33.0|\n",
      "|    34|   Colors|      50|    null|    B|  84.0|\n",
      "+------+---------+--------+--------+-----+------+\n",
      "\n"
     ]
    }
   ],
   "source": [
    "df6.show()"
   ]
  },
  {
   "cell_type": "code",
   "execution_count": 71,
   "id": "924a6250",
   "metadata": {},
   "outputs": [
    {
     "name": "stdout",
     "output_type": "stream",
     "text": [
      "[Row(itemid='8', itemname ='chalk', itemcost='65.76', supplier='X', grade='A', billss=73.76), Row(itemid='12', itemname ='Pencil', itemcost='4', supplier='Y', grade='B', billss=16.0), Row(itemid='13', itemname ='Pen', itemcost='43', supplier='X', grade='A', billss=56.0), Row(itemid='15', itemname ='Duster', itemcost='54', supplier='Y', grade='C', billss=69.0), Row(itemid='23', itemname ='Scale', itemcost='10', supplier=None, grade='A', billss=33.0), Row(itemid='34', itemname ='Colors', itemcost='50', supplier=None, grade='B', billss=84.0)]\n"
     ]
    }
   ],
   "source": [
    "rowlist=df6.collect()\n",
    "print(rowlist)"
   ]
  },
  {
   "cell_type": "code",
   "execution_count": null,
   "id": "a4058f74",
   "metadata": {},
   "outputs": [],
   "source": []
  }
 ],
 "metadata": {
  "kernelspec": {
   "display_name": "Python 3 (ipykernel)",
   "language": "python",
   "name": "python3"
  },
  "language_info": {
   "codemirror_mode": {
    "name": "ipython",
    "version": 3
   },
   "file_extension": ".py",
   "mimetype": "text/x-python",
   "name": "python",
   "nbconvert_exporter": "python",
   "pygments_lexer": "ipython3",
   "version": "3.10.2"
  }
 },
 "nbformat": 4,
 "nbformat_minor": 5
}
