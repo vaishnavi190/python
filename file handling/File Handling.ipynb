{
 "cells": [
  {
   "cell_type": "code",
   "execution_count": 1,
   "id": "32cc7eb9",
   "metadata": {},
   "outputs": [
    {
     "name": "stdout",
     "output_type": "stream",
     "text": [
      "h\n",
      "i\n",
      " \n",
      "p\n",
      "p\n",
      "l\n",
      "\n",
      "\n",
      "g\n",
      "o\n",
      "o\n",
      "d\n",
      " \n",
      "m\n",
      "o\n",
      "r\n",
      "n\n",
      "i\n",
      "n\n",
      "g\n",
      "done\n"
     ]
    }
   ],
   "source": [
    "#read contents of file character by character\n",
    "try:\n",
    "    fi=open(\"C:\\\\Users\\\\User\\\\AIT\\\\calculator1.txt\")\n",
    "    for i in fi:\n",
    "        for ch in i:\n",
    "            print(ch)\n",
    "except FileNotFoundError as e:\n",
    "    print(e)\n",
    "else:\n",
    "    print(\"done\")\n",
    "finally:\n",
    "    fi.close()"
   ]
  },
  {
   "cell_type": "code",
   "execution_count": 8,
   "id": "15472f08",
   "metadata": {},
   "outputs": [
    {
     "name": "stdout",
     "output_type": "stream",
     "text": [
      "['hi ppl\\n', 'good morning']\n",
      "done\n"
     ]
    }
   ],
   "source": [
    "#read contents line by line\n",
    "try:\n",
    "    fi=open(\"C:\\\\Users\\\\User\\\\AIT\\\\calculator1.txt\")\n",
    "    i=fi.readlines()\n",
    "    print(i)\n",
    "except FileNotFoundError as e:\n",
    "    print(e)\n",
    "else:\n",
    "    print(\"done\")\n",
    "finally:\n",
    "    fi.close()\n"
   ]
  },
  {
   "cell_type": "code",
   "execution_count": 11,
   "id": "edc7e7ea",
   "metadata": {},
   "outputs": [
    {
     "name": "stdout",
     "output_type": "stream",
     "text": [
      "hi\n",
      "ppl\n",
      "good\n",
      "morning\n",
      "done\n"
     ]
    }
   ],
   "source": [
    "#read contents word by word\n",
    "try:\n",
    "    fi=open(\"C:\\\\Users\\\\User\\\\AIT\\\\calculator1.txt\")\n",
    "    for i in fi:\n",
    "        for j in i.split():\n",
    "            print(j)\n",
    "except FileNotFoundError as e:\n",
    "    print(e)\n",
    "else:\n",
    "    print(\"done\")\n",
    "finally:\n",
    "    fi.close()\n",
    "\n"
   ]
  },
  {
   "cell_type": "code",
   "execution_count": 16,
   "id": "597cf62f",
   "metadata": {},
   "outputs": [
    {
     "name": "stdout",
     "output_type": "stream",
     "text": [
      "removed\n"
     ]
    }
   ],
   "source": [
    "#remove file\n",
    "import os\n",
    "if os.path.exists(\"C:\\\\Users\\\\User\\\\AIT\\\\covariant.txt\"):\n",
    "    os.remove(\"covariant.txt\")\n",
    "    print(\"removed\")\n",
    "else:\n",
    "    print(\"not found\")"
   ]
  },
  {
   "cell_type": "code",
   "execution_count": 19,
   "id": "578c3750",
   "metadata": {},
   "outputs": [
    {
     "name": "stdout",
     "output_type": "stream",
     "text": [
      "hi ppl\n",
      "good morning\n",
      "\n",
      " reading and writing done\n"
     ]
    }
   ],
   "source": [
    "#copy contents from one file to another\n",
    "try:\n",
    "    fi=open(\"C:\\\\Users\\\\User\\\\AIT\\\\Calculator1.txt\",\"r\")\n",
    "    print(fi.read())\n",
    "    with open(\"C:\\\\Users\\\\User\\\\AIT\\\\Calculator2.txt\",\"w\") as f:\n",
    "        for i in fi:\n",
    "            f.write(i)\n",
    "    f=open(\"C:\\\\Users\\\\User\\\\AIT\\\\Calculator2.txt\")\n",
    "    print(f.read())\n",
    "        \n",
    "except FileNotFoundError as e:\n",
    "    print(e)\n",
    "else:\n",
    "    print(\" reading and writing done\")\n"
   ]
  },
  {
   "cell_type": "code",
   "execution_count": 1,
   "id": "9625d2ab",
   "metadata": {},
   "outputs": [
    {
     "ename": "FileNotFoundError",
     "evalue": "[Errno 2] No such file or directory: 'C:\\\\Users\\\\User\\\\AIT\\\\Calculator1.py'",
     "output_type": "error",
     "traceback": [
      "\u001b[1;31m---------------------------------------------------------------------------\u001b[0m",
      "\u001b[1;31mFileNotFoundError\u001b[0m                         Traceback (most recent call last)",
      "Input \u001b[1;32mIn [1]\u001b[0m, in \u001b[0;36m<module>\u001b[1;34m\u001b[0m\n\u001b[0;32m      1\u001b[0m \u001b[38;5;66;03m#file handling\u001b[39;00m\n\u001b[1;32m----> 2\u001b[0m fi\u001b[38;5;241m=\u001b[39m\u001b[38;5;28;43mopen\u001b[39;49m\u001b[43m(\u001b[49m\u001b[38;5;124;43m\"\u001b[39;49m\u001b[38;5;124;43mC:\u001b[39;49m\u001b[38;5;130;43;01m\\\\\u001b[39;49;00m\u001b[38;5;124;43mUsers\u001b[39;49m\u001b[38;5;130;43;01m\\\\\u001b[39;49;00m\u001b[38;5;124;43mUser\u001b[39;49m\u001b[38;5;130;43;01m\\\\\u001b[39;49;00m\u001b[38;5;124;43mAIT\u001b[39;49m\u001b[38;5;130;43;01m\\\\\u001b[39;49;00m\u001b[38;5;124;43mCalculator1.py\u001b[39;49m\u001b[38;5;124;43m\"\u001b[39;49m\u001b[43m)\u001b[49m\n\u001b[0;32m      3\u001b[0m \u001b[38;5;28mprint\u001b[39m(fi\u001b[38;5;241m.\u001b[39mread())\n",
      "\u001b[1;31mFileNotFoundError\u001b[0m: [Errno 2] No such file or directory: 'C:\\\\Users\\\\User\\\\AIT\\\\Calculator1.py'"
     ]
    }
   ],
   "source": [
    "#file handling\n",
    "fi=open(\"C:\\\\Users\\\\User\\\\AIT\\\\Calculator1.py\")\n",
    "print(fi.read())"
   ]
  },
  {
   "cell_type": "code",
   "execution_count": 2,
   "id": "925a10f7",
   "metadata": {},
   "outputs": [
    {
     "name": "stdout",
     "output_type": "stream",
     "text": [
      "from functools import reduce\n",
      "pie=3.142\n",
      "\n",
      "l1=[\"Pune\",\"Mumbai\"]\n",
      "\n",
      "def showSquare(no):\n",
      "    print(\"Square of number is:\",no**2)\n",
      "    \n",
      "    \n",
      "class Numbers:\n",
      "    def operate(self,*a):\n",
      "        print(\"No of argum:\" , len(a))\n",
      "        print('Addition is ',  reduce(lambda x,y: x+y,a))\n",
      "        \n",
      "\n",
      "if(__name__=='__main__'):\n",
      "    print(\"My Module is ready\")\n",
      "    print(\"__name__\", __name__)\n",
      "    print(\"pie : \" ,pie)\n",
      "    showSquare(5)\n",
      "    \n",
      "done\n"
     ]
    }
   ],
   "source": [
    "try:\n",
    "    fi=open(\"C:\\\\Users\\\\User\\\\AIT\\\\Calculator.py\")\n",
    "    print(fi.read())\n",
    "except FileNotFoundError as e:\n",
    "    print(e)\n",
    "else:\n",
    "    print(\"done\")\n",
    "finally:\n",
    "    fi.close()"
   ]
  },
  {
   "cell_type": "code",
   "execution_count": 3,
   "id": "02b47ec6",
   "metadata": {},
   "outputs": [
    {
     "name": "stdout",
     "output_type": "stream",
     "text": [
      "<class '_io.TextIOWrapper'>\n",
      "hi ppl\n",
      " reading and writing done\n"
     ]
    }
   ],
   "source": [
    "#writing of file\n",
    "try:\n",
    "    with open(\"C:\\\\Users\\\\User\\\\AIT\\\\Calculator1.txt\",\"w\") as fi:\n",
    "        fi.write(\"hi ppl\")\n",
    "        print(type(fi))\n",
    "    with open(\"C:\\\\Users\\\\User\\\\AIT\\\\Calculator1.txt\") as fi:\n",
    "        print(fi.read())\n",
    "except FileNotFoundError as e:\n",
    "    print(e)\n",
    "else:\n",
    "    print(\" reading and writing done\")"
   ]
  },
  {
   "cell_type": "code",
   "execution_count": 4,
   "id": "d6a65d31",
   "metadata": {},
   "outputs": [
    {
     "name": "stdout",
     "output_type": "stream",
     "text": [
      "hi ppl\n",
      "\n",
      " reading and writing done\n"
     ]
    }
   ],
   "source": [
    "\n",
    "#copying content of one file to another\n",
    "try:\n",
    "    fi=open(\"C:\\\\Users\\\\User\\\\AIT\\\\Calculator1.txt\",\"r\")\n",
    "    print(fi.read())\n",
    "    with open(\"C:\\\\Users\\\\User\\\\AIT\\\\Calculator2.txt\",\"w\") as f:\n",
    "        for i in fi:\n",
    "            f.write(i)\n",
    "    f=open(\"C:\\\\Users\\\\User\\\\AIT\\\\Calculator2.txt\")\n",
    "    print(f.read())\n",
    "        \n",
    "except FileNotFoundError as e:\n",
    "    print(e)\n",
    "else:\n",
    "    print(\" reading and writing done\")"
   ]
  },
  {
   "cell_type": "code",
   "execution_count": 5,
   "id": "9813d578",
   "metadata": {},
   "outputs": [],
   "source": [
    "import os\n",
    "if os.path.exists(\"C:\\\\Users\\\\User\\\\AIT\\\\Bouncy.txt\"):\n",
    "    os.remove(\"Bouncy.txt\")\n",
    "    print(\"removed\")"
   ]
  },
  {
   "cell_type": "code",
   "execution_count": null,
   "id": "e4f8c0f4",
   "metadata": {},
   "outputs": [],
   "source": []
  }
 ],
 "metadata": {
  "kernelspec": {
   "display_name": "Python 3 (ipykernel)",
   "language": "python",
   "name": "python3"
  },
  "language_info": {
   "codemirror_mode": {
    "name": "ipython",
    "version": 3
   },
   "file_extension": ".py",
   "mimetype": "text/x-python",
   "name": "python",
   "nbconvert_exporter": "python",
   "pygments_lexer": "ipython3",
   "version": "3.10.2"
  }
 },
 "nbformat": 4,
 "nbformat_minor": 5
}
