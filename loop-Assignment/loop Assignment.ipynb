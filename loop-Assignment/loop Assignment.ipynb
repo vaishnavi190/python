{
 "cells": [
  {
   "cell_type": "code",
   "execution_count": 53,
   "id": "937c9952",
   "metadata": {},
   "outputs": [
    {
     "name": "stdout",
     "output_type": "stream",
     "text": [
      "1,2,3,4,5,6,7,8,9,10,11,12,13,14,15,16,17,18,19,20,21,22,23,24,25,26,27,28,29,30,31,32,33,34,35,36,37,38,39,40,41,42,43,44,45,46,47,48,49,50,51,52,53,54,55,56,57,58,59,60,61,62,63,64,65,66,67,68,69,70,71,72,73,74,75,76,77,78,79,80,81,82,83,84,85,86,87,88,89,90,91,92,93,94,95,96,97,98,99,100,"
     ]
    }
   ],
   "source": [
    "#display numbers from 1 to 100\n",
    "for i in range(1 ,100+1):\n",
    "    print(i,end=\",\")\n",
    " "
   ]
  },
  {
   "cell_type": "code",
   "execution_count": 52,
   "id": "54eed117",
   "metadata": {},
   "outputs": [
    {
     "name": "stdout",
     "output_type": "stream",
     "text": [
      "2,4,6,8,10,12,14,16,18,20,22,24,26,28,30,32,34,36,38,40,42,44,46,48,50,52,54,56,58,60,62,64,66,68,70,72,74,76,78,80,82,84,86,88,90,92,94,96,98,100,"
     ]
    }
   ],
   "source": [
    "#display alleven number from 1 to 100\n",
    "for i in range(1,100+1):\n",
    "    if i%2==0:\n",
    "        print (i,end=\",\")"
   ]
  },
  {
   "cell_type": "code",
   "execution_count": 50,
   "id": "b52f5c6e",
   "metadata": {},
   "outputs": [
    {
     "name": "stdout",
     "output_type": "stream",
     "text": [
      "201,203,205,207,209,211,213,215,217,219,221,223,225,227,229,231,233,235,237,239,241,243,245,247,249,251,253,255,257,259,261,263,265,267,269,271,273,275,277,279,281,283,285,287,289,291,293,295,297,299,"
     ]
    }
   ],
   "source": [
    "#display all odd numbers from 200 to 300\n",
    "for i in range (200,300):\n",
    "    if i%2!=0:\n",
    "        print(i,end=\",\")"
   ]
  },
  {
   "cell_type": "code",
   "execution_count": 51,
   "id": "9f2cc70b",
   "metadata": {},
   "outputs": [
    {
     "name": "stdout",
     "output_type": "stream",
     "text": [
      "400,407,414,421,428,435,442,449,456,463,470,477,484,491,498,"
     ]
    }
   ],
   "source": [
    "#display the seventh element between 400 to 500\n",
    "for i in range (400,500,7):\n",
    "    print(i,end=\",\")\n",
    "   "
   ]
  },
  {
   "cell_type": "code",
   "execution_count": 56,
   "id": "367f1295",
   "metadata": {},
   "outputs": [
    {
     "name": "stdout",
     "output_type": "stream",
     "text": [
      "2,4,6,8,10,12,14,16,18,20,"
     ]
    }
   ],
   "source": [
    "#find first 10 even numbers\n",
    "for i in range (1,num*2+1):\n",
    "    if i%2==0:\n",
    "        print (i,end=\",\")\n",
    "     \n",
    "\n"
   ]
  },
  {
   "cell_type": "code",
   "execution_count": 10,
   "id": "6235999b",
   "metadata": {},
   "outputs": [
    {
     "name": "stdout",
     "output_type": "stream",
     "text": [
      " 2   3   5   7   11   13   17   19   23   29   31   37   41   43   47   53   59   61   67   71   73   79   83   89   97  "
     ]
    }
   ],
   "source": [
    "#find all prime number <100\n",
    "for num in range (1, 100+1):\n",
    "    count = 0\n",
    "    for i in range(2, (num//2 + 1)):\n",
    "        if(num % i == 0):\n",
    "            count = count + 1\n",
    "            break\n",
    "\n",
    "    if (count == 0 and num != 1):\n",
    "        print(\" %d\" %num, end = '  ')"
   ]
  },
  {
   "cell_type": "code",
   "execution_count": 46,
   "id": "0785eb08",
   "metadata": {},
   "outputs": [
    {
     "name": "stdout",
     "output_type": "stream",
     "text": [
      "enter the element:0\n",
      "1\n"
     ]
    }
   ],
   "source": [
    "#calculate factorial of a number:\n",
    "num=int(input(\"enter the element:\"))\n",
    "fact=1\n",
    "for i in range(1,num+1):\n",
    "    fact=fact*i\n",
    "print(fact)\n",
    "\n",
    "    "
   ]
  },
  {
   "cell_type": "code",
   "execution_count": 36,
   "id": "41cddd44",
   "metadata": {},
   "outputs": [
    {
     "name": "stdout",
     "output_type": "stream",
     "text": [
      "enter the number:123456\n",
      "6\n"
     ]
    }
   ],
   "source": [
    "#count number of digits in any number\n",
    "num=int(input(\"enter the number:\"))\n",
    "count=0\n",
    "while(num>0):\n",
    "    count=count+1\n",
    "    num=num//10\n",
    "print(count)"
   ]
  },
  {
   "cell_type": "code",
   "execution_count": 48,
   "id": "9e618884",
   "metadata": {},
   "outputs": [
    {
     "name": "stdout",
     "output_type": "stream",
     "text": [
      "enter the values: 4\n",
      "Fibonacci Series:  0 1 1 2 \n",
      "end of logic\n"
     ]
    }
   ],
   "source": [
    "#generate fibonacci series\n",
    "num=int(input('enter the values: '))\n",
    "a = 0\n",
    "b = 1\n",
    "sum = 0\n",
    "count = 1\n",
    "print(\"Fibonacci Series: \", end = \" \")\n",
    "while(count <= num):\n",
    "    print(sum, end = \" \")\n",
    "    count += 1\n",
    "    a = b\n",
    "    b = sum\n",
    "    sum = a + b\n",
    "print(\"\\nend of logic\")\n",
    "    \n",
    "\n"
   ]
  },
  {
   "cell_type": "code",
   "execution_count": 42,
   "id": "ddd32064",
   "metadata": {},
   "outputs": [
    {
     "name": "stdout",
     "output_type": "stream",
     "text": [
      "Enter a number:2345\n",
      "The total sum of digits is: 14\n"
     ]
    }
   ],
   "source": [
    "#find sum of all digits of a number\n",
    "n=int(input(\"Enter a number:\"))\n",
    "sum=0\n",
    "while(n>0):\n",
    "    dig=n%10\n",
    "    sum=sum+dig\n",
    "    n=n//10\n",
    "print(\"The total sum of digits is:\",sum)"
   ]
  },
  {
   "cell_type": "code",
   "execution_count": 43,
   "id": "e1c10c85",
   "metadata": {},
   "outputs": [
    {
     "name": "stdout",
     "output_type": "stream",
     "text": [
      "Enter number:234\n",
      "The number isn't a palindrome!\n"
     ]
    }
   ],
   "source": [
    "#find out given number is palindrome or not\n",
    "n=int(input(\"Enter number:\"))\n",
    "temp=n\n",
    "rev=0\n",
    "while(n>0):\n",
    "    dig=n%10\n",
    "    rev=rev*10+dig\n",
    "    n=n//10\n",
    "if(temp==rev):\n",
    "    print(\"The number is a palindrome!\")\n",
    "else:\n",
    "    print(\"The number isn't a palindrome!\")\n"
   ]
  },
  {
   "cell_type": "code",
   "execution_count": 6,
   "id": "2c55b5eb",
   "metadata": {},
   "outputs": [
    {
     "name": "stdout",
     "output_type": "stream",
     "text": [
      "397 389 383 379 373 367 359 353 349 347 337 331 317 313 311 307 "
     ]
    }
   ],
   "source": [
    "#find all the prime numbers from 400 till 300\n",
    "for num in range (400,300,-1):\n",
    "    count = 0\n",
    "    for i in range(2,(num//2 + 1)):\n",
    "        if(num % i == 0):\n",
    "            count = count + 1\n",
    "            break\n",
    "\n",
    "    if (count == 0 ):\n",
    "        print(num, end = ' ')"
   ]
  },
  {
   "cell_type": "code",
   "execution_count": null,
   "id": "8b3b0b09",
   "metadata": {},
   "outputs": [],
   "source": []
  }
 ],
 "metadata": {
  "kernelspec": {
   "display_name": "Python 3 (ipykernel)",
   "language": "python",
   "name": "python3"
  },
  "language_info": {
   "codemirror_mode": {
    "name": "ipython",
    "version": 3
   },
   "file_extension": ".py",
   "mimetype": "text/x-python",
   "name": "python",
   "nbconvert_exporter": "python",
   "pygments_lexer": "ipython3",
   "version": "3.9.7"
  }
 },
 "nbformat": 4,
 "nbformat_minor": 5
}
