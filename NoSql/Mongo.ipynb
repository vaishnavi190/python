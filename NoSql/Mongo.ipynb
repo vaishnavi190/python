{
 "cells": [
  {
   "cell_type": "code",
   "execution_count": 1,
   "id": "dcb8c6f0",
   "metadata": {},
   "outputs": [
    {
     "name": "stdout",
     "output_type": "stream",
     "text": [
      "Requirement already satisfied: pymongo in c:\\users\\user\\appdata\\local\\programs\\python\\python310\\lib\\site-packages (4.0.1)\n",
      "Note: you may need to restart the kernel to use updated packages.\n"
     ]
    }
   ],
   "source": [
    "pip install pymongo"
   ]
  },
  {
   "cell_type": "code",
   "execution_count": 1,
   "id": "7387db7c",
   "metadata": {},
   "outputs": [],
   "source": [
    "from pymongo import MongoClient\n",
    "from pprint import pprint"
   ]
  },
  {
   "cell_type": "code",
   "execution_count": 3,
   "id": "b3274449",
   "metadata": {},
   "outputs": [
    {
     "name": "stdout",
     "output_type": "stream",
     "text": [
      "client obj is ready\n",
      "connected to db\n",
      "Result: <pymongo.results.InsertManyResult object at 0x000001BB859A95C0>\n"
     ]
    }
   ],
   "source": [
    "client=MongoClient('mongodb://localhost:27017')\n",
    "print('client obj is ready')\n",
    "db=client.library\n",
    "print(\"connected to db\")\n",
    "book=db.bookTable\n",
    "book_details={'bookid':'2','bookname':'dreams','price':4554}\n",
    "\n",
    "book_details=[{'bookid':5,'bookname':'best friend','price':200},{'bookid':6,'bookname':'c#','price':1000},\n",
    "              {'bookid':1,'bookname':'histroy','price':300},{'bookid':1,'bookname':'histroy','price':300}]\n",
    "#insert record\n",
    "result=book.insert_many(book_details)\n",
    "\n",
    "print(\"Result:\",result)\n",
    "\n",
    "#find\n"
   ]
  },
  {
   "cell_type": "code",
   "execution_count": 4,
   "id": "9fdd4d03",
   "metadata": {},
   "outputs": [
    {
     "name": "stdout",
     "output_type": "stream",
     "text": [
      "None\n"
     ]
    }
   ],
   "source": [
    "r=book.find_one({'bookid':'2'})\n",
    "print(r)"
   ]
  },
  {
   "cell_type": "code",
   "execution_count": 5,
   "id": "cdf3609b",
   "metadata": {},
   "outputs": [
    {
     "name": "stdout",
     "output_type": "stream",
     "text": [
      "{'_id': ObjectId('61f7cab23612b96a3c24e111'), 'bookid': 3, 'bookname': 'tales', 'price': 400}\n",
      "{'_id': ObjectId('61f7cab23612b96a3c24e112'), 'bookid': 4, 'bookname': 'java pro', 'price': 1000}\n",
      "{'_id': ObjectId('61f7cc7c3612b96a3c24e115'), 'bookid': 6, 'bookname': 'c#', 'price': 1000}\n",
      "{'_id': ObjectId('61f7cc7c3612b96a3c24e116'), 'bookid': 1, 'bookname': 'histroy', 'price': 300}\n",
      "{'_id': ObjectId('61f7cc7c3612b96a3c24e117'), 'bookid': 1, 'bookname': 'histroy', 'price': 300}\n",
      "{'_id': ObjectId('61f7fa845c5d58299d1736a1'), 'bookid': 5, 'bookname': 'best friend', 'price': 200}\n",
      "{'_id': ObjectId('61f7fa845c5d58299d1736a2'), 'bookid': 6, 'bookname': 'c#', 'price': 1000}\n",
      "{'_id': ObjectId('61f7fa845c5d58299d1736a3'), 'bookid': 1, 'bookname': 'histroy', 'price': 300}\n",
      "{'_id': ObjectId('61f7fa845c5d58299d1736a4'), 'bookid': 1, 'bookname': 'histroy', 'price': 300}\n"
     ]
    }
   ],
   "source": [
    "result=book.find()\n",
    "for r in result:\n",
    "    print(r)"
   ]
  },
  {
   "cell_type": "code",
   "execution_count": 8,
   "id": "1de03f88",
   "metadata": {},
   "outputs": [
    {
     "name": "stdout",
     "output_type": "stream",
     "text": [
      "updation done\n"
     ]
    }
   ],
   "source": [
    "#update\n",
    "book.update_many({'bookid':\"2\"},{\"$set\":{'bookname':'new book','price':400}})\n",
    "print(\"updation done\")"
   ]
  },
  {
   "cell_type": "code",
   "execution_count": 9,
   "id": "9da210c6",
   "metadata": {},
   "outputs": [
    {
     "name": "stdout",
     "output_type": "stream",
     "text": [
      "deleted\n"
     ]
    }
   ],
   "source": [
    "#delete\n",
    "book.delete_one({'bookid':1})\n",
    "print(\"deleted\")"
   ]
  },
  {
   "cell_type": "code",
   "execution_count": 10,
   "id": "c6491ac1",
   "metadata": {},
   "outputs": [
    {
     "name": "stdout",
     "output_type": "stream",
     "text": [
      "deleted\n"
     ]
    }
   ],
   "source": [
    "#delete many\n",
    "book.delete_many({'bookid':'2'})\n",
    "print(\"deleted\")"
   ]
  },
  {
   "cell_type": "code",
   "execution_count": 11,
   "id": "90a535f2",
   "metadata": {},
   "outputs": [
    {
     "name": "stdout",
     "output_type": "stream",
     "text": [
      "{'_id': ObjectId('61f7cab23612b96a3c24e111'), 'bookid': 3, 'bookname': 'tales', 'price': 400}\n"
     ]
    }
   ],
   "source": [
    "#find one and update\n",
    "r=book.find_one_and_update({'bookid':3},{\"$set\":{'bookname':'tales','price':400}})\n",
    "print(r)"
   ]
  },
  {
   "cell_type": "code",
   "execution_count": 12,
   "id": "42f80648",
   "metadata": {},
   "outputs": [
    {
     "name": "stdout",
     "output_type": "stream",
     "text": [
      "{'_id': ObjectId('61f7fa845c5d58299d1736a1'), 'bookid': 5, 'bookname': 'best friend', 'price': 200}\n"
     ]
    }
   ],
   "source": [
    "#find_one_and_replace\n",
    "r=book.find_one_and_replace({'bookid':5},{'bookid':10,'bookname':\"science\",'price':400})\n",
    "print(r)"
   ]
  },
  {
   "cell_type": "code",
   "execution_count": 13,
   "id": "cd417b83",
   "metadata": {},
   "outputs": [
    {
     "name": "stdout",
     "output_type": "stream",
     "text": [
      "{'_id': ObjectId('61f7fa845c5d58299d1736a1'), 'bookid': 10, 'bookname': 'science', 'price': 400}\n",
      "deleted\n"
     ]
    }
   ],
   "source": [
    "r=book.find_one_and_delete({'bookid':10})\n",
    "print(r)\n",
    "print(\"deleted\")"
   ]
  },
  {
   "cell_type": "code",
   "execution_count": 14,
   "id": "21fad37b",
   "metadata": {},
   "outputs": [
    {
     "name": "stdout",
     "output_type": "stream",
     "text": [
      "client obj is ready\n",
      "connected to db\n"
     ]
    }
   ],
   "source": [
    "client=MongoClient('mongodb://localhost:27017')\n",
    "print('client obj is ready')\n",
    "db=client.student\n",
    "print(\"connected to db\")\n",
    "student=db.studentdetail\n",
    "#student_details={'id':'1','name':'shreya','percent':80}\n",
    "#result=student.insert_one(student_details)\n",
    "#student_details=[{'id':'1','name':'shreya','percent':80},{'id':'1','name':'shreya','percent':80},\n",
    "                 #{'id':'2','name':'nagma','percent':85},{'id':'3','name':'priya','percent':70},\n",
    "                 #{'id':'4','name':'shri','percent':65},{'id':'5','name':'parth','percent':65},\n",
    "               #{'id':'6','name':'ram','percent':80},{'id':'7','name':'vaishnavi','percent':75},\n",
    "                #{'id':'8','name':'harsh','percent':61},{'id':'9','name':'alia','percent':76}]\n",
    "#result=student.insert_many(student_details)\n",
    "#print(\"Result:\",result)\n"
   ]
  },
  {
   "cell_type": "code",
   "execution_count": 16,
   "id": "59cdad58",
   "metadata": {},
   "outputs": [
    {
     "name": "stdout",
     "output_type": "stream",
     "text": [
      "{'_id': ObjectId('61f8fd83eee671fe5deff9b0'), 'id': '1', 'name': 'shreya', 'percent': 80}\n",
      "{'_id': ObjectId('61f8fd83eee671fe5deff9b2'), 'id': '2', 'name': 'nagma', 'percent': 85}\n",
      "{'_id': ObjectId('61f8fdb5eee671fe5deff9be'), 'id': '3', 'name': 'priya', 'percent': 70}\n",
      "{'_id': ObjectId('61f8fdbdeee671fe5deff9c8'), 'id': '2', 'name': 'nagma', 'percent': 85}\n",
      "{'_id': ObjectId('61f8fdbdeee671fe5deff9c9'), 'id': '3', 'name': 'priya', 'percent': 70}\n",
      "{'_id': ObjectId('61f8fdbdeee671fe5deff9ca'), 'id': '4', 'name': 'shri', 'percent': 65}\n",
      "{'_id': ObjectId('61f8fdbdeee671fe5deff9cb'), 'id': '5', 'name': 'parth', 'percent': 65}\n",
      "{'_id': ObjectId('61f8fdbdeee671fe5deff9cc'), 'id': '6', 'name': 'ram', 'percent': 80}\n",
      "{'_id': ObjectId('61f8fdbdeee671fe5deff9cd'), 'id': '7', 'name': 'vaishnavi', 'percent': 75}\n",
      "{'_id': ObjectId('61f8fdbdeee671fe5deff9ce'), 'id': '8', 'name': 'harsh', 'percent': 61}\n",
      "{'_id': ObjectId('61f8fdbdeee671fe5deff9cf'), 'id': '9', 'name': 'alia', 'percent': 76}\n"
     ]
    }
   ],
   "source": [
    "result=student.find()\n",
    "for r in result:\n",
    "    print(r)"
   ]
  },
  {
   "cell_type": "code",
   "execution_count": 27,
   "id": "fc798432",
   "metadata": {},
   "outputs": [
    {
     "name": "stdout",
     "output_type": "stream",
     "text": [
      "updation done\n"
     ]
    }
   ],
   "source": [
    "#update\n",
    "student.update_many({'id':\"2\"},{\"$set\":{'name':'preeti','percent':67}})\n",
    "print(\"updation done\")"
   ]
  },
  {
   "cell_type": "code",
   "execution_count": 28,
   "id": "4d9e79fc",
   "metadata": {},
   "outputs": [
    {
     "name": "stdout",
     "output_type": "stream",
     "text": [
      "deleted\n"
     ]
    }
   ],
   "source": [
    "#delete\n",
    "student.delete_one({'id':1})\n",
    "print(\"deleted\")"
   ]
  },
  {
   "cell_type": "code",
   "execution_count": 31,
   "id": "e1920d7f",
   "metadata": {},
   "outputs": [
    {
     "name": "stdout",
     "output_type": "stream",
     "text": [
      "deleted\n"
     ]
    }
   ],
   "source": [
    "#delete many\n",
    "student.delete_many({'id':'2'})\n",
    "print(\"deleted\")"
   ]
  },
  {
   "cell_type": "code",
   "execution_count": 32,
   "id": "91fc1415",
   "metadata": {},
   "outputs": [
    {
     "name": "stdout",
     "output_type": "stream",
     "text": [
      "None\n"
     ]
    }
   ],
   "source": [
    "#find one and update\n",
    "r=student.find_one_and_update({'id':\"7\"},{\"$set\":{'name':'riya','percent':90}})\n",
    "print(r)"
   ]
  },
  {
   "cell_type": "code",
   "execution_count": 35,
   "id": "786830ca",
   "metadata": {},
   "outputs": [
    {
     "name": "stdout",
     "output_type": "stream",
     "text": [
      "{'_id': ObjectId('61f8fdbdeee671fe5deff9cb'), 'id': '5', 'name': 'parth', 'percent': 65}\n"
     ]
    }
   ],
   "source": [
    "#find_one_and_replace\n",
    "r=student.find_one_and_replace({'id':'5'},{'id':10,'name':\"shilpa\",'':50})\n",
    "print(r)"
   ]
  },
  {
   "cell_type": "code",
   "execution_count": 39,
   "id": "2b8c3635",
   "metadata": {},
   "outputs": [
    {
     "name": "stdout",
     "output_type": "stream",
     "text": [
      "sorted in ascending:\n",
      "{'_id': ObjectId('61f8fdbdeee671fe5deff9cf'), 'id': '9', 'name': 'alia', 'percent': 76}\n",
      "{'_id': ObjectId('61f8fdbdeee671fe5deff9ce'), 'id': '8', 'name': 'harsh', 'percent': 61}\n",
      "{'_id': ObjectId('61f8fdb5eee671fe5deff9be'), 'id': '3', 'name': 'priya', 'percent': 70}\n",
      "{'_id': ObjectId('61f8fdbdeee671fe5deff9c9'), 'id': '3', 'name': 'priya', 'percent': 70}\n",
      "{'_id': ObjectId('61f8fdbdeee671fe5deff9cc'), 'id': '6', 'name': 'ram', 'percent': 80}\n",
      "{'_id': ObjectId('61f8fdbdeee671fe5deff9cb'), 'id': 10, 'name': 'shilpa', '': 50}\n",
      "{'_id': ObjectId('61f8fd83eee671fe5deff9b0'), 'id': '1', 'name': 'shreya', 'percent': 80}\n",
      "{'_id': ObjectId('61f8fdbdeee671fe5deff9ca'), 'id': '4', 'name': 'shri', 'percent': 65}\n"
     ]
    }
   ],
   "source": [
    "#sort\n",
    "result=student.find().sort(\"name\")\n",
    "print(\"sorted in ascending:\")\n",
    "for i in result:\n",
    "\n",
    "    print(i)\n"
   ]
  },
  {
   "cell_type": "code",
   "execution_count": 44,
   "id": "d08e3579",
   "metadata": {},
   "outputs": [
    {
     "name": "stdout",
     "output_type": "stream",
     "text": [
      "sorted in descending:\n",
      "{'_id': ObjectId('61f8fdbdeee671fe5deff9ca'), 'id': '4', 'name': 'shri', 'percent': 65}\n",
      "{'_id': ObjectId('61f8fd83eee671fe5deff9b0'), 'id': '1', 'name': 'shreya', 'percent': 80}\n",
      "{'_id': ObjectId('61f8fdbdeee671fe5deff9cb'), 'id': 10, 'name': 'shilpa', '': 50}\n",
      "{'_id': ObjectId('61f8fdbdeee671fe5deff9cc'), 'id': '6', 'name': 'ram', 'percent': 80}\n",
      "{'_id': ObjectId('61f8fdb5eee671fe5deff9be'), 'id': '3', 'name': 'priya', 'percent': 70}\n",
      "{'_id': ObjectId('61f8fdbdeee671fe5deff9c9'), 'id': '3', 'name': 'priya', 'percent': 70}\n",
      "{'_id': ObjectId('61f8fdbdeee671fe5deff9ce'), 'id': '8', 'name': 'harsh', 'percent': 61}\n",
      "{'_id': ObjectId('61f8fdbdeee671fe5deff9cf'), 'id': '9', 'name': 'alia', 'percent': 76}\n"
     ]
    }
   ],
   "source": [
    "#descending\n",
    "result=student.find().sort(\"name\",-1)\n",
    "print(\"sorted in descending:\")\n",
    "for i in result:\n",
    "    print(i)"
   ]
  },
  {
   "cell_type": "code",
   "execution_count": 45,
   "id": "4d0fd55a",
   "metadata": {},
   "outputs": [
    {
     "name": "stdout",
     "output_type": "stream",
     "text": [
      "{'_id': ObjectId('61f8fd83eee671fe5deff9b0'), 'id': '1', 'name': 'shreya', 'percent': 80}\n",
      "{'_id': ObjectId('61f8fdb5eee671fe5deff9be'), 'id': '3', 'name': 'priya', 'percent': 70}\n",
      "{'_id': ObjectId('61f8fdbdeee671fe5deff9c9'), 'id': '3', 'name': 'priya', 'percent': 70}\n",
      "{'_id': ObjectId('61f8fdbdeee671fe5deff9ca'), 'id': '4', 'name': 'shri', 'percent': 65}\n"
     ]
    }
   ],
   "source": [
    "#limit\n",
    "result=student.find().limit(4)\n",
    "\n",
    "for i in result:\n",
    "    print(i)"
   ]
  },
  {
   "cell_type": "code",
   "execution_count": null,
   "id": "448b5ba8",
   "metadata": {},
   "outputs": [],
   "source": []
  }
 ],
 "metadata": {
  "kernelspec": {
   "display_name": "Python 3 (ipykernel)",
   "language": "python",
   "name": "python3"
  },
  "language_info": {
   "codemirror_mode": {
    "name": "ipython",
    "version": 3
   },
   "file_extension": ".py",
   "mimetype": "text/x-python",
   "name": "python",
   "nbconvert_exporter": "python",
   "pygments_lexer": "ipython3",
   "version": "3.10.2"
  }
 },
 "nbformat": 4,
 "nbformat_minor": 5
}
