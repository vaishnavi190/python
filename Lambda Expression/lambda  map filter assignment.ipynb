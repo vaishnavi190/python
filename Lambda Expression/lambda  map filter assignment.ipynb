{
 "cells": [
  {
   "cell_type": "code",
   "execution_count": 41,
   "id": "f1faec7f",
   "metadata": {},
   "outputs": [
    {
     "name": "stdout",
     "output_type": "stream",
     "text": [
      "palindrome: ['madam', 'oo']\n"
     ]
    }
   ],
   "source": [
    "#1.\tWrite a Python program to find palindromes in a given list of strings using Lambda.\n",
    "l=['madam','ppl','oo']\n",
    "pal=list(filter(lambda a:a==''.join(reversed(a)),l))\n",
    "print('palindrome:',pal)"
   ]
  },
  {
   "cell_type": "code",
   "execution_count": 42,
   "id": "21de01ec",
   "metadata": {},
   "outputs": [
    {
     "name": "stdout",
     "output_type": "stream",
     "text": [
      "sum of negative number: -23\n"
     ]
    }
   ],
   "source": [
    "#2.\tWrite a Python program that removes the positive \n",
    "#numbers from a given list of numbers. Sum the negative numbers and print the absolute value using lambda function.\n",
    "\n",
    "l1=[1,-2,3,-4,5,6,-17]\n",
    "x=list(filter(lambda x:x<0,l1))\n",
    "print('sum of negative number:',sum(x))"
   ]
  },
  {
   "cell_type": "code",
   "execution_count": 43,
   "id": "4d78fe66",
   "metadata": {},
   "outputs": [
    {
     "name": "stdout",
     "output_type": "stream",
     "text": [
      "original list: [('English', 88), ('Science', 90), ('Maths', 97), ('Social sciences', 82)]\n",
      "sorted list: [('Social sciences', 82), ('English', 88), ('Science', 90), ('Maths', 97)]\n"
     ]
    }
   ],
   "source": [
    "#3.\tWrite a Python program to sort a list of tuples using Lambda.\n",
    "#subject_marks = [('English', 88), ('Science', 90), ('Maths', 97), ('Social sciences', 82)]\n",
    "#output\n",
    "#Sorting the List of Tuples:\n",
    "#[('Social sciences', 82), ('English', 88), ('Science', 90), ('Maths', 97)]\n",
    "subject_marks = [('English', 88), ('Science', 90), ('Maths', 97),('Social sciences', 82)]\n",
    "print('original list:',subject_marks)\n",
    "subject_marks.sort(key=lambda x:x[1])\n",
    "print('sorted list:',subject_marks)"
   ]
  },
  {
   "cell_type": "code",
   "execution_count": 47,
   "id": "21ea02d9",
   "metadata": {},
   "outputs": [
    {
     "name": "stdout",
     "output_type": "stream",
     "text": [
      "[1, 4, 9, 16, 25, 36, 49] [1, 8, 27, 64, 125, 216, 343]\n"
     ]
    }
   ],
   "source": [
    "#4.\tWrite a Python program to square and cube  using list comprehension.\n",
    "l1=[1,2,3,4,5,6,7]\n",
    "sq=list(map(lambda x:x**2,l1))\n",
    "cube=list(map(lambda x:x**3,l1))\n",
    "print(sq,cube)"
   ]
  },
  {
   "cell_type": "code",
   "execution_count": 13,
   "id": "30075cad",
   "metadata": {},
   "outputs": [
    {
     "name": "stdout",
     "output_type": "stream",
     "text": [
      "[11]\n"
     ]
    }
   ],
   "source": [
    "#5.\tWrite a program to find all prime number from given list using filter function .\n",
    "l=[1,3,5,7,8,9,10,11]\n",
    "for i in l: \n",
    "     l1=list(filter(lambda x: x == i or x % i==0, l))\n",
    "print(l1)"
   ]
  },
  {
   "cell_type": "code",
   "execution_count": 23,
   "id": "ed4bfab9",
   "metadata": {},
   "outputs": [
    {
     "name": "stdout",
     "output_type": "stream",
     "text": [
      "6\n"
     ]
    }
   ],
   "source": [
    "#6.\t Write a Python logic  to multiply all the numbers in a list ( use reduce function)\n",
    "from functools import reduce\n",
    "list1=[1,2,3]\n",
    "pro=reduce(lambda x,y:x*y,list1)\n",
    "print(pro)"
   ]
  },
  {
   "cell_type": "code",
   "execution_count": 24,
   "id": "c54a016f",
   "metadata": {},
   "outputs": [
    {
     "name": "stdout",
     "output_type": "stream",
     "text": [
      "{'BJP': 2, 'Congress': 1}\n"
     ]
    }
   ],
   "source": [
    "#7.\tWAP using dict comphrension to create dict from list of voters\n",
    "#lst=[{‘pan_id’:’ABPPS4344P’,vote_casted:’BJP’},\n",
    " #      {pan_id’:’ABPPS4342P’, vote_casted:’Congress’},\n",
    "  #     { pan_id’:’ABPPS4378p’, vote_casted:’BJP’}]\n",
    "\n",
    "#Output\n",
    "#{‘BJP’:2, ‘Congress’:1}\n",
    "\n",
    "lst=[{'pan_id':'ABPPS4344P','vote_casted':'BJP'},{'pan_id':'ABPPS4342P', 'vote_casted':'Congress'},\n",
    "{'pan_id':'ABPPS4378p', 'vote_casted':'BJP'}]\n",
    "l2=list(do['vote_casted'] for do in lst)\n",
    "\n",
    "dict={k:l2.count(k) for k in l2}\n",
    "print(dict)\n"
   ]
  },
  {
   "cell_type": "code",
   "execution_count": 17,
   "id": "90d656d3",
   "metadata": {},
   "outputs": [],
   "source": [
    "#8.\tWrite a program to find all  armstrong number from given list using filter function .\n",
    "def armstrong(a):\n",
    "    sum=0\n",
    "    temp=a\n",
    "    while temp>0:\n",
    "        d=temp%10\n",
    "        sum+=d**3\n",
    "        temp//=10\n",
    "    if(a==sum):\n",
    "        print(a ,end=\" \")\n",
    "    else:\n",
    "        pass    \n",
    "    "
   ]
  },
  {
   "cell_type": "code",
   "execution_count": 18,
   "id": "0c5e4a7a",
   "metadata": {},
   "outputs": [
    {
     "name": "stdout",
     "output_type": "stream",
     "text": [
      "153 371 "
     ]
    }
   ],
   "source": [
    "l=[153,668,149,371]\n",
    "s=[list(map(lambda x:armstrong(x),l))]"
   ]
  },
  {
   "cell_type": "code",
   "execution_count": null,
   "id": "384dd67b",
   "metadata": {},
   "outputs": [],
   "source": []
  }
 ],
 "metadata": {
  "kernelspec": {
   "display_name": "Python 3 (ipykernel)",
   "language": "python",
   "name": "python3"
  },
  "language_info": {
   "codemirror_mode": {
    "name": "ipython",
    "version": 3
   },
   "file_extension": ".py",
   "mimetype": "text/x-python",
   "name": "python",
   "nbconvert_exporter": "python",
   "pygments_lexer": "ipython3",
   "version": "3.10.2"
  }
 },
 "nbformat": 4,
 "nbformat_minor": 5
}
