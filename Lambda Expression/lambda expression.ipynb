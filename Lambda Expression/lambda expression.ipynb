{
 "cells": [
  {
   "cell_type": "code",
   "execution_count": 7,
   "id": "7363490f",
   "metadata": {},
   "outputs": [],
   "source": [
    "r=lambda s:print(\"hello\")"
   ]
  },
  {
   "cell_type": "code",
   "execution_count": 10,
   "id": "e25c6b35",
   "metadata": {},
   "outputs": [
    {
     "name": "stdout",
     "output_type": "stream",
     "text": [
      "hello\n"
     ]
    }
   ],
   "source": [
    "s1=r(\"shreya\")\n"
   ]
  },
  {
   "cell_type": "code",
   "execution_count": 14,
   "id": "4135cd96",
   "metadata": {},
   "outputs": [],
   "source": [
    "r=lambda s:s%2==0"
   ]
  },
  {
   "cell_type": "code",
   "execution_count": 20,
   "id": "0e24155f",
   "metadata": {},
   "outputs": [
    {
     "name": "stdout",
     "output_type": "stream",
     "text": [
      "True\n"
     ]
    }
   ],
   "source": [
    "print(r(4))\n"
   ]
  },
  {
   "cell_type": "code",
   "execution_count": 108,
   "id": "7b0f8a60",
   "metadata": {},
   "outputs": [
    {
     "name": "stdout",
     "output_type": "stream",
     "text": [
      "[7, 14, 28]\n"
     ]
    }
   ],
   "source": [
    "#numbers divisible by 7\n",
    "l1=[7,14,5,6,28]\n",
    "div=list(filter(lambda s:s%7==0,l1))\n",
    "print(div)"
   ]
  },
  {
   "cell_type": "code",
   "execution_count": 109,
   "id": "3b089a11",
   "metadata": {},
   "outputs": [
    {
     "name": "stdout",
     "output_type": "stream",
     "text": [
      "['pune']\n"
     ]
    }
   ],
   "source": [
    "l1=[\"mumbai\",\"pune\",\"banglore\"]\n",
    "s=list(filter(lambda x:len(x)<=5,l1))\n",
    "print(s)"
   ]
  },
  {
   "cell_type": "code",
   "execution_count": 29,
   "id": "2edc027d",
   "metadata": {},
   "outputs": [
    {
     "name": "stdout",
     "output_type": "stream",
     "text": [
      "['Mumbai', 'Belgavi']\n"
     ]
    }
   ],
   "source": [
    "t=(\"Mumbai\",\"pune\",\"Belgavi\")\n",
    "s=list(filter(lambda s1:s1[:1].isupper(),t))\n",
    "print(s)"
   ]
  },
  {
   "cell_type": "code",
   "execution_count": 32,
   "id": "b7babe68",
   "metadata": {},
   "outputs": [
    {
     "name": "stdout",
     "output_type": "stream",
     "text": [
      "[4, 6, 8, 10]\n"
     ]
    }
   ],
   "source": [
    "l1=[2,4,6,8]\n",
    "print(list(map(lambda x:x+2,l1)))"
   ]
  },
  {
   "cell_type": "code",
   "execution_count": 110,
   "id": "5a0e71fa",
   "metadata": {},
   "outputs": [],
   "source": [
    "l=[\"shreya\",\"Nagma\"]\n"
   ]
  },
  {
   "cell_type": "code",
   "execution_count": 47,
   "id": "b33426da",
   "metadata": {},
   "outputs": [],
   "source": [
    "from functools import reduce"
   ]
  },
  {
   "cell_type": "code",
   "execution_count": 48,
   "id": "2fca6fad",
   "metadata": {},
   "outputs": [
    {
     "name": "stdout",
     "output_type": "stream",
     "text": [
      "20\n"
     ]
    }
   ],
   "source": [
    "l=[1,2,3]\n",
    "t=reduce(lambda x,y:x+y,l1)\n",
    "print(t)"
   ]
  },
  {
   "cell_type": "code",
   "execution_count": 57,
   "id": "fe13ca1b",
   "metadata": {},
   "outputs": [
    {
     "name": "stdout",
     "output_type": "stream",
     "text": [
      "14\n"
     ]
    }
   ],
   "source": [
    "#show sum of squares of each number in list\n",
    "l1=[1,2,3]\n",
    "\n",
    "t=reduce(lambda x,y:x+y,list(map(lambda x:x**2,l1)))\n",
    "\n",
    "print(t)"
   ]
  },
  {
   "cell_type": "code",
   "execution_count": 67,
   "id": "f83a2110",
   "metadata": {},
   "outputs": [
    {
     "name": "stdout",
     "output_type": "stream",
     "text": [
      "2\n"
     ]
    }
   ],
   "source": [
    "#count of even numbers in list\n",
    "l1=[2,1,1,6]\n",
    "t=reduce(lambda x,y:x+y,list(map(lambda s1:s1%2==0,l1)))\n",
    "print(t)\n"
   ]
  },
  {
   "cell_type": "code",
   "execution_count": 68,
   "id": "8e17777a",
   "metadata": {},
   "outputs": [],
   "source": [
    "#maximum of list uisng reduce\n",
    "max=reduce(lambda x,y:x if x>y else y,l1)"
   ]
  },
  {
   "cell_type": "code",
   "execution_count": 69,
   "id": "47b5df0f",
   "metadata": {},
   "outputs": [
    {
     "name": "stdout",
     "output_type": "stream",
     "text": [
      "6\n"
     ]
    }
   ],
   "source": [
    "print(max)"
   ]
  },
  {
   "cell_type": "code",
   "execution_count": 70,
   "id": "9d96fb11",
   "metadata": {},
   "outputs": [
    {
     "name": "stdout",
     "output_type": "stream",
     "text": [
      "8\n"
     ]
    }
   ],
   "source": [
    "import operator as o\n",
    "l1=[1,3,4]\n",
    "t=reduce(o.add,l1)\n",
    "print(t)"
   ]
  },
  {
   "cell_type": "code",
   "execution_count": 71,
   "id": "92ad0558",
   "metadata": {},
   "outputs": [
    {
     "data": {
      "text/plain": [
       "[1, 4, 8]"
      ]
     },
     "execution_count": 71,
     "metadata": {},
     "output_type": "execute_result"
    }
   ],
   "source": [
    "import itertools as it\n",
    "l1\n",
    "list(it.accumulate(l1,lambda x,y:x+y))\n"
   ]
  },
  {
   "cell_type": "code",
   "execution_count": 80,
   "id": "eda12784",
   "metadata": {},
   "outputs": [
    {
     "name": "stdout",
     "output_type": "stream",
     "text": [
      "[6, 5]\n"
     ]
    }
   ],
   "source": [
    "l=[\"shreya\",\"nagma\"]\n",
    "l2=list(len(i) for i in l)\n",
    "print(l2)"
   ]
  },
  {
   "cell_type": "code",
   "execution_count": 90,
   "id": "75850b76",
   "metadata": {},
   "outputs": [
    {
     "name": "stdout",
     "output_type": "stream",
     "text": [
      "[5, 10, 15, 20, 25, 30, 35, 40, 45, 50]\n"
     ]
    }
   ],
   "source": [
    "# show all number divisble by 5 from 1st 50 nor\n",
    "l=[i for i in range(1,51) if i%5==0]\n",
    "print(l)"
   ]
  },
  {
   "cell_type": "code",
   "execution_count": null,
   "id": "3256ffa0",
   "metadata": {},
   "outputs": [],
   "source": [
    "#show how many white space are there in string\n",
    "#show sum of all digits in string"
   ]
  },
  {
   "cell_type": "code",
   "execution_count": 113,
   "id": "dca7124e",
   "metadata": {},
   "outputs": [
    {
     "name": "stdout",
     "output_type": "stream",
     "text": [
      "{'pune': 2, 'mumbai': 1}\n",
      "{'pune': 2, 'mumbai': 1}\n"
     ]
    }
   ],
   "source": [
    "city=[\"pune\",\"mumbai\",\"pune\"]\n",
    "cityoc={k:city.count(k) for k in city}\n",
    "print(cityoc)\n",
    "\n",
    "occ={k:v for(k,v) in zip(city,list(city.count(i) for i in city))}\n",
    "print(occ)"
   ]
  },
  {
   "cell_type": "code",
   "execution_count": 99,
   "id": "9f9ab0bb",
   "metadata": {},
   "outputs": [],
   "source": [
    "import math as mt\n"
   ]
  },
  {
   "cell_type": "code",
   "execution_count": 111,
   "id": "945d6e23",
   "metadata": {},
   "outputs": [
    {
     "name": "stdout",
     "output_type": "stream",
     "text": [
      "0.9694405387742222\n"
     ]
    }
   ],
   "source": [
    "print(mt.cos(232.23))"
   ]
  },
  {
   "cell_type": "code",
   "execution_count": 1,
   "id": "47f0116d",
   "metadata": {},
   "outputs": [
    {
     "name": "stdout",
     "output_type": "stream",
     "text": [
      "2\n"
     ]
    }
   ],
   "source": [
    "#show how many white space are there in string\n",
    "st=\"hello people hii\"\n",
    "l=[s for s in st if s == ' ' ]\n",
    "print(len(l))\n"
   ]
  },
  {
   "cell_type": "code",
   "execution_count": 21,
   "id": "b301b875",
   "metadata": {},
   "outputs": [
    {
     "name": "stdout",
     "output_type": "stream",
     "text": [
      "40\n"
     ]
    }
   ],
   "source": [
    "#show sum of all digits in string\n",
    "s=\"hello ppl 20 20\"\n",
    "di=sum(int(i) for i in s.split() if i.isdigit())\n",
    "print(di)"
   ]
  },
  {
   "cell_type": "code",
   "execution_count": null,
   "id": "7b14704c",
   "metadata": {},
   "outputs": [],
   "source": []
  }
 ],
 "metadata": {
  "kernelspec": {
   "display_name": "Python 3 (ipykernel)",
   "language": "python",
   "name": "python3"
  },
  "language_info": {
   "codemirror_mode": {
    "name": "ipython",
    "version": 3
   },
   "file_extension": ".py",
   "mimetype": "text/x-python",
   "name": "python",
   "nbconvert_exporter": "python",
   "pygments_lexer": "ipython3",
   "version": "3.10.2"
  }
 },
 "nbformat": 4,
 "nbformat_minor": 5
}
