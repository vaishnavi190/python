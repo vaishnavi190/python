{
 "cells": [
  {
   "cell_type": "code",
   "execution_count": 9,
   "id": "1e5fb99e",
   "metadata": {},
   "outputs": [
    {
     "name": "stdout",
     "output_type": "stream",
     "text": [
      "[]\n",
      "[1, 'hello', 35.2, [1, 2, 4]]\n"
     ]
    }
   ],
   "source": [
    "list=[]\n",
    "print(list)\n",
    "\n",
    "list=[1,\"hello\",35.2]\n",
    "list\n",
    "list.append([1,2,4])\n",
    "print(list)\n",
    "\n"
   ]
  },
  {
   "cell_type": "code",
   "execution_count": 49,
   "id": "7b6cd886",
   "metadata": {},
   "outputs": [
    {
     "data": {
      "text/plain": [
       "False"
      ]
     },
     "execution_count": 49,
     "metadata": {},
     "output_type": "execute_result"
    }
   ],
   "source": [
    "isinstance(\"oo\",int)\n",
    "\n",
    "#sum of all int values in list\n",
    "#show sum of all elements @ even pos from list of int of float\n",
    "#sum @ odd pos\n",
    "#show sum of all even ele from given list"
   ]
  },
  {
   "cell_type": "code",
   "execution_count": 23,
   "id": "c25773fb",
   "metadata": {},
   "outputs": [],
   "source": [
    "lst=[2,4]\n",
    "#sum(lst)"
   ]
  },
  {
   "cell_type": "code",
   "execution_count": 14,
   "id": "ad0153c5",
   "metadata": {},
   "outputs": [
    {
     "name": "stdout",
     "output_type": "stream",
     "text": [
      "[1, 2, 3]\n",
      "sum of list element: 6\n",
      "[4, 5, 6]\n",
      "sum of list element: 21\n"
     ]
    }
   ],
   "source": [
    "l1=[\"hii\",2,4,[1,2,3],[4,5,6]]\n",
    "sum=0\n",
    "for i in l1:\n",
    "    if(isinstance(i,list)):\n",
    "        print(i)\n",
    "        for j in i:\n",
    "            sum+=j\n",
    "        print('sum of list element:',sum)\n",
    "    else:\n",
    "        pass"
   ]
  },
  {
   "cell_type": "code",
   "execution_count": 15,
   "id": "65477253",
   "metadata": {},
   "outputs": [],
   "source": [
    "liste=[\"mumbai\",\"pune\",\"sankeshwar\"]"
   ]
  },
  {
   "cell_type": "code",
   "execution_count": 16,
   "id": "1d105c9d",
   "metadata": {},
   "outputs": [],
   "source": [
    "def mysort(liste):\n",
    "    return len(liste)\n"
   ]
  },
  {
   "cell_type": "code",
   "execution_count": null,
   "id": "72f885cd",
   "metadata": {},
   "outputs": [],
   "source": []
  },
  {
   "cell_type": "code",
   "execution_count": 18,
   "id": "8d098980",
   "metadata": {},
   "outputs": [
    {
     "name": "stdout",
     "output_type": "stream",
     "text": [
      "None\n"
     ]
    }
   ],
   "source": [
    "print(liste.sort(key=mysort,reverse=True))\n",
    "\n"
   ]
  },
  {
   "cell_type": "code",
   "execution_count": 11,
   "id": "c59e157c",
   "metadata": {},
   "outputs": [
    {
     "name": "stdout",
     "output_type": "stream",
     "text": [
      "6\n"
     ]
    }
   ],
   "source": [
    "#sum @ even position \n",
    "l1=[1,2,3,4]\n",
    "sum=0\n",
    "for i in range(0,len(l1)):\n",
    "    if(l1[i]%2==0):\n",
    "        sum+=l1[i]\n",
    "print(sum)"
   ]
  },
  {
   "cell_type": "code",
   "execution_count": 12,
   "id": "16427503",
   "metadata": {},
   "outputs": [
    {
     "name": "stdout",
     "output_type": "stream",
     "text": [
      "4\n"
     ]
    }
   ],
   "source": [
    "#sum @ odd position\n",
    "listt=[1,2,3,4]\n",
    "s=0\n",
    "for i in range(0,len(listt)):\n",
    "    if(listt[i]%2!=0):\n",
    "        s+=listt[i]\n",
    "print(s)"
   ]
  },
  {
   "cell_type": "code",
   "execution_count": 21,
   "id": "f258f1e6",
   "metadata": {},
   "outputs": [
    {
     "name": "stdout",
     "output_type": "stream",
     "text": [
      "9\n"
     ]
    }
   ],
   "source": [
    "#sum of all int values in list\n",
    "l1=[1,'2','k',4,[1,2,3],4]\n",
    "sum=0\n",
    "for i in l1:\n",
    "    if isinstance(i , int):\n",
    "        sum+=i\n",
    "print(sum)"
   ]
  },
  {
   "cell_type": "code",
   "execution_count": 29,
   "id": "8181c4fe",
   "metadata": {},
   "outputs": [
    {
     "ename": "TypeError",
     "evalue": "unsupported operand type(s) for +=: 'int' and 'str'",
     "output_type": "error",
     "traceback": [
      "\u001b[1;31m---------------------------------------------------------------------------\u001b[0m",
      "\u001b[1;31mTypeError\u001b[0m                                 Traceback (most recent call last)",
      "Input \u001b[1;32mIn [29]\u001b[0m, in \u001b[0;36m<module>\u001b[1;34m\u001b[0m\n\u001b[0;32m      4\u001b[0m \u001b[38;5;28;01mfor\u001b[39;00m i \u001b[38;5;129;01min\u001b[39;00m l1:\n\u001b[0;32m      5\u001b[0m     \u001b[38;5;28;01mif\u001b[39;00m(\u001b[38;5;28misinstance\u001b[39m(i,\u001b[38;5;28mint\u001b[39m)):\n\u001b[1;32m----> 6\u001b[0m             \u001b[38;5;28msum\u001b[39m\u001b[38;5;241m+\u001b[39m\u001b[38;5;241m=\u001b[39ml1[i]\n\u001b[0;32m      7\u001b[0m \u001b[38;5;28mprint\u001b[39m(\u001b[38;5;28msum\u001b[39m)\n",
      "\u001b[1;31mTypeError\u001b[0m: unsupported operand type(s) for +=: 'int' and 'str'"
     ]
    }
   ],
   "source": [
    "#show sum of all even ele from given list\n",
    "l1=[1,'2','k',4,[1,2,3],4]\n",
    "sum=0\n",
    "for i in l1:\n",
    "    if(isinstance(i,int)):\n",
    "            sum+=l1[i]\n",
    "print(sum)"
   ]
  },
  {
   "cell_type": "code",
   "execution_count": 30,
   "id": "b91e27c2",
   "metadata": {},
   "outputs": [
    {
     "name": "stdout",
     "output_type": "stream",
     "text": [
      "42\n"
     ]
    }
   ],
   "source": [
    "listt=['l',2,3,5,9,[3,True,'Hello'],'34',23]\n",
    "sum=0\n",
    "for i in listt:\n",
    "    if(isinstance(i,int)):\n",
    "            sum+=i\n",
    "print(sum)"
   ]
  },
  {
   "cell_type": "code",
   "execution_count": null,
   "id": "4946ae36",
   "metadata": {},
   "outputs": [],
   "source": []
  }
 ],
 "metadata": {
  "kernelspec": {
   "display_name": "Python 3 (ipykernel)",
   "language": "python",
   "name": "python3"
  },
  "language_info": {
   "codemirror_mode": {
    "name": "ipython",
    "version": 3
   },
   "file_extension": ".py",
   "mimetype": "text/x-python",
   "name": "python",
   "nbconvert_exporter": "python",
   "pygments_lexer": "ipython3",
   "version": "3.10.2"
  }
 },
 "nbformat": 4,
 "nbformat_minor": 5
}
