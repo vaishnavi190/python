{
 "cells": [
  {
   "cell_type": "code",
   "execution_count": null,
   "id": "fc39ed4b",
   "metadata": {},
   "outputs": [],
   "source": [
    "#exception handling.......\n",
    "try:\n",
    "    a=int(input(\"enter 1st value:\"))\n",
    "    b=int(input(\"enter 2nd value:\"))\n",
    "    ans=a/b\n",
    "    print(\"ans is:\",ans)\n",
    "except ZeroDivisionError as e:\n",
    "    print(\"dont divide by zero\")\n",
    "except ValueError as er:\n",
    "    print(\"plz enter numeric value\")\n",
    "except:\n",
    "    print(\"exception occured\")\n",
    "          "
   ]
  },
  {
   "cell_type": "code",
   "execution_count": null,
   "id": "0ca0e42e",
   "metadata": {},
   "outputs": [],
   "source": [
    "try:\n",
    "    l=[1,2,3]\n",
    "    sum=0\n",
    "    avg=0\n",
    "    for i in l:\n",
    "        sum+=i\n",
    "        avg=sum/len(l)\n",
    "    print(\"sum is:\",sum)\n",
    "    print(\"average is :\",avg)\n",
    "except ZeroDivisionError as e:\n",
    "    print(\"dont divide by zero\")\n",
    "except ValueError as er:\n",
    "    print(\"plz enter numeric value\")\n",
    "except:\n",
    "    print(\"exception occured\")\n",
    "\n",
    "    "
   ]
  },
  {
   "cell_type": "code",
   "execution_count": null,
   "id": "a960bb8f",
   "metadata": {},
   "outputs": [],
   "source": [
    "#Assertion error\n",
    "age=int(input(\"enter age:\"))\n",
    "\n",
    "assert age>18,'Age above 18 ,eligible for vote'\n",
    "print(\"eligilble \")"
   ]
  },
  {
   "cell_type": "code",
   "execution_count": null,
   "id": "f0acaed9",
   "metadata": {},
   "outputs": [],
   "source": [
    "#Assertion error handled using try catch\n",
    "try:\n",
    "    age=int(input(\"enter age:\"))\n",
    "\n",
    "    assert age>18,'Age  is not above 18 ,not eligible for vote'\n",
    "    print(\"eligilble \")\n",
    "\n",
    "except AssertionError as e:\n",
    "    print(e)\n",
    "else:\n",
    "    print(\"verification done\")\n",
    "    \n",
    "    "
   ]
  },
  {
   "cell_type": "code",
   "execution_count": 39,
   "id": "9f1d2af7",
   "metadata": {},
   "outputs": [],
   "source": [
    "#custom exception\n",
    "class InavalidPasswordException(Exception):\n",
    "    def __init__(self,er=\"Inavlid password..\"):\n",
    "        self.er=er\n",
    "        def showError(self):\n",
    "            print(er)\n",
    "    \n",
    "    \n",
    "    "
   ]
  },
  {
   "cell_type": "code",
   "execution_count": 43,
   "id": "cd03467b",
   "metadata": {},
   "outputs": [
    {
     "name": "stdout",
     "output_type": "stream",
     "text": [
      "enter your password:87455666666666\n",
      "done\n"
     ]
    }
   ],
   "source": [
    "try:\n",
    "    pas=int(input(\"enter your password:\"))\n",
    "    if(pas<8) and (pas>15) :\n",
    "        raise InavalidPasswordException(\"please enter the password of length 8-15\")\n",
    "except InavalidPasswordException as e:\n",
    "    e.showError()\n",
    "else:\n",
    "    print(\"done\")\n",
    "\n",
    "    \n",
    "        \n",
    "    \n",
    "        "
   ]
  }
 ],
 "metadata": {
  "kernelspec": {
   "display_name": "Python 3 (ipykernel)",
   "language": "python",
   "name": "python3"
  },
  "language_info": {
   "codemirror_mode": {
    "name": "ipython",
    "version": 3
   },
   "file_extension": ".py",
   "mimetype": "text/x-python",
   "name": "python",
   "nbconvert_exporter": "python",
   "pygments_lexer": "ipython3",
   "version": "3.10.2"
  }
 },
 "nbformat": 4,
 "nbformat_minor": 5
}
