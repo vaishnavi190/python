{
 "cells": [
  {
   "cell_type": "code",
   "execution_count": 5,
   "id": "6fbb3800",
   "metadata": {},
   "outputs": [],
   "source": [
    "#declaration of class\n",
    "#instance,static,local\n",
    "\n",
    "class Vehicle:\n",
    "    serviceTax=11.25\n",
    "#     def __init__(self):\n",
    "#         self.regNo=5756765\n",
    "#         self.color=\"White\"\n",
    "#         self.make=\"Maruti\"\n",
    "#         print('Object initialized')\n",
    "    \n",
    "    #for Constructor overloading    \n",
    "    def __init__(self,*args):\n",
    "            if(len(args)==0):\n",
    "                self.regNo=5756765\n",
    "                self.color=\"White\"\n",
    "                self.make=\"TATA\"\n",
    "                print('Object initialized')\n",
    "                                \n",
    "            elif(len(args)==3):\n",
    "                self.regNo=args[0]\n",
    "                self.color=args[1]\n",
    "                self.make=args[2]\n",
    "                print('values initialized')\n",
    "        \n",
    "    def disply(self,a):\n",
    "        Vehicle.dealer=\"True Value\"\n",
    "        print(\"Vehicle make is \",self.make)\n",
    "        print(\"Vehicle Service Tax is \",Vehicle.serviceTax)\n",
    "        print(\"Vehicle Dealer is \",Vehicle.dealer)\n",
    "        \n",
    "    def __str__(self):\n",
    "        return str(self.__dict__)\n",
    "    \n",
    "    @classmethod\n",
    "    def drive(cls,speed):\n",
    "        Vehicle.RTORules = 'Drive from left side only'\n",
    "        print(\"I am drive vehicle with speed \",speed)\n",
    "    \n",
    "    @staticmethod\n",
    "    def changeServiceTax(percent):\n",
    "        serviceTax=percent\n",
    "        print('Service Tax changed to ',Vehicle.serviceTax)\n",
    "       \n",
    "        \n",
    "        "
   ]
  },
  {
   "cell_type": "code",
   "execution_count": 6,
   "id": "e8c13220",
   "metadata": {},
   "outputs": [
    {
     "name": "stdout",
     "output_type": "stream",
     "text": [
      "values initialized\n",
      "{'regNo': 23432, 'color': 'Black', 'make': 'Honda'}\n",
      "Vehicle make is  Honda\n",
      "Vehicle Service Tax is  11.25\n",
      "Vehicle Dealer is  True Value\n",
      "Object initialized\n",
      "{'regNo': 5756765, 'color': 'White', 'make': 'TATA'}\n",
      "Vehicle make is  TATA\n",
      "Vehicle Service Tax is  11.25\n",
      "Vehicle Dealer is  True Value\n",
      "I am drive vehicle with speed  100\n",
      "Service Tax changed to  11.25\n"
     ]
    }
   ],
   "source": [
    "v=Vehicle(23432,\"Black\",\"Honda\")\n",
    "print(v)\n",
    "v.disply(\"Bus\")\n",
    "v1=Vehicle()\n",
    "print(v1)\n",
    "v1.disply(\"Car\")\n",
    "\n",
    "Vehicle.drive(100)\n",
    "Vehicle.changeServiceTax(10.23)"
   ]
  },
  {
   "cell_type": "code",
   "execution_count": 7,
   "id": "6045aaf0",
   "metadata": {},
   "outputs": [],
   "source": [
    "class Account:\n",
    "    insterestRate=18\n",
    "    def __init__(self,acno,name):\n",
    "            self.acno=acno\n",
    "            self.name=name\n",
    "    \n",
    "    \n",
    "    def __str__(self):\n",
    "        return str(self.__dict__)\n",
    "    def display(self):\n",
    "        print(\"interest rate is:\",Account.insterestRate)\n",
    "    @staticmethod\n",
    "    def changeRate(per):\n",
    "        insterestRate=per\n",
    "        print(\"changed to\",Account.insterestRate)\n",
    "    "
   ]
  },
  {
   "cell_type": "code",
   "execution_count": 8,
   "id": "d2545e0f",
   "metadata": {},
   "outputs": [
    {
     "name": "stdout",
     "output_type": "stream",
     "text": [
      "{'acno': 89734, 'name': 'shreya'}\n",
      "interest rate is: 18\n",
      "changed to 18\n"
     ]
    }
   ],
   "source": [
    "a1=Account(89734,\"shreya\")\n",
    "print(a1)\n",
    "a1.display()\n",
    "a1.changeRate(10)\n",
    "\n"
   ]
  },
  {
   "cell_type": "code",
   "execution_count": 5,
   "id": "e32b2217",
   "metadata": {},
   "outputs": [
    {
     "name": "stdout",
     "output_type": "stream",
     "text": [
      "Requirement already satisfied: multipledispatch in c:\\users\\user\\appdata\\local\\programs\\python\\python310\\lib\\site-packages (0.6.0)\n",
      "Requirement already satisfied: six in c:\\users\\user\\appdata\\local\\programs\\python\\python310\\lib\\site-packages (from multipledispatch) (1.16.0)\n",
      "Note: you may need to restart the kernel to use updated packages.\n"
     ]
    },
    {
     "name": "stderr",
     "output_type": "stream",
     "text": [
      "WARNING: You are using pip version 21.2.4; however, version 21.3.1 is available.\n",
      "You should consider upgrading via the 'C:\\Users\\User\\AppData\\Local\\Programs\\Python\\Python310\\python.exe -m pip install --upgrade pip' command.\n"
     ]
    }
   ],
   "source": [
    "pip install multipledispatch"
   ]
  },
  {
   "cell_type": "code",
   "execution_count": 9,
   "id": "c874375f",
   "metadata": {},
   "outputs": [],
   "source": [
    "from multipledispatch import dispatch\n",
    "class Numbers:\n",
    "    @dispatch(int,int)\n",
    "    def operate(self,a,b):\n",
    "        print('Addition of 2 numbers is :',a+b)\n",
    "    @dispatch(int,int,int)\n",
    "    def operate(self,a,b,c):\n",
    "        print('Addition of 3 numbers is:',a+b+c)"
   ]
  },
  {
   "cell_type": "code",
   "execution_count": 10,
   "id": "bb2f5b27",
   "metadata": {},
   "outputs": [
    {
     "name": "stdout",
     "output_type": "stream",
     "text": [
      "Addition of 2 numbers is : 3\n",
      "Addition of 3 numbers is: 6\n"
     ]
    }
   ],
   "source": [
    "n=Numbers()\n",
    "n.operate(1,2)\n",
    "n.operate(1,2,3)"
   ]
  },
  {
   "cell_type": "code",
   "execution_count": 14,
   "id": "9196f851",
   "metadata": {},
   "outputs": [],
   "source": [
    "\n",
    "\n",
    "#Single Inheritance\n",
    "class Vehicle:\n",
    "     \n",
    "    def __init__(self,*args):\n",
    "            if(len(args)==0):\n",
    "                self.regNo=5756765\n",
    "                self.color=\"White\"\n",
    "                self.make=\"Maruti\"\n",
    "                print('Object initialized')\n",
    "                                \n",
    "            elif(len(args)==3):\n",
    "                self.regNo=args[0]\n",
    "                self.color=args[1]\n",
    "                self.make=args[2]\n",
    "                print('values initialized')\n",
    "            \n",
    "    def showVehicle(self):\n",
    "        Vehicle.dealer=\"True Value\"\n",
    "        print(\"Vehicle Reg is \",self.regNo)\n",
    "        print(\"Vehicle Color is \",self.color)\n",
    "        print(\"Vehicle make is \",self.make)\n",
    "        \n",
    "    def __str__(self):\n",
    "        return str(self.__dict__)"
   ]
  },
  {
   "cell_type": "code",
   "execution_count": 15,
   "id": "3e51659d",
   "metadata": {},
   "outputs": [],
   "source": [
    "class TwoWheeler(Vehicle):\n",
    "    def init(self):\n",
    "        self.average=45\n",
    "        super().__init__()#invoke parent class \n",
    "        print('In constructor of TwoWheeler')\n",
    "    def str(self):\n",
    "         return str(self.__dict__)\n",
    "    def display(self):\n",
    "        print('Average of 2 wheeler is ',self.average)\n",
    "        \n",
    "class TwoWheeler(Vehicle):\n",
    "    def __init__(self,*a):\n",
    "        if(len(a)==0):\n",
    "            self.average=45\n",
    "            super().__init__()\n",
    "            print('In constructor of TwoWheeler')\n",
    "        elif (len(a)==4):\n",
    "            self.average=a[0]\n",
    "            super().__init__(a[1],a[2],a[3])\n",
    "            print('In constructor of TwoWheeler')\n",
    "    \n",
    "    def __str__(self):\n",
    "        return str(self.__dict__)\n",
    "    \n",
    "    def display(self):\n",
    "        print(\"Average of Twi wheeler is \",self.average)\n",
    "        \n"
   ]
  },
  {
   "cell_type": "code",
   "execution_count": 17,
   "id": "149dd328",
   "metadata": {},
   "outputs": [
    {
     "name": "stdout",
     "output_type": "stream",
     "text": [
      "Object initialized\n",
      "In constructor of TwoWheeler\n",
      "Average of Twi wheeler is  45\n",
      "Vehicle Reg is  5756765\n",
      "Vehicle Color is  White\n",
      "Vehicle make is  Maruti\n",
      "{'average': 45, 'regNo': 5756765, 'color': 'White', 'make': 'Maruti'}\n",
      "_____________\n",
      "values initialized\n",
      "In constructor of TwoWheeler\n",
      "Average of Twi wheeler is  80\n",
      "Vehicle Reg is  34535\n",
      "Vehicle Color is  gray\n",
      "Vehicle make is  Honda\n",
      "{'average': 80, 'regNo': 34535, 'color': 'gray', 'make': 'Honda'}\n"
     ]
    }
   ],
   "source": [
    "t=TwoWheeler()\n",
    "t.display()\n",
    "t.showVehicle()\n",
    "print(t)\n",
    "print('_____________')\n",
    "t1=TwoWheeler(80,34535,\"gray\",\"Honda\")\n",
    "t1.display()\n",
    "t1.showVehicle()\n",
    "print(t1)"
   ]
  },
  {
   "cell_type": "code",
   "execution_count": 18,
   "id": "404e196b",
   "metadata": {},
   "outputs": [],
   "source": [
    "#Multi Level\n",
    "class Bike(TwoWheeler):\n",
    "    def __init__(self,*a):\n",
    "        if(len(a)==0):\n",
    "            self.cost=100000\n",
    "            super().__init__()\n",
    "            print('In constructor of BIke')\n",
    "        elif (len(a)==5):\n",
    "            self.cost=a[0]\n",
    "            super().__init__(a[1],a[2],a[3],a[4])\n",
    "            print('In constructor of Bike')\n",
    "    \n",
    "    def __str__(self):\n",
    "        return str(self.__dict__)\n",
    "    \n",
    "    def showBikeDetails(self):\n",
    "        print(\"Cost of Bike is \",self.cost)"
   ]
  },
  {
   "cell_type": "code",
   "execution_count": 20,
   "id": "ec35d4aa",
   "metadata": {},
   "outputs": [
    {
     "name": "stdout",
     "output_type": "stream",
     "text": [
      "values initialized\n",
      "In constructor of TwoWheeler\n",
      "In constructor of Bike\n",
      "{'cost': 90000, 'average': 55, 'regNo': 78845, 'color': 'Bike', 'make': 'Honda Shine'}\n"
     ]
    }
   ],
   "source": [
    "b1=Bike(90000,55,78845,\"Bike\",\"Honda Shine\")\n",
    "print(b1)"
   ]
  },
  {
   "cell_type": "code",
   "execution_count": 21,
   "id": "c8dad19b",
   "metadata": {},
   "outputs": [],
   "source": [
    "#Overriding\n",
    "class A:\n",
    "    def show(self):\n",
    "        print(\" from A\")\n",
    "\n",
    "class B(A):\n",
    "    def show(self):\n",
    "        #super().show()\n",
    "        print(\" from B\")\n",
    "        \n",
    "class C(A):\n",
    "    def show(self):\n",
    "        #super().show()\n",
    "        print(\" from C\")  \n",
    "        \n",
    "class D(C,B):\n",
    "    def show(self):\n",
    "        super().show()\n",
    "        print(\" from D\")\n",
    "    \n",
    "    "
   ]
  },
  {
   "cell_type": "code",
   "execution_count": 22,
   "id": "fbaa03d8",
   "metadata": {},
   "outputs": [
    {
     "name": "stdout",
     "output_type": "stream",
     "text": [
      " from C\n",
      " from D\n"
     ]
    }
   ],
   "source": [
    "# b=B()\n",
    "# b.show()\n",
    "\n",
    "# c=C()\n",
    "# c.show()\n",
    "\n",
    "d=D()\n",
    "d.show()"
   ]
  },
  {
   "cell_type": "code",
   "execution_count": 23,
   "id": "edef47b7",
   "metadata": {},
   "outputs": [],
   "source": [
    "from abc import ABC,abstractmethod\n",
    "class Shape(ABC):\n",
    "    def __init__(self):\n",
    "        print(\"Shape- abstarct class constructor\")\n",
    "    def fillColor(self,c):\n",
    "        print('Color filled is',c)\n",
    "    @abstractmethod\n",
    "    def describeShape(self):\n",
    "        pass"
   ]
  },
  {
   "cell_type": "code",
   "execution_count": 24,
   "id": "30be2eb3",
   "metadata": {},
   "outputs": [],
   "source": [
    "class Rectangle(Shape):\n",
    "    def __init__(self):\n",
    "        super().__init__();\n",
    "        print(\"Rectangle constructor\")\n",
    "  \n",
    "    def describeShape(self):\n",
    "        print(\"It is rectangle with 4 sides\")"
   ]
  },
  {
   "cell_type": "code",
   "execution_count": 26,
   "id": "fad05d03",
   "metadata": {},
   "outputs": [
    {
     "name": "stdout",
     "output_type": "stream",
     "text": [
      "Shape- abstarct class constructor\n",
      "Rectangle constructor\n",
      "It is rectangle with 4 sides\n",
      "Color filled is red\n"
     ]
    }
   ],
   "source": [
    "r=Rectangle()\n",
    "r.describeShape()\n",
    "r.fillColor(\"red\")"
   ]
  },
  {
   "cell_type": "code",
   "execution_count": 27,
   "id": "9fabb555",
   "metadata": {},
   "outputs": [],
   "source": [
    "#duck Typing\n",
    "\n",
    "class Television:\n",
    "    def switchON(self):\n",
    "        print(\"Television is switched ON\")\n",
    "    def increseVolume(self):\n",
    "        print(\"Incresing volume of TV\")\n",
    "        \n",
    "class MusicSystem:\n",
    "    def switchON(self):\n",
    "        print(\"MusicSyste is switched ON\")\n",
    "    def increseVolume(self):\n",
    "        print(\"Incresing volume of MusicSystem\")        \n",
    "        \n",
    "        \n",
    "        \n",
    "class ElectronicsDevice:\n",
    "    def useDevice(self,homeappliance):\n",
    "        homeappliance.switchON()\n",
    "        homeappliance.increseVolume()"
   ]
  },
  {
   "cell_type": "code",
   "execution_count": 28,
   "id": "ac46cace",
   "metadata": {},
   "outputs": [
    {
     "name": "stdout",
     "output_type": "stream",
     "text": [
      "Television is switched ON\n",
      "Incresing volume of TV\n",
      "MusicSyste is switched ON\n",
      "Incresing volume of MusicSystem\n"
     ]
    }
   ],
   "source": [
    "tv=Television()\n",
    "m=MusicSystem()\n",
    "ed=ElectronicsDevice()\n",
    "ed.useDevice(tv)\n",
    "\n",
    "ed.useDevice(m)"
   ]
  },
  {
   "cell_type": "code",
   "execution_count": 29,
   "id": "6650c21f",
   "metadata": {},
   "outputs": [],
   "source": [
    "class MyWork:\n",
    "    def perform(self):\n",
    "        print('It performing some task as per protocl steps')"
   ]
  },
  {
   "cell_type": "code",
   "execution_count": 30,
   "id": "a284629c",
   "metadata": {},
   "outputs": [
    {
     "name": "stdout",
     "output_type": "stream",
     "text": [
      "It performing some task as per protocl steps\n"
     ]
    }
   ],
   "source": [
    "m=MyWork()\n",
    "m.perform()"
   ]
  },
  {
   "cell_type": "code",
   "execution_count": null,
   "id": "facb23a0",
   "metadata": {},
   "outputs": [],
   "source": []
  }
 ],
 "metadata": {
  "kernelspec": {
   "display_name": "Python 3 (ipykernel)",
   "language": "python",
   "name": "python3"
  },
  "language_info": {
   "codemirror_mode": {
    "name": "ipython",
    "version": 3
   },
   "file_extension": ".py",
   "mimetype": "text/x-python",
   "name": "python",
   "nbconvert_exporter": "python",
   "pygments_lexer": "ipython3",
   "version": "3.10.2"
  }
 },
 "nbformat": 4,
 "nbformat_minor": 5
}
