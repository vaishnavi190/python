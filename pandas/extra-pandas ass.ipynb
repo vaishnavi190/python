{
 "cells": [
  {
   "cell_type": "code",
   "execution_count": 4,
   "id": "ce9c183b",
   "metadata": {},
   "outputs": [],
   "source": [
    "import pandas as pd\n",
    "import numpy as np"
   ]
  },
  {
   "cell_type": "code",
   "execution_count": 26,
   "id": "433db1c4",
   "metadata": {},
   "outputs": [
    {
     "name": "stdout",
     "output_type": "stream",
     "text": [
      "   itemID        itemName  itemcost supplier  grade\n",
      "0       8           chalk        70         X     A\n",
      "1      12          Pencil        20         Y     B\n",
      "2      13          Pencil        70         X     A\n",
      "3      15          Duster        54         Y     C\n",
      "4       1  calculator           200       NaN     A\n",
      "5       2       penpencil        20       NaN     C\n"
     ]
    }
   ],
   "source": [
    "df1=pd.read_csv(\"F:\\\\items1.csv\")\n",
    "print(df1)"
   ]
  },
  {
   "cell_type": "code",
   "execution_count": 27,
   "id": "0c1cb6e2",
   "metadata": {},
   "outputs": [
    {
     "name": "stdout",
     "output_type": "stream",
     "text": [
      "   itemID        itemName  itemcost supplier  grade  Quantity\n",
      "0       8           chalk        70         X     A        10\n",
      "1      12          Pencil        20         Y     B        20\n",
      "2      13          Pencil        70         X     A        30\n",
      "3      15          Duster        54         Y     C         5\n",
      "4       1  calculator           200       NaN     A         4\n",
      "5       2       penpencil        20       NaN     C         3\n"
     ]
    }
   ],
   "source": [
    "#add a col quantity \n",
    "df1['Quantity']=[10,20,30,5,4,3]\n",
    "print(df1)"
   ]
  },
  {
   "cell_type": "code",
   "execution_count": 28,
   "id": "24abad18",
   "metadata": {},
   "outputs": [
    {
     "name": "stdout",
     "output_type": "stream",
     "text": [
      "   itemID        itemName  itemcost supplier  grade  Quantity  Bill\n",
      "0       8           chalk        70         X     A        10   700\n",
      "1      12          Pencil        20         Y     B        20   400\n",
      "2      13          Pencil        70         X     A        30  2100\n",
      "3      15          Duster        54         Y     C         5   270\n",
      "4       1  calculator           200       NaN     A         4   800\n",
      "5       2       penpencil        20       NaN     C         3    60\n"
     ]
    }
   ],
   "source": [
    "#add col bill with bill=quantity*cost\n",
    "df1['Bill']=df1['itemcost']*df1['Quantity']\n",
    "print(df1)"
   ]
  },
  {
   "cell_type": "code",
   "execution_count": 64,
   "id": "8c4361bf",
   "metadata": {},
   "outputs": [],
   "source": [
    "#3. Remove object where eve supplier is Nan\n",
    "df2=df1.dropna(inplace=True)"
   ]
  },
  {
   "cell_type": "code",
   "execution_count": 86,
   "id": "afc808bf",
   "metadata": {},
   "outputs": [
    {
     "name": "stdout",
     "output_type": "stream",
     "text": [
      "   itemID itemName  itemcost supplier  grade  Quantity  Bill Eligibility\n",
      "0       8    chalk        70         X     A        10   700      export\n",
      "2      13   Pencil        70         X     A        30  2100      export\n"
     ]
    }
   ],
   "source": [
    "#4show all items with grade A\n",
    "i=df1.groupby(by='grade')\n",
    "for j,k in i:\n",
    "    if(j=='A'):\n",
    "        print(k)\n",
    "    "
   ]
  },
  {
   "cell_type": "code",
   "execution_count": null,
   "id": "dc0e6343",
   "metadata": {},
   "outputs": [],
   "source": []
  },
  {
   "cell_type": "code",
   "execution_count": 71,
   "id": "270bdae0",
   "metadata": {},
   "outputs": [],
   "source": [
    "\n",
    "# 5Sort this data by item cost in descenging order , if cost is same them according to item name\n",
    " #  in ascending\n",
    "\n",
    "df1.sort_values(['itemcost','itemName'],ascending=[False,False],inplace=True)\n"
   ]
  },
  {
   "cell_type": "code",
   "execution_count": 72,
   "id": "2b65dc89",
   "metadata": {},
   "outputs": [
    {
     "data": {
      "text/html": [
       "<div>\n",
       "<style scoped>\n",
       "    .dataframe tbody tr th:only-of-type {\n",
       "        vertical-align: middle;\n",
       "    }\n",
       "\n",
       "    .dataframe tbody tr th {\n",
       "        vertical-align: top;\n",
       "    }\n",
       "\n",
       "    .dataframe thead th {\n",
       "        text-align: right;\n",
       "    }\n",
       "</style>\n",
       "<table border=\"1\" class=\"dataframe\">\n",
       "  <thead>\n",
       "    <tr style=\"text-align: right;\">\n",
       "      <th></th>\n",
       "      <th>itemID</th>\n",
       "      <th>itemName</th>\n",
       "      <th>itemcost</th>\n",
       "      <th>supplier</th>\n",
       "      <th>grade</th>\n",
       "      <th>Quantity</th>\n",
       "      <th>Bill</th>\n",
       "      <th>Eligibility</th>\n",
       "    </tr>\n",
       "  </thead>\n",
       "  <tbody>\n",
       "    <tr>\n",
       "      <th>0</th>\n",
       "      <td>8</td>\n",
       "      <td>chalk</td>\n",
       "      <td>70</td>\n",
       "      <td>X</td>\n",
       "      <td>A</td>\n",
       "      <td>10</td>\n",
       "      <td>700</td>\n",
       "      <td>export</td>\n",
       "    </tr>\n",
       "    <tr>\n",
       "      <th>2</th>\n",
       "      <td>13</td>\n",
       "      <td>Pencil</td>\n",
       "      <td>70</td>\n",
       "      <td>X</td>\n",
       "      <td>A</td>\n",
       "      <td>30</td>\n",
       "      <td>2100</td>\n",
       "      <td>export</td>\n",
       "    </tr>\n",
       "    <tr>\n",
       "      <th>3</th>\n",
       "      <td>15</td>\n",
       "      <td>Duster</td>\n",
       "      <td>54</td>\n",
       "      <td>Y</td>\n",
       "      <td>C</td>\n",
       "      <td>5</td>\n",
       "      <td>270</td>\n",
       "      <td>cant export</td>\n",
       "    </tr>\n",
       "    <tr>\n",
       "      <th>1</th>\n",
       "      <td>12</td>\n",
       "      <td>Pencil</td>\n",
       "      <td>20</td>\n",
       "      <td>Y</td>\n",
       "      <td>B</td>\n",
       "      <td>20</td>\n",
       "      <td>400</td>\n",
       "      <td>cant export</td>\n",
       "    </tr>\n",
       "  </tbody>\n",
       "</table>\n",
       "</div>"
      ],
      "text/plain": [
       "   itemID itemName  itemcost supplier  grade  Quantity  Bill  Eligibility\n",
       "0       8    chalk        70         X     A        10   700       export\n",
       "2      13   Pencil        70         X     A        30  2100       export\n",
       "3      15   Duster        54         Y     C         5   270  cant export\n",
       "1      12   Pencil        20         Y     B        20   400  cant export"
      ]
     },
     "execution_count": 72,
     "metadata": {},
     "output_type": "execute_result"
    }
   ],
   "source": [
    "df1"
   ]
  },
  {
   "cell_type": "code",
   "execution_count": null,
   "id": "c175d3b1",
   "metadata": {},
   "outputs": [],
   "source": []
  }
 ],
 "metadata": {
  "kernelspec": {
   "display_name": "Python 3 (ipykernel)",
   "language": "python",
   "name": "python3"
  },
  "language_info": {
   "codemirror_mode": {
    "name": "ipython",
    "version": 3
   },
   "file_extension": ".py",
   "mimetype": "text/x-python",
   "name": "python",
   "nbconvert_exporter": "python",
   "pygments_lexer": "ipython3",
   "version": "3.9.7"
  }
 },
 "nbformat": 4,
 "nbformat_minor": 5
}
