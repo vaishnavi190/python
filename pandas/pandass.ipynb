{
 "cells": [
  {
   "cell_type": "code",
   "execution_count": 16,
   "id": "ba03059e",
   "metadata": {},
   "outputs": [
    {
     "name": "stdout",
     "output_type": "stream",
     "text": [
      "0    1\n",
      "1    2\n",
      "2    3\n",
      "3    4\n",
      "4    5\n",
      "5    6\n",
      "dtype: int64\n"
     ]
    }
   ],
   "source": [
    "#data analysis and manipulation\n",
    "#new col creation\n",
    "import numpy as np\n",
    "import pandas as pd\n",
    "ds1=[1,2,3,4,5,6]\n",
    "p1=pd.Series(ds1)\n",
    "print(p1)"
   ]
  },
  {
   "cell_type": "code",
   "execution_count": 19,
   "id": "6349ad55",
   "metadata": {},
   "outputs": [
    {
     "name": "stdout",
     "output_type": "stream",
     "text": [
      "max 6.0\n",
      "min 1.0\n",
      "sum 21.0\n",
      "mean 3.5\n"
     ]
    }
   ],
   "source": [
    "print(\"max\",p1.max())\n",
    "print(\"min\",p1.min())\n",
    "print(\"sum\",p1.sum())\n",
    "print(\"mean\",p1.mean())\n"
   ]
  },
  {
   "cell_type": "code",
   "execution_count": 22,
   "id": "4d53ba95",
   "metadata": {},
   "outputs": [
    {
     "name": "stdout",
     "output_type": "stream",
     "text": [
      "0    1.0\n",
      "1    2.0\n",
      "2    3.0\n",
      "3    4.0\n",
      "4    5.0\n",
      "5    6.0\n",
      "6    NaN\n",
      "dtype: float64\n",
      "sum 21.0\n"
     ]
    }
   ],
   "source": [
    "p1[6]=np.nan\n",
    "print(p1)\n",
    "p1.isnull()\n",
    "print(\"sum\",p1.sum())"
   ]
  },
  {
   "cell_type": "code",
   "execution_count": 20,
   "id": "8f218e6b",
   "metadata": {},
   "outputs": [
    {
     "data": {
      "text/plain": [
       "nan"
      ]
     },
     "execution_count": 20,
     "metadata": {},
     "output_type": "execute_result"
    }
   ],
   "source": [
    "#dnt skip \n",
    "p1.mean(skipna=False)"
   ]
  },
  {
   "cell_type": "code",
   "execution_count": 21,
   "id": "defb87a4",
   "metadata": {},
   "outputs": [
    {
     "data": {
      "text/plain": [
       "6"
      ]
     },
     "execution_count": 21,
     "metadata": {},
     "output_type": "execute_result"
    }
   ],
   "source": [
    "#skips nan value\n",
    "p1.count()"
   ]
  },
  {
   "cell_type": "code",
   "execution_count": 23,
   "id": "ac3fe1a0",
   "metadata": {},
   "outputs": [
    {
     "data": {
      "text/plain": [
       "0      1.0\n",
       "1      2.0\n",
       "2      3.0\n",
       "3      4.0\n",
       "4      5.0\n",
       "5      6.0\n",
       "6    100.0\n",
       "dtype: float64"
      ]
     },
     "execution_count": 23,
     "metadata": {},
     "output_type": "execute_result"
    }
   ],
   "source": [
    "p1.fillna(100)#no chnagein original"
   ]
  },
  {
   "cell_type": "code",
   "execution_count": 24,
   "id": "6165e0c9",
   "metadata": {},
   "outputs": [
    {
     "name": "stdout",
     "output_type": "stream",
     "text": [
      "0    1.0\n",
      "1    2.0\n",
      "2    3.0\n",
      "3    4.0\n",
      "4    5.0\n",
      "5    6.0\n",
      "6    NaN\n",
      "dtype: float64\n"
     ]
    }
   ],
   "source": [
    "\n",
    "print(p1)"
   ]
  },
  {
   "cell_type": "code",
   "execution_count": 25,
   "id": "11fbb158",
   "metadata": {},
   "outputs": [
    {
     "name": "stdout",
     "output_type": "stream",
     "text": [
      "0      1.0\n",
      "1      2.0\n",
      "2      3.0\n",
      "3      4.0\n",
      "4      5.0\n",
      "5      6.0\n",
      "6    200.0\n",
      "dtype: float64\n"
     ]
    }
   ],
   "source": [
    "#if orginal ones need to be chnaged\n",
    "p1.fillna(200,inplace=True)\n",
    "print(p1)"
   ]
  },
  {
   "cell_type": "code",
   "execution_count": 29,
   "id": "62c7a2d7",
   "metadata": {},
   "outputs": [],
   "source": [
    "p1.describe()\n",
    "p1[7]=1"
   ]
  },
  {
   "cell_type": "code",
   "execution_count": 36,
   "id": "e489fcc8",
   "metadata": {},
   "outputs": [
    {
     "name": "stdout",
     "output_type": "stream",
     "text": [
      "count     2\n",
      "unique    2\n",
      "top       a\n",
      "freq      1\n",
      "dtype: object\n",
      "0    a\n",
      "1    b\n",
      "dtype: object\n"
     ]
    }
   ],
   "source": [
    "p2=pd.Series(['a','b'])\n",
    "print(p2.describe())\n",
    "print(p2.sort_index())#acsending=false gives in descending order"
   ]
  },
  {
   "cell_type": "code",
   "execution_count": 37,
   "id": "57e9fe75",
   "metadata": {},
   "outputs": [
    {
     "data": {
      "text/plain": [
       "1.0      2\n",
       "2.0      1\n",
       "3.0      1\n",
       "4.0      1\n",
       "5.0      1\n",
       "6.0      1\n",
       "200.0    1\n",
       "dtype: int64"
      ]
     },
     "execution_count": 37,
     "metadata": {},
     "output_type": "execute_result"
    }
   ],
   "source": [
    "#frequecy of number\n",
    "p1.value_counts()"
   ]
  },
  {
   "cell_type": "code",
   "execution_count": 40,
   "id": "704e182f",
   "metadata": {},
   "outputs": [
    {
     "name": "stdout",
     "output_type": "stream",
     "text": [
      "0      1.0\n",
      "1      2.0\n",
      "2      3.0\n",
      "3      4.0\n",
      "4      5.0\n",
      "5      6.0\n",
      "6    200.0\n",
      "7      1.0\n",
      "dtype: float64\n"
     ]
    }
   ],
   "source": [
    "#sort accroding to index\n",
    "#p1.sort_index()\n",
    "print(p1.sort_index(kind='mergesort'))"
   ]
  },
  {
   "cell_type": "code",
   "execution_count": 42,
   "id": "854f2a99",
   "metadata": {},
   "outputs": [
    {
     "name": "stdout",
     "output_type": "stream",
     "text": [
      "    names  Maths\n",
      "0  shreya     82\n",
      "1   tejas     75\n",
      "2  sakshi     84\n",
      "3   pallu     79\n",
      "4    piya     78\n"
     ]
    }
   ],
   "source": [
    "p3=pd.DataFrame({'names':['shreya','tejas','sakshi','pallu','piya'],\"Maths\":np.random.randint(70,90,5)})\n",
    "print(p3)"
   ]
  },
  {
   "cell_type": "code",
   "execution_count": 43,
   "id": "b4a46f81",
   "metadata": {},
   "outputs": [
    {
     "data": {
      "text/plain": [
       "Index(['names', 'Maths'], dtype='object')"
      ]
     },
     "execution_count": 43,
     "metadata": {},
     "output_type": "execute_result"
    }
   ],
   "source": [
    "p3.columns"
   ]
  },
  {
   "cell_type": "code",
   "execution_count": 44,
   "id": "0d4f660a",
   "metadata": {},
   "outputs": [
    {
     "data": {
      "text/plain": [
       "names    object\n",
       "Maths     int32\n",
       "dtype: object"
      ]
     },
     "execution_count": 44,
     "metadata": {},
     "output_type": "execute_result"
    }
   ],
   "source": [
    "p3.dtypes"
   ]
  },
  {
   "cell_type": "code",
   "execution_count": 45,
   "id": "42ece11b",
   "metadata": {},
   "outputs": [
    {
     "data": {
      "text/plain": [
       "(5, 2)"
      ]
     },
     "execution_count": 45,
     "metadata": {},
     "output_type": "execute_result"
    }
   ],
   "source": [
    "p3.shape"
   ]
  },
  {
   "cell_type": "code",
   "execution_count": 47,
   "id": "7021cb90",
   "metadata": {},
   "outputs": [
    {
     "data": {
      "text/plain": [
       "0    1.0\n",
       "dtype: float64"
      ]
     },
     "execution_count": 47,
     "metadata": {},
     "output_type": "execute_result"
    }
   ],
   "source": [
    "p1.head(1)"
   ]
  },
  {
   "cell_type": "code",
   "execution_count": 48,
   "id": "0c13a7c5",
   "metadata": {},
   "outputs": [
    {
     "data": {
      "text/plain": [
       "4      5.0\n",
       "5      6.0\n",
       "6    200.0\n",
       "7      1.0\n",
       "dtype: float64"
      ]
     },
     "execution_count": 48,
     "metadata": {},
     "output_type": "execute_result"
    }
   ],
   "source": [
    "p1.tail(4)"
   ]
  },
  {
   "cell_type": "code",
   "execution_count": 82,
   "id": "0b0c1912",
   "metadata": {},
   "outputs": [
    {
     "data": {
      "text/plain": [
       "78"
      ]
     },
     "execution_count": 82,
     "metadata": {},
     "output_type": "execute_result"
    }
   ],
   "source": [
    "#p3[columnlabel][rowlabel]\n",
    "#loc works with labels\n",
    "p3['Maths'][4]"
   ]
  },
  {
   "cell_type": "code",
   "execution_count": 55,
   "id": "f77d3c08",
   "metadata": {},
   "outputs": [
    {
     "name": "stdout",
     "output_type": "stream",
     "text": [
      "    names  Maths  english\n",
      "0  shreya     82       90\n",
      "1   tejas     75       80\n",
      "2  sakshi     84       70\n",
      "3   pallu     79       60\n",
      "4    piya     78       50\n"
     ]
    }
   ],
   "source": [
    "#iloc works with index\n",
    "p3['english']=[90,80,70,60,50]\n",
    "print(p3)"
   ]
  },
  {
   "cell_type": "code",
   "execution_count": 57,
   "id": "ccf7880a",
   "metadata": {},
   "outputs": [
    {
     "data": {
      "text/html": [
       "<div>\n",
       "<style scoped>\n",
       "    .dataframe tbody tr th:only-of-type {\n",
       "        vertical-align: middle;\n",
       "    }\n",
       "\n",
       "    .dataframe tbody tr th {\n",
       "        vertical-align: top;\n",
       "    }\n",
       "\n",
       "    .dataframe thead th {\n",
       "        text-align: right;\n",
       "    }\n",
       "</style>\n",
       "<table border=\"1\" class=\"dataframe\">\n",
       "  <thead>\n",
       "    <tr style=\"text-align: right;\">\n",
       "      <th></th>\n",
       "      <th>Maths</th>\n",
       "      <th>english</th>\n",
       "    </tr>\n",
       "  </thead>\n",
       "  <tbody>\n",
       "    <tr>\n",
       "      <th>count</th>\n",
       "      <td>5.000000</td>\n",
       "      <td>5.000000</td>\n",
       "    </tr>\n",
       "    <tr>\n",
       "      <th>mean</th>\n",
       "      <td>79.600000</td>\n",
       "      <td>70.000000</td>\n",
       "    </tr>\n",
       "    <tr>\n",
       "      <th>std</th>\n",
       "      <td>3.507136</td>\n",
       "      <td>15.811388</td>\n",
       "    </tr>\n",
       "    <tr>\n",
       "      <th>min</th>\n",
       "      <td>75.000000</td>\n",
       "      <td>50.000000</td>\n",
       "    </tr>\n",
       "    <tr>\n",
       "      <th>25%</th>\n",
       "      <td>78.000000</td>\n",
       "      <td>60.000000</td>\n",
       "    </tr>\n",
       "    <tr>\n",
       "      <th>50%</th>\n",
       "      <td>79.000000</td>\n",
       "      <td>70.000000</td>\n",
       "    </tr>\n",
       "    <tr>\n",
       "      <th>75%</th>\n",
       "      <td>82.000000</td>\n",
       "      <td>80.000000</td>\n",
       "    </tr>\n",
       "    <tr>\n",
       "      <th>max</th>\n",
       "      <td>84.000000</td>\n",
       "      <td>90.000000</td>\n",
       "    </tr>\n",
       "  </tbody>\n",
       "</table>\n",
       "</div>"
      ],
      "text/plain": [
       "           Maths    english\n",
       "count   5.000000   5.000000\n",
       "mean   79.600000  70.000000\n",
       "std     3.507136  15.811388\n",
       "min    75.000000  50.000000\n",
       "25%    78.000000  60.000000\n",
       "50%    79.000000  70.000000\n",
       "75%    82.000000  80.000000\n",
       "max    84.000000  90.000000"
      ]
     },
     "execution_count": 57,
     "metadata": {},
     "output_type": "execute_result"
    }
   ],
   "source": [
    "p3.describe()"
   ]
  },
  {
   "cell_type": "code",
   "execution_count": 58,
   "id": "e0090952",
   "metadata": {},
   "outputs": [
    {
     "data": {
      "text/plain": [
       "count     5.000000\n",
       "mean     79.600000\n",
       "std       3.507136\n",
       "min      75.000000\n",
       "25%      78.000000\n",
       "50%      79.000000\n",
       "75%      82.000000\n",
       "max      84.000000\n",
       "Name: Maths, dtype: float64"
      ]
     },
     "execution_count": 58,
     "metadata": {},
     "output_type": "execute_result"
    }
   ],
   "source": [
    "p3.Maths.describe()"
   ]
  },
  {
   "cell_type": "code",
   "execution_count": 59,
   "id": "ff7fe89e",
   "metadata": {},
   "outputs": [
    {
     "data": {
      "text/plain": [
       "count     5.000000\n",
       "mean     70.000000\n",
       "std      15.811388\n",
       "min      50.000000\n",
       "25%      60.000000\n",
       "50%      70.000000\n",
       "75%      80.000000\n",
       "max      90.000000\n",
       "Name: english, dtype: float64"
      ]
     },
     "execution_count": 59,
     "metadata": {},
     "output_type": "execute_result"
    }
   ],
   "source": [
    "p3.english.describe()"
   ]
  },
  {
   "cell_type": "code",
   "execution_count": 60,
   "id": "eedc6bd3",
   "metadata": {},
   "outputs": [
    {
     "data": {
      "text/html": [
       "<div>\n",
       "<style scoped>\n",
       "    .dataframe tbody tr th:only-of-type {\n",
       "        vertical-align: middle;\n",
       "    }\n",
       "\n",
       "    .dataframe tbody tr th {\n",
       "        vertical-align: top;\n",
       "    }\n",
       "\n",
       "    .dataframe thead th {\n",
       "        text-align: right;\n",
       "    }\n",
       "</style>\n",
       "<table border=\"1\" class=\"dataframe\">\n",
       "  <thead>\n",
       "    <tr style=\"text-align: right;\">\n",
       "      <th></th>\n",
       "      <th>names</th>\n",
       "    </tr>\n",
       "  </thead>\n",
       "  <tbody>\n",
       "    <tr>\n",
       "      <th>count</th>\n",
       "      <td>5</td>\n",
       "    </tr>\n",
       "    <tr>\n",
       "      <th>unique</th>\n",
       "      <td>5</td>\n",
       "    </tr>\n",
       "    <tr>\n",
       "      <th>top</th>\n",
       "      <td>shreya</td>\n",
       "    </tr>\n",
       "    <tr>\n",
       "      <th>freq</th>\n",
       "      <td>1</td>\n",
       "    </tr>\n",
       "  </tbody>\n",
       "</table>\n",
       "</div>"
      ],
      "text/plain": [
       "         names\n",
       "count        5\n",
       "unique       5\n",
       "top     shreya\n",
       "freq         1"
      ]
     },
     "execution_count": 60,
     "metadata": {},
     "output_type": "execute_result"
    }
   ],
   "source": [
    "p3.describe(include='O')"
   ]
  },
  {
   "cell_type": "code",
   "execution_count": 62,
   "id": "d3dc3411",
   "metadata": {},
   "outputs": [
    {
     "data": {
      "text/html": [
       "<div>\n",
       "<style scoped>\n",
       "    .dataframe tbody tr th:only-of-type {\n",
       "        vertical-align: middle;\n",
       "    }\n",
       "\n",
       "    .dataframe tbody tr th {\n",
       "        vertical-align: top;\n",
       "    }\n",
       "\n",
       "    .dataframe thead th {\n",
       "        text-align: right;\n",
       "    }\n",
       "</style>\n",
       "<table border=\"1\" class=\"dataframe\">\n",
       "  <thead>\n",
       "    <tr style=\"text-align: right;\">\n",
       "      <th></th>\n",
       "      <th>Studentname</th>\n",
       "      <th>Maths</th>\n",
       "      <th>english</th>\n",
       "    </tr>\n",
       "  </thead>\n",
       "  <tbody>\n",
       "    <tr>\n",
       "      <th>0</th>\n",
       "      <td>shreya</td>\n",
       "      <td>82</td>\n",
       "      <td>90</td>\n",
       "    </tr>\n",
       "    <tr>\n",
       "      <th>1</th>\n",
       "      <td>tejas</td>\n",
       "      <td>75</td>\n",
       "      <td>80</td>\n",
       "    </tr>\n",
       "    <tr>\n",
       "      <th>2</th>\n",
       "      <td>sakshi</td>\n",
       "      <td>84</td>\n",
       "      <td>70</td>\n",
       "    </tr>\n",
       "    <tr>\n",
       "      <th>3</th>\n",
       "      <td>pallu</td>\n",
       "      <td>79</td>\n",
       "      <td>60</td>\n",
       "    </tr>\n",
       "    <tr>\n",
       "      <th>4</th>\n",
       "      <td>piya</td>\n",
       "      <td>78</td>\n",
       "      <td>50</td>\n",
       "    </tr>\n",
       "  </tbody>\n",
       "</table>\n",
       "</div>"
      ],
      "text/plain": [
       "  Studentname  Maths  english\n",
       "0      shreya     82       90\n",
       "1       tejas     75       80\n",
       "2      sakshi     84       70\n",
       "3       pallu     79       60\n",
       "4        piya     78       50"
      ]
     },
     "execution_count": 62,
     "metadata": {},
     "output_type": "execute_result"
    }
   ],
   "source": [
    "p3.rename(columns={'names':'Studentname'})"
   ]
  },
  {
   "cell_type": "code",
   "execution_count": 76,
   "id": "e8f3ad88",
   "metadata": {},
   "outputs": [
    {
     "data": {
      "text/html": [
       "<div>\n",
       "<style scoped>\n",
       "    .dataframe tbody tr th:only-of-type {\n",
       "        vertical-align: middle;\n",
       "    }\n",
       "\n",
       "    .dataframe tbody tr th {\n",
       "        vertical-align: top;\n",
       "    }\n",
       "\n",
       "    .dataframe thead th {\n",
       "        text-align: right;\n",
       "    }\n",
       "</style>\n",
       "<table border=\"1\" class=\"dataframe\">\n",
       "  <thead>\n",
       "    <tr style=\"text-align: right;\">\n",
       "      <th></th>\n",
       "      <th>names</th>\n",
       "      <th>Maths</th>\n",
       "      <th>english</th>\n",
       "    </tr>\n",
       "  </thead>\n",
       "  <tbody>\n",
       "    <tr>\n",
       "      <th>0</th>\n",
       "      <td>shreya</td>\n",
       "      <td>82</td>\n",
       "      <td>90</td>\n",
       "    </tr>\n",
       "    <tr>\n",
       "      <th>1</th>\n",
       "      <td>tejas</td>\n",
       "      <td>75</td>\n",
       "      <td>80</td>\n",
       "    </tr>\n",
       "    <tr>\n",
       "      <th>2</th>\n",
       "      <td>sakshi</td>\n",
       "      <td>84</td>\n",
       "      <td>70</td>\n",
       "    </tr>\n",
       "    <tr>\n",
       "      <th>3</th>\n",
       "      <td>pallu</td>\n",
       "      <td>79</td>\n",
       "      <td>60</td>\n",
       "    </tr>\n",
       "    <tr>\n",
       "      <th>4</th>\n",
       "      <td>piya</td>\n",
       "      <td>78</td>\n",
       "      <td>50</td>\n",
       "    </tr>\n",
       "  </tbody>\n",
       "</table>\n",
       "</div>"
      ],
      "text/plain": [
       "    names  Maths  english\n",
       "0  shreya     82       90\n",
       "1   tejas     75       80\n",
       "2  sakshi     84       70\n",
       "3   pallu     79       60\n",
       "4    piya     78       50"
      ]
     },
     "execution_count": 76,
     "metadata": {},
     "output_type": "execute_result"
    }
   ],
   "source": [
    "p3.rename(index={'a':0})"
   ]
  },
  {
   "cell_type": "code",
   "execution_count": 77,
   "id": "487156f8",
   "metadata": {},
   "outputs": [
    {
     "name": "stdout",
     "output_type": "stream",
     "text": [
      "    names  Maths  english  Total\n",
      "0  shreya     82       90    172\n",
      "1   tejas     75       80    155\n",
      "2  sakshi     84       70    154\n",
      "3   pallu     79       60    139\n",
      "4    piya     78       50    128\n"
     ]
    }
   ],
   "source": [
    "p3['Total']=p3['Maths']+p3['english']\n",
    "print(p3)"
   ]
  },
  {
   "cell_type": "code",
   "execution_count": 78,
   "id": "ab634752",
   "metadata": {},
   "outputs": [],
   "source": [
    "p3.to_csv(\"student.csv\")"
   ]
  },
  {
   "cell_type": "code",
   "execution_count": 81,
   "id": "b4eb7a63",
   "metadata": {},
   "outputs": [
    {
     "name": "stdout",
     "output_type": "stream",
     "text": [
      "    names  Maths  english  Total Grade\n",
      "0  shreya     82       90    172     A\n",
      "1   tejas     75       80    155     A\n",
      "2  sakshi     84       70    154     A\n",
      "3   pallu     79       60    139     B\n",
      "4    piya     78       50    128     B\n"
     ]
    }
   ],
   "source": [
    "p3[\"Grade\"]=p3['Total'].apply(lambda x:\"A\" if x>150 else \"B\")\n",
    "print(p3)"
   ]
  },
  {
   "cell_type": "code",
   "execution_count": null,
   "id": "2fbd3a19",
   "metadata": {},
   "outputs": [],
   "source": []
  }
 ],
 "metadata": {
  "kernelspec": {
   "display_name": "Python 3 (ipykernel)",
   "language": "python",
   "name": "python3"
  },
  "language_info": {
   "codemirror_mode": {
    "name": "ipython",
    "version": 3
   },
   "file_extension": ".py",
   "mimetype": "text/x-python",
   "name": "python",
   "nbconvert_exporter": "python",
   "pygments_lexer": "ipython3",
   "version": "3.9.7"
  }
 },
 "nbformat": 4,
 "nbformat_minor": 5
}
