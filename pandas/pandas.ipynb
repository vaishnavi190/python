{
 "cells": [
  {
   "cell_type": "code",
   "execution_count": 2,
   "id": "6da79113",
   "metadata": {},
   "outputs": [],
   "source": [
    "import pandas as pd\n",
    "#series are not mutable"
   ]
  },
  {
   "cell_type": "code",
   "execution_count": 22,
   "id": "075c84bd",
   "metadata": {},
   "outputs": [
    {
     "name": "stdout",
     "output_type": "stream",
     "text": [
      "0      mumbai\n",
      "1        pune\n",
      "2    banglore\n",
      "3       nasik\n",
      "dtype: object\n",
      "mumbai\n",
      "0        asdf\n",
      "1        pune\n",
      "2    banglore\n",
      "3       nasik\n",
      "dtype: object\n"
     ]
    }
   ],
   "source": [
    "#series\n",
    "#no chnage in orignial series\n",
    "data=[\"mumbai\",\"pune\",\"banglore\",\"nasik\"]\n",
    "#data=[1,2,3,4,\"asf\"]\n",
    "ser=pd.Series(data)\n",
    "print(ser)\n",
    "print(ser[0])\n",
    "ser[0]='asdf'\n",
    "print(ser)\n"
   ]
  },
  {
   "cell_type": "code",
   "execution_count": 20,
   "id": "25a7ad26",
   "metadata": {},
   "outputs": [
    {
     "name": "stdout",
     "output_type": "stream",
     "text": [
      "0    asdf\n",
      "1       2\n",
      "2       3\n",
      "dtype: object\n",
      "_______________\n",
      "1    2\n",
      "2    3\n",
      "3    4\n",
      "dtype: object\n"
     ]
    }
   ],
   "source": [
    "#slicing\n",
    "print(ser[0:3])\n",
    "print(\"_______________\")\n",
    "print(ser[1:4])"
   ]
  },
  {
   "cell_type": "code",
   "execution_count": 24,
   "id": "8796175d",
   "metadata": {},
   "outputs": [
    {
     "name": "stdout",
     "output_type": "stream",
     "text": [
      "0        asdf\n",
      "1        pune\n",
      "2    banglore\n",
      "3       nasik\n",
      "dtype: object\n",
      "0        asdfkhargar\n",
      "1        punekhargar\n",
      "2    banglorekhargar\n",
      "3       nasikkhargar\n",
      "dtype: object\n"
     ]
    }
   ],
   "source": [
    "s3=ser.add(\"khargar\")\n",
    "#add the values like---original value+new vale\n",
    "print(ser)\n",
    "print(s3)\n"
   ]
  },
  {
   "cell_type": "code",
   "execution_count": 30,
   "id": "87b87f60",
   "metadata": {},
   "outputs": [
    {
     "name": "stdout",
     "output_type": "stream",
     "text": [
      "0        asdf\n",
      "1        pune\n",
      "2    banglore\n",
      "3       nasik\n",
      "4       vashi\n",
      "dtype: object\n",
      "-----------------------------\n",
      "0        asdf\n",
      "1        pune\n",
      "2    banglore\n",
      "3       nasik\n",
      "dtype: object\n"
     ]
    },
    {
     "name": "stderr",
     "output_type": "stream",
     "text": [
      "C:\\Users\\User\\AppData\\Local\\Temp\\ipykernel_26920\\807318106.py:2: FutureWarning: The series.append method is deprecated and will be removed from pandas in a future version. Use pandas.concat instead.\n",
      "  s3=ser.append(s4,ignore_index=True)\n"
     ]
    }
   ],
   "source": [
    "s4=pd.Series(['vashi'])\n",
    "s3=ser.append(s4,ignore_index=True)\n",
    "print(s3)\n",
    "print(\"-----------------------------\")\n",
    "print(ser)"
   ]
  },
  {
   "cell_type": "code",
   "execution_count": 49,
   "id": "64a93a95",
   "metadata": {},
   "outputs": [
    {
     "name": "stdout",
     "output_type": "stream",
     "text": [
      "c1    mumbai\n",
      "c2       bgm\n",
      "c3      pune\n",
      "c4      pune\n",
      "dtype: object\n"
     ]
    }
   ],
   "source": [
    "d=[\"mumbai\",\"bgm\",\"pune\",\"pune\"]\n",
    "idx=[\"c1\",\"c2\",\"c3\",\"c4\"]\n",
    "s11=pd.Series(d,idx)\n",
    "s2=pd.Series(d)\n",
    "print(s1)"
   ]
  },
  {
   "cell_type": "code",
   "execution_count": 52,
   "id": "9e3a748c",
   "metadata": {},
   "outputs": [
    {
     "name": "stdout",
     "output_type": "stream",
     "text": [
      "0        asdf\n",
      "1        pune\n",
      "2    banglore\n",
      "3       nasik\n",
      "4       baner\n",
      "dtype: object\n",
      "-----------------------------\n",
      "c1    mumbai\n",
      "c2       bgm\n",
      "c3      pune\n",
      "c4      pune\n",
      "dtype: object\n"
     ]
    },
    {
     "name": "stderr",
     "output_type": "stream",
     "text": [
      "C:\\Users\\User\\AppData\\Local\\Temp\\ipykernel_26920\\800587629.py:2: FutureWarning: The series.append method is deprecated and will be removed from pandas in a future version. Use pandas.concat instead.\n",
      "  s3=ser.append(s4,ignore_index=True)\n"
     ]
    }
   ],
   "source": [
    "s4=pd.Series(['baner'])\n",
    "s3=ser.append(s4,ignore_index=True)\n",
    "print(s3)\n",
    "print(\"-----------------------------\")\n",
    "print(s11)"
   ]
  },
  {
   "cell_type": "code",
   "execution_count": 54,
   "id": "6d560b2f",
   "metadata": {},
   "outputs": [
    {
     "data": {
      "text/plain": [
       "c2     bgm\n",
       "c3    pune\n",
       "c4    pune\n",
       "dtype: object"
      ]
     },
     "execution_count": 54,
     "metadata": {},
     "output_type": "execute_result"
    }
   ],
   "source": [
    "s11.drop(\"c1\")"
   ]
  },
  {
   "cell_type": "code",
   "execution_count": 55,
   "id": "04bc06df",
   "metadata": {},
   "outputs": [
    {
     "data": {
      "text/plain": [
       "c1      mumbai\n",
       "c2    banglore\n",
       "c3        pune\n",
       "c4        pune\n",
       "dtype: object"
      ]
     },
     "execution_count": 55,
     "metadata": {},
     "output_type": "execute_result"
    }
   ],
   "source": [
    "s11.replace(\"bgm\",\"banglore\")\n"
   ]
  },
  {
   "cell_type": "code",
   "execution_count": 66,
   "id": "982c74dd",
   "metadata": {},
   "outputs": [
    {
     "name": "stdout",
     "output_type": "stream",
     "text": [
      "m2: 0    95\n",
      "1    90\n",
      "2    70\n",
      "3    75\n",
      "dtype: int64\n",
      "0    95\n",
      "1    90\n",
      "2    70\n",
      "3    75\n",
      "dtype: int64\n",
      "_________________\n",
      "101    95\n",
      "102    90\n",
      "103    70\n",
      "104    75\n",
      "dtype: int64\n"
     ]
    }
   ],
   "source": [
    "marks=(95,90,70,75)\n",
    "m=pd.Series(marks)\n",
    "m2=pd.Series(marks)\n",
    "print(\"m2:\",m2)\n",
    "print(m)\n",
    "print(\"_________________\")\n",
    "idx=(101,102,103,104)\n",
    "m1=pd.Series(marks,idx)\n",
    "print(m1)\n"
   ]
  },
  {
   "cell_type": "code",
   "execution_count": 67,
   "id": "5e1fedb8",
   "metadata": {},
   "outputs": [
    {
     "name": "stdout",
     "output_type": "stream",
     "text": [
      "1    95\n",
      "2    87\n",
      "3    80\n",
      "dtype: int64\n"
     ]
    }
   ],
   "source": [
    "marks={\"1\":95,\"2\":87,\"3\":80}#key are index\n",
    "m=pd.Series(marks)\n",
    "print(m)"
   ]
  },
  {
   "cell_type": "code",
   "execution_count": 92,
   "id": "bf00163a",
   "metadata": {},
   "outputs": [
    {
     "name": "stdout",
     "output_type": "stream",
     "text": [
      "101    [shreya, 60, 70]\n",
      "102     [vaish, 80, 60]\n",
      "dtype: object\n",
      "shreya\n",
      "60\n",
      "70\n",
      "vaish\n",
      "80\n",
      "60\n",
      "['shreya', 60, 70, 'priya', 80, 60]\n"
     ]
    }
   ],
   "source": [
    "rec={101:[\"shreya\",60,70],102:[\"vaish\",80,60]}\n",
    "a=pd.Series(rec)\n",
    "print(a)\n",
    "for i,v in rec.items():\n",
    "    for j in v:\n",
    "        print(j)\n",
    "        \n",
    "print(suma)"
   ]
  },
  {
   "cell_type": "code",
   "execution_count": 6,
   "id": "fcf1203d",
   "metadata": {},
   "outputs": [
    {
     "name": "stdout",
     "output_type": "stream",
     "text": [
      "0    10\n",
      "1    12\n",
      "2    14\n",
      "3    16\n",
      "4    18\n",
      "dtype: int32\n"
     ]
    }
   ],
   "source": [
    "import numpy as np\n",
    "import pandas as pd\n",
    "\n",
    "\n",
    "p1=pd.Series(np.array(np.arange(10,20,2)))\n",
    "print(p1)\n"
   ]
  },
  {
   "cell_type": "code",
   "execution_count": 5,
   "id": "86176844",
   "metadata": {},
   "outputs": [
    {
     "name": "stdout",
     "output_type": "stream",
     "text": [
      "a    10\n",
      "b    12\n",
      "c    14\n",
      "d    16\n",
      "e    18\n",
      "dtype: int32\n"
     ]
    }
   ],
   "source": [
    "p2=pd.Series(np.array(np.arange(10,20,2)),index=list(\"abcde\"))\n",
    "print(p2)"
   ]
  },
  {
   "cell_type": "code",
   "execution_count": 9,
   "id": "f5d37114",
   "metadata": {},
   "outputs": [
    {
     "name": "stdout",
     "output_type": "stream",
     "text": [
      "book      40\n",
      "pen       30\n",
      "pencil    10\n",
      "dtype: int64\n",
      "40\n"
     ]
    }
   ],
   "source": [
    "dict1={'book':40,'pen':30,'pencil':10}\n",
    "p3=pd.Series(dict1)\n",
    "print(p3)\n",
    "print(p3['book'])"
   ]
  },
  {
   "cell_type": "code",
   "execution_count": 13,
   "id": "a1344403",
   "metadata": {},
   "outputs": [
    {
     "name": "stdout",
     "output_type": "stream",
     "text": [
      "book      40\n",
      "pen        5\n",
      "pencil    10\n",
      "pens       5\n",
      "dtype: int64\n"
     ]
    }
   ],
   "source": [
    "p3['pens']=5\n",
    "print(p3)"
   ]
  },
  {
   "cell_type": "code",
   "execution_count": 24,
   "id": "e1b1d0e0",
   "metadata": {},
   "outputs": [
    {
     "name": "stdout",
     "output_type": "stream",
     "text": [
      "pens       5\n",
      "pencil    10\n",
      "pen        5\n",
      "dtype: int64\n",
      "book      40\n",
      "pen        5\n",
      "pencil    10\n",
      "dtype: int64\n"
     ]
    }
   ],
   "source": [
    "p2[1:4]\n",
    "p3[0:3]\n",
    "print(p3[-1:-4:-1])\n",
    "print(p3['book':'pencil'])"
   ]
  },
  {
   "cell_type": "code",
   "execution_count": 26,
   "id": "01845cfe",
   "metadata": {},
   "outputs": [
    {
     "name": "stdout",
     "output_type": "stream",
     "text": [
      "min 10\n",
      "max 18\n",
      "sum 70\n"
     ]
    }
   ],
   "source": [
    "print(\"min\",p1.min())\n",
    "print(\"max\",p1.max())\n",
    "print(\"sum\",p1.sum())"
   ]
  },
  {
   "cell_type": "code",
   "execution_count": 37,
   "id": "a027fd35",
   "metadata": {},
   "outputs": [
    {
     "name": "stdout",
     "output_type": "stream",
     "text": [
      "min Mr.A\n",
      "max Mr.Y\n",
      "sum Mr.XMr.YMr.A\n"
     ]
    }
   ],
   "source": [
    "dict2={\"book\":\"Mr.X\",\"pen\":\"Mr.Y\",\"pencil\":\"Mr.A\"}\n",
    "p4=pd.Series(dict2)\n",
    "print(\"min\",p4.min())\n",
    "print(\"max\",p4.max())\n",
    "print(\"sum\",p4.sum())"
   ]
  },
  {
   "cell_type": "code",
   "execution_count": 38,
   "id": "16972c93",
   "metadata": {},
   "outputs": [
    {
     "name": "stdout",
     "output_type": "stream",
     "text": [
      "0    10.0\n",
      "1    12.0\n",
      "2    14.0\n",
      "3    16.0\n",
      "4    18.0\n",
      "5     NaN\n",
      "dtype: float64\n",
      "5\n"
     ]
    }
   ],
   "source": [
    "p1[5]=np.nan\n",
    "print(p1)\n",
    "print(p1.count())"
   ]
  },
  {
   "cell_type": "code",
   "execution_count": 40,
   "id": "afcd4b63",
   "metadata": {},
   "outputs": [
    {
     "name": "stdout",
     "output_type": "stream",
     "text": [
      "book    Mr.X\n",
      "pen     Mr.Y\n",
      "dtype: object\n",
      "book      Mr.X\n",
      "pen       Mr.Y\n",
      "pencil    Mr.A\n",
      "dtype: object\n"
     ]
    }
   ],
   "source": [
    "#drop particular obj-----doesnt change original \n",
    "newser=p4.drop(\"pencil\")\n",
    "print(newser)\n",
    "print(p4)"
   ]
  },
  {
   "cell_type": "code",
   "execution_count": 41,
   "id": "3893d4bf",
   "metadata": {},
   "outputs": [
    {
     "data": {
      "text/plain": [
       "0     10.0\n",
       "1     12.0\n",
       "2     14.0\n",
       "3     16.0\n",
       "4     18.0\n",
       "5    100.0\n",
       "dtype: float64"
      ]
     },
     "execution_count": 41,
     "metadata": {},
     "output_type": "execute_result"
    }
   ],
   "source": [
    "p1.fillna(100)"
   ]
  },
  {
   "cell_type": "code",
   "execution_count": 45,
   "id": "c317a65d",
   "metadata": {},
   "outputs": [
    {
     "name": "stdout",
     "output_type": "stream",
     "text": [
      "0    10.0\n",
      "1    12.0\n",
      "2    14.0\n",
      "3    16.0\n",
      "4    18.0\n",
      "5     NaN\n",
      "dtype: float64\n"
     ]
    }
   ],
   "source": [
    "print(p1)"
   ]
  },
  {
   "cell_type": "code",
   "execution_count": 47,
   "id": "ed5ffff6",
   "metadata": {},
   "outputs": [
    {
     "name": "stdout",
     "output_type": "stream",
     "text": [
      "None\n"
     ]
    }
   ],
   "source": [
    "#remove nan obj\n",
    "#p1.dropna()\n",
    "print(p1.dropna(inplace=True))#--change in original series"
   ]
  },
  {
   "cell_type": "code",
   "execution_count": 55,
   "id": "84a5a8c8",
   "metadata": {},
   "outputs": [],
   "source": [
    "p1[1:3]=50\n",
    "p1[4:5]=16"
   ]
  },
  {
   "cell_type": "code",
   "execution_count": 56,
   "id": "6c98eade",
   "metadata": {},
   "outputs": [
    {
     "name": "stdout",
     "output_type": "stream",
     "text": [
      "0    16.0\n",
      "1    50.0\n",
      "dtype: float64\n"
     ]
    }
   ],
   "source": [
    "newp1=p1.mode()\n",
    "print(newp1)"
   ]
  },
  {
   "cell_type": "code",
   "execution_count": 57,
   "id": "09cd25e7",
   "metadata": {},
   "outputs": [
    {
     "data": {
      "text/plain": [
       "count     5.000000\n",
       "mean     28.400000\n",
       "std      19.869575\n",
       "min      10.000000\n",
       "25%      16.000000\n",
       "50%      16.000000\n",
       "75%      50.000000\n",
       "max      50.000000\n",
       "dtype: float64"
      ]
     },
     "execution_count": 57,
     "metadata": {},
     "output_type": "execute_result"
    }
   ],
   "source": [
    "p1.describe()"
   ]
  },
  {
   "cell_type": "code",
   "execution_count": 58,
   "id": "806f63f0",
   "metadata": {},
   "outputs": [
    {
     "data": {
      "text/plain": [
       "count        3\n",
       "unique       3\n",
       "top       Mr.X\n",
       "freq         1\n",
       "dtype: object"
      ]
     },
     "execution_count": 58,
     "metadata": {},
     "output_type": "execute_result"
    }
   ],
   "source": [
    "p4.describe()"
   ]
  },
  {
   "cell_type": "code",
   "execution_count": 59,
   "id": "db8c4d7b",
   "metadata": {},
   "outputs": [
    {
     "data": {
      "text/plain": [
       "50.0    2\n",
       "16.0    2\n",
       "10.0    1\n",
       "dtype: int64"
      ]
     },
     "execution_count": 59,
     "metadata": {},
     "output_type": "execute_result"
    }
   ],
   "source": [
    "#fre of each ele\n",
    "p1.value_counts()"
   ]
  },
  {
   "cell_type": "code",
   "execution_count": 60,
   "id": "1e641032",
   "metadata": {},
   "outputs": [
    {
     "data": {
      "text/plain": [
       "0    10.0\n",
       "3    16.0\n",
       "4    16.0\n",
       "1    50.0\n",
       "2    50.0\n",
       "dtype: float64"
      ]
     },
     "execution_count": 60,
     "metadata": {},
     "output_type": "execute_result"
    }
   ],
   "source": [
    "p1.sort_values()"
   ]
  },
  {
   "cell_type": "code",
   "execution_count": 61,
   "id": "6264512f",
   "metadata": {},
   "outputs": [
    {
     "data": {
      "text/plain": [
       "0    10.0\n",
       "1    50.0\n",
       "2    50.0\n",
       "3    16.0\n",
       "4    16.0\n",
       "dtype: float64"
      ]
     },
     "execution_count": 61,
     "metadata": {},
     "output_type": "execute_result"
    }
   ],
   "source": [
    "p1.sort_index()#---not in original"
   ]
  },
  {
   "cell_type": "code",
   "execution_count": 62,
   "id": "11bb765e",
   "metadata": {},
   "outputs": [
    {
     "data": {
      "text/plain": [
       "1    50.0\n",
       "2    50.0\n",
       "3    16.0\n",
       "4    16.0\n",
       "0    10.0\n",
       "dtype: float64"
      ]
     },
     "execution_count": 62,
     "metadata": {},
     "output_type": "execute_result"
    }
   ],
   "source": [
    "p1.sort_values(ascending=False)"
   ]
  },
  {
   "cell_type": "code",
   "execution_count": 84,
   "id": "e8565a1e",
   "metadata": {},
   "outputs": [
    {
     "name": "stdout",
     "output_type": "stream",
     "text": [
      "0     A\n",
      "1     C\n",
      "2     E\n",
      "3     G\n",
      "4     I\n",
      "5     K\n",
      "6     M\n",
      "7     O\n",
      "8     Q\n",
      "9     S\n",
      "10    U\n",
      "11    W\n",
      "12    Y\n",
      "dtype: object\n"
     ]
    }
   ],
   "source": [
    "ser1=pd.Series(chr(a) for a in range(ord('A'),ord('Z')+1,2))\n",
    "print(ser1)\n"
   ]
  },
  {
   "cell_type": "code",
   "execution_count": 88,
   "id": "928f57ff",
   "metadata": {},
   "outputs": [
    {
     "name": "stdout",
     "output_type": "stream",
     "text": [
      "      A\n",
      "101  65\n",
      "102  67\n",
      "103  69\n",
      "104  71\n",
      "105  73\n",
      "106  75\n"
     ]
    }
   ],
   "source": [
    "#dataframe\n",
    "df1=pd.DataFrame(list(np.arange(ord('A'),ord('M'),2)),columns=['A'],index=[101,102,103,104,105,106])\n",
    "print(df1)\n"
   ]
  },
  {
   "cell_type": "code",
   "execution_count": 96,
   "id": "113516b6",
   "metadata": {},
   "outputs": [
    {
     "name": "stdout",
     "output_type": "stream",
     "text": [
      "   EmpId   EmpNme    Sal\n",
      "a    101   shreya  40000\n",
      "b    102    nagma  50000\n",
      "c    103    vaish  60000\n",
      "d    104  pallavi  70000\n",
      "e    105   sakshi  80000\n"
     ]
    }
   ],
   "source": [
    "df2=pd.DataFrame({'EmpId':[101,102,103,104,105],'EmpNme':[\"shreya\",\"nagma\",\"vaish\",\"pallavi\",\"sakshi\"],'Sal':[40000,50000,60000,70000,80000]},\n",
    "                index=['a','b','c','d','e'])\n",
    "print(df2)"
   ]
  },
  {
   "cell_type": "code",
   "execution_count": 101,
   "id": "4c2c8943",
   "metadata": {},
   "outputs": [
    {
     "data": {
      "text/plain": [
       "105"
      ]
     },
     "execution_count": 101,
     "metadata": {},
     "output_type": "execute_result"
    }
   ],
   "source": [
    "df2['EmpId']['e']"
   ]
  },
  {
   "cell_type": "code",
   "execution_count": 105,
   "id": "cb93a54b",
   "metadata": {},
   "outputs": [
    {
     "data": {
      "text/plain": [
       "'pallavi'"
      ]
     },
     "execution_count": 105,
     "metadata": {},
     "output_type": "execute_result"
    }
   ],
   "source": [
    "#loc\n",
    "#loc[index label,col label]\n",
    "df2.loc['d','EmpNme']"
   ]
  },
  {
   "cell_type": "code",
   "execution_count": 107,
   "id": "f33302e1",
   "metadata": {},
   "outputs": [
    {
     "data": {
      "text/html": [
       "<div>\n",
       "<style scoped>\n",
       "    .dataframe tbody tr th:only-of-type {\n",
       "        vertical-align: middle;\n",
       "    }\n",
       "\n",
       "    .dataframe tbody tr th {\n",
       "        vertical-align: top;\n",
       "    }\n",
       "\n",
       "    .dataframe thead th {\n",
       "        text-align: right;\n",
       "    }\n",
       "</style>\n",
       "<table border=\"1\" class=\"dataframe\">\n",
       "  <thead>\n",
       "    <tr style=\"text-align: right;\">\n",
       "      <th></th>\n",
       "      <th>EmpNme</th>\n",
       "      <th>Sal</th>\n",
       "    </tr>\n",
       "  </thead>\n",
       "  <tbody>\n",
       "    <tr>\n",
       "      <th>b</th>\n",
       "      <td>nagma</td>\n",
       "      <td>50000</td>\n",
       "    </tr>\n",
       "    <tr>\n",
       "      <th>c</th>\n",
       "      <td>vaish</td>\n",
       "      <td>60000</td>\n",
       "    </tr>\n",
       "    <tr>\n",
       "      <th>d</th>\n",
       "      <td>pallavi</td>\n",
       "      <td>70000</td>\n",
       "    </tr>\n",
       "  </tbody>\n",
       "</table>\n",
       "</div>"
      ],
      "text/plain": [
       "    EmpNme    Sal\n",
       "b    nagma  50000\n",
       "c    vaish  60000\n",
       "d  pallavi  70000"
      ]
     },
     "execution_count": 107,
     "metadata": {},
     "output_type": "execute_result"
    }
   ],
   "source": [
    "df2.loc['b':'d','EmpNme':'Sal']"
   ]
  },
  {
   "cell_type": "code",
   "execution_count": 112,
   "id": "10137f80",
   "metadata": {},
   "outputs": [
    {
     "name": "stdout",
     "output_type": "stream",
     "text": [
      "    EmpNme    Sal\n",
      "c    vaish  60000\n",
      "d  pallavi  70000\n",
      "e   sakshi  80000\n",
      "   EmpId   EmpNme\n",
      "b    102    nagma\n",
      "c    103    vaish\n",
      "d    104  pallavi\n"
     ]
    }
   ],
   "source": [
    "df2.iloc[0:3]\n",
    "print(df2.iloc[2:5,1:3])\n",
    "print(df2.iloc[1:4,0:2])"
   ]
  },
  {
   "cell_type": "code",
   "execution_count": 116,
   "id": "72e2587e",
   "metadata": {},
   "outputs": [
    {
     "name": "stdout",
     "output_type": "stream",
     "text": [
      "   EmpId   EmpNme\n",
      "b    102    nagma\n",
      "c    103    vaish\n",
      "d    104  pallavi\n"
     ]
    }
   ],
   "source": [
    "print(df2.loc['b':'d','EmpId':'EmpNme'])"
   ]
  },
  {
   "cell_type": "code",
   "execution_count": 120,
   "id": "ee7840e7",
   "metadata": {},
   "outputs": [
    {
     "name": "stdout",
     "output_type": "stream",
     "text": [
      "   EmpId   EmpNme    Sal  bonus\n",
      "a    101   shreya  40000   1000\n",
      "b    102    nagma  50000   2000\n",
      "c    103    vaish  60000   3000\n",
      "d    104  pallavi  70000   4000\n",
      "e    105   sakshi  80000   5000\n"
     ]
    }
   ],
   "source": [
    "df2['bonus']=[1000,2000,3000,4000,5000]\n",
    "print(df2)\n",
    "\n"
   ]
  },
  {
   "cell_type": "code",
   "execution_count": 125,
   "id": "13283fda",
   "metadata": {},
   "outputs": [
    {
     "name": "stdout",
     "output_type": "stream",
     "text": [
      "   EmpId   EmpNme    Sal  bonus  inhand\n",
      "a    101   shreya  40000   1000   41000\n",
      "b    102    nagma  50000   2000   52000\n",
      "c    103    vaish  60000   3000   63000\n",
      "d    104  pallavi  70000   4000   74000\n",
      "e    105   sakshi  80000   5000   85000\n"
     ]
    }
   ],
   "source": [
    "#df2['inhand']=df2['Sal']+df2['bonus']\n",
    "#print(df2)\n",
    "df2['inhand']=df2.loc[:,'Sal':'bonus'].sum(axis=1)\n",
    "print(df2)"
   ]
  },
  {
   "cell_type": "code",
   "execution_count": 133,
   "id": "594194fc",
   "metadata": {},
   "outputs": [
    {
     "name": "stdout",
     "output_type": "stream",
     "text": [
      "   EmpId EmployeeName    Sal  bonus  inhand\n",
      "a    101       shreya  40000   1000   41000\n",
      "b    102        nagma  50000   2000   52000\n",
      "c    103        vaish  60000   3000   63000\n",
      "d    104      pallavi  70000   4000   74000\n",
      "e    105       sakshi  80000   5000   85000\n"
     ]
    }
   ],
   "source": [
    "df2.rename(columns=({'EmpNme':'EmployeeName'}),inplace=True)\n",
    "print(df2)"
   ]
  },
  {
   "cell_type": "code",
   "execution_count": 134,
   "id": "46c999d8",
   "metadata": {},
   "outputs": [
    {
     "data": {
      "text/plain": [
       "(5, 5)"
      ]
     },
     "execution_count": 134,
     "metadata": {},
     "output_type": "execute_result"
    }
   ],
   "source": [
    "df2.shape"
   ]
  },
  {
   "cell_type": "code",
   "execution_count": 136,
   "id": "4673faea",
   "metadata": {},
   "outputs": [
    {
     "data": {
      "text/plain": [
       "5"
      ]
     },
     "execution_count": 136,
     "metadata": {},
     "output_type": "execute_result"
    }
   ],
   "source": [
    "df2.shape[1]"
   ]
  },
  {
   "cell_type": "code",
   "execution_count": 138,
   "id": "01a590d8",
   "metadata": {},
   "outputs": [
    {
     "data": {
      "text/html": [
       "<div>\n",
       "<style scoped>\n",
       "    .dataframe tbody tr th:only-of-type {\n",
       "        vertical-align: middle;\n",
       "    }\n",
       "\n",
       "    .dataframe tbody tr th {\n",
       "        vertical-align: top;\n",
       "    }\n",
       "\n",
       "    .dataframe thead th {\n",
       "        text-align: right;\n",
       "    }\n",
       "</style>\n",
       "<table border=\"1\" class=\"dataframe\">\n",
       "  <thead>\n",
       "    <tr style=\"text-align: right;\">\n",
       "      <th></th>\n",
       "      <th>EmpId</th>\n",
       "      <th>EmployeeName</th>\n",
       "      <th>Sal</th>\n",
       "      <th>bonus</th>\n",
       "      <th>inhand</th>\n",
       "    </tr>\n",
       "  </thead>\n",
       "  <tbody>\n",
       "    <tr>\n",
       "      <th>a</th>\n",
       "      <td>101</td>\n",
       "      <td>shreya</td>\n",
       "      <td>40000</td>\n",
       "      <td>1000</td>\n",
       "      <td>41000</td>\n",
       "    </tr>\n",
       "    <tr>\n",
       "      <th>b</th>\n",
       "      <td>102</td>\n",
       "      <td>nagma</td>\n",
       "      <td>50000</td>\n",
       "      <td>2000</td>\n",
       "      <td>52000</td>\n",
       "    </tr>\n",
       "  </tbody>\n",
       "</table>\n",
       "</div>"
      ],
      "text/plain": [
       "   EmpId EmployeeName    Sal  bonus  inhand\n",
       "a    101       shreya  40000   1000   41000\n",
       "b    102        nagma  50000   2000   52000"
      ]
     },
     "execution_count": 138,
     "metadata": {},
     "output_type": "execute_result"
    }
   ],
   "source": [
    "df2.head(2)"
   ]
  },
  {
   "cell_type": "code",
   "execution_count": 143,
   "id": "a737ccca",
   "metadata": {},
   "outputs": [
    {
     "data": {
      "text/html": [
       "<div>\n",
       "<style scoped>\n",
       "    .dataframe tbody tr th:only-of-type {\n",
       "        vertical-align: middle;\n",
       "    }\n",
       "\n",
       "    .dataframe tbody tr th {\n",
       "        vertical-align: top;\n",
       "    }\n",
       "\n",
       "    .dataframe thead th {\n",
       "        text-align: right;\n",
       "    }\n",
       "</style>\n",
       "<table border=\"1\" class=\"dataframe\">\n",
       "  <thead>\n",
       "    <tr style=\"text-align: right;\">\n",
       "      <th></th>\n",
       "      <th>EmpId</th>\n",
       "      <th>EmployeeName</th>\n",
       "      <th>Sal</th>\n",
       "      <th>bonus</th>\n",
       "      <th>inhand</th>\n",
       "    </tr>\n",
       "  </thead>\n",
       "  <tbody>\n",
       "    <tr>\n",
       "      <th>d</th>\n",
       "      <td>104</td>\n",
       "      <td>pallavi</td>\n",
       "      <td>70000</td>\n",
       "      <td>4000</td>\n",
       "      <td>74000</td>\n",
       "    </tr>\n",
       "    <tr>\n",
       "      <th>e</th>\n",
       "      <td>105</td>\n",
       "      <td>sakshi</td>\n",
       "      <td>80000</td>\n",
       "      <td>5000</td>\n",
       "      <td>85000</td>\n",
       "    </tr>\n",
       "  </tbody>\n",
       "</table>\n",
       "</div>"
      ],
      "text/plain": [
       "   EmpId EmployeeName    Sal  bonus  inhand\n",
       "d    104      pallavi  70000   4000   74000\n",
       "e    105       sakshi  80000   5000   85000"
      ]
     },
     "execution_count": 143,
     "metadata": {},
     "output_type": "execute_result"
    }
   ],
   "source": [
    "df2.tail(2)"
   ]
  },
  {
   "cell_type": "code",
   "execution_count": 145,
   "id": "10732e80",
   "metadata": {},
   "outputs": [
    {
     "data": {
      "text/html": [
       "<div>\n",
       "<style scoped>\n",
       "    .dataframe tbody tr th:only-of-type {\n",
       "        vertical-align: middle;\n",
       "    }\n",
       "\n",
       "    .dataframe tbody tr th {\n",
       "        vertical-align: top;\n",
       "    }\n",
       "\n",
       "    .dataframe thead th {\n",
       "        text-align: right;\n",
       "    }\n",
       "</style>\n",
       "<table border=\"1\" class=\"dataframe\">\n",
       "  <thead>\n",
       "    <tr style=\"text-align: right;\">\n",
       "      <th></th>\n",
       "      <th>EmpId</th>\n",
       "      <th>Sal</th>\n",
       "      <th>bonus</th>\n",
       "      <th>inhand</th>\n",
       "    </tr>\n",
       "  </thead>\n",
       "  <tbody>\n",
       "    <tr>\n",
       "      <th>count</th>\n",
       "      <td>5.000000</td>\n",
       "      <td>5.000000</td>\n",
       "      <td>5.00000</td>\n",
       "      <td>5.000000</td>\n",
       "    </tr>\n",
       "    <tr>\n",
       "      <th>mean</th>\n",
       "      <td>103.000000</td>\n",
       "      <td>60000.000000</td>\n",
       "      <td>3000.00000</td>\n",
       "      <td>63000.000000</td>\n",
       "    </tr>\n",
       "    <tr>\n",
       "      <th>std</th>\n",
       "      <td>1.581139</td>\n",
       "      <td>15811.388301</td>\n",
       "      <td>1581.13883</td>\n",
       "      <td>17392.527131</td>\n",
       "    </tr>\n",
       "    <tr>\n",
       "      <th>min</th>\n",
       "      <td>101.000000</td>\n",
       "      <td>40000.000000</td>\n",
       "      <td>1000.00000</td>\n",
       "      <td>41000.000000</td>\n",
       "    </tr>\n",
       "    <tr>\n",
       "      <th>25%</th>\n",
       "      <td>102.000000</td>\n",
       "      <td>50000.000000</td>\n",
       "      <td>2000.00000</td>\n",
       "      <td>52000.000000</td>\n",
       "    </tr>\n",
       "    <tr>\n",
       "      <th>50%</th>\n",
       "      <td>103.000000</td>\n",
       "      <td>60000.000000</td>\n",
       "      <td>3000.00000</td>\n",
       "      <td>63000.000000</td>\n",
       "    </tr>\n",
       "    <tr>\n",
       "      <th>75%</th>\n",
       "      <td>104.000000</td>\n",
       "      <td>70000.000000</td>\n",
       "      <td>4000.00000</td>\n",
       "      <td>74000.000000</td>\n",
       "    </tr>\n",
       "    <tr>\n",
       "      <th>max</th>\n",
       "      <td>105.000000</td>\n",
       "      <td>80000.000000</td>\n",
       "      <td>5000.00000</td>\n",
       "      <td>85000.000000</td>\n",
       "    </tr>\n",
       "  </tbody>\n",
       "</table>\n",
       "</div>"
      ],
      "text/plain": [
       "            EmpId           Sal       bonus        inhand\n",
       "count    5.000000      5.000000     5.00000      5.000000\n",
       "mean   103.000000  60000.000000  3000.00000  63000.000000\n",
       "std      1.581139  15811.388301  1581.13883  17392.527131\n",
       "min    101.000000  40000.000000  1000.00000  41000.000000\n",
       "25%    102.000000  50000.000000  2000.00000  52000.000000\n",
       "50%    103.000000  60000.000000  3000.00000  63000.000000\n",
       "75%    104.000000  70000.000000  4000.00000  74000.000000\n",
       "max    105.000000  80000.000000  5000.00000  85000.000000"
      ]
     },
     "execution_count": 145,
     "metadata": {},
     "output_type": "execute_result"
    }
   ],
   "source": [
    "df2.describe()"
   ]
  },
  {
   "cell_type": "code",
   "execution_count": 153,
   "id": "80e17615",
   "metadata": {},
   "outputs": [
    {
     "name": "stdout",
     "output_type": "stream",
     "text": [
      "<class 'pandas.core.frame.DataFrame'>\n",
      "Index: 5 entries, a to e\n",
      "Data columns (total 6 columns):\n",
      " #   Column        Non-Null Count  Dtype \n",
      "---  ------        --------------  ----- \n",
      " 0   EmpId         5 non-null      int64 \n",
      " 1   EmployeeName  5 non-null      object\n",
      " 2   Sal           5 non-null      int64 \n",
      " 3   bonus         5 non-null      int64 \n",
      " 4   inhand        5 non-null      int64 \n",
      " 5   dept          5 non-null      object\n",
      "dtypes: int64(4), object(2)\n",
      "memory usage: 452.0+ bytes\n"
     ]
    }
   ],
   "source": [
    "df2.info()"
   ]
  },
  {
   "cell_type": "code",
   "execution_count": 154,
   "id": "248f38cc",
   "metadata": {},
   "outputs": [
    {
     "data": {
      "text/plain": [
       "count        5.000000\n",
       "mean     60000.000000\n",
       "std      15811.388301\n",
       "min      40000.000000\n",
       "25%      50000.000000\n",
       "50%      60000.000000\n",
       "75%      70000.000000\n",
       "max      80000.000000\n",
       "Name: Sal, dtype: float64"
      ]
     },
     "execution_count": 154,
     "metadata": {},
     "output_type": "execute_result"
    }
   ],
   "source": [
    "df2.Sal.describe()"
   ]
  },
  {
   "cell_type": "code",
   "execution_count": 155,
   "id": "a86bddb5",
   "metadata": {},
   "outputs": [],
   "source": [
    "df2.to_csv(\"worker details.csv\")"
   ]
  },
  {
   "cell_type": "code",
   "execution_count": 151,
   "id": "ac471990",
   "metadata": {},
   "outputs": [],
   "source": [
    "df2['dept']=['it','sales','accounts','it','sales']"
   ]
  },
  {
   "cell_type": "code",
   "execution_count": 152,
   "id": "72cf8c8f",
   "metadata": {},
   "outputs": [
    {
     "data": {
      "text/html": [
       "<div>\n",
       "<style scoped>\n",
       "    .dataframe tbody tr th:only-of-type {\n",
       "        vertical-align: middle;\n",
       "    }\n",
       "\n",
       "    .dataframe tbody tr th {\n",
       "        vertical-align: top;\n",
       "    }\n",
       "\n",
       "    .dataframe thead th {\n",
       "        text-align: right;\n",
       "    }\n",
       "</style>\n",
       "<table border=\"1\" class=\"dataframe\">\n",
       "  <thead>\n",
       "    <tr style=\"text-align: right;\">\n",
       "      <th></th>\n",
       "      <th>EmpId</th>\n",
       "      <th>EmployeeName</th>\n",
       "      <th>Sal</th>\n",
       "      <th>bonus</th>\n",
       "      <th>inhand</th>\n",
       "      <th>dept</th>\n",
       "    </tr>\n",
       "  </thead>\n",
       "  <tbody>\n",
       "    <tr>\n",
       "      <th>a</th>\n",
       "      <td>101</td>\n",
       "      <td>shreya</td>\n",
       "      <td>40000</td>\n",
       "      <td>1000</td>\n",
       "      <td>41000</td>\n",
       "      <td>it</td>\n",
       "    </tr>\n",
       "    <tr>\n",
       "      <th>b</th>\n",
       "      <td>102</td>\n",
       "      <td>nagma</td>\n",
       "      <td>50000</td>\n",
       "      <td>2000</td>\n",
       "      <td>52000</td>\n",
       "      <td>sales</td>\n",
       "    </tr>\n",
       "    <tr>\n",
       "      <th>c</th>\n",
       "      <td>103</td>\n",
       "      <td>vaish</td>\n",
       "      <td>60000</td>\n",
       "      <td>3000</td>\n",
       "      <td>63000</td>\n",
       "      <td>accounts</td>\n",
       "    </tr>\n",
       "    <tr>\n",
       "      <th>d</th>\n",
       "      <td>104</td>\n",
       "      <td>pallavi</td>\n",
       "      <td>70000</td>\n",
       "      <td>4000</td>\n",
       "      <td>74000</td>\n",
       "      <td>it</td>\n",
       "    </tr>\n",
       "    <tr>\n",
       "      <th>e</th>\n",
       "      <td>105</td>\n",
       "      <td>sakshi</td>\n",
       "      <td>80000</td>\n",
       "      <td>5000</td>\n",
       "      <td>85000</td>\n",
       "      <td>sales</td>\n",
       "    </tr>\n",
       "  </tbody>\n",
       "</table>\n",
       "</div>"
      ],
      "text/plain": [
       "   EmpId EmployeeName    Sal  bonus  inhand      dept\n",
       "a    101       shreya  40000   1000   41000        it\n",
       "b    102        nagma  50000   2000   52000     sales\n",
       "c    103        vaish  60000   3000   63000  accounts\n",
       "d    104      pallavi  70000   4000   74000        it\n",
       "e    105       sakshi  80000   5000   85000     sales"
      ]
     },
     "execution_count": 152,
     "metadata": {},
     "output_type": "execute_result"
    }
   ],
   "source": [
    "df2"
   ]
  },
  {
   "cell_type": "code",
   "execution_count": 158,
   "id": "e0ed6f86",
   "metadata": {},
   "outputs": [
    {
     "data": {
      "text/plain": [
       "a     True\n",
       "b    False\n",
       "c    False\n",
       "d     True\n",
       "e    False\n",
       "Name: dept, dtype: bool"
      ]
     },
     "execution_count": 158,
     "metadata": {},
     "output_type": "execute_result"
    }
   ],
   "source": [
    "\n",
    "df2['dept'].apply(lambda val:True if val=='it' else False)"
   ]
  },
  {
   "cell_type": "code",
   "execution_count": null,
   "id": "96ad550f",
   "metadata": {},
   "outputs": [],
   "source": [
    "=df2['designation']=df2['Sal'].apply(lambda)"
   ]
  }
 ],
 "metadata": {
  "kernelspec": {
   "display_name": "Python 3 (ipykernel)",
   "language": "python",
   "name": "python3"
  },
  "language_info": {
   "codemirror_mode": {
    "name": "ipython",
    "version": 3
   },
   "file_extension": ".py",
   "mimetype": "text/x-python",
   "name": "python",
   "nbconvert_exporter": "python",
   "pygments_lexer": "ipython3",
   "version": "3.10.2"
  }
 },
 "nbformat": 4,
 "nbformat_minor": 5
}
