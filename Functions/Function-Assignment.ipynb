{
 "cells": [
  {
   "cell_type": "code",
   "execution_count": 1,
   "id": "be71bf38",
   "metadata": {},
   "outputs": [
    {
     "name": "stdout",
     "output_type": "stream",
     "text": [
      "palindrome: ['php', 'mam']\n"
     ]
    }
   ],
   "source": [
    "#1. Write a Python program to find palindromes in a given list of strings\n",
    "#using Lambda.\n",
    "l=['php','html','mam']\n",
    "pal=list(filter(lambda a:a==''.join(reversed(a)),l))\n",
    "print('palindrome:',pal)"
   ]
  },
  {
   "cell_type": "code",
   "execution_count": 2,
   "id": "80c7dc7e",
   "metadata": {},
   "outputs": [
    {
     "name": "stdout",
     "output_type": "stream",
     "text": [
      "sum of negative number: -13\n"
     ]
    }
   ],
   "source": [
    "'''2. Write a Python program that removes the positive numbers from a given\n",
    "list of numbers. Sum the negative numbers and print the absolute value\n",
    "using lambda function'''\n",
    "l1=[1,-2,3,-4,5,6,-7]\n",
    "x=list(filter(lambda x:x<0,l1))\n",
    "print('sum of negative number:',sum(x))\n"
   ]
  },
  {
   "cell_type": "code",
   "execution_count": 3,
   "id": "10be5b4a",
   "metadata": {},
   "outputs": [
    {
     "name": "stdout",
     "output_type": "stream",
     "text": [
      "original list: [('English', 88), ('Science', 90), ('Maths', 97), ('Social sciences', 82)]\n",
      "sorted list: [('Social sciences', 82), ('English', 88), ('Science', 90), ('Maths', 97)]\n"
     ]
    }
   ],
   "source": [
    "'''\n",
    "Write a Python program to sort a list of tuples using Lambda.\n",
    "subject_marks = [('English', 88), ('Science', 90), ('Maths', 97),\n",
    "('Social sciences', 82)]\n",
    "output\n",
    "Sorting the List of Tuples:\n",
    "[('Social sciences', 82), ('English', 88), ('Science', 90), ('Maths', 97)]'''\n",
    "subject_marks = [('English', 88), ('Science', 90), ('Maths', 97),('Social sciences', 82)]\n",
    "print('original list:',subject_marks)\n",
    "subject_marks.sort(key=lambda x:x[1])\n",
    "print('sorted list:',subject_marks)\n"
   ]
  },
  {
   "cell_type": "code",
   "execution_count": 4,
   "id": "c2d9bf6e",
   "metadata": {},
   "outputs": [],
   "source": [
    "def alternate(a,b):\n",
    "    l3=[]\n",
    "    i=0\n",
    "    while i <= len(a)-1:\n",
    "        l3.append(a[i])\n",
    "        l3.append(b[i])\n",
    "        i += 1\n",
    "    print(l3)"
   ]
  },
  {
   "cell_type": "code",
   "execution_count": 5,
   "id": "7ec7d836",
   "metadata": {},
   "outputs": [
    {
     "name": "stdout",
     "output_type": "stream",
     "text": [
      "[1, 4, 27, 16, 125, 36]\n"
     ]
    }
   ],
   "source": [
    "'''Write a Python program to square and cube every alternate number\n",
    "using list comprehension'''\n",
    "l1=[1,2,3,4,5,6]\n",
    "n1=list(i**2 for i in l1 if i%2==0)\n",
    "n2=list(i**3 for i in l1 if i%2!=0)\n",
    "alternate(n2,n1)\n"
   ]
  },
  {
   "cell_type": "code",
   "execution_count": null,
   "id": "39071580",
   "metadata": {},
   "outputs": [],
   "source": []
  },
  {
   "cell_type": "code",
   "execution_count": null,
   "id": "5ccd2d1d",
   "metadata": {},
   "outputs": [],
   "source": []
  }
 ],
 "metadata": {
  "kernelspec": {
   "display_name": "Python 3 (ipykernel)",
   "language": "python",
   "name": "python3"
  },
  "language_info": {
   "codemirror_mode": {
    "name": "ipython",
    "version": 3
   },
   "file_extension": ".py",
   "mimetype": "text/x-python",
   "name": "python",
   "nbconvert_exporter": "python",
   "pygments_lexer": "ipython3",
   "version": "3.10.2"
  }
 },
 "nbformat": 4,
 "nbformat_minor": 5
}
