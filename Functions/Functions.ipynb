{
 "cells": [
  {
   "cell_type": "markdown",
   "id": "84ff15e6",
   "metadata": {},
   "source": [
    "# #Functions"
   ]
  },
  {
   "cell_type": "code",
   "execution_count": 1,
   "id": "530566c3",
   "metadata": {},
   "outputs": [],
   "source": [
    "# custom functions using def \n",
    "def task1():\n",
    "    print('Doing something:')\n",
    "    return 'Bye','for','now'"
   ]
  },
  {
   "cell_type": "code",
   "execution_count": 2,
   "id": "e6906fe8",
   "metadata": {},
   "outputs": [
    {
     "name": "stdout",
     "output_type": "stream",
     "text": [
      "Doing something:\n"
     ]
    },
    {
     "data": {
      "text/plain": [
       "('Bye', 'for', 'now')"
      ]
     },
     "execution_count": 2,
     "metadata": {},
     "output_type": "execute_result"
    }
   ],
   "source": [
    "task1()"
   ]
  },
  {
   "cell_type": "code",
   "execution_count": 3,
   "id": "9779b63a",
   "metadata": {},
   "outputs": [
    {
     "name": "stdout",
     "output_type": "stream",
     "text": [
      "Doing something:\n",
      "('Bye', 'for', 'now')\n"
     ]
    }
   ],
   "source": [
    "print(task1())# it returns values in tuple "
   ]
  },
  {
   "cell_type": "code",
   "execution_count": 4,
   "id": "408657bb",
   "metadata": {},
   "outputs": [],
   "source": [
    "#positional parameter\n",
    "def per(roll,name,m1,m2,m3):\n",
    "    print('roll:',roll)\n",
    "    print('name:',name)\n",
    "    print('percentage:',100*(m1+m2+m3)/300)"
   ]
  },
  {
   "cell_type": "code",
   "execution_count": 5,
   "id": "637385b4",
   "metadata": {},
   "outputs": [
    {
     "name": "stdout",
     "output_type": "stream",
     "text": [
      "roll: 1\n",
      "name: shreya\n",
      "percentage: 85.66666666666667\n"
     ]
    }
   ],
   "source": [
    "per(1,'shreya',90,78,89)"
   ]
  },
  {
   "cell_type": "code",
   "execution_count": 6,
   "id": "490ed720",
   "metadata": {},
   "outputs": [],
   "source": [
    "#default parameters\n",
    "def perc(roll,name,m1=0,m2=0,m3=0):\n",
    "    print('roll:',roll)\n",
    "    print('name:',name)\n",
    "    print('percentage:',100*(m1+m2+m3)/300)"
   ]
  },
  {
   "cell_type": "code",
   "execution_count": 16,
   "id": "ac4f5a8d",
   "metadata": {},
   "outputs": [
    {
     "name": "stdout",
     "output_type": "stream",
     "text": [
      "roll: 2\n",
      "name: vashnavi\n",
      "percentage: 52.0\n"
     ]
    }
   ],
   "source": [
    "perc(2,'vashnavi',67,89)"
   ]
  },
  {
   "cell_type": "code",
   "execution_count": 7,
   "id": "7ca25cdd",
   "metadata": {},
   "outputs": [
    {
     "ename": "SyntaxError",
     "evalue": "non-default argument follows default argument (706764390.py, line 1)",
     "output_type": "error",
     "traceback": [
      "\u001b[1;36m  Input \u001b[1;32mIn [7]\u001b[1;36m\u001b[0m\n\u001b[1;33m    def perc(roll=0,name,m1=0,m2=0,m3=0):\u001b[0m\n\u001b[1;37m                    ^\u001b[0m\n\u001b[1;31mSyntaxError\u001b[0m\u001b[1;31m:\u001b[0m non-default argument follows default argument\n"
     ]
    }
   ],
   "source": [
    "def perc(roll=0,name,m1=0,m2=0,m3=0):\n",
    "    print('roll:',roll)\n",
    "    print('name:',name)\n",
    "    print('percentage:',100*(m1+m2+m3)/300)"
   ]
  },
  {
   "cell_type": "code",
   "execution_count": 8,
   "id": "9d1ccafb",
   "metadata": {},
   "outputs": [],
   "source": [
    "#varargs parameter can be passed as variable no of arguements\n",
    "def keepAdding(a,b,c=0,*ar):\n",
    "    print(a,b,c)\n",
    "    print(ar)\n",
    "    print('no of vararg:',len(ar))"
   ]
  },
  {
   "cell_type": "code",
   "execution_count": 9,
   "id": "ae7df791",
   "metadata": {},
   "outputs": [
    {
     "name": "stdout",
     "output_type": "stream",
     "text": [
      "30 40 0\n",
      "()\n",
      "no of vararg: 0\n"
     ]
    }
   ],
   "source": [
    "keepAdding(30,40)"
   ]
  },
  {
   "cell_type": "code",
   "execution_count": 10,
   "id": "d9b0e646",
   "metadata": {},
   "outputs": [
    {
     "name": "stdout",
     "output_type": "stream",
     "text": [
      "30 40 10\n",
      "(89, 98, 56, 7)\n",
      "no of vararg: 4\n"
     ]
    }
   ],
   "source": [
    "keepAdding(30,40,10,89,98,56,7)"
   ]
  },
  {
   "cell_type": "code",
   "execution_count": 11,
   "id": "e6c1450c",
   "metadata": {},
   "outputs": [],
   "source": [
    "#keyword arguements\n",
    "def acceptRecords(*arg,**a):\n",
    "    print(len(a))\n",
    "    print(type(a))\n",
    "    print(a.keys())\n",
    "    print(a.items())    "
   ]
  },
  {
   "cell_type": "code",
   "execution_count": 12,
   "id": "eb295177",
   "metadata": {},
   "outputs": [
    {
     "name": "stdout",
     "output_type": "stream",
     "text": [
      "0\n",
      "<class 'dict'>\n",
      "dict_keys([])\n",
      "dict_items([])\n"
     ]
    }
   ],
   "source": [
    "acceptRecords()"
   ]
  },
  {
   "cell_type": "code",
   "execution_count": 13,
   "id": "922e8822",
   "metadata": {},
   "outputs": [
    {
     "name": "stdout",
     "output_type": "stream",
     "text": [
      "3\n",
      "<class 'dict'>\n",
      "dict_keys(['a', 'k', 'j'])\n",
      "dict_items([('a', 67), ('k', 90), ('j', 89)])\n"
     ]
    }
   ],
   "source": [
    "acceptRecords(2,3,5,'abc',a=67,k=90,j=89)"
   ]
  },
  {
   "cell_type": "code",
   "execution_count": 14,
   "id": "1f258b74",
   "metadata": {},
   "outputs": [],
   "source": [
    "t1=('val21',23)"
   ]
  },
  {
   "cell_type": "code",
   "execution_count": 15,
   "id": "8ac820b3",
   "metadata": {},
   "outputs": [],
   "source": [
    "dt=dict({t1})"
   ]
  },
  {
   "cell_type": "code",
   "execution_count": 16,
   "id": "ba285eda",
   "metadata": {},
   "outputs": [
    {
     "name": "stdout",
     "output_type": "stream",
     "text": [
      "{'val21': 23}\n"
     ]
    }
   ],
   "source": [
    "print(dt)"
   ]
  },
  {
   "cell_type": "code",
   "execution_count": 17,
   "id": "f565642a",
   "metadata": {},
   "outputs": [
    {
     "name": "stdout",
     "output_type": "stream",
     "text": [
      "1\n",
      "<class 'dict'>\n",
      "dict_keys(['val21'])\n",
      "dict_items([('val21', 23)])\n"
     ]
    }
   ],
   "source": [
    "acceptRecords(**dt)"
   ]
  },
  {
   "cell_type": "code",
   "execution_count": 18,
   "id": "8e7535c3",
   "metadata": {},
   "outputs": [],
   "source": [
    "def details(eid,ename,basic,da=4,hra=2):\n",
    "    print('eid:',eid)\n",
    "    print('ename:',ename)\n",
    "    gs=basic+da+hra\n",
    "    return print('gs:',gs)"
   ]
  },
  {
   "cell_type": "code",
   "execution_count": 20,
   "id": "c401cbc0",
   "metadata": {},
   "outputs": [
    {
     "name": "stdout",
     "output_type": "stream",
     "text": [
      "eid: 1\n",
      "ename: shreya\n",
      "gs: 50006\n"
     ]
    }
   ],
   "source": [
    "details(1,'shreya',50000)"
   ]
  },
  {
   "cell_type": "code",
   "execution_count": 21,
   "id": "33916628",
   "metadata": {},
   "outputs": [],
   "source": [
    "def details(eid,ename,sal,*a,**b):\n",
    "    print('eid:',eid)\n",
    "    print('ename:',ename)\n",
    "    print ('salary:',sal)\n",
    "    print('skills:',a)\n",
    "    print('training :',b)\n",
    "   "
   ]
  },
  {
   "cell_type": "code",
   "execution_count": 22,
   "id": "8683f756",
   "metadata": {},
   "outputs": [
    {
     "name": "stdout",
     "output_type": "stream",
     "text": [
      "eid: 1\n",
      "ename: shreya\n",
      "salary: 50000\n",
      "skills: ('python', 'java', 'c++')\n",
      "training : {'python': 30, 'java': 90}\n"
     ]
    }
   ],
   "source": [
    "details(1,'shreya',50000,'python','java','c++',python=30,java=90)"
   ]
  },
  {
   "cell_type": "code",
   "execution_count": 23,
   "id": "85f15743",
   "metadata": {},
   "outputs": [],
   "source": [
    "def fact(n):\n",
    "    fact=1\n",
    "    for i in range(1,n+1):\n",
    "        fact=fact*i\n",
    "    return fact"
   ]
  },
  {
   "cell_type": "code",
   "execution_count": 2,
   "id": "0429c2d8",
   "metadata": {},
   "outputs": [
    {
     "data": {
      "text/plain": [
       "720"
      ]
     },
     "execution_count": 2,
     "metadata": {},
     "output_type": "execute_result"
    }
   ],
   "source": [
    "fact(6)"
   ]
  },
  {
   "cell_type": "code",
   "execution_count": null,
   "id": "fe3b13bc",
   "metadata": {},
   "outputs": [],
   "source": [
    "#positional arguements\n",
    "#default arguements\n",
    "#keyword arguement\n",
    "#varargs-*\n",
    "#keyward variable arguements-**"
   ]
  },
  {
   "cell_type": "code",
   "execution_count": 24,
   "id": "54413c94",
   "metadata": {},
   "outputs": [],
   "source": [
    "#positional arguement-complusory to pass all arguement\n",
    "def emp(eid,ename,age):\n",
    "    print('empid:',eid,' name:',ename,' age:',age)"
   ]
  },
  {
   "cell_type": "code",
   "execution_count": 25,
   "id": "c25733bc",
   "metadata": {},
   "outputs": [
    {
     "name": "stdout",
     "output_type": "stream",
     "text": [
      "empid: 1  name: shreya  age: 22\n"
     ]
    }
   ],
   "source": [
    "emp(1,'shreya',22)"
   ]
  },
  {
   "cell_type": "code",
   "execution_count": 26,
   "id": "abfa864a",
   "metadata": {},
   "outputs": [],
   "source": [
    "#default arguement-\n",
    "def emp(eid,ename,age=23):\n",
    "     print('empid:',eid,' name:',ename,' age:',age)"
   ]
  },
  {
   "cell_type": "code",
   "execution_count": 27,
   "id": "1117aaea",
   "metadata": {},
   "outputs": [
    {
     "name": "stdout",
     "output_type": "stream",
     "text": [
      "empid: 2  name: vaishnavi  age: 23\n"
     ]
    }
   ],
   "source": [
    "emp(2,'vaishnavi')"
   ]
  },
  {
   "cell_type": "code",
   "execution_count": 28,
   "id": "658f061a",
   "metadata": {},
   "outputs": [
    {
     "name": "stdout",
     "output_type": "stream",
     "text": [
      "empid: 1  name: sharwari  age: 20\n"
     ]
    }
   ],
   "source": [
    "#keyword arguement\n",
    "emp(age=20,ename='sharwari',eid=1)"
   ]
  },
  {
   "cell_type": "code",
   "execution_count": 29,
   "id": "ae6821d1",
   "metadata": {},
   "outputs": [],
   "source": [
    "#vargs\n",
    "def add(a,b,c=0):\n",
    "    return(a+b+c)"
   ]
  },
  {
   "cell_type": "code",
   "execution_count": 30,
   "id": "7fa20f0c",
   "metadata": {},
   "outputs": [
    {
     "data": {
      "text/plain": [
       "36"
      ]
     },
     "execution_count": 30,
     "metadata": {},
     "output_type": "execute_result"
    }
   ],
   "source": [
    "add(10,20,6)"
   ]
  },
  {
   "cell_type": "code",
   "execution_count": 31,
   "id": "3436a521",
   "metadata": {},
   "outputs": [],
   "source": [
    "def add(*a):# *-is variable length of arguements\n",
    "    r=0\n",
    "    for i in a:\n",
    "        r=r+i\n",
    "    return r"
   ]
  },
  {
   "cell_type": "code",
   "execution_count": 28,
   "id": "7e9f5c91",
   "metadata": {},
   "outputs": [
    {
     "data": {
      "text/plain": [
       "6"
      ]
     },
     "execution_count": 28,
     "metadata": {},
     "output_type": "execute_result"
    }
   ],
   "source": [
    "add(1,2,3)"
   ]
  },
  {
   "cell_type": "code",
   "execution_count": 32,
   "id": "ad96587d",
   "metadata": {},
   "outputs": [],
   "source": [
    "def add(*a):\n",
    "    return (sum(a))"
   ]
  },
  {
   "cell_type": "code",
   "execution_count": 33,
   "id": "5b802b4f",
   "metadata": {},
   "outputs": [
    {
     "data": {
      "text/plain": [
       "25"
      ]
     },
     "execution_count": 33,
     "metadata": {},
     "output_type": "execute_result"
    }
   ],
   "source": [
    "add(1,2,4,5,6,7)"
   ]
  },
  {
   "cell_type": "code",
   "execution_count": 2,
   "id": "c9f25e72",
   "metadata": {},
   "outputs": [],
   "source": [
    "#kwargs-**\n",
    "def n1(**a):\n",
    "    print(a)"
   ]
  },
  {
   "cell_type": "code",
   "execution_count": 3,
   "id": "f03d9d21",
   "metadata": {},
   "outputs": [
    {
     "name": "stdout",
     "output_type": "stream",
     "text": [
      "{'name': 'vaishnavi', 'per': 90}\n"
     ]
    }
   ],
   "source": [
    "n1(name='vaishnavi',per=90)"
   ]
  },
  {
   "cell_type": "code",
   "execution_count": 4,
   "id": "572f25e4",
   "metadata": {},
   "outputs": [
    {
     "name": "stdout",
     "output_type": "stream",
     "text": [
      "{'movie': 'xyz', 'actor': 'abc', 'rating': 9.1}\n"
     ]
    }
   ],
   "source": [
    "n1(movie='xyz',actor='abc',rating=9.1)"
   ]
  },
  {
   "cell_type": "code",
   "execution_count": 6,
   "id": "9630dc57",
   "metadata": {},
   "outputs": [],
   "source": [
    "def m(**d):\n",
    "    for k in d:\n",
    "        print(k,'--->',d[k])"
   ]
  },
  {
   "cell_type": "code",
   "execution_count": 8,
   "id": "c42e4156",
   "metadata": {},
   "outputs": [
    {
     "name": "stdout",
     "output_type": "stream",
     "text": [
      "hobby ---> dance\n",
      "favsport ---> cricket\n",
      "ht ---> 6.0\n"
     ]
    }
   ],
   "source": [
    "m(hobby='dance',favsport='cricket',ht=6.0)"
   ]
  },
  {
   "cell_type": "code",
   "execution_count": null,
   "id": "664e0535",
   "metadata": {},
   "outputs": [],
   "source": []
  }
 ],
 "metadata": {
  "kernelspec": {
   "display_name": "Python 3 (ipykernel)",
   "language": "python",
   "name": "python3"
  },
  "language_info": {
   "codemirror_mode": {
    "name": "ipython",
    "version": 3
   },
   "file_extension": ".py",
   "mimetype": "text/x-python",
   "name": "python",
   "nbconvert_exporter": "python",
   "pygments_lexer": "ipython3",
   "version": "3.10.2"
  }
 },
 "nbformat": 4,
 "nbformat_minor": 5
}
